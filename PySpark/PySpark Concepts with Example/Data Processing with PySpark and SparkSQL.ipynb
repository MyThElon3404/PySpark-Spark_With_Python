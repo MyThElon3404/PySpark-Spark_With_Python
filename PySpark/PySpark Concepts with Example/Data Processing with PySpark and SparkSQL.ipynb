{
 "cells": [
  {
   "cell_type": "code",
   "execution_count": 0,
   "metadata": {
    "application/vnd.databricks.v1+cell": {
     "cellMetadata": {
      "byteLimit": 2048000,
      "rowLimit": 10000
     },
     "inputWidgets": {},
     "nuid": "94245255-b6cc-4ea1-ace3-e287dcd3c4c6",
     "showTitle": true,
     "title": "Using SparkSQL"
    }
   },
   "outputs": [
    {
     "output_type": "stream",
     "name": "stdout",
     "output_type": "stream",
     "text": [
      "+------+---+\n|  Name|Age|\n+------+---+\n| Manoj| 23|\n| Sneha| 24|\n|Family| 45|\n+------+---+\n\nroot\n |-- Name: string (nullable = true)\n |-- Age: long (nullable = true)\n\n"
     ]
    }
   ],
   "source": [
    "# let’s start by creating a SparkSession, which is the entry point for PySpark\n",
    "from pyspark.sql import SparkSession\n",
    "from pyspark.sql.functions import *\n",
    "from pyspark.sql.types import *\n",
    "\n",
    "sparkSQL = SparkSession.builder.appName(\"Implementing SparkSQL\").getOrCreate()\n",
    "\n",
    "data=[(\"Manoj\", 23), (\"Sneha\", 24), (\"Family\", 45)]\n",
    "\n",
    "dfSQL = sparkSQL.createDataFrame(data, [\"Name\", \"Age\"])\n",
    "dfSQL.show()\n",
    "dfSQL.printSchema()\n",
    "\n"
   ]
  },
  {
   "cell_type": "code",
   "execution_count": 0,
   "metadata": {
    "application/vnd.databricks.v1+cell": {
     "cellMetadata": {
      "byteLimit": 2048000,
      "rowLimit": 10000
     },
     "inputWidgets": {},
     "nuid": "8d2d01c7-0817-4df0-a984-3783d9677d18",
     "showTitle": false,
     "title": ""
    }
   },
   "outputs": [],
   "source": [
    "# Now that you have a Spark DataFrame, we can use SparkSQL to perform some basic operations on the data.\n",
    "# First, you need to register the pyspark dataframe before it can be queried with SparkSQL\n",
    "# ===================================================================================================================\n",
    "# NOTE - SparkSQL provides a SQL interface for quering structured and semi-structured data. If you have a DataFrame and want to apply SQL queries to it.You can create a temp view to expose the DataFrame as a table in SQL namespace. Creating a temp view provide a convenient bridge btn DataFrame and SQL Queries.\n",
    "# ===================================================================================================================\n",
    "# Register the DataFrame\n",
    "dfSQL.createOrReplaceTempView(\"personal_info\")\n",
    "\n"
   ]
  },
  {
   "cell_type": "code",
   "execution_count": 0,
   "metadata": {
    "application/vnd.databricks.v1+cell": {
     "cellMetadata": {
      "byteLimit": 2048000,
      "rowLimit": 10000
     },
     "inputWidgets": {},
     "nuid": "217c961d-e8fd-46b0-8309-286f52bdfb15",
     "showTitle": false,
     "title": ""
    }
   },
   "outputs": [
    {
     "output_type": "stream",
     "name": "stdout",
     "output_type": "stream",
     "text": [
      "+------+---+\n|  Name|Age|\n+------+---+\n| Manoj| 23|\n| Sneha| 24|\n|Family| 45|\n+------+---+\n\nroot\n |-- Name: string (nullable = true)\n |-- Age: long (nullable = true)\n\n"
     ]
    }
   ],
   "source": [
    "# “The table named ‘people’ is created, on which you can run your SQL queries.”\n",
    "# You can now use the spark.sql() method to query the data\n",
    "\n",
    "# let's perform select query on \"personal_info\"\n",
    "query_result = spark.sql(\"\"\"\n",
    "                            select * from personal_info\n",
    "                         \"\"\")\n",
    "query_result.show()\n",
    "query_result.printSchema()\n",
    "\n"
   ]
  },
  {
   "cell_type": "code",
   "execution_count": 0,
   "metadata": {
    "application/vnd.databricks.v1+cell": {
     "cellMetadata": {
      "byteLimit": 2048000,
      "rowLimit": 10000
     },
     "inputWidgets": {},
     "nuid": "fbc32d79-5c7e-41c1-9897-382839ab11fd",
     "showTitle": true,
     "title": "Running queries in PySpark and SparkSQL"
    }
   },
   "outputs": [
    {
     "output_type": "stream",
     "name": "stdout",
     "output_type": "stream",
     "text": [
      "+---------------------------------+---------------------+---------------+-------------+--------------+----------+---------+----------+----------+----------+---------+-------------+----------+------------+\n|Region                           |Country              |Item Type      |Sales Channel|Order Priority|Order Date|Order ID |Ship Date |Units Sold|Unit Price|Unit Cost|Total Revenue|Total Cost|Total Profit|\n+---------------------------------+---------------------+---------------+-------------+--------------+----------+---------+----------+----------+----------+---------+-------------+----------+------------+\n|Australia and Oceania            |Tuvalu               |Baby Food      |Offline      |H             |2010-05-28|669165933|2010-06-27|9925      |255.28    |159.42   |2533654.0    |1582243.5 |951410.5    |\n|Central America and the Caribbean|Grenada              |Cereal         |Online       |C             |2012-08-22|963881480|2012-09-15|2804      |205.7     |117.11   |576782.8     |328376.44 |248406.36   |\n|Europe                           |Russia               |Office Supplies|Offline      |L             |2014-05-02|341417157|2014-05-08|1779      |651.21    |524.96   |1158502.59   |933903.84 |224598.75   |\n|Sub-Saharan Africa               |Sao Tome and Principe|Fruits         |Online       |C             |2014-06-20|514321792|2014-07-05|8102      |9.33      |6.92     |75591.66     |56065.84  |19525.82    |\n|Sub-Saharan Africa               |Rwanda               |Office Supplies|Offline      |L             |2013-02-01|115456712|2013-02-06|5062      |651.21    |524.96   |3296425.02   |2657347.52|639077.5    |\n|Australia and Oceania            |Solomon Islands      |Baby Food      |Online       |C             |2015-02-04|547995746|2015-02-21|2974      |255.28    |159.42   |759202.72    |474115.08 |285087.64   |\n|Sub-Saharan Africa               |Angola               |Household      |Offline      |M             |2011-04-23|135425221|2011-04-27|4187      |668.27    |502.54   |2798046.49   |2104134.98|693911.51   |\n|Sub-Saharan Africa               |Burkina Faso         |Vegetables     |Online       |H             |2012-07-17|871543967|2012-07-27|8082      |154.06    |90.93    |1245112.92   |734896.26 |510216.66   |\n|Sub-Saharan Africa               |Republic of the Congo|Personal Care  |Offline      |M             |2015-07-14|770463311|2015-08-25|6070      |81.73     |56.67    |496101.1     |343986.9  |152114.2    |\n|Sub-Saharan Africa               |Senegal              |Cereal         |Online       |H             |2014-04-18|616607081|2014-05-30|6593      |205.7     |117.11   |1356180.1    |772106.23 |584073.87   |\n+---------------------------------+---------------------+---------------+-------------+--------------+----------+---------+----------+----------+----------+---------+-------------+----------+------------+\nonly showing top 10 rows\n\nroot\n |-- Region: string (nullable = true)\n |-- Country: string (nullable = true)\n |-- Item Type: string (nullable = true)\n |-- Sales Channel: string (nullable = true)\n |-- Order Priority: string (nullable = true)\n |-- Order Date: date (nullable = true)\n |-- Order ID: integer (nullable = true)\n |-- Ship Date: date (nullable = true)\n |-- Units Sold: integer (nullable = true)\n |-- Unit Price: double (nullable = true)\n |-- Unit Cost: double (nullable = true)\n |-- Total Revenue: double (nullable = true)\n |-- Total Cost: double (nullable = true)\n |-- Total Profit: double (nullable = true)\n\n"
     ]
    },
    {
     "output_type": "execute_result",
     "data": {
      "text/plain": [
       "['Region',\n",
       " 'Country',\n",
       " 'Item Type',\n",
       " 'Sales Channel',\n",
       " 'Order Priority',\n",
       " 'Order Date',\n",
       " 'Order ID',\n",
       " 'Ship Date',\n",
       " 'Units Sold',\n",
       " 'Unit Price',\n",
       " 'Unit Cost',\n",
       " 'Total Revenue',\n",
       " 'Total Cost',\n",
       " 'Total Profit']"
      ]
     },
     "execution_count": 4,
     "metadata": {},
     "output_type": "execute_result"
    }
   ],
   "source": [
    "sample_df = sparkSQL.read.csv(\"/FileStore/tables/sales.csv\", header=True, inferSchema=True)\n",
    "sample_df.show(10, truncate=False)\n",
    "sample_df.printSchema() \n",
    "sample_df.columns\n",
    "\n"
   ]
  },
  {
   "cell_type": "code",
   "execution_count": 0,
   "metadata": {
    "application/vnd.databricks.v1+cell": {
     "cellMetadata": {
      "byteLimit": 2048000,
      "rowLimit": 10000
     },
     "inputWidgets": {},
     "nuid": "89ce85ed-360b-4217-a103-09f816abfccd",
     "showTitle": false,
     "title": ""
    }
   },
   "outputs": [
    {
     "output_type": "stream",
     "name": "stdout",
     "output_type": "stream",
     "text": [
      "+---------------------------------+---------------------+---------------+-------------+--------------+----------+---------+----------+----------+----------+---------+-------------+----------+------------+\n|region                           |country              |item_type      |sales_channel|order_priority|order_date|order_id |ship_date |units_sold|unit_price|unit_cost|total_revenue|total_cost|total_profit|\n+---------------------------------+---------------------+---------------+-------------+--------------+----------+---------+----------+----------+----------+---------+-------------+----------+------------+\n|Australia and Oceania            |Tuvalu               |Baby Food      |Offline      |H             |2010-05-28|669165933|2010-06-27|9925      |255.28    |159.42   |2533654.0    |1582243.5 |951410.5    |\n|Central America and the Caribbean|Grenada              |Cereal         |Online       |C             |2012-08-22|963881480|2012-09-15|2804      |205.7     |117.11   |576782.8     |328376.44 |248406.36   |\n|Europe                           |Russia               |Office Supplies|Offline      |L             |2014-05-02|341417157|2014-05-08|1779      |651.21    |524.96   |1158502.59   |933903.84 |224598.75   |\n|Sub-Saharan Africa               |Sao Tome and Principe|Fruits         |Online       |C             |2014-06-20|514321792|2014-07-05|8102      |9.33      |6.92     |75591.66     |56065.84  |19525.82    |\n|Sub-Saharan Africa               |Rwanda               |Office Supplies|Offline      |L             |2013-02-01|115456712|2013-02-06|5062      |651.21    |524.96   |3296425.02   |2657347.52|639077.5    |\n+---------------------------------+---------------------+---------------+-------------+--------------+----------+---------+----------+----------+----------+---------+-------------+----------+------------+\nonly showing top 5 rows\n\n+---------------------------------+---------------------+---------------+-------------+--------------+----------+---------+----------+----------+----------+---------+-------------+----------+------------+\n|Region                           |Country              |Item Type      |Sales Channel|Order Priority|Order Date|Order ID |Ship Date |Units Sold|Unit Price|Unit Cost|Total Revenue|Total Cost|Total Profit|\n+---------------------------------+---------------------+---------------+-------------+--------------+----------+---------+----------+----------+----------+---------+-------------+----------+------------+\n|Australia and Oceania            |Tuvalu               |Baby Food      |Offline      |H             |2010-05-28|669165933|2010-06-27|9925      |255.28    |159.42   |2533654.0    |1582243.5 |951410.5    |\n|Central America and the Caribbean|Grenada              |Cereal         |Online       |C             |2012-08-22|963881480|2012-09-15|2804      |205.7     |117.11   |576782.8     |328376.44 |248406.36   |\n|Europe                           |Russia               |Office Supplies|Offline      |L             |2014-05-02|341417157|2014-05-08|1779      |651.21    |524.96   |1158502.59   |933903.84 |224598.75   |\n|Sub-Saharan Africa               |Sao Tome and Principe|Fruits         |Online       |C             |2014-06-20|514321792|2014-07-05|8102      |9.33      |6.92     |75591.66     |56065.84  |19525.82    |\n|Sub-Saharan Africa               |Rwanda               |Office Supplies|Offline      |L             |2013-02-01|115456712|2013-02-06|5062      |651.21    |524.96   |3296425.02   |2657347.52|639077.5    |\n+---------------------------------+---------------------+---------------+-------------+--------------+----------+---------+----------+----------+----------+---------+-------------+----------+------------+\nonly showing top 5 rows\n\n"
     ]
    }
   ],
   "source": [
    "# let's remove the white space in columns and covert to lower case\n",
    "new_sample_df = sample_df.select([col(x).alias(x.replace(\" \", \"_\").lower()) for x in sample_df.columns])\n",
    "new_sample_df.show(5, truncate=False)\n",
    "sample_df.show(5, truncate=False)\n",
    "\n"
   ]
  },
  {
   "cell_type": "code",
   "execution_count": 0,
   "metadata": {
    "application/vnd.databricks.v1+cell": {
     "cellMetadata": {
      "byteLimit": 2048000,
      "rowLimit": 10000
     },
     "inputWidgets": {},
     "nuid": "9ff1e0b7-024e-4245-8a18-7856600de184",
     "showTitle": false,
     "title": ""
    }
   },
   "outputs": [],
   "source": [
    "# creating a temp view, so we can run our qurey on dataframe\n",
    "sample_df.createOrReplaceTempView(\"sales_data\")\n",
    "new_sample_df.createOrReplaceTempView(\"new_sales_data\")\n",
    "\n"
   ]
  },
  {
   "cell_type": "code",
   "execution_count": 0,
   "metadata": {
    "application/vnd.databricks.v1+cell": {
     "cellMetadata": {
      "byteLimit": 2048000,
      "rowLimit": 10000
     },
     "inputWidgets": {},
     "nuid": "2b0628a8-65f2-4ad3-be6a-095c04b471cb",
     "showTitle": false,
     "title": ""
    }
   },
   "outputs": [
    {
     "output_type": "stream",
     "name": "stdout",
     "output_type": "stream",
     "text": [
      "+---------------------------------+---------------------+---------------+-------------+--------------+----------+---------+----------+----------+----------+---------+-------------+----------+------------+\n|Region                           |Country              |Item Type      |Sales Channel|Order Priority|Order Date|Order ID |Ship Date |Units Sold|Unit Price|Unit Cost|Total Revenue|Total Cost|Total Profit|\n+---------------------------------+---------------------+---------------+-------------+--------------+----------+---------+----------+----------+----------+---------+-------------+----------+------------+\n|Australia and Oceania            |Tuvalu               |Baby Food      |Offline      |H             |2010-05-28|669165933|2010-06-27|9925      |255.28    |159.42   |2533654.0    |1582243.5 |951410.5    |\n|Central America and the Caribbean|Grenada              |Cereal         |Online       |C             |2012-08-22|963881480|2012-09-15|2804      |205.7     |117.11   |576782.8     |328376.44 |248406.36   |\n|Europe                           |Russia               |Office Supplies|Offline      |L             |2014-05-02|341417157|2014-05-08|1779      |651.21    |524.96   |1158502.59   |933903.84 |224598.75   |\n|Sub-Saharan Africa               |Sao Tome and Principe|Fruits         |Online       |C             |2014-06-20|514321792|2014-07-05|8102      |9.33      |6.92     |75591.66     |56065.84  |19525.82    |\n|Sub-Saharan Africa               |Rwanda               |Office Supplies|Offline      |L             |2013-02-01|115456712|2013-02-06|5062      |651.21    |524.96   |3296425.02   |2657347.52|639077.5    |\n+---------------------------------+---------------------+---------------+-------------+--------------+----------+---------+----------+----------+----------+---------+-------------+----------+------------+\nonly showing top 5 rows\n\n+---------------------------------+---------------------+---------------+-------------+--------------+----------+---------+----------+----------+----------+---------+-------------+----------+------------+\n|region                           |country              |item_type      |sales_channel|order_priority|order_date|order_id |ship_date |units_sold|unit_price|unit_cost|total_revenue|total_cost|total_profit|\n+---------------------------------+---------------------+---------------+-------------+--------------+----------+---------+----------+----------+----------+---------+-------------+----------+------------+\n|Australia and Oceania            |Tuvalu               |Baby Food      |Offline      |H             |2010-05-28|669165933|2010-06-27|9925      |255.28    |159.42   |2533654.0    |1582243.5 |951410.5    |\n|Central America and the Caribbean|Grenada              |Cereal         |Online       |C             |2012-08-22|963881480|2012-09-15|2804      |205.7     |117.11   |576782.8     |328376.44 |248406.36   |\n|Europe                           |Russia               |Office Supplies|Offline      |L             |2014-05-02|341417157|2014-05-08|1779      |651.21    |524.96   |1158502.59   |933903.84 |224598.75   |\n|Sub-Saharan Africa               |Sao Tome and Principe|Fruits         |Online       |C             |2014-06-20|514321792|2014-07-05|8102      |9.33      |6.92     |75591.66     |56065.84  |19525.82    |\n|Sub-Saharan Africa               |Rwanda               |Office Supplies|Offline      |L             |2013-02-01|115456712|2013-02-06|5062      |651.21    |524.96   |3296425.02   |2657347.52|639077.5    |\n+---------------------------------+---------------------+---------------+-------------+--------------+----------+---------+----------+----------+----------+---------+-------------+----------+------------+\nonly showing top 5 rows\n\n+---------+---------------------------------+---------------------+---------------+\n|order_id |region                           |country              |item_type      |\n+---------+---------------------------------+---------------------+---------------+\n|669165933|Australia and Oceania            |Tuvalu               |Baby Food      |\n|963881480|Central America and the Caribbean|Grenada              |Cereal         |\n|341417157|Europe                           |Russia               |Office Supplies|\n|514321792|Sub-Saharan Africa               |Sao Tome and Principe|Fruits         |\n|115456712|Sub-Saharan Africa               |Rwanda               |Office Supplies|\n+---------+---------------------------------+---------------------+---------------+\nonly showing top 5 rows\n\n"
     ]
    }
   ],
   "source": [
    "# Start performing SQL queries on DataFrame\n",
    "\n",
    "#  “Select” Operation\n",
    "sparkSQL.sql(\"\"\"\n",
    "                select * from sales_data\n",
    "\n",
    "            \"\"\").show(5, truncate=False)\n",
    "\n",
    "sparkSQL.sql(\"\"\"\n",
    "                select * from new_sales_data\n",
    "\n",
    "            \"\"\").show(5, truncate=False)\n",
    "\n",
    "sparkSQL.sql(\"\"\"\n",
    "                select order_id, region, country, item_type from new_sales_data\n",
    "\n",
    "            \"\"\").show(5, truncate=False)\n",
    "\n"
   ]
  },
  {
   "cell_type": "code",
   "execution_count": 0,
   "metadata": {
    "application/vnd.databricks.v1+cell": {
     "cellMetadata": {
      "byteLimit": 2048000,
      "rowLimit": 10000
     },
     "inputWidgets": {},
     "nuid": "6e998439-b7da-4721-a7c0-fc47ab84af71",
     "showTitle": false,
     "title": ""
    }
   },
   "outputs": [
    {
     "output_type": "stream",
     "name": "stdout",
     "output_type": "stream",
     "text": [
      "+---------+---------------+-------------+------------------+\n|order_id |item_type      |sales_channel|set_order_priority|\n+---------+---------------+-------------+------------------+\n|669165933|Baby Food      |Offline      |High              |\n|963881480|Cereal         |Online       |Not Decide        |\n|341417157|Office Supplies|Offline      |LOW               |\n|514321792|Fruits         |Online       |Not Decide        |\n|115456712|Office Supplies|Offline      |LOW               |\n|547995746|Baby Food      |Online       |Not Decide        |\n|135425221|Household      |Offline      |Medium            |\n|871543967|Vegetables     |Online       |High              |\n|770463311|Personal Care  |Offline      |Medium            |\n|616607081|Cereal         |Online       |High              |\n+---------+---------------+-------------+------------------+\nonly showing top 10 rows\n\n"
     ]
    }
   ],
   "source": [
    "#  “When” Operation\n",
    "sparkSQL.sql(\"\"\"\n",
    "                select order_id, item_type, sales_channel,\n",
    "                    case\n",
    "                        when order_priority == \"H\" then \"High\"\n",
    "                        when order_priority == \"L\" then \"LOW\"\n",
    "                        when order_priority == \"M\" then \"Medium\"\n",
    "                        else \"Not Decide\"\n",
    "                    end as set_order_priority\n",
    "                    from new_sales_data\n",
    "\n",
    "            \"\"\").show(10, truncate=False)\n",
    "\n"
   ]
  },
  {
   "cell_type": "code",
   "execution_count": 0,
   "metadata": {
    "application/vnd.databricks.v1+cell": {
     "cellMetadata": {
      "byteLimit": 2048000,
      "rowLimit": 10000
     },
     "inputWidgets": {},
     "nuid": "f2f23d30-245b-4aef-aff9-766c2aa488fb",
     "showTitle": false,
     "title": ""
    }
   },
   "outputs": [
    {
     "output_type": "stream",
     "name": "stdout",
     "output_type": "stream",
     "text": [
      "+---------------------+------------------------------+---------------+-------------+--------------+----------+---------+----------+----------+----------+---------+-------------+----------+------------+\n|region               |country                       |item_type      |sales_channel|order_priority|order_date|order_id |ship_date |units_sold|unit_price|unit_cost|total_revenue|total_cost|total_profit|\n+---------------------+------------------------------+---------------+-------------+--------------+----------+---------+----------+----------+----------+---------+-------------+----------+------------+\n|Asia                 |Kyrgyzstan                    |Vegetables     |Online       |H             |2011-06-24|814711606|2011-07-12|124       |154.06    |90.93    |19103.44     |11275.32  |7828.12     |\n|Asia                 |Bangladesh                    |Clothes        |Online       |L             |2017-01-13|187310731|2017-03-01|8263      |109.28    |35.84    |902980.64    |296145.92 |606834.72   |\n|Asia                 |Mongolia                      |Personal Care  |Offline      |C             |2014-02-19|832401311|2014-02-23|4901      |81.73     |56.67    |400558.73    |277739.67 |122819.06   |\n|Asia                 |Sri Lanka                     |Cosmetics      |Offline      |M             |2016-11-19|419123971|2016-12-18|6952      |437.2     |263.33   |3039414.4    |1830670.16|1208744.24  |\n|Asia                 |Turkmenistan                  |Household      |Offline      |L             |2010-12-30|441619336|2011-01-20|3830      |668.27    |502.54   |2559474.1    |1924728.2 |634745.9    |\n|Asia                 |Myanmar                       |Household      |Offline      |H             |2015-01-16|177713572|2015-03-01|8250      |668.27    |502.54   |5513227.5    |4145955.0 |1367272.5   |\n|Asia                 |Brunei                        |Office Supplies|Online       |L             |2012-04-01|320009267|2012-05-08|6708      |651.21    |524.96   |4368316.68   |3521431.68|846885.0    |\n|Asia                 |Myanmar                       |Clothes        |Online       |H             |2015-11-14|223359620|2015-11-18|5930      |109.28    |35.84    |648030.4     |212531.2  |435499.2    |\n|Asia                 |Turkmenistan                  |Office Supplies|Online       |M             |2013-04-23|462405812|2013-05-20|5010      |651.21    |524.96   |3262562.1    |2630049.6 |632512.5    |\n|Asia                 |Laos                          |Vegetables     |Offline      |C             |2011-09-15|789176547|2011-10-23|3732      |154.06    |90.93    |574951.92    |339350.76 |235601.16   |\n|Asia                 |Malaysia                      |Fruits         |Offline      |L             |2011-11-11|810711038|2011-12-28|6267      |9.33      |6.92     |58471.11     |43367.64  |15103.47    |\n|Australia and Oceania|Tuvalu                        |Baby Food      |Offline      |H             |2010-05-28|669165933|2010-06-27|9925      |255.28    |159.42   |2533654.0    |1582243.5 |951410.5    |\n|Australia and Oceania|Solomon Islands               |Baby Food      |Online       |C             |2015-02-04|547995746|2015-02-21|2974      |255.28    |159.42   |759202.72    |474115.08 |285087.64   |\n|Australia and Oceania|East Timor                    |Meat           |Online       |L             |2012-07-31|322067916|2012-09-11|5908      |421.89    |364.69   |2492526.12   |2154588.52|337937.6    |\n|Australia and Oceania|New Zealand                   |Fruits         |Online       |H             |2014-09-08|142278373|2014-10-04|2187      |9.33      |6.92     |20404.71     |15134.04  |5270.67     |\n|Australia and Oceania|Kiribati                      |Fruits         |Online       |M             |2014-10-13|347140347|2014-11-10|5398      |9.33      |6.92     |50363.34     |37354.16  |13009.18    |\n|Australia and Oceania|Australia                     |Office Supplies|Online       |C             |2015-10-27|158535134|2015-11-25|2924      |651.21    |524.96   |1904138.04   |1534983.04|369155.0    |\n|Australia and Oceania|Fiji                          |Clothes        |Offline      |C             |2010-06-30|647876489|2010-08-01|9905      |109.28    |35.84    |1082418.4    |354995.2  |727423.2    |\n|Australia and Oceania|Australia                     |Cereal         |Offline      |H             |2013-06-09|450563752|2013-07-02|682       |205.7     |117.11   |140287.4     |79869.02  |60418.38    |\n|Australia and Oceania|Federated States of Micronesia|Beverages      |Online       |C             |2014-10-28|217221009|2014-11-15|9379      |47.45     |31.79    |445033.55    |298158.41 |146875.14   |\n+---------------------+------------------------------+---------------+-------------+--------------+----------+---------+----------+----------+----------+---------+-------------+----------+------------+\nonly showing top 20 rows\n\n"
     ]
    }
   ],
   "source": [
    "#  “Like” Operation\n",
    "sparkSQL.sql(\"\"\"\n",
    "                select * from new_sales_data\n",
    "                where region like \"A%\"\n",
    "                order by region asc ;\n",
    "\n",
    "            \"\"\").show(truncate=False)\n",
    "\n"
   ]
  },
  {
   "cell_type": "code",
   "execution_count": 0,
   "metadata": {
    "application/vnd.databricks.v1+cell": {
     "cellMetadata": {
      "byteLimit": 2048000,
      "rowLimit": 10000
     },
     "inputWidgets": {},
     "nuid": "507d711d-6035-4009-8220-17c5467e490e",
     "showTitle": false,
     "title": ""
    }
   },
   "outputs": [
    {
     "output_type": "stream",
     "name": "stdout",
     "output_type": "stream",
     "text": [
      "+---------------------------------+----------+---------------+-------------+--------------+----------+---------+----------+----------+----------+---------+-------------+----------+------------+------------+\n|region                           |country   |item_type      |sales_channel|order_priority|order_date|order_id |ship_date |units_sold|unit_price|unit_cost|total_revenue|total_cost|total_profit|country_code|\n+---------------------------------+----------+---------------+-------------+--------------+----------+---------+----------+----------+----------+---------+-------------+----------+------------+------------+\n|Europe                           |Albania   |Clothes        |Online       |C             |2010-02-02|385383069|2010-03-18|2269      |109.28    |35.84    |247956.32    |81320.96  |166635.36   |Alb         |\n|Sub-Saharan Africa               |Angola    |Household      |Offline      |M             |2011-04-23|135425221|2011-04-27|4187      |668.27    |502.54   |2798046.49   |2104134.98|693911.51   |Ang         |\n|Australia and Oceania            |Australia |Office Supplies|Online       |C             |2015-10-27|158535134|2015-11-25|2924      |651.21    |524.96   |1904138.04   |1534983.04|369155.0    |Aus         |\n|Australia and Oceania            |Australia |Cereal         |Offline      |H             |2013-06-09|450563752|2013-07-02|682       |205.7     |117.11   |140287.4     |79869.02  |60418.38    |Aus         |\n|Australia and Oceania            |Australia |Beverages      |Offline      |H             |2014-07-07|240470397|2014-07-11|9389      |47.45     |31.79    |445508.05    |298476.31 |147031.74   |Aus         |\n|Europe                           |Austria   |Cosmetics      |Offline      |H             |2015-02-23|868214595|2015-03-02|2847      |437.2     |263.33   |1244708.4    |749700.51 |495007.89   |Aus         |\n|Middle East and North Africa     |Azerbaijan|Cosmetics      |Online       |M             |2010-02-06|382392299|2010-02-25|7234      |437.2     |263.33   |3162704.8    |1904929.22|1257775.58  |Aze         |\n|Middle East and North Africa     |Azerbaijan|Office Supplies|Online       |M             |2012-06-13|423331391|2012-07-24|2021      |651.21    |524.96   |1316095.41   |1060944.16|255151.25   |Aze         |\n|Asia                             |Bangladesh|Clothes        |Online       |L             |2017-01-13|187310731|2017-03-01|8263      |109.28    |35.84    |902980.64    |296145.92 |606834.72   |Ban         |\n|Central America and the Caribbean|Belize    |Clothes        |Offline      |M             |2016-07-25|807025039|2016-09-07|5498      |109.28    |35.84    |600821.44    |197048.32 |403773.12   |Bel         |\n+---------------------------------+----------+---------------+-------------+--------------+----------+---------+----------+----------+----------+---------+-------------+----------+------------+------------+\nonly showing top 10 rows\n\n"
     ]
    }
   ],
   "source": [
    "#  “Substring” Operation\n",
    "\n",
    "sparkSQL.sql(\"\"\"\n",
    "                select *, substring(country, 0, 3) as country_code\n",
    "                from new_sales_data \n",
    "                order by country asc;\n",
    "            \"\"\").show(10, truncate=False)\n",
    "\n"
   ]
  }
 ],
 "metadata": {
  "application/vnd.databricks.v1+notebook": {
   "dashboards": [],
   "language": "python",
   "notebookMetadata": {
    "mostRecentlyExecutedCommandWithImplicitDF": {
     "commandId": -1,
     "dataframes": [
      "_sqldf"
     ]
    },
    "pythonIndentUnit": 4
   },
   "notebookName": "Data Processing with PySpark and SparkSQL",
   "widgets": {}
  }
 },
 "nbformat": 4,
 "nbformat_minor": 0
}
