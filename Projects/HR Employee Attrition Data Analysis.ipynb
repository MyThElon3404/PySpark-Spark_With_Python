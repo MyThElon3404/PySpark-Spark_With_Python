{
 "cells": [
  {
   "cell_type": "code",
   "execution_count": 0,
   "metadata": {
    "application/vnd.databricks.v1+cell": {
     "cellMetadata": {
      "byteLimit": 2048000,
      "rowLimit": 10000
     },
     "inputWidgets": {},
     "nuid": "f7e35d4d-1d42-427f-b5f7-79d108c70df7",
     "showTitle": false,
     "title": ""
    }
   },
   "outputs": [],
   "source": [
    "# importing all required libraries\n",
    "\n",
    "import pyspark\n",
    "from pyspark.sql import SparkSession\n",
    "from pyspark.sql.functions import *\n",
    "from pyspark.sql.types import *"
   ]
  },
  {
   "cell_type": "code",
   "execution_count": 0,
   "metadata": {
    "application/vnd.databricks.v1+cell": {
     "cellMetadata": {
      "byteLimit": 2048000,
      "rowLimit": 10000
     },
     "inputWidgets": {},
     "nuid": "1b5f0335-82bc-4f7f-ad7c-314b0bfc1614",
     "showTitle": false,
     "title": ""
    }
   },
   "outputs": [
    {
     "output_type": "stream",
     "name": "stdout",
     "output_type": "stream",
     "text": [
      "<pyspark.sql.session.SparkSession object at 0x7f09762a64f0>\n"
     ]
    }
   ],
   "source": [
    "# create a SparkSession\n",
    "emp_spark = SparkSession.builder.appName(\"HR Employee Attrition\").getOrCreate()\n",
    "print(emp_spark)"
   ]
  },
  {
   "cell_type": "code",
   "execution_count": 0,
   "metadata": {
    "application/vnd.databricks.v1+cell": {
     "cellMetadata": {
      "byteLimit": 2048000,
      "rowLimit": 10000
     },
     "inputWidgets": {},
     "nuid": "02002d22-36cb-4fcb-bf27-5f325d8e9115",
     "showTitle": false,
     "title": ""
    }
   },
   "outputs": [
    {
     "output_type": "stream",
     "name": "stdout",
     "output_type": "stream",
     "text": [
      "+---+---------+-----------------+---------+--------------------+----------------+---------+--------------+-------------+--------------+-----------------------+------+----------+--------------+--------+--------------------+---------------+-------------+-------------+-----------+------------------+------+--------+-----------------+-----------------+------------------------+-------------+----------------+-----------------+---------------------+---------------+--------------+------------------+-----------------------+--------------------+\n|Age|Attrition|   BusinessTravel|DailyRate|          Department|DistanceFromHome|Education|EducationField|EmployeeCount|EmployeeNumber|EnvironmentSatisfaction|Gender|HourlyRate|JobInvolvement|JobLevel|             JobRole|JobSatisfaction|MaritalStatus|MonthlyIncome|MonthlyRate|NumCompaniesWorked|Over18|OverTime|PercentSalaryHike|PerformanceRating|RelationshipSatisfaction|StandardHours|StockOptionLevel|TotalWorkingYears|TrainingTimesLastYear|WorkLifeBalance|YearsAtCompany|YearsInCurrentRole|YearsSinceLastPromotion|YearsWithCurrManager|\n+---+---------+-----------------+---------+--------------------+----------------+---------+--------------+-------------+--------------+-----------------------+------+----------+--------------+--------+--------------------+---------------+-------------+-------------+-----------+------------------+------+--------+-----------------+-----------------+------------------------+-------------+----------------+-----------------+---------------------+---------------+--------------+------------------+-----------------------+--------------------+\n| 41|      Yes|    Travel_Rarely|     1102|               Sales|               1|        2| Life Sciences|            1|             1|                      2|Female|        94|             3|       2|     Sales Executive|              4|       Single|         5993|      19479|                 8|     Y|     Yes|               11|                3|                       1|           80|               0|                8|                    0|              1|             6|                 4|                      0|                   5|\n| 49|       No|Travel_Frequently|      279|Research & Develo...|               8|        1| Life Sciences|            1|             2|                      3|  Male|        61|             2|       2|  Research Scientist|              2|      Married|         5130|      24907|                 1|     Y|      No|               23|                4|                       4|           80|               1|               10|                    3|              3|            10|                 7|                      1|                   7|\n| 37|      Yes|    Travel_Rarely|     1373|Research & Develo...|               2|        2|         Other|            1|             4|                      4|  Male|        92|             2|       1|Laboratory Techni...|              3|       Single|         2090|       2396|                 6|     Y|     Yes|               15|                3|                       2|           80|               0|                7|                    3|              3|             0|                 0|                      0|                   0|\n| 33|       No|Travel_Frequently|     1392|Research & Develo...|               3|        4| Life Sciences|            1|             5|                      4|Female|        56|             3|       1|  Research Scientist|              3|      Married|         2909|      23159|                 1|     Y|     Yes|               11|                3|                       3|           80|               0|                8|                    3|              3|             8|                 7|                      3|                   0|\n| 27|       No|    Travel_Rarely|      591|Research & Develo...|               2|        1|       Medical|            1|             7|                      1|  Male|        40|             3|       1|Laboratory Techni...|              2|      Married|         3468|      16632|                 9|     Y|      No|               12|                3|                       4|           80|               1|                6|                    3|              3|             2|                 2|                      2|                   2|\n+---+---------+-----------------+---------+--------------------+----------------+---------+--------------+-------------+--------------+-----------------------+------+----------+--------------+--------+--------------------+---------------+-------------+-------------+-----------+------------------+------+--------+-----------------+-----------------+------------------------+-------------+----------------+-----------------+---------------------+---------------+--------------+------------------+-----------------------+--------------------+\nonly showing top 5 rows\n\nroot\n |-- Age: integer (nullable = true)\n |-- Attrition: string (nullable = true)\n |-- BusinessTravel: string (nullable = true)\n |-- DailyRate: integer (nullable = true)\n |-- Department: string (nullable = true)\n |-- DistanceFromHome: integer (nullable = true)\n |-- Education: integer (nullable = true)\n |-- EducationField: string (nullable = true)\n |-- EmployeeCount: integer (nullable = true)\n |-- EmployeeNumber: integer (nullable = true)\n |-- EnvironmentSatisfaction: integer (nullable = true)\n |-- Gender: string (nullable = true)\n |-- HourlyRate: integer (nullable = true)\n |-- JobInvolvement: integer (nullable = true)\n |-- JobLevel: integer (nullable = true)\n |-- JobRole: string (nullable = true)\n |-- JobSatisfaction: integer (nullable = true)\n |-- MaritalStatus: string (nullable = true)\n |-- MonthlyIncome: integer (nullable = true)\n |-- MonthlyRate: integer (nullable = true)\n |-- NumCompaniesWorked: integer (nullable = true)\n |-- Over18: string (nullable = true)\n |-- OverTime: string (nullable = true)\n |-- PercentSalaryHike: integer (nullable = true)\n |-- PerformanceRating: integer (nullable = true)\n |-- RelationshipSatisfaction: integer (nullable = true)\n |-- StandardHours: integer (nullable = true)\n |-- StockOptionLevel: integer (nullable = true)\n |-- TotalWorkingYears: integer (nullable = true)\n |-- TrainingTimesLastYear: integer (nullable = true)\n |-- WorkLifeBalance: integer (nullable = true)\n |-- YearsAtCompany: integer (nullable = true)\n |-- YearsInCurrentRole: integer (nullable = true)\n |-- YearsSinceLastPromotion: integer (nullable = true)\n |-- YearsWithCurrManager: integer (nullable = true)\n\n"
     ]
    }
   ],
   "source": [
    "# create a dataframe - /FileStore/tables/HR_Employee_Attrition.csv (file location)\n",
    "\n",
    "emp_df = emp_spark.read.csv(\"/FileStore/tables/HR_Employee_Attrition.csv\", inferSchema=True, header=True)\n",
    "emp_df.show(5) # pls check dataset if your not able to see output of snippet\n",
    "emp_df.printSchema()"
   ]
  },
  {
   "cell_type": "code",
   "execution_count": 0,
   "metadata": {
    "application/vnd.databricks.v1+cell": {
     "cellMetadata": {
      "byteLimit": 2048000,
      "rowLimit": 10000
     },
     "inputWidgets": {},
     "nuid": "00563d0f-ac0a-48df-8d47-8e6c58848592",
     "showTitle": false,
     "title": ""
    }
   },
   "outputs": [
    {
     "output_type": "stream",
     "name": "stdout",
     "output_type": "stream",
     "text": [
      "+---+---------+--------------------+---------+--------------+-------------+--------------+-----------------------+------+----------+--------+--------------------+---------------+-------------+-------------+------------------+------+--------+-----------------+-----------------+-----------------+---------------+--------------+------------------+-----------------------+--------------------+\n|Age|Attrition|          Department|Education|EducationField|EmployeeCount|EmployeeNumber|EnvironmentSatisfaction|Gender|HourlyRate|JobLevel|             JobRole|JobSatisfaction|MaritalStatus|MonthlyIncome|NumCompaniesWorked|Over18|OverTime|PercentSalaryHike|PerformanceRating|TotalWorkingYears|WorkLifeBalance|YearsAtCompany|YearsInCurrentRole|YearsSinceLastPromotion|YearsWithCurrManager|\n+---+---------+--------------------+---------+--------------+-------------+--------------+-----------------------+------+----------+--------+--------------------+---------------+-------------+-------------+------------------+------+--------+-----------------+-----------------+-----------------+---------------+--------------+------------------+-----------------------+--------------------+\n| 41|      Yes|               Sales|        2| Life Sciences|            1|             1|                      2|Female|        94|       2|     Sales Executive|              4|       Single|         5993|                 8|     Y|     Yes|               11|                3|                8|              1|             6|                 4|                      0|                   5|\n| 49|       No|Research & Develo...|        1| Life Sciences|            1|             2|                      3|  Male|        61|       2|  Research Scientist|              2|      Married|         5130|                 1|     Y|      No|               23|                4|               10|              3|            10|                 7|                      1|                   7|\n| 37|      Yes|Research & Develo...|        2|         Other|            1|             4|                      4|  Male|        92|       1|Laboratory Techni...|              3|       Single|         2090|                 6|     Y|     Yes|               15|                3|                7|              3|             0|                 0|                      0|                   0|\n| 33|       No|Research & Develo...|        4| Life Sciences|            1|             5|                      4|Female|        56|       1|  Research Scientist|              3|      Married|         2909|                 1|     Y|     Yes|               11|                3|                8|              3|             8|                 7|                      3|                   0|\n| 27|       No|Research & Develo...|        1|       Medical|            1|             7|                      1|  Male|        40|       1|Laboratory Techni...|              2|      Married|         3468|                 9|     Y|      No|               12|                3|                6|              3|             2|                 2|                      2|                   2|\n+---+---------+--------------------+---------+--------------+-------------+--------------+-----------------------+------+----------+--------+--------------------+---------------+-------------+-------------+------------------+------+--------+-----------------+-----------------+-----------------+---------------+--------------+------------------+-----------------------+--------------------+\nonly showing top 5 rows\n\nroot\n |-- Age: integer (nullable = true)\n |-- Attrition: string (nullable = true)\n |-- Department: string (nullable = true)\n |-- Education: integer (nullable = true)\n |-- EducationField: string (nullable = true)\n |-- EmployeeCount: integer (nullable = true)\n |-- EmployeeNumber: integer (nullable = true)\n |-- EnvironmentSatisfaction: integer (nullable = true)\n |-- Gender: string (nullable = true)\n |-- HourlyRate: integer (nullable = true)\n |-- JobLevel: integer (nullable = true)\n |-- JobRole: string (nullable = true)\n |-- JobSatisfaction: integer (nullable = true)\n |-- MaritalStatus: string (nullable = true)\n |-- MonthlyIncome: integer (nullable = true)\n |-- NumCompaniesWorked: integer (nullable = true)\n |-- Over18: string (nullable = true)\n |-- OverTime: string (nullable = true)\n |-- PercentSalaryHike: integer (nullable = true)\n |-- PerformanceRating: integer (nullable = true)\n |-- TotalWorkingYears: integer (nullable = true)\n |-- WorkLifeBalance: integer (nullable = true)\n |-- YearsAtCompany: integer (nullable = true)\n |-- YearsInCurrentRole: integer (nullable = true)\n |-- YearsSinceLastPromotion: integer (nullable = true)\n |-- YearsWithCurrManager: integer (nullable = true)\n\n"
     ]
    }
   ],
   "source": [
    "# let's drop some unwanted columns\n",
    "emp_df_DC = emp_df.drop(\"BusinessTravel\", \"DailyRate\", \"DistanceFromHome\", \"JobInvolvement\", \"MonthlyRate\", \"RelationshipSatisfaction\",\n",
    "                        \"StandardHours\", \"StockOptionLevel\", \"TrainingTimesLastYear\", )\n",
    "\n",
    "emp_df_DC.show(5) # pls check dataset if your not able to see output of snippet\n",
    "emp_df_DC.printSchema()"
   ]
  },
  {
   "cell_type": "code",
   "execution_count": 0,
   "metadata": {
    "application/vnd.databricks.v1+cell": {
     "cellMetadata": {
      "byteLimit": 2048000,
      "rowLimit": 10000
     },
     "inputWidgets": {},
     "nuid": "c39677df-070b-4ad4-aa1e-f4062dde5d07",
     "showTitle": false,
     "title": ""
    }
   },
   "outputs": [],
   "source": [
    "# we are using SparkSQL here \n",
    "# so first of all we need create a temp view\n",
    "emp_df_DC.createOrReplaceTempView(\"emp_data\")"
   ]
  },
  {
   "cell_type": "code",
   "execution_count": 0,
   "metadata": {
    "application/vnd.databricks.v1+cell": {
     "cellMetadata": {
      "byteLimit": 2048000,
      "implicitDf": true,
      "rowLimit": 10000
     },
     "inputWidgets": {},
     "nuid": "555c3cc4-aa9f-4e00-b0e9-655c2f8064e8",
     "showTitle": false,
     "title": ""
    }
   },
   "outputs": [
    {
     "output_type": "display_data",
     "data": {
      "text/html": [
       "<style scoped>\n",
       "  .table-result-container {\n",
       "    max-height: 300px;\n",
       "    overflow: auto;\n",
       "  }\n",
       "  table, th, td {\n",
       "    border: 1px solid black;\n",
       "    border-collapse: collapse;\n",
       "  }\n",
       "  th, td {\n",
       "    padding: 5px;\n",
       "  }\n",
       "  th {\n",
       "    text-align: left;\n",
       "  }\n",
       "</style><div class='table-result-container'><table class='table-result'><thead style='background-color: white'><tr><th>Age</th><th>Attrition</th><th>Department</th><th>Education</th><th>EducationField</th><th>EmployeeCount</th><th>EmployeeNumber</th><th>EnvironmentSatisfaction</th><th>Gender</th><th>HourlyRate</th><th>JobLevel</th><th>JobRole</th><th>JobSatisfaction</th><th>MaritalStatus</th><th>MonthlyIncome</th><th>NumCompaniesWorked</th><th>Over18</th><th>OverTime</th><th>PercentSalaryHike</th><th>PerformanceRating</th><th>TotalWorkingYears</th><th>WorkLifeBalance</th><th>YearsAtCompany</th><th>YearsInCurrentRole</th><th>YearsSinceLastPromotion</th><th>YearsWithCurrManager</th></tr></thead><tbody><tr><td>41</td><td>Yes</td><td>Sales</td><td>2</td><td>Life Sciences</td><td>1</td><td>1</td><td>2</td><td>Female</td><td>94</td><td>2</td><td>Sales Executive</td><td>4</td><td>Single</td><td>5993</td><td>8</td><td>Y</td><td>Yes</td><td>11</td><td>3</td><td>8</td><td>1</td><td>6</td><td>4</td><td>0</td><td>5</td></tr><tr><td>49</td><td>No</td><td>Research & Development</td><td>1</td><td>Life Sciences</td><td>1</td><td>2</td><td>3</td><td>Male</td><td>61</td><td>2</td><td>Research Scientist</td><td>2</td><td>Married</td><td>5130</td><td>1</td><td>Y</td><td>No</td><td>23</td><td>4</td><td>10</td><td>3</td><td>10</td><td>7</td><td>1</td><td>7</td></tr><tr><td>37</td><td>Yes</td><td>Research & Development</td><td>2</td><td>Other</td><td>1</td><td>4</td><td>4</td><td>Male</td><td>92</td><td>1</td><td>Laboratory Technician</td><td>3</td><td>Single</td><td>2090</td><td>6</td><td>Y</td><td>Yes</td><td>15</td><td>3</td><td>7</td><td>3</td><td>0</td><td>0</td><td>0</td><td>0</td></tr><tr><td>33</td><td>No</td><td>Research & Development</td><td>4</td><td>Life Sciences</td><td>1</td><td>5</td><td>4</td><td>Female</td><td>56</td><td>1</td><td>Research Scientist</td><td>3</td><td>Married</td><td>2909</td><td>1</td><td>Y</td><td>Yes</td><td>11</td><td>3</td><td>8</td><td>3</td><td>8</td><td>7</td><td>3</td><td>0</td></tr><tr><td>27</td><td>No</td><td>Research & Development</td><td>1</td><td>Medical</td><td>1</td><td>7</td><td>1</td><td>Male</td><td>40</td><td>1</td><td>Laboratory Technician</td><td>2</td><td>Married</td><td>3468</td><td>9</td><td>Y</td><td>No</td><td>12</td><td>3</td><td>6</td><td>3</td><td>2</td><td>2</td><td>2</td><td>2</td></tr><tr><td>32</td><td>No</td><td>Research & Development</td><td>2</td><td>Life Sciences</td><td>1</td><td>8</td><td>4</td><td>Male</td><td>79</td><td>1</td><td>Laboratory Technician</td><td>4</td><td>Single</td><td>3068</td><td>0</td><td>Y</td><td>No</td><td>13</td><td>3</td><td>8</td><td>2</td><td>7</td><td>7</td><td>3</td><td>6</td></tr><tr><td>59</td><td>No</td><td>Research & Development</td><td>3</td><td>Medical</td><td>1</td><td>10</td><td>3</td><td>Female</td><td>81</td><td>1</td><td>Laboratory Technician</td><td>1</td><td>Married</td><td>2670</td><td>4</td><td>Y</td><td>Yes</td><td>20</td><td>4</td><td>12</td><td>2</td><td>1</td><td>0</td><td>0</td><td>0</td></tr><tr><td>30</td><td>No</td><td>Research & Development</td><td>1</td><td>Life Sciences</td><td>1</td><td>11</td><td>4</td><td>Male</td><td>67</td><td>1</td><td>Laboratory Technician</td><td>3</td><td>Divorced</td><td>2693</td><td>1</td><td>Y</td><td>No</td><td>22</td><td>4</td><td>1</td><td>3</td><td>1</td><td>0</td><td>0</td><td>0</td></tr><tr><td>38</td><td>No</td><td>Research & Development</td><td>3</td><td>Life Sciences</td><td>1</td><td>12</td><td>4</td><td>Male</td><td>44</td><td>3</td><td>Manufacturing Director</td><td>3</td><td>Single</td><td>9526</td><td>0</td><td>Y</td><td>No</td><td>21</td><td>4</td><td>10</td><td>3</td><td>9</td><td>7</td><td>1</td><td>8</td></tr><tr><td>36</td><td>No</td><td>Research & Development</td><td>3</td><td>Medical</td><td>1</td><td>13</td><td>3</td><td>Male</td><td>94</td><td>2</td><td>Healthcare Representative</td><td>3</td><td>Married</td><td>5237</td><td>6</td><td>Y</td><td>No</td><td>13</td><td>3</td><td>17</td><td>2</td><td>7</td><td>7</td><td>7</td><td>7</td></tr></tbody></table></div>"
      ]
     },
     "metadata": {
      "application/vnd.databricks.v1+output": {
       "addedWidgets": {},
       "aggData": [],
       "aggError": "",
       "aggOverflow": false,
       "aggSchema": [],
       "aggSeriesLimitReached": false,
       "aggType": "",
       "arguments": {},
       "columnCustomDisplayInfos": {},
       "data": [
        [
         41,
         "Yes",
         "Sales",
         2,
         "Life Sciences",
         1,
         1,
         2,
         "Female",
         94,
         2,
         "Sales Executive",
         4,
         "Single",
         5993,
         8,
         "Y",
         "Yes",
         11,
         3,
         8,
         1,
         6,
         4,
         0,
         5
        ],
        [
         49,
         "No",
         "Research & Development",
         1,
         "Life Sciences",
         1,
         2,
         3,
         "Male",
         61,
         2,
         "Research Scientist",
         2,
         "Married",
         5130,
         1,
         "Y",
         "No",
         23,
         4,
         10,
         3,
         10,
         7,
         1,
         7
        ],
        [
         37,
         "Yes",
         "Research & Development",
         2,
         "Other",
         1,
         4,
         4,
         "Male",
         92,
         1,
         "Laboratory Technician",
         3,
         "Single",
         2090,
         6,
         "Y",
         "Yes",
         15,
         3,
         7,
         3,
         0,
         0,
         0,
         0
        ],
        [
         33,
         "No",
         "Research & Development",
         4,
         "Life Sciences",
         1,
         5,
         4,
         "Female",
         56,
         1,
         "Research Scientist",
         3,
         "Married",
         2909,
         1,
         "Y",
         "Yes",
         11,
         3,
         8,
         3,
         8,
         7,
         3,
         0
        ],
        [
         27,
         "No",
         "Research & Development",
         1,
         "Medical",
         1,
         7,
         1,
         "Male",
         40,
         1,
         "Laboratory Technician",
         2,
         "Married",
         3468,
         9,
         "Y",
         "No",
         12,
         3,
         6,
         3,
         2,
         2,
         2,
         2
        ],
        [
         32,
         "No",
         "Research & Development",
         2,
         "Life Sciences",
         1,
         8,
         4,
         "Male",
         79,
         1,
         "Laboratory Technician",
         4,
         "Single",
         3068,
         0,
         "Y",
         "No",
         13,
         3,
         8,
         2,
         7,
         7,
         3,
         6
        ],
        [
         59,
         "No",
         "Research & Development",
         3,
         "Medical",
         1,
         10,
         3,
         "Female",
         81,
         1,
         "Laboratory Technician",
         1,
         "Married",
         2670,
         4,
         "Y",
         "Yes",
         20,
         4,
         12,
         2,
         1,
         0,
         0,
         0
        ],
        [
         30,
         "No",
         "Research & Development",
         1,
         "Life Sciences",
         1,
         11,
         4,
         "Male",
         67,
         1,
         "Laboratory Technician",
         3,
         "Divorced",
         2693,
         1,
         "Y",
         "No",
         22,
         4,
         1,
         3,
         1,
         0,
         0,
         0
        ],
        [
         38,
         "No",
         "Research & Development",
         3,
         "Life Sciences",
         1,
         12,
         4,
         "Male",
         44,
         3,
         "Manufacturing Director",
         3,
         "Single",
         9526,
         0,
         "Y",
         "No",
         21,
         4,
         10,
         3,
         9,
         7,
         1,
         8
        ],
        [
         36,
         "No",
         "Research & Development",
         3,
         "Medical",
         1,
         13,
         3,
         "Male",
         94,
         2,
         "Healthcare Representative",
         3,
         "Married",
         5237,
         6,
         "Y",
         "No",
         13,
         3,
         17,
         2,
         7,
         7,
         7,
         7
        ]
       ],
       "datasetInfos": [],
       "dbfsResultPath": null,
       "isJsonSchema": true,
       "metadata": {},
       "overflow": false,
       "plotOptions": {
        "customPlotOptions": {},
        "displayType": "table",
        "pivotAggregation": null,
        "pivotColumns": null,
        "xColumns": null,
        "yColumns": null
       },
       "removedWidgets": [],
       "schema": [
        {
         "metadata": "{}",
         "name": "Age",
         "type": "\"integer\""
        },
        {
         "metadata": "{}",
         "name": "Attrition",
         "type": "\"string\""
        },
        {
         "metadata": "{}",
         "name": "Department",
         "type": "\"string\""
        },
        {
         "metadata": "{}",
         "name": "Education",
         "type": "\"integer\""
        },
        {
         "metadata": "{}",
         "name": "EducationField",
         "type": "\"string\""
        },
        {
         "metadata": "{}",
         "name": "EmployeeCount",
         "type": "\"integer\""
        },
        {
         "metadata": "{}",
         "name": "EmployeeNumber",
         "type": "\"integer\""
        },
        {
         "metadata": "{}",
         "name": "EnvironmentSatisfaction",
         "type": "\"integer\""
        },
        {
         "metadata": "{}",
         "name": "Gender",
         "type": "\"string\""
        },
        {
         "metadata": "{}",
         "name": "HourlyRate",
         "type": "\"integer\""
        },
        {
         "metadata": "{}",
         "name": "JobLevel",
         "type": "\"integer\""
        },
        {
         "metadata": "{}",
         "name": "JobRole",
         "type": "\"string\""
        },
        {
         "metadata": "{}",
         "name": "JobSatisfaction",
         "type": "\"integer\""
        },
        {
         "metadata": "{}",
         "name": "MaritalStatus",
         "type": "\"string\""
        },
        {
         "metadata": "{}",
         "name": "MonthlyIncome",
         "type": "\"integer\""
        },
        {
         "metadata": "{}",
         "name": "NumCompaniesWorked",
         "type": "\"integer\""
        },
        {
         "metadata": "{}",
         "name": "Over18",
         "type": "\"string\""
        },
        {
         "metadata": "{}",
         "name": "OverTime",
         "type": "\"string\""
        },
        {
         "metadata": "{}",
         "name": "PercentSalaryHike",
         "type": "\"integer\""
        },
        {
         "metadata": "{}",
         "name": "PerformanceRating",
         "type": "\"integer\""
        },
        {
         "metadata": "{}",
         "name": "TotalWorkingYears",
         "type": "\"integer\""
        },
        {
         "metadata": "{}",
         "name": "WorkLifeBalance",
         "type": "\"integer\""
        },
        {
         "metadata": "{}",
         "name": "YearsAtCompany",
         "type": "\"integer\""
        },
        {
         "metadata": "{}",
         "name": "YearsInCurrentRole",
         "type": "\"integer\""
        },
        {
         "metadata": "{}",
         "name": "YearsSinceLastPromotion",
         "type": "\"integer\""
        },
        {
         "metadata": "{}",
         "name": "YearsWithCurrManager",
         "type": "\"integer\""
        }
       ],
       "type": "table"
      }
     },
     "output_type": "display_data"
    }
   ],
   "source": [
    "%sql select * from emp_data limit 10;"
   ]
  },
  {
   "cell_type": "code",
   "execution_count": 0,
   "metadata": {
    "application/vnd.databricks.v1+cell": {
     "cellMetadata": {
      "byteLimit": 2048000,
      "rowLimit": 10000
     },
     "inputWidgets": {},
     "nuid": "8eb77fef-61b8-400e-b6f1-c5732c869581",
     "showTitle": false,
     "title": ""
    }
   },
   "outputs": [
    {
     "output_type": "stream",
     "name": "stdout",
     "output_type": "stream",
     "text": [
      "+---------+\n|emp_count|\n+---------+\n|     1470|\n+---------+\n\n"
     ]
    }
   ],
   "source": [
    "# total employee count in company\n",
    "emp_spark.sql(\"\"\"\n",
    "                    select count(EmployeeCount) as emp_count from emp_data;\n",
    "              \n",
    "            \"\"\").show()"
   ]
  },
  {
   "cell_type": "code",
   "execution_count": 0,
   "metadata": {
    "application/vnd.databricks.v1+cell": {
     "cellMetadata": {
      "byteLimit": 2048000,
      "rowLimit": 10000
     },
     "inputWidgets": {},
     "nuid": "5762302b-ad1b-41ca-8b92-605019e93954",
     "showTitle": false,
     "title": ""
    }
   },
   "outputs": [
    {
     "output_type": "stream",
     "name": "stdout",
     "output_type": "stream",
     "text": [
      "+-------------------+---------+\n|emp_attrition_count|Attrition|\n+-------------------+---------+\n|               1233|       No|\n|                237|      Yes|\n+-------------------+---------+\n\n"
     ]
    }
   ],
   "source": [
    "# check how many employee's are leave and how many still there\n",
    "emp_spark.sql(\"\"\"\n",
    "                    select count(EmployeeCount) as emp_attrition_count, Attrition from emp_data\n",
    "                    group by Attrition;\n",
    "            \"\"\").show()"
   ]
  },
  {
   "cell_type": "code",
   "execution_count": 0,
   "metadata": {
    "application/vnd.databricks.v1+cell": {
     "cellMetadata": {
      "byteLimit": 2048000,
      "rowLimit": 10000
     },
     "inputWidgets": {},
     "nuid": "746607c9-933d-4f96-b944-9376eb5788a0",
     "showTitle": false,
     "title": ""
    }
   },
   "outputs": [
    {
     "output_type": "stream",
     "name": "stdout",
     "output_type": "stream",
     "text": [
      "+--------+--------+\n|min(Age)|max(Age)|\n+--------+--------+\n|      18|      60|\n+--------+--------+\n\n"
     ]
    }
   ],
   "source": [
    "# find out how many employee leave the org. by age count\n",
    "emp_spark.sql(\"\"\"\n",
    "                   select min(Age), max(Age) from emp_data;\n",
    "            \"\"\").show(5)"
   ]
  },
  {
   "cell_type": "code",
   "execution_count": 0,
   "metadata": {
    "application/vnd.databricks.v1+cell": {
     "cellMetadata": {
      "byteLimit": 2048000,
      "rowLimit": 10000
     },
     "inputWidgets": {},
     "nuid": "6f3ca8d5-b4a6-42bb-b7af-a4d5dfee1e0f",
     "showTitle": false,
     "title": ""
    }
   },
   "outputs": [
    {
     "output_type": "stream",
     "name": "stdout",
     "output_type": "stream",
     "text": [
      "+-------------------+----------+\n|emp_attrition_count|age_groups|\n+-------------------+----------+\n|                 44|     18-25|\n|                 85|     25-30|\n|                 56|     38-48|\n|                 52|       40+|\n+-------------------+----------+\n\n"
     ]
    }
   ],
   "source": [
    "# find out high attrition by particular age group\n",
    "emp_spark.sql(\"\"\"\n",
    "                    select sum(EmployeeCount) as emp_attrition_count, \n",
    "                        case\n",
    "                            when age between 18 and 25 then \"18-25\"\n",
    "                            when age between 25 and 32 then \"25-30\"\n",
    "                            when age between 33 and 40 then \"38-48\"\n",
    "                            else \"40+\"\n",
    "                        end as age_groups\n",
    "                    from emp_data\n",
    "                    where Attrition == \"Yes\"\n",
    "                    group by age_groups\n",
    "                    order by age_groups asc;\n",
    "            \"\"\").show(100)\n",
    "\n",
    "# here we observe that most people leave the org. they are belog from age group 25-30 "
   ]
  },
  {
   "cell_type": "code",
   "execution_count": 0,
   "metadata": {
    "application/vnd.databricks.v1+cell": {
     "cellMetadata": {
      "byteLimit": 2048000,
      "implicitDf": true,
      "rowLimit": 10000
     },
     "inputWidgets": {},
     "nuid": "0594287d-21d3-4583-a7d1-db738a053a6a",
     "showTitle": false,
     "title": ""
    }
   },
   "outputs": [
    {
     "output_type": "display_data",
     "data": {
      "text/html": [
       "<style scoped>\n",
       "  .table-result-container {\n",
       "    max-height: 300px;\n",
       "    overflow: auto;\n",
       "  }\n",
       "  table, th, td {\n",
       "    border: 1px solid black;\n",
       "    border-collapse: collapse;\n",
       "  }\n",
       "  th, td {\n",
       "    padding: 5px;\n",
       "  }\n",
       "  th {\n",
       "    text-align: left;\n",
       "  }\n",
       "</style><div class='table-result-container'><table class='table-result'><thead style='background-color: white'><tr><th>emp_attrition_count</th><th>age_groups</th></tr></thead><tbody><tr><td>44</td><td>18-25</td></tr><tr><td>85</td><td>25-30</td></tr><tr><td>56</td><td>38-48</td></tr><tr><td>52</td><td>40+</td></tr></tbody></table></div>"
      ]
     },
     "metadata": {
      "application/vnd.databricks.v1+output": {
       "addedWidgets": {},
       "aggData": [],
       "aggError": "",
       "aggOverflow": false,
       "aggSchema": [],
       "aggSeriesLimitReached": false,
       "aggType": "",
       "arguments": {},
       "columnCustomDisplayInfos": {},
       "data": [
        [
         44,
         "18-25"
        ],
        [
         85,
         "25-30"
        ],
        [
         56,
         "38-48"
        ],
        [
         52,
         "40+"
        ]
       ],
       "datasetInfos": [],
       "dbfsResultPath": null,
       "isJsonSchema": true,
       "metadata": {},
       "overflow": false,
       "plotOptions": {
        "customPlotOptions": {},
        "displayType": "table",
        "pivotAggregation": null,
        "pivotColumns": null,
        "xColumns": null,
        "yColumns": null
       },
       "removedWidgets": [],
       "schema": [
        {
         "metadata": "{}",
         "name": "emp_attrition_count",
         "type": "\"long\""
        },
        {
         "metadata": "{}",
         "name": "age_groups",
         "type": "\"string\""
        }
       ],
       "type": "table"
      }
     },
     "output_type": "display_data"
    },
    {
     "output_type": "display_data",
     "data": {
      "text/plain": [
       "Databricks visualization. Run in Databricks to view."
      ]
     },
     "metadata": {
      "application/vnd.databricks.v1.subcommand+json": {
       "bindings": {},
       "collapsed": false,
       "command": "%sql WITH q AS (select sum(EmployeeCount) as emp_attrition_count, \n            case\n                when age between 18 and 25 then \"18-25\"\n                when age between 25 and 32 then \"25-30\"\n                when age between 33 and 40 then \"38-48\"\n                else \"40+\"\n            end as age_groups\n        from emp_data\n                where Attrition == \"Yes\"\n                group by age_groups\n                order by age_groups asc) SELECT `age_groups`,`emp_attrition_count` FROM q",
       "commandTitle": "Visualization 1",
       "commandType": "auto",
       "commandVersion": 0,
       "commentThread": [],
       "commentsVisible": false,
       "contentSha256Hex": null,
       "customPlotOptions": {
        "redashChart": [
         {
          "key": "type",
          "value": "CHART"
         },
         {
          "key": "options",
          "value": {
           "alignYAxesAtZero": true,
           "coefficient": 1,
           "columnConfigurationMap": {
            "x": {
             "column": "age_groups",
             "id": "column_7ee9abd04"
            },
            "y": [
             {
              "column": "emp_attrition_count",
              "id": "column_7ee9abd06"
             }
            ]
           },
           "dateTimeFormat": "DD/MM/YYYY HH:mm",
           "direction": {
            "type": "counterclockwise"
           },
           "error_y": {
            "type": "data",
            "visible": true
           },
           "globalSeriesType": "pie",
           "isAggregationOn": false,
           "legend": {
            "traceorder": "normal"
           },
           "missingValuesAsZero": true,
           "numberFormat": "0,0.[00000]",
           "percentFormat": "0[.]00%",
           "series": {
            "error_y": {
             "type": "data",
             "visible": true
            },
            "stacking": null
           },
           "seriesOptions": {
            "emp_attrition_count": {
             "name": "attrition count by age_groups",
             "type": "pie",
             "yAxis": 0
            }
           },
           "showDataLabels": true,
           "sizemode": "diameter",
           "sortX": true,
           "sortY": true,
           "swappedAxes": false,
           "textFormat": "",
           "useAggregationsUi": true,
           "valuesOptions": {},
           "version": 2,
           "xAxis": {
            "labels": {
             "enabled": true
            },
            "type": "-"
           },
           "yAxis": [
            {
             "type": "-"
            },
            {
             "opposite": true,
             "type": "-"
            }
           ]
          }
         }
        ]
       },
       "datasetPreviewNameToCmdIdMap": {},
       "diffDeletes": [],
       "diffInserts": [],
       "displayType": "redashChart",
       "error": null,
       "errorDetails": null,
       "errorSummary": null,
       "errorTraceType": null,
       "finishTime": 0,
       "globalVars": {},
       "guid": "",
       "height": "202",
       "hideCommandCode": false,
       "hideCommandResult": false,
       "iPythonMetadata": null,
       "inputWidgets": {},
       "isLockedInExamMode": false,
       "latestUser": "a user",
       "latestUserId": null,
       "listResultMetadata": null,
       "metadata": {
        "byteLimit": 2048000,
        "implicitDf": true,
        "rowLimit": 10000
       },
       "nuid": "296b1e79-7dd2-4ff4-8f32-ef430eee7dbe",
       "origId": 0,
       "parentHierarchy": [],
       "pivotAggregation": null,
       "pivotColumns": null,
       "position": 11.0,
       "resultDbfsErrorMessage": null,
       "resultDbfsStatus": "INLINED_IN_TREE",
       "results": null,
       "showCommandTitle": false,
       "startTime": 0,
       "state": "finished",
       "streamStates": {},
       "subcommandOptions": {
        "queryPlan": {
         "selects": [
          {
           "column": "age_groups",
           "type": "column"
          },
          {
           "column": "emp_attrition_count",
           "type": "column"
          }
         ]
        }
       },
       "submitTime": 0,
       "subtype": "tableResultSubCmd.visualization",
       "tableResultIndex": 0,
       "useConsistentColors": false,
       "version": "CommandV1",
       "width": "1082",
       "workflows": [],
       "xColumns": null,
       "yColumns": null
      }
     },
     "output_type": "display_data"
    }
   ],
   "source": [
    "%sql    select sum(EmployeeCount) as emp_attrition_count, \n",
    "            case\n",
    "                when age between 18 and 25 then \"18-25\"\n",
    "                when age between 25 and 32 then \"25-30\"\n",
    "                when age between 33 and 40 then \"38-48\"\n",
    "                else \"40+\"\n",
    "            end as age_groups\n",
    "        from emp_data\n",
    "                where Attrition == \"Yes\"\n",
    "                group by age_groups\n",
    "                order by age_groups asc;"
   ]
  },
  {
   "cell_type": "code",
   "execution_count": 0,
   "metadata": {
    "application/vnd.databricks.v1+cell": {
     "cellMetadata": {
      "byteLimit": 2048000,
      "rowLimit": 10000
     },
     "inputWidgets": {},
     "nuid": "1a258e4f-9a10-4d20-8a70-f8a3df243965",
     "showTitle": false,
     "title": ""
    }
   },
   "outputs": [
    {
     "output_type": "stream",
     "name": "stdout",
     "output_type": "stream",
     "text": [
      "+------------------+----------------------+\n|sum(EmployeeCount)|Department            |\n+------------------+----------------------+\n|133               |Research & Development|\n|92                |Sales                 |\n|12                |Human Resources       |\n+------------------+----------------------+\n\n"
     ]
    }
   ],
   "source": [
    "# let's find attrition count by department wise\n",
    "emp_spark.sql(\"\"\"\n",
    "                    select sum(EmployeeCount), Department from emp_data\n",
    "                    where Attrition == \"Yes\"\n",
    "                    group by Department\n",
    "                    order by sum(EmployeeCount) desc;\n",
    "\n",
    "            \"\"\").show(truncate=False)\n",
    "\n",
    "# most people leave the org. belog from Research & Development department"
   ]
  },
  {
   "cell_type": "code",
   "execution_count": 0,
   "metadata": {
    "application/vnd.databricks.v1+cell": {
     "cellMetadata": {
      "byteLimit": 2048000,
      "implicitDf": true,
      "rowLimit": 10000
     },
     "inputWidgets": {},
     "nuid": "1c8daa62-711d-4167-87fa-98fc4bb6fa2d",
     "showTitle": false,
     "title": ""
    }
   },
   "outputs": [
    {
     "output_type": "display_data",
     "data": {
      "text/html": [
       "<style scoped>\n",
       "  .table-result-container {\n",
       "    max-height: 300px;\n",
       "    overflow: auto;\n",
       "  }\n",
       "  table, th, td {\n",
       "    border: 1px solid black;\n",
       "    border-collapse: collapse;\n",
       "  }\n",
       "  th, td {\n",
       "    padding: 5px;\n",
       "  }\n",
       "  th {\n",
       "    text-align: left;\n",
       "  }\n",
       "</style><div class='table-result-container'><table class='table-result'><thead style='background-color: white'><tr><th>sum(EmployeeCount)</th><th>Department</th></tr></thead><tbody><tr><td>133</td><td>Research & Development</td></tr><tr><td>92</td><td>Sales</td></tr><tr><td>12</td><td>Human Resources</td></tr></tbody></table></div>"
      ]
     },
     "metadata": {
      "application/vnd.databricks.v1+output": {
       "addedWidgets": {},
       "aggData": [],
       "aggError": "",
       "aggOverflow": false,
       "aggSchema": [],
       "aggSeriesLimitReached": false,
       "aggType": "",
       "arguments": {},
       "columnCustomDisplayInfos": {},
       "data": [
        [
         133,
         "Research & Development"
        ],
        [
         92,
         "Sales"
        ],
        [
         12,
         "Human Resources"
        ]
       ],
       "datasetInfos": [],
       "dbfsResultPath": null,
       "isJsonSchema": true,
       "metadata": {},
       "overflow": false,
       "plotOptions": {
        "customPlotOptions": {},
        "displayType": "table",
        "pivotAggregation": null,
        "pivotColumns": null,
        "xColumns": null,
        "yColumns": null
       },
       "removedWidgets": [],
       "schema": [
        {
         "metadata": "{\"__autoGeneratedAlias\":\"true\"}",
         "name": "sum(EmployeeCount)",
         "type": "\"long\""
        },
        {
         "metadata": "{}",
         "name": "Department",
         "type": "\"string\""
        }
       ],
       "type": "table"
      }
     },
     "output_type": "display_data"
    },
    {
     "output_type": "display_data",
     "data": {
      "text/plain": [
       "Databricks visualization. Run in Databricks to view."
      ]
     },
     "metadata": {
      "application/vnd.databricks.v1.subcommand+json": {
       "bindings": {},
       "collapsed": false,
       "command": "%sql WITH q AS (select sum(EmployeeCount), Department from emp_data\n                    where Attrition == \"Yes\"\n                    group by Department\n                    order by sum(EmployeeCount) desc) SELECT `Department`,`sum(EmployeeCount)` FROM q",
       "commandTitle": "Visualization 1",
       "commandType": "auto",
       "commandVersion": 0,
       "commentThread": [],
       "commentsVisible": false,
       "contentSha256Hex": null,
       "customPlotOptions": {
        "redashChart": [
         {
          "key": "type",
          "value": "CHART"
         },
         {
          "key": "options",
          "value": {
           "alignYAxesAtZero": true,
           "coefficient": 1,
           "columnConfigurationMap": {
            "x": {
             "column": "Department",
             "id": "column_7ee9abd014"
            },
            "y": [
             {
              "column": "sum(EmployeeCount)",
              "id": "column_7ee9abd013"
             }
            ]
           },
           "dateTimeFormat": "DD/MM/YYYY HH:mm",
           "direction": {
            "type": "counterclockwise"
           },
           "error_y": {
            "type": "data",
            "visible": true
           },
           "globalSeriesType": "column",
           "hideXAxis": false,
           "hideYAxes": false,
           "isAggregationOn": false,
           "legend": {
            "enabled": true,
            "placement": "auto",
            "traceorder": "normal"
           },
           "missingValuesAsZero": true,
           "numberFormat": "0,0.[00000]",
           "percentFormat": "0[.]00%",
           "reverseX": false,
           "series": {
            "error_y": {
             "type": "data",
             "visible": true
            },
            "percentValues": false,
            "stacking": null
           },
           "seriesOptions": {
            "sum(EmployeeCount)": {
             "color": "#049235",
             "type": "column",
             "yAxis": 0
            }
           },
           "showDataLabels": false,
           "sizemode": "diameter",
           "sortX": false,
           "sortY": true,
           "swappedAxes": true,
           "textFormat": "",
           "useAggregationsUi": true,
           "valuesOptions": {},
           "version": 2,
           "xAxis": {
            "labels": {
             "enabled": true
            },
            "type": "-"
           },
           "yAxis": [
            {
             "type": "-"
            },
            {
             "opposite": true,
             "type": "-"
            }
           ]
          }
         }
        ]
       },
       "datasetPreviewNameToCmdIdMap": {},
       "diffDeletes": [],
       "diffInserts": [],
       "displayType": "redashChart",
       "error": null,
       "errorDetails": null,
       "errorSummary": null,
       "errorTraceType": null,
       "finishTime": 0,
       "globalVars": {},
       "guid": "",
       "height": "170",
       "hideCommandCode": false,
       "hideCommandResult": false,
       "iPythonMetadata": null,
       "inputWidgets": {},
       "isLockedInExamMode": false,
       "latestUser": "a user",
       "latestUserId": null,
       "listResultMetadata": null,
       "metadata": {
        "byteLimit": 2048000,
        "implicitDf": true,
        "rowLimit": 10000
       },
       "nuid": "2f6fb67c-333c-455d-881c-4a9908970b04",
       "origId": 0,
       "parentHierarchy": [],
       "pivotAggregation": null,
       "pivotColumns": null,
       "position": 13.0,
       "resultDbfsErrorMessage": null,
       "resultDbfsStatus": "INLINED_IN_TREE",
       "results": null,
       "showCommandTitle": false,
       "startTime": 0,
       "state": "finished",
       "streamStates": {},
       "subcommandOptions": {
        "queryPlan": {
         "selects": [
          {
           "column": "Department",
           "type": "column"
          },
          {
           "column": "sum(EmployeeCount)",
           "type": "column"
          }
         ]
        }
       },
       "submitTime": 0,
       "subtype": "tableResultSubCmd.visualization",
       "tableResultIndex": 0,
       "useConsistentColors": false,
       "version": "CommandV1",
       "width": "1068",
       "workflows": [],
       "xColumns": null,
       "yColumns": null
      }
     },
     "output_type": "display_data"
    }
   ],
   "source": [
    "%sql                select sum(EmployeeCount), Department from emp_data\n",
    "                    where Attrition == \"Yes\"\n",
    "                    group by Department\n",
    "                    order by sum(EmployeeCount) desc;"
   ]
  },
  {
   "cell_type": "code",
   "execution_count": 0,
   "metadata": {
    "application/vnd.databricks.v1+cell": {
     "cellMetadata": {
      "byteLimit": 2048000,
      "rowLimit": 10000
     },
     "inputWidgets": {},
     "nuid": "75544e02-834c-474c-a9b3-875c97039016",
     "showTitle": false,
     "title": ""
    }
   },
   "outputs": [
    {
     "output_type": "stream",
     "name": "stdout",
     "output_type": "stream",
     "text": [
      "+------------------+----------------+\n|sum(EmployeeCount)|EducationField  |\n+------------------+----------------+\n|89                |Life Sciences   |\n|63                |Medical         |\n|35                |Marketing       |\n|32                |Technical Degree|\n|11                |Other           |\n|7                 |Human Resources |\n+------------------+----------------+\n\n"
     ]
    }
   ],
   "source": [
    "# Attrition by Educational fields\n",
    "emp_spark.sql(\"\"\"\n",
    "                select sum(EmployeeCount), EducationField from emp_data\n",
    "                where Attrition == \"Yes\"\n",
    "                group by EducationField\n",
    "                order by sum(EmployeeCount) desc;\n",
    "            \"\"\").show(truncate=False)\n",
    "\n",
    "# most people leave the org.belog from \"Life Sciences\" EducationField"
   ]
  },
  {
   "cell_type": "code",
   "execution_count": 0,
   "metadata": {
    "application/vnd.databricks.v1+cell": {
     "cellMetadata": {
      "byteLimit": 2048000,
      "implicitDf": true,
      "rowLimit": 10000
     },
     "inputWidgets": {},
     "nuid": "58528fdb-a215-491c-9c6d-5f31ead78edc",
     "showTitle": false,
     "title": ""
    }
   },
   "outputs": [
    {
     "output_type": "display_data",
     "data": {
      "text/html": [
       "<style scoped>\n",
       "  .table-result-container {\n",
       "    max-height: 300px;\n",
       "    overflow: auto;\n",
       "  }\n",
       "  table, th, td {\n",
       "    border: 1px solid black;\n",
       "    border-collapse: collapse;\n",
       "  }\n",
       "  th, td {\n",
       "    padding: 5px;\n",
       "  }\n",
       "  th {\n",
       "    text-align: left;\n",
       "  }\n",
       "</style><div class='table-result-container'><table class='table-result'><thead style='background-color: white'><tr><th>sum(EmployeeCount)</th><th>EducationField</th></tr></thead><tbody><tr><td>89</td><td>Life Sciences</td></tr><tr><td>63</td><td>Medical</td></tr><tr><td>35</td><td>Marketing</td></tr><tr><td>32</td><td>Technical Degree</td></tr><tr><td>11</td><td>Other</td></tr><tr><td>7</td><td>Human Resources</td></tr></tbody></table></div>"
      ]
     },
     "metadata": {
      "application/vnd.databricks.v1+output": {
       "addedWidgets": {},
       "aggData": [],
       "aggError": "",
       "aggOverflow": false,
       "aggSchema": [],
       "aggSeriesLimitReached": false,
       "aggType": "",
       "arguments": {},
       "columnCustomDisplayInfos": {},
       "data": [
        [
         89,
         "Life Sciences"
        ],
        [
         63,
         "Medical"
        ],
        [
         35,
         "Marketing"
        ],
        [
         32,
         "Technical Degree"
        ],
        [
         11,
         "Other"
        ],
        [
         7,
         "Human Resources"
        ]
       ],
       "datasetInfos": [],
       "dbfsResultPath": null,
       "isJsonSchema": true,
       "metadata": {},
       "overflow": false,
       "plotOptions": {
        "customPlotOptions": {},
        "displayType": "table",
        "pivotAggregation": null,
        "pivotColumns": null,
        "xColumns": null,
        "yColumns": null
       },
       "removedWidgets": [],
       "schema": [
        {
         "metadata": "{\"__autoGeneratedAlias\":\"true\"}",
         "name": "sum(EmployeeCount)",
         "type": "\"long\""
        },
        {
         "metadata": "{}",
         "name": "EducationField",
         "type": "\"string\""
        }
       ],
       "type": "table"
      }
     },
     "output_type": "display_data"
    },
    {
     "output_type": "display_data",
     "data": {
      "text/plain": [
       "Databricks visualization. Run in Databricks to view."
      ]
     },
     "metadata": {
      "application/vnd.databricks.v1.subcommand+json": {
       "bindings": {},
       "collapsed": false,
       "command": "%sql WITH q AS (select sum(EmployeeCount), EducationField from emp_data\n                where Attrition == \"Yes\"\n                group by EducationField\n                order by sum(EmployeeCount) desc) SELECT `EducationField`,SUM(`sum(EmployeeCount)`) `column_7ee9abd020` FROM q GROUP BY `EducationField`",
       "commandTitle": "Visualization 1",
       "commandType": "auto",
       "commandVersion": 0,
       "commentThread": [],
       "commentsVisible": false,
       "contentSha256Hex": null,
       "customPlotOptions": {
        "redashChart": [
         {
          "key": "type",
          "value": "CHART"
         },
         {
          "key": "options",
          "value": {
           "alignYAxesAtZero": true,
           "coefficient": 1,
           "columnConfigurationMap": {
            "x": {
             "column": "EducationField",
             "id": "column_7ee9abd019"
            },
            "y": [
             {
              "column": "sum(EmployeeCount)",
              "id": "column_7ee9abd020",
              "transform": "SUM"
             }
            ]
           },
           "dateTimeFormat": "DD/MM/YYYY HH:mm",
           "direction": {
            "type": "counterclockwise"
           },
           "error_y": {
            "type": "data",
            "visible": true
           },
           "globalSeriesType": "pie",
           "isAggregationOn": true,
           "legend": {
            "traceorder": "normal"
           },
           "missingValuesAsZero": true,
           "numberFormat": "0,0.[00000]",
           "percentFormat": "0[.]00%",
           "series": {
            "error_y": {
             "type": "data",
             "visible": true
            },
            "stacking": null
           },
           "seriesOptions": {
            "column_7ee9abd020": {
             "name": "EducationalField Wise Attrition",
             "type": "pie",
             "yAxis": 0
            }
           },
           "showDataLabels": true,
           "sizemode": "diameter",
           "sortX": true,
           "sortY": true,
           "swappedAxes": false,
           "textFormat": "",
           "useAggregationsUi": true,
           "valuesOptions": {},
           "version": 2,
           "xAxis": {
            "labels": {
             "enabled": true
            },
            "type": "-"
           },
           "yAxis": [
            {
             "type": "-"
            },
            {
             "opposite": true,
             "type": "-"
            }
           ]
          }
         }
        ]
       },
       "datasetPreviewNameToCmdIdMap": {},
       "diffDeletes": [],
       "diffInserts": [],
       "displayType": "redashChart",
       "error": null,
       "errorDetails": null,
       "errorSummary": null,
       "errorTraceType": null,
       "finishTime": 0,
       "globalVars": {},
       "guid": "",
       "height": "236",
       "hideCommandCode": false,
       "hideCommandResult": false,
       "iPythonMetadata": null,
       "inputWidgets": {},
       "isLockedInExamMode": false,
       "latestUser": "a user",
       "latestUserId": null,
       "listResultMetadata": null,
       "metadata": {
        "byteLimit": 2048000,
        "implicitDf": true,
        "rowLimit": 10000
       },
       "nuid": "116185a5-d44a-4824-9d27-487e7b6fd8ec",
       "origId": 0,
       "parentHierarchy": [],
       "pivotAggregation": null,
       "pivotColumns": null,
       "position": 15.0,
       "resultDbfsErrorMessage": null,
       "resultDbfsStatus": "INLINED_IN_TREE",
       "results": null,
       "showCommandTitle": false,
       "startTime": 0,
       "state": "finished",
       "streamStates": {},
       "subcommandOptions": {
        "queryPlan": {
         "groups": [
          {
           "column": "EducationField",
           "type": "column"
          }
         ],
         "selects": [
          {
           "column": "EducationField",
           "type": "column"
          },
          {
           "alias": "column_7ee9abd020",
           "args": [
            {
             "column": "sum(EmployeeCount)",
             "type": "column"
            }
           ],
           "function": "SUM",
           "type": "function"
          }
         ]
        }
       },
       "submitTime": 0,
       "subtype": "tableResultSubCmd.visualization",
       "tableResultIndex": 0,
       "useConsistentColors": false,
       "version": "CommandV1",
       "width": "1066",
       "workflows": [],
       "xColumns": null,
       "yColumns": null
      }
     },
     "output_type": "display_data"
    }
   ],
   "source": [
    "%sql            select sum(EmployeeCount), EducationField from emp_data\n",
    "                where Attrition == \"Yes\"\n",
    "                group by EducationField\n",
    "                order by sum(EmployeeCount) desc;"
   ]
  },
  {
   "cell_type": "code",
   "execution_count": 0,
   "metadata": {
    "application/vnd.databricks.v1+cell": {
     "cellMetadata": {
      "byteLimit": 2048000,
      "rowLimit": 10000
     },
     "inputWidgets": {},
     "nuid": "4cd524f4-86e8-45f1-9c17-4c8478d740f6",
     "showTitle": false,
     "title": ""
    }
   },
   "outputs": [
    {
     "output_type": "stream",
     "name": "stdout",
     "output_type": "stream",
     "text": [
      "+------------------+-------------------+\n|sum(EmployeeCount)|Enviormental_Rating|\n+------------------+-------------------+\n|                72|                Low|\n|                62|               High|\n|                60|          Satisfied|\n|                43|             Medium|\n+------------------+-------------------+\n\n"
     ]
    }
   ],
   "source": [
    "# Attrition by Enviormental satisfaction (1-Low, 2-Medium, 3-High, 4-Satisfied)\n",
    "emp_spark.sql(\"\"\"\n",
    "                    select sum(EmployeeCount),\n",
    "                        case\n",
    "                            when EnvironmentSatisfaction == 1 then \"Low\"\n",
    "                            when EnvironmentSatisfaction == 2 then \"Medium\"\n",
    "                            when EnvironmentSatisfaction == 3 then \"High\"\n",
    "                            else \"Satisfied\"\n",
    "                        end as Enviormental_Rating\n",
    "                    from emp_data\n",
    "                    where Attrition == \"Yes\"\n",
    "                    group by EnvironmentSatisfaction\n",
    "                    order by sum(EmployeeCount) desc;\n",
    "\n",
    "            \"\"\").show()\n",
    "\n",
    "# so there are 72 people who leave the org. they are not satisfied by org. services"
   ]
  },
  {
   "cell_type": "code",
   "execution_count": 0,
   "metadata": {
    "application/vnd.databricks.v1+cell": {
     "cellMetadata": {
      "byteLimit": 2048000,
      "implicitDf": true,
      "rowLimit": 10000
     },
     "inputWidgets": {},
     "nuid": "47922f90-d8a1-4561-a18c-e87d475aacc9",
     "showTitle": false,
     "title": ""
    }
   },
   "outputs": [
    {
     "output_type": "display_data",
     "data": {
      "text/html": [
       "<style scoped>\n",
       "  .table-result-container {\n",
       "    max-height: 300px;\n",
       "    overflow: auto;\n",
       "  }\n",
       "  table, th, td {\n",
       "    border: 1px solid black;\n",
       "    border-collapse: collapse;\n",
       "  }\n",
       "  th, td {\n",
       "    padding: 5px;\n",
       "  }\n",
       "  th {\n",
       "    text-align: left;\n",
       "  }\n",
       "</style><div class='table-result-container'><table class='table-result'><thead style='background-color: white'><tr><th>sum(EmployeeCount)</th><th>Enviormental_Rating</th></tr></thead><tbody><tr><td>72</td><td>Low</td></tr><tr><td>62</td><td>High</td></tr><tr><td>60</td><td>Satisfied</td></tr><tr><td>43</td><td>Medium</td></tr></tbody></table></div>"
      ]
     },
     "metadata": {
      "application/vnd.databricks.v1+output": {
       "addedWidgets": {},
       "aggData": [],
       "aggError": "",
       "aggOverflow": false,
       "aggSchema": [],
       "aggSeriesLimitReached": false,
       "aggType": "",
       "arguments": {},
       "columnCustomDisplayInfos": {},
       "data": [
        [
         72,
         "Low"
        ],
        [
         62,
         "High"
        ],
        [
         60,
         "Satisfied"
        ],
        [
         43,
         "Medium"
        ]
       ],
       "datasetInfos": [],
       "dbfsResultPath": null,
       "isJsonSchema": true,
       "metadata": {},
       "overflow": false,
       "plotOptions": {
        "customPlotOptions": {},
        "displayType": "table",
        "pivotAggregation": null,
        "pivotColumns": null,
        "xColumns": null,
        "yColumns": null
       },
       "removedWidgets": [],
       "schema": [
        {
         "metadata": "{\"__autoGeneratedAlias\":\"true\"}",
         "name": "sum(EmployeeCount)",
         "type": "\"long\""
        },
        {
         "metadata": "{}",
         "name": "Enviormental_Rating",
         "type": "\"string\""
        }
       ],
       "type": "table"
      }
     },
     "output_type": "display_data"
    },
    {
     "output_type": "display_data",
     "data": {
      "text/plain": [
       "Databricks visualization. Run in Databricks to view."
      ]
     },
     "metadata": {
      "application/vnd.databricks.v1.subcommand+json": {
       "bindings": {},
       "collapsed": false,
       "command": "%sql WITH q AS (select sum(EmployeeCount),\n                        case\n                            when EnvironmentSatisfaction == 1 then \"Low\"\n                            when EnvironmentSatisfaction == 2 then \"Medium\"\n                            when EnvironmentSatisfaction == 3 then \"High\"\n                            else \"Satisfied\"\n                        end as Enviormental_Rating\n                    from emp_data\n                    where Attrition == \"Yes\"\n                    group by EnvironmentSatisfaction\n                    order by sum(EmployeeCount) desc) SELECT `Enviormental_Rating`,`sum(EmployeeCount)` FROM q",
       "commandTitle": "Visualization 1",
       "commandType": "auto",
       "commandVersion": 0,
       "commentThread": [],
       "commentsVisible": false,
       "contentSha256Hex": null,
       "customPlotOptions": {
        "redashChart": [
         {
          "key": "type",
          "value": "CHART"
         },
         {
          "key": "options",
          "value": {
           "alignYAxesAtZero": true,
           "coefficient": 1,
           "columnConfigurationMap": {
            "x": {
             "column": "Enviormental_Rating",
             "id": "column_7ee9abd029"
            },
            "y": [
             {
              "column": "sum(EmployeeCount)",
              "id": "column_7ee9abd027"
             }
            ]
           },
           "dateTimeFormat": "DD/MM/YYYY HH:mm",
           "direction": {
            "type": "counterclockwise"
           },
           "error_y": {
            "type": "data",
            "visible": true
           },
           "globalSeriesType": "column",
           "isAggregationOn": false,
           "legend": {
            "traceorder": "normal"
           },
           "missingValuesAsZero": true,
           "numberFormat": "0,0.[00000]",
           "percentFormat": "0[.]00%",
           "series": {
            "error_y": {
             "type": "data",
             "visible": true
            },
            "stacking": null
           },
           "seriesOptions": {
            "sum(EmployeeCount)": {
             "color": "#981717",
             "type": "column",
             "yAxis": 0
            }
           },
           "showDataLabels": false,
           "sizemode": "diameter",
           "sortX": false,
           "sortY": true,
           "swappedAxes": true,
           "textFormat": "",
           "useAggregationsUi": true,
           "valuesOptions": {},
           "version": 2,
           "xAxis": {
            "labels": {
             "enabled": true
            },
            "type": "-"
           },
           "yAxis": [
            {
             "type": "-"
            },
            {
             "opposite": true,
             "type": "-"
            }
           ]
          }
         }
        ]
       },
       "datasetPreviewNameToCmdIdMap": {},
       "diffDeletes": [],
       "diffInserts": [],
       "displayType": "redashChart",
       "error": null,
       "errorDetails": null,
       "errorSummary": null,
       "errorTraceType": null,
       "finishTime": 0,
       "globalVars": {},
       "guid": "",
       "height": "199",
       "hideCommandCode": false,
       "hideCommandResult": false,
       "iPythonMetadata": null,
       "inputWidgets": {},
       "isLockedInExamMode": false,
       "latestUser": "a user",
       "latestUserId": null,
       "listResultMetadata": null,
       "metadata": {
        "byteLimit": 2048000,
        "implicitDf": true,
        "rowLimit": 10000
       },
       "nuid": "bf6ebf3f-165d-41be-ac5f-8ba053f538e4",
       "origId": 0,
       "parentHierarchy": [],
       "pivotAggregation": null,
       "pivotColumns": null,
       "position": 17.0,
       "resultDbfsErrorMessage": null,
       "resultDbfsStatus": "INLINED_IN_TREE",
       "results": null,
       "showCommandTitle": false,
       "startTime": 0,
       "state": "finished",
       "streamStates": {},
       "subcommandOptions": {
        "queryPlan": {
         "selects": [
          {
           "column": "Enviormental_Rating",
           "type": "column"
          },
          {
           "column": "sum(EmployeeCount)",
           "type": "column"
          }
         ]
        }
       },
       "submitTime": 0,
       "subtype": "tableResultSubCmd.visualization",
       "tableResultIndex": 0,
       "useConsistentColors": false,
       "version": "CommandV1",
       "width": "1060",
       "workflows": [],
       "xColumns": null,
       "yColumns": null
      }
     },
     "output_type": "display_data"
    }
   ],
   "source": [
    "%sql                select sum(EmployeeCount),\n",
    "                        case\n",
    "                            when EnvironmentSatisfaction == 1 then \"Low\"\n",
    "                            when EnvironmentSatisfaction == 2 then \"Medium\"\n",
    "                            when EnvironmentSatisfaction == 3 then \"High\"\n",
    "                            else \"Satisfied\"\n",
    "                        end as Enviormental_Rating\n",
    "                    from emp_data\n",
    "                    where Attrition == \"Yes\"\n",
    "                    group by EnvironmentSatisfaction\n",
    "                    order by sum(EmployeeCount) desc;"
   ]
  },
  {
   "cell_type": "code",
   "execution_count": 0,
   "metadata": {
    "application/vnd.databricks.v1+cell": {
     "cellMetadata": {
      "byteLimit": 2048000,
      "rowLimit": 10000
     },
     "inputWidgets": {},
     "nuid": "578d134a-4cb4-478f-84d4-d0e484b6c95e",
     "showTitle": false,
     "title": ""
    }
   },
   "outputs": [
    {
     "output_type": "stream",
     "name": "stdout",
     "output_type": "stream",
     "text": [
      "+------------------+-------------------------+\n|sum(EmployeeCount)|JobRole                  |\n+------------------+-------------------------+\n|62                |Laboratory Technician    |\n|57                |Sales Executive          |\n|47                |Research Scientist       |\n|33                |Sales Representative     |\n|12                |Human Resources          |\n|10                |Manufacturing Director   |\n|9                 |Healthcare Representative|\n|5                 |Manager                  |\n|2                 |Research Director        |\n+------------------+-------------------------+\n\n"
     ]
    }
   ],
   "source": [
    "# how many people leave the org. accordingly Job Title\n",
    "emp_spark.sql(\"\"\"\n",
    "                    select sum(EmployeeCount), JobRole from emp_data\n",
    "                    where Attrition == \"Yes\"\n",
    "                    group by JobRole\n",
    "                    sort by sum(EmployeeCount) desc;\n",
    "              \n",
    "            \"\"\").show(truncate=False)\n",
    "\n",
    "# here we observe that \"Laboratory Technician\" and \"Sales Executive\" Job Role people leave the org."
   ]
  },
  {
   "cell_type": "code",
   "execution_count": 0,
   "metadata": {
    "application/vnd.databricks.v1+cell": {
     "cellMetadata": {
      "byteLimit": 2048000,
      "implicitDf": true,
      "rowLimit": 10000
     },
     "inputWidgets": {},
     "nuid": "35031eb5-d623-4c55-bd85-a8e628fd4b66",
     "showTitle": false,
     "title": ""
    }
   },
   "outputs": [
    {
     "output_type": "display_data",
     "data": {
      "text/html": [
       "<style scoped>\n",
       "  .table-result-container {\n",
       "    max-height: 300px;\n",
       "    overflow: auto;\n",
       "  }\n",
       "  table, th, td {\n",
       "    border: 1px solid black;\n",
       "    border-collapse: collapse;\n",
       "  }\n",
       "  th, td {\n",
       "    padding: 5px;\n",
       "  }\n",
       "  th {\n",
       "    text-align: left;\n",
       "  }\n",
       "</style><div class='table-result-container'><table class='table-result'><thead style='background-color: white'><tr><th>sum(EmployeeCount)</th><th>JobRole</th></tr></thead><tbody><tr><td>62</td><td>Laboratory Technician</td></tr><tr><td>57</td><td>Sales Executive</td></tr><tr><td>47</td><td>Research Scientist</td></tr><tr><td>33</td><td>Sales Representative</td></tr><tr><td>12</td><td>Human Resources</td></tr><tr><td>10</td><td>Manufacturing Director</td></tr><tr><td>9</td><td>Healthcare Representative</td></tr><tr><td>5</td><td>Manager</td></tr><tr><td>2</td><td>Research Director</td></tr></tbody></table></div>"
      ]
     },
     "metadata": {
      "application/vnd.databricks.v1+output": {
       "addedWidgets": {},
       "aggData": [],
       "aggError": "",
       "aggOverflow": false,
       "aggSchema": [],
       "aggSeriesLimitReached": false,
       "aggType": "",
       "arguments": {},
       "columnCustomDisplayInfos": {},
       "data": [
        [
         62,
         "Laboratory Technician"
        ],
        [
         57,
         "Sales Executive"
        ],
        [
         47,
         "Research Scientist"
        ],
        [
         33,
         "Sales Representative"
        ],
        [
         12,
         "Human Resources"
        ],
        [
         10,
         "Manufacturing Director"
        ],
        [
         9,
         "Healthcare Representative"
        ],
        [
         5,
         "Manager"
        ],
        [
         2,
         "Research Director"
        ]
       ],
       "datasetInfos": [],
       "dbfsResultPath": null,
       "isJsonSchema": true,
       "metadata": {},
       "overflow": false,
       "plotOptions": {
        "customPlotOptions": {},
        "displayType": "table",
        "pivotAggregation": null,
        "pivotColumns": null,
        "xColumns": null,
        "yColumns": null
       },
       "removedWidgets": [],
       "schema": [
        {
         "metadata": "{\"__autoGeneratedAlias\":\"true\"}",
         "name": "sum(EmployeeCount)",
         "type": "\"long\""
        },
        {
         "metadata": "{}",
         "name": "JobRole",
         "type": "\"string\""
        }
       ],
       "type": "table"
      }
     },
     "output_type": "display_data"
    },
    {
     "output_type": "display_data",
     "data": {
      "text/plain": [
       "Databricks visualization. Run in Databricks to view."
      ]
     },
     "metadata": {
      "application/vnd.databricks.v1.subcommand+json": {
       "bindings": {},
       "collapsed": false,
       "command": "%sql WITH q AS (select sum(EmployeeCount), JobRole from emp_data\n                    where Attrition == \"Yes\"\n                    group by JobRole\n                    sort by sum(EmployeeCount) desc) SELECT `JobRole`,SUM(`sum(EmployeeCount)`) `column_7ee9abd031` FROM q GROUP BY `JobRole`",
       "commandTitle": "Visualization 1",
       "commandType": "auto",
       "commandVersion": 0,
       "commentThread": [],
       "commentsVisible": false,
       "contentSha256Hex": null,
       "customPlotOptions": {
        "redashChart": [
         {
          "key": "type",
          "value": "CHART"
         },
         {
          "key": "options",
          "value": {
           "alignYAxesAtZero": true,
           "coefficient": 1,
           "columnConfigurationMap": {
            "x": {
             "column": "JobRole",
             "id": "column_7ee9abd030"
            },
            "y": [
             {
              "column": "sum(EmployeeCount)",
              "id": "column_7ee9abd031",
              "transform": "SUM"
             }
            ]
           },
           "dateTimeFormat": "DD/MM/YYYY HH:mm",
           "direction": {
            "type": "counterclockwise"
           },
           "error_y": {
            "type": "data",
            "visible": true
           },
           "globalSeriesType": "column",
           "isAggregationOn": true,
           "legend": {
            "traceorder": "normal"
           },
           "missingValuesAsZero": true,
           "numberFormat": "0,0.[00000]",
           "percentFormat": "0[.]00%",
           "series": {
            "error_y": {
             "type": "data",
             "visible": true
            },
            "stacking": null
           },
           "seriesOptions": {
            "column_7ee9abd031": {
             "color": "#00B6EB",
             "name": "sum(EmployeeCount)",
             "yAxis": 0
            }
           },
           "showDataLabels": false,
           "sizemode": "diameter",
           "sortX": false,
           "sortY": true,
           "swappedAxes": true,
           "textFormat": "",
           "useAggregationsUi": true,
           "valuesOptions": {},
           "version": 2,
           "xAxis": {
            "labels": {
             "enabled": true
            },
            "type": "-"
           },
           "yAxis": [
            {
             "type": "-"
            },
            {
             "opposite": true,
             "type": "-"
            }
           ]
          }
         }
        ]
       },
       "datasetPreviewNameToCmdIdMap": {},
       "diffDeletes": [],
       "diffInserts": [],
       "displayType": "redashChart",
       "error": null,
       "errorDetails": null,
       "errorSummary": null,
       "errorTraceType": null,
       "finishTime": 0,
       "globalVars": {},
       "guid": "",
       "height": "312",
       "hideCommandCode": false,
       "hideCommandResult": false,
       "iPythonMetadata": null,
       "inputWidgets": {},
       "isLockedInExamMode": false,
       "latestUser": "a user",
       "latestUserId": null,
       "listResultMetadata": null,
       "metadata": {
        "byteLimit": 2048000,
        "implicitDf": true,
        "rowLimit": 10000
       },
       "nuid": "8b0b5047-4ca7-4e62-bb98-57c90ba84412",
       "origId": 0,
       "parentHierarchy": [],
       "pivotAggregation": null,
       "pivotColumns": null,
       "position": 19.0,
       "resultDbfsErrorMessage": null,
       "resultDbfsStatus": "INLINED_IN_TREE",
       "results": null,
       "showCommandTitle": false,
       "startTime": 0,
       "state": "finished",
       "streamStates": {},
       "subcommandOptions": {
        "queryPlan": {
         "groups": [
          {
           "column": "JobRole",
           "type": "column"
          }
         ],
         "selects": [
          {
           "column": "JobRole",
           "type": "column"
          },
          {
           "alias": "column_7ee9abd031",
           "args": [
            {
             "column": "sum(EmployeeCount)",
             "type": "column"
            }
           ],
           "function": "SUM",
           "type": "function"
          }
         ]
        }
       },
       "submitTime": 0,
       "subtype": "tableResultSubCmd.visualization",
       "tableResultIndex": 0,
       "useConsistentColors": false,
       "version": "CommandV1",
       "width": "1065",
       "workflows": [],
       "xColumns": null,
       "yColumns": null
      }
     },
     "output_type": "display_data"
    }
   ],
   "source": [
    "%sql                select sum(EmployeeCount), JobRole from emp_data\n",
    "                    where Attrition == \"Yes\"\n",
    "                    group by JobRole\n",
    "                    sort by sum(EmployeeCount) desc;"
   ]
  },
  {
   "cell_type": "markdown",
   "metadata": {
    "application/vnd.databricks.v1+cell": {
     "cellMetadata": {
      "byteLimit": 2048000,
      "rowLimit": 10000
     },
     "inputWidgets": {},
     "nuid": "dc185d21-1f3d-415a-b9c1-90406b6310d1",
     "showTitle": false,
     "title": ""
    }
   },
   "source": [
    "The insights we get from this data are - Most People leave the org.\n",
    "1. age group -> 25-30\n",
    "2. department -> Research & Development department\n",
    "3. EducationField -> \"Life Sciences\"\n",
    "4. Job Role -> \"Laboratory Technician\" and \"Sales Executive\"\n",
    "5. 72 people who leave the org. they are not satisfied by org. services"
   ]
  }
 ],
 "metadata": {
  "application/vnd.databricks.v1+notebook": {
   "dashboards": [],
   "language": "python",
   "notebookMetadata": {
    "mostRecentlyExecutedCommandWithImplicitDF": {
     "commandId": 3666455649697786,
     "dataframes": [
      "_sqldf"
     ]
    },
    "pythonIndentUnit": 4
   },
   "notebookName": "HR Employee Attrition Data Analysis",
   "widgets": {}
  }
 },
 "nbformat": 4,
 "nbformat_minor": 0
}
