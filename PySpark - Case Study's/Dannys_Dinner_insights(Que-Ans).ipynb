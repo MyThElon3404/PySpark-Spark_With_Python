{
 "cells": [
  {
   "cell_type": "markdown",
   "metadata": {
    "application/vnd.databricks.v1+cell": {
     "cellMetadata": {
      "byteLimit": 2048000,
      "rowLimit": 10000
     },
     "inputWidgets": {},
     "nuid": "e9b450c2-4a4d-47a1-b895-114adeb13bfc",
     "showTitle": false,
     "title": ""
    }
   },
   "source": [
    "# Problem Statement\n",
    "## -----------------------------------------------------------------------------------------------\n",
    "###                 Danny wants to use the data to answer a few simple questions about his customers, especially about their visiting patterns, how much money they’ve spent and also which menu items are their favourite. Having this deeper connection with his customers will help him deliver a better and more personalised experience for his loyal customers.\n",
    "\n",
    "###                 He plans on using these insights to help him decide whether he should expand the existing customer loyalty program - additionally he needs help to generate some basic datasets so his team can easily inspect the data without needing to use SQL."
   ]
  },
  {
   "cell_type": "code",
   "execution_count": 0,
   "metadata": {
    "application/vnd.databricks.v1+cell": {
     "cellMetadata": {
      "byteLimit": 2048000,
      "rowLimit": 10000
     },
     "inputWidgets": {},
     "nuid": "d0fd1ad1-098c-4572-aab0-3ab2e4fedb5d",
     "showTitle": false,
     "title": ""
    }
   },
   "outputs": [
    {
     "output_type": "stream",
     "name": "stdout",
     "output_type": "stream",
     "text": [
      "<pyspark.sql.session.SparkSession object at 0x7fe435ed54e0>\n"
     ]
    }
   ],
   "source": [
    "# creating a spark session to get started with our spark jobs\n",
    "\n",
    "import pyspark\n",
    "from pyspark.sql import SparkSession\n",
    "from pyspark.sql.functions import *\n",
    "from pyspark.sql.types import *\n",
    "\n",
    "dd_ss = SparkSession.builder.appName(\"Restaurant_Dannys_Dinner\").getOrCreate()\n",
    "print(dd_ss)"
   ]
  },
  {
   "cell_type": "code",
   "execution_count": 0,
   "metadata": {
    "application/vnd.databricks.v1+cell": {
     "cellMetadata": {
      "byteLimit": 2048000,
      "rowLimit": 10000
     },
     "inputWidgets": {},
     "nuid": "f6da4845-1dac-4cef-84c9-ca24f4db06e4",
     "showTitle": false,
     "title": ""
    }
   },
   "outputs": [
    {
     "output_type": "stream",
     "name": "stdout",
     "output_type": "stream",
     "text": [
      "+-----------+----------+----------+\n|customer_id|order_date|product_id|\n+-----------+----------+----------+\n|          A|2021-01-01|         1|\n|          A|2021-01-01|         2|\n|          A|2021-01-07|         2|\n|          A|2021-01-10|         3|\n|          A|2021-01-11|         3|\n|          A|2021-01-11|         3|\n|          B|2021-01-01|         2|\n|          B|2021-01-02|         2|\n|          B|2021-01-04|         1|\n|          B|2021-01-11|         1|\n+-----------+----------+----------+\nonly showing top 10 rows\n\nroot\n |-- customer_id: string (nullable = true)\n |-- order_date: date (nullable = true)\n |-- product_id: string (nullable = true)\n\n"
     ]
    }
   ],
   "source": [
    "# creating a sales dataframe and load data into it\n",
    "\n",
    "sales_col = StructType([\n",
    "    StructField(\"customer_id\", StringType(), True),\n",
    "    StructField(\"order_date\", DateType(), True),\n",
    "    StructField(\"product_id\", StringType(), True)\n",
    "])\n",
    "\n",
    "sales_df = dd_ss.read.format(\"csv\")\\\n",
    "    .option(\"inferschema\", True)\\\n",
    "    .schema(sales_col)\\\n",
    "    .load(\"/FileStore/tables/pyspark/Sales_danny_s_dinner.csv\")\n",
    "    \n",
    "sales_df.show(10)\n",
    "sales_df.printSchema()"
   ]
  },
  {
   "cell_type": "code",
   "execution_count": 0,
   "metadata": {
    "application/vnd.databricks.v1+cell": {
     "cellMetadata": {
      "byteLimit": 2048000,
      "rowLimit": 10000
     },
     "inputWidgets": {},
     "nuid": "b16b65ca-59ec-40a8-8c47-3c1a2bc2d04c",
     "showTitle": false,
     "title": ""
    }
   },
   "outputs": [
    {
     "output_type": "stream",
     "name": "stdout",
     "output_type": "stream",
     "text": [
      "+-----------+----------+----------+\n|customer_id|order_date|product_id|\n+-----------+----------+----------+\n|          A|2021-01-01|         1|\n|          A|2021-01-01|         2|\n|          A|2021-01-07|         2|\n|          A|2021-01-10|         3|\n|          A|2021-01-11|         3|\n|          A|2021-01-11|         3|\n|          B|2021-01-01|         2|\n|          B|2021-01-02|         2|\n|          B|2021-01-04|         1|\n|          B|2021-01-11|         1|\n+-----------+----------+----------+\nonly showing top 10 rows\n\nroot\n |-- customer_id: string (nullable = true)\n |-- order_date: date (nullable = true)\n |-- product_id: integer (nullable = true)\n\n"
     ]
    }
   ],
   "source": [
    "# you can see in our output we get product_id as String\n",
    "# so need to fix this\n",
    "sales_df = sales_df.withColumn(\"product_id\", col(\"product_id\").cast(IntegerType()))\n",
    "sales_df.show(10)\n",
    "sales_df.printSchema()"
   ]
  },
  {
   "cell_type": "code",
   "execution_count": 0,
   "metadata": {
    "application/vnd.databricks.v1+cell": {
     "cellMetadata": {
      "byteLimit": 2048000,
      "rowLimit": 10000
     },
     "inputWidgets": {},
     "nuid": "9c97c03a-7e66-4a81-9006-2058ca70ef4c",
     "showTitle": false,
     "title": ""
    }
   },
   "outputs": [
    {
     "output_type": "stream",
     "name": "stdout",
     "output_type": "stream",
     "text": [
      "+----------+------------+-----+\n|product_id|product_name|price|\n+----------+------------+-----+\n|         1|       sushi|   10|\n|         2|       curry|   15|\n|         3|       ramen|   12|\n+----------+------------+-----+\n\nroot\n |-- product_id: integer (nullable = true)\n |-- product_name: string (nullable = true)\n |-- price: integer (nullable = true)\n\n"
     ]
    }
   ],
   "source": [
    "# creating remaining dataframes and load data\n",
    "\n",
    "menu_col = StructType([\n",
    "    StructField(\"product_id\", IntegerType(), True),\n",
    "    StructField(\"product_name\", StringType(), True),\n",
    "    StructField(\"price\", StringType(), True)\n",
    "])\n",
    "\n",
    "menu_df = dd_ss.read.format(\"csv\")\\\n",
    "    .option(\"inferschema\", True)\\\n",
    "    .schema(menu_col)\\\n",
    "    .load(\"/FileStore/tables/pyspark/Menu_danny_s_dinner.csv\")\n",
    "\n",
    "menu_df = menu_df.withColumn(\"price\", col(\"price\").cast(IntegerType()))\n",
    "    \n",
    "menu_df.show()\n",
    "menu_df.printSchema()"
   ]
  },
  {
   "cell_type": "code",
   "execution_count": 0,
   "metadata": {
    "application/vnd.databricks.v1+cell": {
     "cellMetadata": {
      "byteLimit": 2048000,
      "rowLimit": 10000
     },
     "inputWidgets": {},
     "nuid": "cb912a60-66ac-45ec-9c0b-4fa4d7bf28b3",
     "showTitle": false,
     "title": ""
    }
   },
   "outputs": [
    {
     "output_type": "stream",
     "name": "stdout",
     "output_type": "stream",
     "text": [
      "+-----------+----------+\n|customer_id| join_date|\n+-----------+----------+\n|          A|2021-01-07|\n|          B|2021-01-09|\n+-----------+----------+\n\nroot\n |-- customer_id: string (nullable = true)\n |-- join_date: date (nullable = true)\n\n"
     ]
    }
   ],
   "source": [
    "member_col = StructType([\n",
    "    StructField(\"customer_id\", StringType(), True),\n",
    "    StructField(\"join_date\", DateType(), True),\n",
    "])\n",
    "\n",
    "member_df = dd_ss.read.format(\"csv\")\\\n",
    "    .option(\"inferschema\", True)\\\n",
    "    .schema(member_col)\\\n",
    "    .load(\"/FileStore/tables/pyspark/Member_danny_s_dinner.csv\")\n",
    "    \n",
    "member_df.show()\n",
    "member_df.printSchema()"
   ]
  },
  {
   "cell_type": "code",
   "execution_count": 0,
   "metadata": {
    "application/vnd.databricks.v1+cell": {
     "cellMetadata": {
      "byteLimit": 2048000,
      "rowLimit": 10000
     },
     "inputWidgets": {},
     "nuid": "defccf44-f505-4603-bde6-4b949c08ca5d",
     "showTitle": false,
     "title": ""
    }
   },
   "outputs": [],
   "source": [
    "sales_df.createOrReplaceTempView(\"sales_tb\")\n",
    "menu_df.createOrReplaceTempView(\"menu_tb\")\n",
    "member_df.createOrReplaceTempView(\"member_tb\")"
   ]
  },
  {
   "cell_type": "code",
   "execution_count": 0,
   "metadata": {
    "application/vnd.databricks.v1+cell": {
     "cellMetadata": {
      "byteLimit": 2048000,
      "rowLimit": 10000
     },
     "inputWidgets": {},
     "nuid": "f78383ff-9b78-4998-9ef4-c4703579054e",
     "showTitle": false,
     "title": ""
    }
   },
   "outputs": [
    {
     "output_type": "stream",
     "name": "stdout",
     "output_type": "stream",
     "text": [
      "+-----------+----------+----------+\n|customer_id|order_date|product_id|\n+-----------+----------+----------+\n|          A|2021-01-01|         1|\n|          A|2021-01-01|         2|\n+-----------+----------+----------+\nonly showing top 2 rows\n\n+----------+------------+-----+\n|product_id|product_name|price|\n+----------+------------+-----+\n|         1|       sushi|   10|\n|         2|       curry|   15|\n+----------+------------+-----+\nonly showing top 2 rows\n\n+-----------+----------+\n|customer_id| join_date|\n+-----------+----------+\n|          A|2021-01-07|\n|          B|2021-01-09|\n+-----------+----------+\n\n"
     ]
    }
   ],
   "source": [
    "dd_ss.sql(\"select * from sales_tb limit 10\").show(2)\n",
    "dd_ss.sql(\"select * from menu_tb\").show(2)\n",
    "dd_ss.sql(\"select * from member_tb\").show(2)"
   ]
  },
  {
   "cell_type": "markdown",
   "metadata": {
    "application/vnd.databricks.v1+cell": {
     "cellMetadata": {
      "byteLimit": 2048000,
      "rowLimit": 10000
     },
     "inputWidgets": {},
     "nuid": "98226978-5f31-4049-9ec6-51657f0277c3",
     "showTitle": false,
     "title": ""
    }
   },
   "source": [
    "#Questions"
   ]
  },
  {
   "cell_type": "markdown",
   "metadata": {
    "application/vnd.databricks.v1+cell": {
     "cellMetadata": {
      "byteLimit": 2048000,
      "rowLimit": 10000
     },
     "inputWidgets": {},
     "nuid": "897d399b-3662-4711-8823-eb72c6213fff",
     "showTitle": false,
     "title": ""
    }
   },
   "source": [
    "## 1. What is the total amount each customer spent at the restaurant?"
   ]
  },
  {
   "cell_type": "code",
   "execution_count": 0,
   "metadata": {
    "application/vnd.databricks.v1+cell": {
     "cellMetadata": {
      "byteLimit": 2048000,
      "rowLimit": 10000
     },
     "inputWidgets": {},
     "nuid": "2b1c1681-8ffa-4bc6-ad5d-57cb89ab0b83",
     "showTitle": false,
     "title": ""
    }
   },
   "outputs": [
    {
     "output_type": "stream",
     "name": "stdout",
     "output_type": "stream",
     "text": [
      "+-----------+------------+\n|customer_id|spend_amount|\n+-----------+------------+\n|          A|          76|\n|          B|          74|\n|          C|          36|\n+-----------+------------+\n\n"
     ]
    }
   ],
   "source": [
    "# using sum we get total amount and group by help get group of customer like A, B, C\n",
    "# we use join here because customer_id and price column belog from diff tables\n",
    "# so get them from respective tables and perform respective we use join like sum\n",
    "\n",
    "dd_ss.sql(\"\"\"\n",
    "                select s.customer_id, sum(m.price) as spend_amount from sales_tb s\n",
    "                join menu_tb m using (product_id)\n",
    "                group by s.customer_id\n",
    "                order by spend_amount desc;\n",
    "\"\"\").show()\n",
    "\n",
    "# get the answer/insight refer below table ----------------------------------------------"
   ]
  },
  {
   "cell_type": "markdown",
   "metadata": {
    "application/vnd.databricks.v1+cell": {
     "cellMetadata": {
      "byteLimit": 2048000,
      "rowLimit": 10000
     },
     "inputWidgets": {},
     "nuid": "ebf99a65-0ff3-48cd-830d-5eb2a3660ed7",
     "showTitle": false,
     "title": ""
    }
   },
   "source": [
    "## 2. How many days has each customer visited the restaurant?"
   ]
  },
  {
   "cell_type": "code",
   "execution_count": 0,
   "metadata": {
    "application/vnd.databricks.v1+cell": {
     "cellMetadata": {
      "byteLimit": 2048000,
      "rowLimit": 10000
     },
     "inputWidgets": {},
     "nuid": "0145c483-b580-4d6a-87f8-2501ca41af9d",
     "showTitle": false,
     "title": ""
    }
   },
   "outputs": [
    {
     "output_type": "stream",
     "name": "stdout",
     "output_type": "stream",
     "text": [
      "+-----------+-------------+\n|customer_id|visited_count|\n+-----------+-------------+\n|          B|            6|\n|          A|            4|\n|          C|            2|\n+-----------+-------------+\n\n"
     ]
    }
   ],
   "source": [
    "# using count we get total number of days customer visit to restaurant and distinct help us remove dublicate date or same day he visited again\n",
    "# using group by we get group of customer like A, B, C\n",
    "# using order by we sort our output [asc | desc]\n",
    "\n",
    "dd_ss.sql(\"\"\"\n",
    "                select customer_id, count(distinct order_date) as visited_count\n",
    "                from sales_tb\n",
    "                group by customer_id\n",
    "                order by visited_count desc;\n",
    "\"\"\").show()\n",
    "\n",
    "# get the answer/insight refer below table ----------------------------------------------"
   ]
  },
  {
   "cell_type": "markdown",
   "metadata": {
    "application/vnd.databricks.v1+cell": {
     "cellMetadata": {
      "byteLimit": 2048000,
      "rowLimit": 10000
     },
     "inputWidgets": {},
     "nuid": "94645aaf-8d80-4ef8-bc62-c46a8e72a4c7",
     "showTitle": false,
     "title": ""
    }
   },
   "source": [
    "## 3. What was the first item from the menu purchased by each customer?"
   ]
  },
  {
   "cell_type": "code",
   "execution_count": 0,
   "metadata": {
    "application/vnd.databricks.v1+cell": {
     "cellMetadata": {
      "byteLimit": 2048000,
      "rowLimit": 10000
     },
     "inputWidgets": {},
     "nuid": "e061678d-d430-41fc-9dd9-e6a0b571ae87",
     "showTitle": false,
     "title": ""
    }
   },
   "outputs": [
    {
     "output_type": "stream",
     "name": "stdout",
     "output_type": "stream",
     "text": [
      "+-----------+----------+------------+\n|customer_id|order_date|product_name|\n+-----------+----------+------------+\n|          A|2021-01-01|       sushi|\n|          A|2021-01-01|       curry|\n|          B|2021-01-01|       curry|\n|          C|2021-01-01|       ramen|\n+-----------+----------+------------+\n\n"
     ]
    }
   ],
   "source": [
    "# here we create a common table expression [ menu ]\n",
    "# using window function we create a dense_rank() column [ menu_rank ] that help as to sort data accordingly our requirement\n",
    "# In query, we simple use menu table and menu_rank to get answer of our question\n",
    "\n",
    "dd_ss.sql(\"\"\"\n",
    "                with menu as (\n",
    "                    select s.customer_id, s.order_date, m.product_name,\n",
    "                    dense_rank() over (partition by s.customer_id order by s.order_date) as menu_rank\n",
    "                    from sales_tb s join menu_tb m using (product_id)\n",
    "                ) \n",
    "                \n",
    "                select customer_id, order_date, product_name\n",
    "                from menu\n",
    "                where menu_rank = 1\n",
    "                group by customer_id, order_date, product_name;\n",
    "\"\"\").show()\n",
    "\n",
    "# get the answer/insight refer below table ----------------------------------------------"
   ]
  },
  {
   "cell_type": "markdown",
   "metadata": {
    "application/vnd.databricks.v1+cell": {
     "cellMetadata": {
      "byteLimit": 2048000,
      "rowLimit": 10000
     },
     "inputWidgets": {},
     "nuid": "762528e2-21c5-4d6d-9bb9-68b46182fb43",
     "showTitle": false,
     "title": ""
    }
   },
   "source": [
    "## 4. What is the most purchased item on the menu and how many times was it purchased by all customers?"
   ]
  },
  {
   "cell_type": "code",
   "execution_count": 0,
   "metadata": {
    "application/vnd.databricks.v1+cell": {
     "cellMetadata": {
      "byteLimit": 2048000,
      "rowLimit": 10000
     },
     "inputWidgets": {},
     "nuid": "922aed7a-20b6-40d0-8260-86dac54e4f59",
     "showTitle": false,
     "title": ""
    }
   },
   "outputs": [
    {
     "output_type": "stream",
     "name": "stdout",
     "output_type": "stream",
     "text": [
      "+------------+-------------------+\n|product_name|most_purchased_item|\n+------------+-------------------+\n|       ramen|                  8|\n+------------+-------------------+\n\n"
     ]
    }
   ],
   "source": [
    "# here we finding most purchased item using count\n",
    "# join help us to join to tables for requirement fullfillment\n",
    "# order by used to sort resultent\n",
    "# limit used to get how many rows you want take as output\n",
    "\n",
    "dd_ss.sql(\"\"\"\n",
    "                select m.product_name, count(s.product_id) as most_purchased_item\n",
    "                from sales_tb s join menu_tb m using (product_id)\n",
    "                group by m.product_id, m.product_name\n",
    "                order by most_purchased_item desc\n",
    "                limit 1;\n",
    "\"\"\").show()\n",
    "\n",
    "# get the answer/insight refer below table ----------------------------------------------"
   ]
  },
  {
   "cell_type": "markdown",
   "metadata": {
    "application/vnd.databricks.v1+cell": {
     "cellMetadata": {
      "byteLimit": 2048000,
      "rowLimit": 10000
     },
     "inputWidgets": {},
     "nuid": "295a7888-51aa-4d6e-8fc3-ec375d51a076",
     "showTitle": false,
     "title": ""
    }
   },
   "source": [
    "## 5. Which item was the most popular for each customer?"
   ]
  },
  {
   "cell_type": "code",
   "execution_count": 0,
   "metadata": {
    "application/vnd.databricks.v1+cell": {
     "cellMetadata": {
      "byteLimit": 2048000,
      "rowLimit": 10000
     },
     "inputWidgets": {},
     "nuid": "7016eb2a-32ff-4bda-bd37-c4ad23de3e28",
     "showTitle": false,
     "title": ""
    }
   },
   "outputs": [
    {
     "output_type": "stream",
     "name": "stdout",
     "output_type": "stream",
     "text": [
      "+-----------+------------+-----------+\n|customer_id|product_name|order_count|\n+-----------+------------+-----------+\n|          B|       sushi|          2|\n|          B|       ramen|          2|\n|          B|       curry|          2|\n|          A|       ramen|          3|\n|          C|       ramen|          3|\n+-----------+------------+-----------+\n\n"
     ]
    }
   ],
   "source": [
    "dd_ss.sql(\"\"\"\n",
    "                with most_popular as (\n",
    "                    select s.customer_id, m.product_name, count(s.product_id) as order_count,\n",
    "                    dense_rank() over (partition by s.customer_id order by count(s.customer_id) desc) as popular_rank\n",
    "                    from menu_tb m join sales_tb s using (product_id)\n",
    "                    group by s.customer_id, m.product_name\n",
    "                )\n",
    "                \n",
    "                select customer_id, product_name, order_count\n",
    "                from most_popular\n",
    "                where popular_rank = 1\n",
    "                order by order_count;\n",
    "\"\"\").show()\n",
    "\n",
    "# Another method - \n",
    "# Below ------------------------------------------------------------------------------------------------\n",
    "# %sql\n",
    "# SELECT * FROM(\n",
    "# SELECT \n",
    "# customer_id\n",
    "# , product_name\n",
    "# , COUNT(m.product_name) as popular_count\n",
    "# , DENSE_RANK() OVER(PARTITION BY s.customer_id ORDER BY COUNT(s.customer_id) DESC) AS rank\n",
    "# FROM menu_tb m\n",
    "# JOIN sales_tb s on s.product_id = m.product_id\n",
    "# group by customer_id, product_name)t\n",
    "# WHERE t.rank = 1"
   ]
  },
  {
   "cell_type": "markdown",
   "metadata": {
    "application/vnd.databricks.v1+cell": {
     "cellMetadata": {
      "byteLimit": 2048000,
      "rowLimit": 10000
     },
     "inputWidgets": {},
     "nuid": "1ca0ed7b-b9cb-4ccf-aa36-f10cd9d5303a",
     "showTitle": false,
     "title": ""
    }
   },
   "source": [
    "## 6. Which item was purchased first by the customer after they became a member?"
   ]
  },
  {
   "cell_type": "code",
   "execution_count": 0,
   "metadata": {
    "application/vnd.databricks.v1+cell": {
     "cellMetadata": {
      "byteLimit": 2048000,
      "rowLimit": 10000
     },
     "inputWidgets": {},
     "nuid": "cb738854-aa75-48db-91ba-41ca08ed9b4a",
     "showTitle": false,
     "title": ""
    }
   },
   "outputs": [
    {
     "output_type": "stream",
     "name": "stdout",
     "output_type": "stream",
     "text": [
      "+-----------+------------+----------+\n|customer_id|product_name| join_date|\n+-----------+------------+----------+\n|          A|       curry|2021-01-07|\n|          B|       sushi|2021-01-09|\n+-----------+------------+----------+\n\n"
     ]
    }
   ],
   "source": [
    "dd_ss.sql(\"\"\"\n",
    "                with become_member as (\n",
    "                    select s.customer_id, m.product_name, s.order_date, mm.join_date,\n",
    "                        dense_rank() over (partition by s.customer_id order by s.order_date) as order_rank\n",
    "                    from sales_tb s join menu_tb m using (product_id)\n",
    "                    join member_tb mm using (customer_id)\n",
    "                    where s.order_date >= mm.join_date\n",
    "                )\n",
    "\n",
    "                select customer_id, product_name, join_date\n",
    "                from become_member\n",
    "                where order_rank = 1\n",
    "                order by customer_id;\n",
    "                \n",
    "\"\"\").show()"
   ]
  },
  {
   "cell_type": "markdown",
   "metadata": {
    "application/vnd.databricks.v1+cell": {
     "cellMetadata": {
      "byteLimit": 2048000,
      "rowLimit": 10000
     },
     "inputWidgets": {},
     "nuid": "75451112-060a-4db2-9452-dbd22032f742",
     "showTitle": false,
     "title": ""
    }
   },
   "source": [
    "## 7. Which item was purchased just before the customer became a member?"
   ]
  },
  {
   "cell_type": "code",
   "execution_count": 0,
   "metadata": {
    "application/vnd.databricks.v1+cell": {
     "cellMetadata": {
      "byteLimit": 2048000,
      "rowLimit": 10000
     },
     "inputWidgets": {},
     "nuid": "5f2fef6c-8b6b-46a9-9b7c-bc337d287b30",
     "showTitle": false,
     "title": ""
    }
   },
   "outputs": [
    {
     "output_type": "stream",
     "name": "stdout",
     "output_type": "stream",
     "text": [
      "+-----------+------------+----------+\n|customer_id|product_name| join_date|\n+-----------+------------+----------+\n|          A|       sushi|2021-01-07|\n|          A|       curry|2021-01-07|\n|          B|       sushi|2021-01-09|\n+-----------+------------+----------+\n\n"
     ]
    }
   ],
   "source": [
    "dd_ss.sql(\"\"\"\n",
    "                with become_member as (\n",
    "                    select s.customer_id, m.product_name, s.order_date, mm.join_date,\n",
    "                        dense_rank() over (partition by s.customer_id order by s.order_date desc) as order_rank\n",
    "                    from sales_tb s join menu_tb m using (product_id)\n",
    "                    join member_tb mm using (customer_id)\n",
    "                    where s.order_date < mm.join_date\n",
    "                )\n",
    "\n",
    "                select customer_id, product_name, join_date\n",
    "                from become_member\n",
    "                where order_rank = 1\n",
    "                order by customer_id;\n",
    "                \n",
    "\"\"\").show()"
   ]
  },
  {
   "cell_type": "markdown",
   "metadata": {
    "application/vnd.databricks.v1+cell": {
     "cellMetadata": {
      "byteLimit": 2048000,
      "rowLimit": 10000
     },
     "inputWidgets": {},
     "nuid": "a3e8db44-57b3-4398-b7d2-988e161d1acf",
     "showTitle": false,
     "title": ""
    }
   },
   "source": [
    "## 8. What is the total items and amount spent for each member before they became a member?"
   ]
  },
  {
   "cell_type": "code",
   "execution_count": 0,
   "metadata": {
    "application/vnd.databricks.v1+cell": {
     "cellMetadata": {
      "byteLimit": 2048000,
      "rowLimit": 10000
     },
     "inputWidgets": {},
     "nuid": "ef39b5d4-3340-4113-9349-0cc4e14f4865",
     "showTitle": false,
     "title": ""
    }
   },
   "outputs": [
    {
     "output_type": "stream",
     "name": "stdout",
     "output_type": "stream",
     "text": [
      "+-----------+----------+-----------+\n|customer_id|total_item|total_spent|\n+-----------+----------+-----------+\n|          B|         2|         40|\n|          A|         2|         25|\n+-----------+----------+-----------+\n\n"
     ]
    }
   ],
   "source": [
    "dd_ss.sql(\"\"\"\n",
    "                select s.customer_id, count(distinct s.product_id) as total_item,\n",
    "                    sum(m.price) as total_spent\n",
    "                from sales_tb s join menu_tb m using (product_id)\n",
    "                    join member_tb mm using (customer_id)\n",
    "                where s.order_date < mm.join_date\n",
    "                group by s.customer_id\n",
    "                order by total_spent desc;\n",
    "\"\"\").show()"
   ]
  },
  {
   "cell_type": "markdown",
   "metadata": {
    "application/vnd.databricks.v1+cell": {
     "cellMetadata": {
      "byteLimit": 2048000,
      "rowLimit": 10000
     },
     "inputWidgets": {},
     "nuid": "e1ac2825-d0e9-466b-b9dc-f37e038b712e",
     "showTitle": false,
     "title": ""
    }
   },
   "source": [
    "## 9. If each $1 spent equates to 10 points and sushi has a 2x points multiplier - how many points would each customer have?"
   ]
  },
  {
   "cell_type": "code",
   "execution_count": 0,
   "metadata": {
    "application/vnd.databricks.v1+cell": {
     "cellMetadata": {
      "byteLimit": 2048000,
      "rowLimit": 10000
     },
     "inputWidgets": {},
     "nuid": "8668bf54-4e6a-4b44-91c2-682dc1f1ef4d",
     "showTitle": false,
     "title": ""
    }
   },
   "outputs": [
    {
     "output_type": "stream",
     "name": "stdout",
     "output_type": "stream",
     "text": [
      "+-----------+------------+\n|customer_id|total_points|\n+-----------+------------+\n|          A|         760|\n|          B|         740|\n|          C|         360|\n+-----------+------------+\n\n"
     ]
    }
   ],
   "source": [
    "dd_ss.sql(\"\"\"\n",
    "                    with reward_point as (\n",
    "                        select *,\n",
    "                            case when product_name = 'sushi' then price * 20\n",
    "                            else price * 10 end as points\n",
    "                        from menu_tb\n",
    "                    )\n",
    "\n",
    "                    select s.customer_id, sum(rp.points) as total_points\n",
    "                    from sales_tb s join reward_point rp using (product_id)\n",
    "                    group by s.customer_id\n",
    "                    order by total_points desc;\n",
    "\"\"\").show()"
   ]
  },
  {
   "cell_type": "markdown",
   "metadata": {
    "application/vnd.databricks.v1+cell": {
     "cellMetadata": {
      "byteLimit": 2048000,
      "rowLimit": 10000
     },
     "inputWidgets": {},
     "nuid": "c1be107a-5447-4df3-a42d-6252b5831782",
     "showTitle": false,
     "title": ""
    }
   },
   "source": [
    "## 10. After become a member customer get 2x points ont only on sushi but on all the products"
   ]
  },
  {
   "cell_type": "code",
   "execution_count": 0,
   "metadata": {
    "application/vnd.databricks.v1+cell": {
     "cellMetadata": {
      "byteLimit": 2048000,
      "rowLimit": 10000
     },
     "inputWidgets": {},
     "nuid": "16ecb517-81b4-43a9-b743-9a1cc01d3ad7",
     "showTitle": false,
     "title": ""
    }
   },
   "outputs": [
    {
     "output_type": "stream",
     "name": "stdout",
     "output_type": "stream",
     "text": [
      "+-----------+-----------+\n|customer_id|total_spent|\n+-----------+-----------+\n|          A|       1270|\n|          B|       1080|\n+-----------+-----------+\n\n"
     ]
    }
   ],
   "source": [
    "dd_ss.sql(\"\"\"\n",
    "                    select s.customer_id, sum(\n",
    "                        case when m.product_name='sushi' then 20*m.price\n",
    "                            when s.order_date >= mm.join_date then 20*m.price\n",
    "                        else 10*m.price end) as total_spent\n",
    "                    from sales_tb s join menu_tb m using (product_id)\n",
    "                        join member_tb mm using (customer_id)\n",
    "                    group by s.customer_id\n",
    "                    order by total_spent desc;\n",
    "\"\"\").show()"
   ]
  },
  {
   "cell_type": "markdown",
   "metadata": {
    "application/vnd.databricks.v1+cell": {
     "cellMetadata": {},
     "inputWidgets": {},
     "nuid": "cc7b1726-cc78-418e-8f9e-e8b049258123",
     "showTitle": false,
     "title": ""
    }
   },
   "source": [
    "# Tricky Questions\n",
    "## Join all the things (create one table with: customer_id, order_date, product_name, price, member (Y/N))"
   ]
  },
  {
   "cell_type": "code",
   "execution_count": 0,
   "metadata": {
    "application/vnd.databricks.v1+cell": {
     "cellMetadata": {
      "byteLimit": 2048000,
      "rowLimit": 10000
     },
     "inputWidgets": {},
     "nuid": "73d93bd5-f69f-4873-84cb-5b2869199d96",
     "showTitle": false,
     "title": ""
    }
   },
   "outputs": [
    {
     "output_type": "stream",
     "name": "stdout",
     "output_type": "stream",
     "text": [
      "+-----------+----------+------------+-----+---------+\n|customer_id|order_date|product_name|price|is_member|\n+-----------+----------+------------+-----+---------+\n|          A|2021-01-01|       sushi|   10|       No|\n|          A|2021-01-01|       curry|   15|       No|\n|          A|2021-01-07|       curry|   15|      Yes|\n|          A|2021-01-10|       ramen|   12|      Yes|\n|          A|2021-01-11|       ramen|   12|      Yes|\n|          A|2021-01-11|       ramen|   12|      Yes|\n|          B|2021-01-01|       curry|   15|       No|\n|          B|2021-01-02|       curry|   15|       No|\n|          B|2021-01-04|       sushi|   10|       No|\n|          B|2021-01-11|       sushi|   10|      Yes|\n|          B|2021-01-16|       ramen|   12|      Yes|\n|          B|2021-02-01|       ramen|   12|      Yes|\n+-----------+----------+------------+-----+---------+\n\n"
     ]
    }
   ],
   "source": [
    "dd_ss.sql(\"\"\"\n",
    "                SELECT s.customer_id, s.order_date, m.product_name, m.price,\n",
    "                    CASE WHEN s.order_date < m2.join_date THEN 'No'\n",
    "                        WHEN s.order_date >= m2.join_date THEN 'Yes'\n",
    "                        ELSE 'No' END AS is_member\n",
    "                FROM sales_tb s JOIN menu_tb m USING (product_id)\n",
    "                    JOIN member_tb m2 USING (customer_id)\n",
    "                ORDER BY s.customer_id;\n",
    "\"\"\").show()"
   ]
  },
  {
   "cell_type": "markdown",
   "metadata": {
    "application/vnd.databricks.v1+cell": {
     "cellMetadata": {},
     "inputWidgets": {},
     "nuid": "9c0747a3-504a-4c64-b6be-0f9cb7152db4",
     "showTitle": false,
     "title": ""
    }
   },
   "source": [
    "## Rank all the things (create one table with: customer_id, order_date, product_name, price, member (Y/N), ranking(null/123))"
   ]
  },
  {
   "cell_type": "code",
   "execution_count": 0,
   "metadata": {
    "application/vnd.databricks.v1+cell": {
     "cellMetadata": {
      "byteLimit": 2048000,
      "rowLimit": 10000
     },
     "inputWidgets": {},
     "nuid": "ee267eca-8f8a-4c1a-a690-f9e37c53b91b",
     "showTitle": false,
     "title": ""
    }
   },
   "outputs": [
    {
     "output_type": "stream",
     "name": "stdout",
     "output_type": "stream",
     "text": [
      "+-----------+----------+------------+-----+---------+-------+\n|customer_id|order_date|product_name|price|is_member|ranking|\n+-----------+----------+------------+-----+---------+-------+\n|          A|2021-01-01|       sushi|   10|       No|   null|\n|          A|2021-01-01|       curry|   15|       No|   null|\n|          A|2021-01-07|       curry|   15|      Yes|      1|\n|          A|2021-01-10|       ramen|   12|      Yes|      2|\n|          A|2021-01-11|       ramen|   12|      Yes|      3|\n|          A|2021-01-11|       ramen|   12|      Yes|      3|\n|          B|2021-01-01|       curry|   15|       No|   null|\n|          B|2021-01-02|       curry|   15|       No|   null|\n|          B|2021-01-04|       sushi|   10|       No|   null|\n|          B|2021-01-11|       sushi|   10|      Yes|      1|\n|          B|2021-01-16|       ramen|   12|      Yes|      2|\n|          B|2021-02-01|       ramen|   12|      Yes|      3|\n+-----------+----------+------------+-----+---------+-------+\n\n"
     ]
    }
   ],
   "source": [
    "dd_ss.sql(\"\"\"\n",
    "                with joined_all_tables as (\n",
    "                    SELECT s.customer_id, s.order_date, m.product_name, m.price,\n",
    "                    CASE WHEN s.order_date < m2.join_date THEN 'No'\n",
    "                        WHEN s.order_date >= m2.join_date THEN 'Yes'\n",
    "                        ELSE 'No' END AS is_member\n",
    "                FROM sales_tb s JOIN menu_tb m USING (product_id)\n",
    "                    JOIN member_tb m2 USING (customer_id)\n",
    "                )\n",
    "                select *,\n",
    "                    case when is_member = 'No' then 'null'\n",
    "                        else rank() over (partition by customer_id, is_member order by order_date) end as ranking\n",
    "                from joined_all_tables;\n",
    "\"\"\").show()"
   ]
  },
  {
   "cell_type": "code",
   "execution_count": 0,
   "metadata": {
    "application/vnd.databricks.v1+cell": {
     "cellMetadata": {},
     "inputWidgets": {},
     "nuid": "974f22a1-c541-4be1-b291-fa5e63590e86",
     "showTitle": false,
     "title": ""
    }
   },
   "outputs": [],
   "source": []
  }
 ],
 "metadata": {
  "application/vnd.databricks.v1+notebook": {
   "dashboards": [],
   "language": "python",
   "notebookMetadata": {
    "mostRecentlyExecutedCommandWithImplicitDF": {
     "commandId": 4044719880038612,
     "dataframes": [
      "_sqldf"
     ]
    },
    "pythonIndentUnit": 4
   },
   "notebookName": "Restaurant_Dannys_Dinner",
   "widgets": {}
  }
 },
 "nbformat": 4,
 "nbformat_minor": 0
}
