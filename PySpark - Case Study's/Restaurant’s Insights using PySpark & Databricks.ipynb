{
 "cells": [
  {
   "cell_type": "markdown",
   "metadata": {
    "application/vnd.databricks.v1+cell": {
     "cellMetadata": {
      "byteLimit": 2048000,
      "rowLimit": 10000
     },
     "inputWidgets": {},
     "nuid": "694bc6e8-8131-4d66-a8f6-b9bf5de9bf83",
     "showTitle": false,
     "title": ""
    }
   },
   "source": [
    "### Overview of Business ->\n",
    "#### ^ There is a small restaurant that sells some fantastic Indian food items. They need our assistance to help the restaurant stay afloat. The restaurant has captured some data from its few months of operation but has yet to learn how to use its data to help them run the business.\n",
    "#### ^ Now we want to use the data to answer a few questions about his customers, especially their visiting patterns, the money they’ve spent, and which menu items are the customer’s favorite."
   ]
  },
  {
   "cell_type": "markdown",
   "metadata": {
    "application/vnd.databricks.v1+cell": {
     "cellMetadata": {
      "byteLimit": 2048000,
      "rowLimit": 10000
     },
     "inputWidgets": {},
     "nuid": "146c6740-d13b-422a-8fe0-cb6f576ac81e",
     "showTitle": false,
     "title": ""
    }
   },
   "source": [
    "### DataFrame Creation | PySpark, and Databricks\n",
    "#### The restaurant has sales data which contains customers’ information. We have menu data with food items-related information and members data with subscriptions related information if any customer has purchased it."
   ]
  },
  {
   "cell_type": "code",
   "execution_count": 0,
   "metadata": {
    "application/vnd.databricks.v1+cell": {
     "cellMetadata": {
      "byteLimit": 2048000,
      "rowLimit": 10000
     },
     "inputWidgets": {},
     "nuid": "6686da75-064b-4724-a642-62cf5d18152b",
     "showTitle": false,
     "title": ""
    }
   },
   "outputs": [
    {
     "output_type": "execute_result",
     "data": {
      "text/html": [
       "\n",
       "            <div>\n",
       "                <p><b>SparkSession - hive</b></p>\n",
       "                \n",
       "        <div>\n",
       "            <p><b>SparkContext</b></p>\n",
       "\n",
       "            <p><a href=\"/?o=1055290162342735#setting/sparkui/1214-051057-nhs9gm2u/driver-2284541912985099386\">Spark UI</a></p>\n",
       "\n",
       "            <dl>\n",
       "              <dt>Version</dt>\n",
       "                <dd><code>v3.5.0</code></dd>\n",
       "              <dt>Master</dt>\n",
       "                <dd><code>local[8]</code></dd>\n",
       "              <dt>AppName</dt>\n",
       "                <dd><code>Databricks Shell</code></dd>\n",
       "            </dl>\n",
       "        </div>\n",
       "        \n",
       "            </div>\n",
       "        "
      ],
      "text/plain": [
       "<pyspark.sql.session.SparkSession at 0x7f1746cdbf70>"
      ]
     },
     "execution_count": 34,
     "metadata": {},
     "output_type": "execute_result"
    }
   ],
   "source": [
    "# we are using databricks inbuild spark session i.e. spark\n",
    "spark"
   ]
  },
  {
   "cell_type": "code",
   "execution_count": 0,
   "metadata": {
    "application/vnd.databricks.v1+cell": {
     "cellMetadata": {
      "byteLimit": 2048000,
      "rowLimit": 10000
     },
     "inputWidgets": {},
     "nuid": "1ad46e79-6998-4830-88df-69a16abdae09",
     "showTitle": false,
     "title": ""
    }
   },
   "outputs": [
    {
     "output_type": "display_data",
     "data": {
      "text/html": [
       "<style scoped>\n",
       "  .table-result-container {\n",
       "    max-height: 300px;\n",
       "    overflow: auto;\n",
       "  }\n",
       "  table, th, td {\n",
       "    border: 1px solid black;\n",
       "    border-collapse: collapse;\n",
       "  }\n",
       "  th, td {\n",
       "    padding: 5px;\n",
       "  }\n",
       "  th {\n",
       "    text-align: left;\n",
       "  }\n",
       "</style><div class='table-result-container'><table class='table-result'><thead style='background-color: white'><tr><th>cust_id</th><th>order_date</th><th>prod_id</th></tr></thead><tbody><tr><td>A</td><td>2021-01-01</td><td>1</td></tr><tr><td>A</td><td>2021-01-01</td><td>2</td></tr><tr><td>A</td><td>2021-01-07</td><td>2</td></tr><tr><td>A</td><td>2021-01-10</td><td>3</td></tr><tr><td>A</td><td>2021-01-11</td><td>3</td></tr><tr><td>A</td><td>2021-01-11</td><td>3</td></tr><tr><td>B</td><td>2021-01-01</td><td>2</td></tr><tr><td>B</td><td>2021-01-02</td><td>2</td></tr><tr><td>B</td><td>2021-01-04</td><td>1</td></tr><tr><td>B</td><td>2021-01-11</td><td>1</td></tr><tr><td>B</td><td>2021-01-16</td><td>3</td></tr><tr><td>B</td><td>2021-02-01</td><td>3</td></tr><tr><td>C</td><td>2021-01-01</td><td>3</td></tr><tr><td>C</td><td>2021-01-01</td><td>1</td></tr><tr><td>C</td><td>2021-01-07</td><td>3</td></tr></tbody></table></div>"
      ]
     },
     "metadata": {
      "application/vnd.databricks.v1+output": {
       "addedWidgets": {},
       "aggData": [],
       "aggError": "",
       "aggOverflow": false,
       "aggSchema": [],
       "aggSeriesLimitReached": false,
       "aggType": "",
       "arguments": {},
       "columnCustomDisplayInfos": {},
       "data": [
        [
         "A",
         "2021-01-01",
         "1"
        ],
        [
         "A",
         "2021-01-01",
         "2"
        ],
        [
         "A",
         "2021-01-07",
         "2"
        ],
        [
         "A",
         "2021-01-10",
         "3"
        ],
        [
         "A",
         "2021-01-11",
         "3"
        ],
        [
         "A",
         "2021-01-11",
         "3"
        ],
        [
         "B",
         "2021-01-01",
         "2"
        ],
        [
         "B",
         "2021-01-02",
         "2"
        ],
        [
         "B",
         "2021-01-04",
         "1"
        ],
        [
         "B",
         "2021-01-11",
         "1"
        ],
        [
         "B",
         "2021-01-16",
         "3"
        ],
        [
         "B",
         "2021-02-01",
         "3"
        ],
        [
         "C",
         "2021-01-01",
         "3"
        ],
        [
         "C",
         "2021-01-01",
         "1"
        ],
        [
         "C",
         "2021-01-07",
         "3"
        ]
       ],
       "datasetInfos": [],
       "dbfsResultPath": null,
       "isJsonSchema": true,
       "metadata": {},
       "overflow": false,
       "plotOptions": {
        "customPlotOptions": {},
        "displayType": "table",
        "pivotAggregation": null,
        "pivotColumns": null,
        "xColumns": null,
        "yColumns": null
       },
       "removedWidgets": [],
       "schema": [
        {
         "metadata": "{}",
         "name": "cust_id",
         "type": "\"string\""
        },
        {
         "metadata": "{}",
         "name": "order_date",
         "type": "\"string\""
        },
        {
         "metadata": "{}",
         "name": "prod_id",
         "type": "\"string\""
        }
       ],
       "type": "table"
      }
     },
     "output_type": "display_data"
    }
   ],
   "source": [
    "# we are creating a dataframe for sales data\n",
    "sales_data = ([\n",
    "    ('A', '2021-01-01', '1'), ('A', '2021-01-01', '2'), ('A', '2021-01-07', '2'),\n",
    "    ('A', '2021-01-10', '3'), ('A', '2021-01-11', '3'), ('A', '2021-01-11', '3'),\n",
    "    ('B', '2021-01-01', '2'), ('B', '2021-01-02', '2'), ('B', '2021-01-04', '1'),\n",
    "    ('B', '2021-01-11', '1'), ('B', '2021-01-16', '3'), ('B', '2021-02-01', '3'),\n",
    "    ('C', '2021-01-01', '3'), ('C', '2021-01-01', '1'), ('C', '2021-01-07', '3')\n",
    "])\n",
    "sales_cols = [\"cust_id\", \"order_date\", \"prod_id\"]\n",
    "sales_df = spark.createDataFrame(data=sales_data, schema=sales_cols)\n",
    "sales_df.display()"
   ]
  },
  {
   "cell_type": "code",
   "execution_count": 0,
   "metadata": {
    "application/vnd.databricks.v1+cell": {
     "cellMetadata": {
      "byteLimit": 2048000,
      "rowLimit": 10000
     },
     "inputWidgets": {},
     "nuid": "152e9f59-f635-40a2-880a-05b19d79e056",
     "showTitle": false,
     "title": ""
    }
   },
   "outputs": [
    {
     "output_type": "display_data",
     "data": {
      "text/html": [
       "<style scoped>\n",
       "  .table-result-container {\n",
       "    max-height: 300px;\n",
       "    overflow: auto;\n",
       "  }\n",
       "  table, th, td {\n",
       "    border: 1px solid black;\n",
       "    border-collapse: collapse;\n",
       "  }\n",
       "  th, td {\n",
       "    padding: 5px;\n",
       "  }\n",
       "  th {\n",
       "    text-align: left;\n",
       "  }\n",
       "</style><div class='table-result-container'><table class='table-result'><thead style='background-color: white'><tr><th>prod_id</th><th>prod_name</th><th>price</th></tr></thead><tbody><tr><td>1</td><td>palak_paneer</td><td>100</td></tr><tr><td>2</td><td>chicken_tikka</td><td>150</td></tr><tr><td>3</td><td>jeera_rice</td><td>120</td></tr><tr><td>4</td><td>kheer</td><td>110</td></tr><tr><td>5</td><td>vada_pav</td><td>80</td></tr><tr><td>6</td><td>paneer_tikka</td><td>180</td></tr></tbody></table></div>"
      ]
     },
     "metadata": {
      "application/vnd.databricks.v1+output": {
       "addedWidgets": {},
       "aggData": [],
       "aggError": "",
       "aggOverflow": false,
       "aggSchema": [],
       "aggSeriesLimitReached": false,
       "aggType": "",
       "arguments": {},
       "columnCustomDisplayInfos": {},
       "data": [
        [
         "1",
         "palak_paneer",
         100
        ],
        [
         "2",
         "chicken_tikka",
         150
        ],
        [
         "3",
         "jeera_rice",
         120
        ],
        [
         "4",
         "kheer",
         110
        ],
        [
         "5",
         "vada_pav",
         80
        ],
        [
         "6",
         "paneer_tikka",
         180
        ]
       ],
       "datasetInfos": [],
       "dbfsResultPath": null,
       "isJsonSchema": true,
       "metadata": {},
       "overflow": false,
       "plotOptions": {
        "customPlotOptions": {},
        "displayType": "table",
        "pivotAggregation": null,
        "pivotColumns": null,
        "xColumns": null,
        "yColumns": null
       },
       "removedWidgets": [],
       "schema": [
        {
         "metadata": "{}",
         "name": "prod_id",
         "type": "\"string\""
        },
        {
         "metadata": "{}",
         "name": "prod_name",
         "type": "\"string\""
        },
        {
         "metadata": "{}",
         "name": "price",
         "type": "\"long\""
        }
       ],
       "type": "table"
      }
     },
     "output_type": "display_data"
    }
   ],
   "source": [
    "# Now we are creating dataframe for menu data\n",
    "menu_data = ([\n",
    "    ('1', 'palak_paneer', 100), ('2', 'chicken_tikka', 150), ('3', 'jeera_rice', 120),\n",
    "    ('4', 'kheer', 110), ('5', 'vada_pav', 80), ('6', 'paneer_tikka', 180)\n",
    "])\n",
    "menu_cols = [\"prod_id\", \"prod_name\", \"price\"]\n",
    "menu_df = spark.createDataFrame(data=menu_data, schema=menu_cols)\n",
    "menu_df.display()"
   ]
  },
  {
   "cell_type": "code",
   "execution_count": 0,
   "metadata": {
    "application/vnd.databricks.v1+cell": {
     "cellMetadata": {
      "byteLimit": 2048000,
      "rowLimit": 10000
     },
     "inputWidgets": {},
     "nuid": "aa2b6eb9-7234-4724-83ce-7d602dc0b9e1",
     "showTitle": false,
     "title": ""
    }
   },
   "outputs": [
    {
     "output_type": "display_data",
     "data": {
      "text/html": [
       "<style scoped>\n",
       "  .table-result-container {\n",
       "    max-height: 300px;\n",
       "    overflow: auto;\n",
       "  }\n",
       "  table, th, td {\n",
       "    border: 1px solid black;\n",
       "    border-collapse: collapse;\n",
       "  }\n",
       "  th, td {\n",
       "    padding: 5px;\n",
       "  }\n",
       "  th {\n",
       "    text-align: left;\n",
       "  }\n",
       "</style><div class='table-result-container'><table class='table-result'><thead style='background-color: white'><tr><th>cust_id</th><th>join_date</th></tr></thead><tbody><tr><td>A</td><td>2021-01-07</td></tr><tr><td>B</td><td>2021-01-09</td></tr></tbody></table></div>"
      ]
     },
     "metadata": {
      "application/vnd.databricks.v1+output": {
       "addedWidgets": {},
       "aggData": [],
       "aggError": "",
       "aggOverflow": false,
       "aggSchema": [],
       "aggSeriesLimitReached": false,
       "aggType": "",
       "arguments": {},
       "columnCustomDisplayInfos": {},
       "data": [
        [
         "A",
         "2021-01-07"
        ],
        [
         "B",
         "2021-01-09"
        ]
       ],
       "datasetInfos": [],
       "dbfsResultPath": null,
       "isJsonSchema": true,
       "metadata": {},
       "overflow": false,
       "plotOptions": {
        "customPlotOptions": {},
        "displayType": "table",
        "pivotAggregation": null,
        "pivotColumns": null,
        "xColumns": null,
        "yColumns": null
       },
       "removedWidgets": [],
       "schema": [
        {
         "metadata": "{}",
         "name": "cust_id",
         "type": "\"string\""
        },
        {
         "metadata": "{}",
         "name": "join_date",
         "type": "\"string\""
        }
       ],
       "type": "table"
      }
     },
     "output_type": "display_data"
    }
   ],
   "source": [
    "# Now we are creating dataframe for member data\n",
    "mem_data = ([\n",
    "    ('A', '2021-01-07'), ('B', '2021-01-09')\n",
    "])\n",
    "mem_cols = [\"cust_id\", \"join_date\"]\n",
    "mem_df = spark.createDataFrame(data=mem_data, schema=mem_cols)\n",
    "mem_df.display()"
   ]
  },
  {
   "cell_type": "code",
   "execution_count": 0,
   "metadata": {
    "application/vnd.databricks.v1+cell": {
     "cellMetadata": {
      "byteLimit": 2048000,
      "rowLimit": 10000
     },
     "inputWidgets": {},
     "nuid": "fbe6705e-7c6b-467e-9513-550903781f4a",
     "showTitle": false,
     "title": ""
    }
   },
   "outputs": [
    {
     "output_type": "display_data",
     "data": {
      "text/html": [
       "<style scoped>\n",
       "  .table-result-container {\n",
       "    max-height: 300px;\n",
       "    overflow: auto;\n",
       "  }\n",
       "  table, th, td {\n",
       "    border: 1px solid black;\n",
       "    border-collapse: collapse;\n",
       "  }\n",
       "  th, td {\n",
       "    padding: 5px;\n",
       "  }\n",
       "  th {\n",
       "    text-align: left;\n",
       "  }\n",
       "</style><div class='table-result-container'><table class='table-result'><thead style='background-color: white'><tr><th>cust_id</th><th>order_date</th><th>prod_id</th></tr></thead><tbody><tr><td>A</td><td>2021-01-01</td><td>1</td></tr><tr><td>A</td><td>2021-01-01</td><td>2</td></tr><tr><td>A</td><td>2021-01-07</td><td>2</td></tr><tr><td>A</td><td>2021-01-10</td><td>3</td></tr><tr><td>A</td><td>2021-01-11</td><td>3</td></tr></tbody></table></div>"
      ]
     },
     "metadata": {
      "application/vnd.databricks.v1+output": {
       "addedWidgets": {},
       "aggData": [],
       "aggError": "",
       "aggOverflow": false,
       "aggSchema": [],
       "aggSeriesLimitReached": false,
       "aggType": "",
       "arguments": {},
       "columnCustomDisplayInfos": {},
       "data": [
        [
         "A",
         "2021-01-01",
         "1"
        ],
        [
         "A",
         "2021-01-01",
         "2"
        ],
        [
         "A",
         "2021-01-07",
         "2"
        ],
        [
         "A",
         "2021-01-10",
         "3"
        ],
        [
         "A",
         "2021-01-11",
         "3"
        ]
       ],
       "datasetInfos": [],
       "dbfsResultPath": null,
       "isJsonSchema": true,
       "metadata": {},
       "overflow": false,
       "plotOptions": {
        "customPlotOptions": {},
        "displayType": "table",
        "pivotAggregation": null,
        "pivotColumns": null,
        "xColumns": null,
        "yColumns": null
       },
       "removedWidgets": [],
       "schema": [
        {
         "metadata": "{}",
         "name": "cust_id",
         "type": "\"string\""
        },
        {
         "metadata": "{}",
         "name": "order_date",
         "type": "\"string\""
        },
        {
         "metadata": "{}",
         "name": "prod_id",
         "type": "\"string\""
        }
       ],
       "type": "table"
      }
     },
     "output_type": "display_data"
    },
    {
     "output_type": "display_data",
     "data": {
      "text/html": [
       "<style scoped>\n",
       "  .table-result-container {\n",
       "    max-height: 300px;\n",
       "    overflow: auto;\n",
       "  }\n",
       "  table, th, td {\n",
       "    border: 1px solid black;\n",
       "    border-collapse: collapse;\n",
       "  }\n",
       "  th, td {\n",
       "    padding: 5px;\n",
       "  }\n",
       "  th {\n",
       "    text-align: left;\n",
       "  }\n",
       "</style><div class='table-result-container'><table class='table-result'><thead style='background-color: white'><tr><th>prod_id</th><th>prod_name</th><th>price</th></tr></thead><tbody><tr><td>1</td><td>palak_paneer</td><td>100</td></tr><tr><td>2</td><td>chicken_tikka</td><td>150</td></tr><tr><td>3</td><td>jeera_rice</td><td>120</td></tr><tr><td>4</td><td>kheer</td><td>110</td></tr><tr><td>5</td><td>vada_pav</td><td>80</td></tr><tr><td>6</td><td>paneer_tikka</td><td>180</td></tr></tbody></table></div>"
      ]
     },
     "metadata": {
      "application/vnd.databricks.v1+output": {
       "addedWidgets": {},
       "aggData": [],
       "aggError": "",
       "aggOverflow": false,
       "aggSchema": [],
       "aggSeriesLimitReached": false,
       "aggType": "",
       "arguments": {},
       "columnCustomDisplayInfos": {},
       "data": [
        [
         "1",
         "palak_paneer",
         100
        ],
        [
         "2",
         "chicken_tikka",
         150
        ],
        [
         "3",
         "jeera_rice",
         120
        ],
        [
         "4",
         "kheer",
         110
        ],
        [
         "5",
         "vada_pav",
         80
        ],
        [
         "6",
         "paneer_tikka",
         180
        ]
       ],
       "datasetInfos": [],
       "dbfsResultPath": null,
       "isJsonSchema": true,
       "metadata": {},
       "overflow": false,
       "plotOptions": {
        "customPlotOptions": {},
        "displayType": "table",
        "pivotAggregation": null,
        "pivotColumns": null,
        "xColumns": null,
        "yColumns": null
       },
       "removedWidgets": [],
       "schema": [
        {
         "metadata": "{}",
         "name": "prod_id",
         "type": "\"string\""
        },
        {
         "metadata": "{}",
         "name": "prod_name",
         "type": "\"string\""
        },
        {
         "metadata": "{}",
         "name": "price",
         "type": "\"long\""
        }
       ],
       "type": "table"
      }
     },
     "output_type": "display_data"
    },
    {
     "output_type": "display_data",
     "data": {
      "text/html": [
       "<style scoped>\n",
       "  .table-result-container {\n",
       "    max-height: 300px;\n",
       "    overflow: auto;\n",
       "  }\n",
       "  table, th, td {\n",
       "    border: 1px solid black;\n",
       "    border-collapse: collapse;\n",
       "  }\n",
       "  th, td {\n",
       "    padding: 5px;\n",
       "  }\n",
       "  th {\n",
       "    text-align: left;\n",
       "  }\n",
       "</style><div class='table-result-container'><table class='table-result'><thead style='background-color: white'><tr><th>cust_id</th><th>join_date</th></tr></thead><tbody><tr><td>A</td><td>2021-01-07</td></tr><tr><td>B</td><td>2021-01-09</td></tr></tbody></table></div>"
      ]
     },
     "metadata": {
      "application/vnd.databricks.v1+output": {
       "addedWidgets": {},
       "aggData": [],
       "aggError": "",
       "aggOverflow": false,
       "aggSchema": [],
       "aggSeriesLimitReached": false,
       "aggType": "",
       "arguments": {},
       "columnCustomDisplayInfos": {},
       "data": [
        [
         "A",
         "2021-01-07"
        ],
        [
         "B",
         "2021-01-09"
        ]
       ],
       "datasetInfos": [],
       "dbfsResultPath": null,
       "isJsonSchema": true,
       "metadata": {},
       "overflow": false,
       "plotOptions": {
        "customPlotOptions": {},
        "displayType": "table",
        "pivotAggregation": null,
        "pivotColumns": null,
        "xColumns": null,
        "yColumns": null
       },
       "removedWidgets": [],
       "schema": [
        {
         "metadata": "{}",
         "name": "cust_id",
         "type": "\"string\""
        },
        {
         "metadata": "{}",
         "name": "join_date",
         "type": "\"string\""
        }
       ],
       "type": "table"
      }
     },
     "output_type": "display_data"
    }
   ],
   "source": [
    "# As we know to perform sql operation on dataframe we need to create a temp view\n",
    "sales_df.createOrReplaceTempView(\"sales_tb\")\n",
    "spark.sql(\"select * from sales_tb\").limit(5).display()\n",
    "menu_df.createOrReplaceTempView(\"menu_tb\")\n",
    "spark.sql(\"select * from menu_tb\").display()\n",
    "mem_df.createOrReplaceTempView(\"mem_tb\")\n",
    "spark.sql(\"select * from mem_tb\").display()"
   ]
  },
  {
   "cell_type": "markdown",
   "metadata": {
    "application/vnd.databricks.v1+cell": {
     "cellMetadata": {
      "byteLimit": 2048000,
      "rowLimit": 10000
     },
     "inputWidgets": {},
     "nuid": "21870935-a810-46a0-8184-e6eb88c44681",
     "showTitle": false,
     "title": ""
    }
   },
   "source": [
    "## Solving Problem Statements of Restaurants using PySpark\n",
    "### now we have 3 dataframes sales_df, menu_df and mem_df \n",
    "### and 3 temp views sales_tb, menu_tb, mem_tb"
   ]
  },
  {
   "cell_type": "markdown",
   "metadata": {
    "application/vnd.databricks.v1+cell": {
     "cellMetadata": {
      "byteLimit": 2048000,
      "rowLimit": 10000
     },
     "inputWidgets": {},
     "nuid": "a5f913ff-d29a-4929-8582-f23726f3022b",
     "showTitle": false,
     "title": ""
    }
   },
   "source": [
    "### Question 01:- What is the total amount each customer spent at the restaurant?"
   ]
  },
  {
   "cell_type": "code",
   "execution_count": 0,
   "metadata": {
    "application/vnd.databricks.v1+cell": {
     "cellMetadata": {
      "byteLimit": 2048000,
      "rowLimit": 10000
     },
     "inputWidgets": {},
     "nuid": "5d46674c-ab0d-4bea-8da9-725868733fc2",
     "showTitle": false,
     "title": ""
    }
   },
   "outputs": [
    {
     "output_type": "display_data",
     "data": {
      "text/html": [
       "<style scoped>\n",
       "  .table-result-container {\n",
       "    max-height: 300px;\n",
       "    overflow: auto;\n",
       "  }\n",
       "  table, th, td {\n",
       "    border: 1px solid black;\n",
       "    border-collapse: collapse;\n",
       "  }\n",
       "  th, td {\n",
       "    padding: 5px;\n",
       "  }\n",
       "  th {\n",
       "    text-align: left;\n",
       "  }\n",
       "</style><div class='table-result-container'><table class='table-result'><thead style='background-color: white'><tr><th>cust_id</th><th>amount_spent</th></tr></thead><tbody><tr><td>A</td><td>760</td></tr><tr><td>B</td><td>740</td></tr><tr><td>C</td><td>340</td></tr></tbody></table></div>"
      ]
     },
     "metadata": {
      "application/vnd.databricks.v1+output": {
       "addedWidgets": {},
       "aggData": [],
       "aggError": "",
       "aggOverflow": false,
       "aggSchema": [],
       "aggSeriesLimitReached": false,
       "aggType": "",
       "arguments": {},
       "columnCustomDisplayInfos": {},
       "data": [
        [
         "A",
         760
        ],
        [
         "B",
         740
        ],
        [
         "C",
         340
        ]
       ],
       "datasetInfos": [],
       "dbfsResultPath": null,
       "isJsonSchema": true,
       "metadata": {},
       "overflow": false,
       "plotOptions": {
        "customPlotOptions": {},
        "displayType": "table",
        "pivotAggregation": null,
        "pivotColumns": null,
        "xColumns": null,
        "yColumns": null
       },
       "removedWidgets": [],
       "schema": [
        {
         "metadata": "{}",
         "name": "cust_id",
         "type": "\"string\""
        },
        {
         "metadata": "{}",
         "name": "amount_spent",
         "type": "\"long\""
        }
       ],
       "type": "table"
      }
     },
     "output_type": "display_data"
    }
   ],
   "source": [
    "# so we have 3 customers A, B, C \n",
    "# and havw to total amount spend by each customer\n",
    "result = spark.sql(\"\"\"\n",
    "                        select cust_id, sum(price) As amount_spent \n",
    "                        from sales_tb join menu_tb\n",
    "                        where sales_tb.prod_id == menu_tb.prod_id\n",
    "                        group by cust_id\n",
    "                        order by sum(price) desc;\n",
    "                \"\"\")\n",
    "\n",
    "result.display()"
   ]
  },
  {
   "cell_type": "code",
   "execution_count": 0,
   "metadata": {
    "application/vnd.databricks.v1+cell": {
     "cellMetadata": {
      "byteLimit": 2048000,
      "rowLimit": 10000
     },
     "inputWidgets": {},
     "nuid": "cd7ccb97-adcb-44d2-8c0f-04d3fd1cd72e",
     "showTitle": true,
     "title": " Using DataFrame API"
    }
   },
   "outputs": [
    {
     "output_type": "display_data",
     "data": {
      "text/html": [
       "<style scoped>\n",
       "  .table-result-container {\n",
       "    max-height: 300px;\n",
       "    overflow: auto;\n",
       "  }\n",
       "  table, th, td {\n",
       "    border: 1px solid black;\n",
       "    border-collapse: collapse;\n",
       "  }\n",
       "  th, td {\n",
       "    padding: 5px;\n",
       "  }\n",
       "  th {\n",
       "    text-align: left;\n",
       "  }\n",
       "</style><div class='table-result-container'><table class='table-result'><thead style='background-color: white'><tr><th>cust_id</th><th>total_spent_amounts</th></tr></thead><tbody><tr><td>A</td><td>760</td></tr><tr><td>B</td><td>740</td></tr><tr><td>C</td><td>340</td></tr></tbody></table></div>"
      ]
     },
     "metadata": {
      "application/vnd.databricks.v1+output": {
       "addedWidgets": {},
       "aggData": [],
       "aggError": "",
       "aggOverflow": false,
       "aggSchema": [],
       "aggSeriesLimitReached": false,
       "aggType": "",
       "arguments": {},
       "columnCustomDisplayInfos": {},
       "data": [
        [
         "A",
         760
        ],
        [
         "B",
         740
        ],
        [
         "C",
         340
        ]
       ],
       "datasetInfos": [],
       "dbfsResultPath": null,
       "isJsonSchema": true,
       "metadata": {},
       "overflow": false,
       "plotOptions": {
        "customPlotOptions": {},
        "displayType": "table",
        "pivotAggregation": null,
        "pivotColumns": null,
        "xColumns": null,
        "yColumns": null
       },
       "removedWidgets": [],
       "schema": [
        {
         "metadata": "{}",
         "name": "cust_id",
         "type": "\"string\""
        },
        {
         "metadata": "{}",
         "name": "total_spent_amounts",
         "type": "\"long\""
        }
       ],
       "type": "table"
      }
     },
     "output_type": "display_data"
    }
   ],
   "source": [
    "from pyspark.sql.functions import col\n",
    "total_spent_df = sales_df.join(menu_df, \"prod_id\").groupBy(\"cust_id\").agg({\"price\":\"sum\"})\\\n",
    "                    .withColumnRenamed('sum(price)', 'total_spent_amounts').orderBy('cust_id')\n",
    "\n",
    "total_spent_df.display()"
   ]
  },
  {
   "cell_type": "markdown",
   "metadata": {
    "application/vnd.databricks.v1+cell": {
     "cellMetadata": {
      "byteLimit": 2048000,
      "rowLimit": 10000
     },
     "inputWidgets": {},
     "nuid": "366e851b-c73f-40b8-a3b1-9d80feb204d2",
     "showTitle": false,
     "title": ""
    }
   },
   "source": [
    "### Question 02:- How many days has each customer visited the restaurant?"
   ]
  },
  {
   "cell_type": "code",
   "execution_count": 0,
   "metadata": {
    "application/vnd.databricks.v1+cell": {
     "cellMetadata": {
      "byteLimit": 2048000,
      "rowLimit": 10000
     },
     "inputWidgets": {},
     "nuid": "a4a432b7-df8b-4556-a88f-99d1f60316c8",
     "showTitle": false,
     "title": ""
    }
   },
   "outputs": [
    {
     "output_type": "display_data",
     "data": {
      "text/html": [
       "<style scoped>\n",
       "  .table-result-container {\n",
       "    max-height: 300px;\n",
       "    overflow: auto;\n",
       "  }\n",
       "  table, th, td {\n",
       "    border: 1px solid black;\n",
       "    border-collapse: collapse;\n",
       "  }\n",
       "  th, td {\n",
       "    padding: 5px;\n",
       "  }\n",
       "  th {\n",
       "    text-align: left;\n",
       "  }\n",
       "</style><div class='table-result-container'><table class='table-result'><thead style='background-color: white'><tr><th>cust_id</th><th>visited_days</th></tr></thead><tbody><tr><td>C</td><td>2</td></tr><tr><td>A</td><td>4</td></tr><tr><td>B</td><td>6</td></tr></tbody></table></div>"
      ]
     },
     "metadata": {
      "application/vnd.databricks.v1+output": {
       "addedWidgets": {},
       "aggData": [],
       "aggError": "",
       "aggOverflow": false,
       "aggSchema": [],
       "aggSeriesLimitReached": false,
       "aggType": "",
       "arguments": {},
       "columnCustomDisplayInfos": {},
       "data": [
        [
         "C",
         2
        ],
        [
         "A",
         4
        ],
        [
         "B",
         6
        ]
       ],
       "datasetInfos": [],
       "dbfsResultPath": null,
       "isJsonSchema": true,
       "metadata": {},
       "overflow": false,
       "plotOptions": {
        "customPlotOptions": {},
        "displayType": "table",
        "pivotAggregation": null,
        "pivotColumns": null,
        "xColumns": null,
        "yColumns": null
       },
       "removedWidgets": [],
       "schema": [
        {
         "metadata": "{}",
         "name": "cust_id",
         "type": "\"string\""
        },
        {
         "metadata": "{}",
         "name": "visited_days",
         "type": "\"long\""
        }
       ],
       "type": "table"
      }
     },
     "output_type": "display_data"
    }
   ],
   "source": [
    "result = spark.sql(\"\"\"\n",
    "                        select cust_id, count(distinct order_date) as visited_days from sales_tb\n",
    "                        group by cust_id\n",
    "                        order by visited_days;\n",
    "                \"\"\")\n",
    "result.display()"
   ]
  },
  {
   "cell_type": "code",
   "execution_count": 0,
   "metadata": {
    "application/vnd.databricks.v1+cell": {
     "cellMetadata": {
      "byteLimit": 2048000,
      "rowLimit": 10000
     },
     "inputWidgets": {},
     "nuid": "db7d90bd-684c-4c7a-a973-b1755ec73015",
     "showTitle": true,
     "title": " Using DataFrame API"
    }
   },
   "outputs": [
    {
     "output_type": "display_data",
     "data": {
      "text/html": [
       "<style scoped>\n",
       "  .table-result-container {\n",
       "    max-height: 300px;\n",
       "    overflow: auto;\n",
       "  }\n",
       "  table, th, td {\n",
       "    border: 1px solid black;\n",
       "    border-collapse: collapse;\n",
       "  }\n",
       "  th, td {\n",
       "    padding: 5px;\n",
       "  }\n",
       "  th {\n",
       "    text-align: left;\n",
       "  }\n",
       "</style><div class='table-result-container'><table class='table-result'><thead style='background-color: white'><tr><th>cust_id</th><th>count(DISTINCT order_date)</th></tr></thead><tbody><tr><td>A</td><td>4</td></tr><tr><td>B</td><td>6</td></tr><tr><td>C</td><td>2</td></tr></tbody></table></div>"
      ]
     },
     "metadata": {
      "application/vnd.databricks.v1+output": {
       "addedWidgets": {},
       "aggData": [],
       "aggError": "",
       "aggOverflow": false,
       "aggSchema": [],
       "aggSeriesLimitReached": false,
       "aggType": "",
       "arguments": {},
       "columnCustomDisplayInfos": {},
       "data": [
        [
         "A",
         4
        ],
        [
         "B",
         6
        ],
        [
         "C",
         2
        ]
       ],
       "datasetInfos": [],
       "dbfsResultPath": null,
       "isJsonSchema": true,
       "metadata": {},
       "overflow": false,
       "plotOptions": {
        "customPlotOptions": {},
        "displayType": "table",
        "pivotAggregation": null,
        "pivotColumns": null,
        "xColumns": null,
        "yColumns": null
       },
       "removedWidgets": [],
       "schema": [
        {
         "metadata": "{}",
         "name": "cust_id",
         "type": "\"string\""
        },
        {
         "metadata": "{\"__autoGeneratedAlias\":\"true\"}",
         "name": "count(DISTINCT order_date)",
         "type": "\"long\""
        }
       ],
       "type": "table"
      }
     },
     "output_type": "display_data"
    }
   ],
   "source": [
    "from pyspark.sql.functions import countDistinct\n",
    "visit_df = sales_df.groupBy(\"cust_id\").agg(countDistinct(\"order_date\"))\\\n",
    "    .withColumnRenamed(\"count(order_date)\", \"visit_days\").orderBy(\"cust_id\")\n",
    "visit_df.display()"
   ]
  },
  {
   "cell_type": "markdown",
   "metadata": {
    "application/vnd.databricks.v1+cell": {
     "cellMetadata": {
      "byteLimit": 2048000,
      "rowLimit": 10000
     },
     "inputWidgets": {},
     "nuid": "f4756cc7-83a9-4288-a092-1b28f6e5e13b",
     "showTitle": false,
     "title": ""
    }
   },
   "source": [
    "## Question 03:- What was each customer’s first item from the menu?"
   ]
  },
  {
   "cell_type": "code",
   "execution_count": 0,
   "metadata": {
    "application/vnd.databricks.v1+cell": {
     "cellMetadata": {
      "byteLimit": 2048000,
      "rowLimit": 10000
     },
     "inputWidgets": {},
     "nuid": "33660649-63cc-4af7-b267-3a953a76e5f7",
     "showTitle": false,
     "title": ""
    }
   },
   "outputs": [
    {
     "output_type": "display_data",
     "data": {
      "text/html": [
       "<style scoped>\n",
       "  .table-result-container {\n",
       "    max-height: 300px;\n",
       "    overflow: auto;\n",
       "  }\n",
       "  table, th, td {\n",
       "    border: 1px solid black;\n",
       "    border-collapse: collapse;\n",
       "  }\n",
       "  th, td {\n",
       "    padding: 5px;\n",
       "  }\n",
       "  th {\n",
       "    text-align: left;\n",
       "  }\n",
       "</style><div class='table-result-container'><table class='table-result'><thead style='background-color: white'><tr><th>cust_id</th><th>prod_name</th></tr></thead><tbody><tr><td>A</td><td>palak_paneer</td></tr><tr><td>A</td><td>chicken_tikka</td></tr><tr><td>B</td><td>chicken_tikka</td></tr><tr><td>C</td><td>palak_paneer</td></tr><tr><td>C</td><td>jeera_rice</td></tr></tbody></table></div>"
      ]
     },
     "metadata": {
      "application/vnd.databricks.v1+output": {
       "addedWidgets": {},
       "aggData": [],
       "aggError": "",
       "aggOverflow": false,
       "aggSchema": [],
       "aggSeriesLimitReached": false,
       "aggType": "",
       "arguments": {},
       "columnCustomDisplayInfos": {},
       "data": [
        [
         "A",
         "palak_paneer"
        ],
        [
         "A",
         "chicken_tikka"
        ],
        [
         "B",
         "chicken_tikka"
        ],
        [
         "C",
         "palak_paneer"
        ],
        [
         "C",
         "jeera_rice"
        ]
       ],
       "datasetInfos": [],
       "dbfsResultPath": null,
       "isJsonSchema": true,
       "metadata": {},
       "overflow": false,
       "plotOptions": {
        "customPlotOptions": {},
        "displayType": "table",
        "pivotAggregation": null,
        "pivotColumns": null,
        "xColumns": null,
        "yColumns": null
       },
       "removedWidgets": [],
       "schema": [
        {
         "metadata": "{}",
         "name": "cust_id",
         "type": "\"string\""
        },
        {
         "metadata": "{}",
         "name": "prod_name",
         "type": "\"string\""
        }
       ],
       "type": "table"
      }
     },
     "output_type": "display_data"
    }
   ],
   "source": [
    "\n",
    "result = spark.sql(\"\"\"\n",
    "                        WITH first_item AS (\n",
    "                                select s.cust_id, s.order_date, m.prod_name,\n",
    "                                        dense_rank() OVER (PARTITION BY s.cust_id order by s.order_date) as order_rank\n",
    "                                from sales_tb s\n",
    "                                join menu_tb m\n",
    "                                on s.prod_id = m.prod_id\n",
    "                        )\n",
    "                        select cust_id, prod_name\n",
    "                        from first_item\n",
    "                        where order_rank = 1;\n",
    "                \"\"\")\n",
    "result.display()"
   ]
  },
  {
   "cell_type": "code",
   "execution_count": 0,
   "metadata": {
    "application/vnd.databricks.v1+cell": {
     "cellMetadata": {
      "byteLimit": 2048000,
      "rowLimit": 10000
     },
     "inputWidgets": {},
     "nuid": "c6418e39-8062-48f0-8d9f-2e89ad08c7cc",
     "showTitle": true,
     "title": " Using DataFrame API"
    }
   },
   "outputs": [
    {
     "output_type": "display_data",
     "data": {
      "text/html": [
       "<style scoped>\n",
       "  .table-result-container {\n",
       "    max-height: 300px;\n",
       "    overflow: auto;\n",
       "  }\n",
       "  table, th, td {\n",
       "    border: 1px solid black;\n",
       "    border-collapse: collapse;\n",
       "  }\n",
       "  th, td {\n",
       "    padding: 5px;\n",
       "  }\n",
       "  th {\n",
       "    text-align: left;\n",
       "  }\n",
       "</style><div class='table-result-container'><table class='table-result'><thead style='background-color: white'><tr><th>cust_id</th><th>prod_name</th></tr></thead><tbody><tr><td>A</td><td>palak_paneer</td></tr><tr><td>A</td><td>chicken_tikka</td></tr><tr><td>B</td><td>chicken_tikka</td></tr><tr><td>C</td><td>palak_paneer</td></tr><tr><td>C</td><td>jeera_rice</td></tr></tbody></table></div>"
      ]
     },
     "metadata": {
      "application/vnd.databricks.v1+output": {
       "addedWidgets": {},
       "aggData": [],
       "aggError": "",
       "aggOverflow": false,
       "aggSchema": [],
       "aggSeriesLimitReached": false,
       "aggType": "",
       "arguments": {},
       "columnCustomDisplayInfos": {},
       "data": [
        [
         "A",
         "palak_paneer"
        ],
        [
         "A",
         "chicken_tikka"
        ],
        [
         "B",
         "chicken_tikka"
        ],
        [
         "C",
         "palak_paneer"
        ],
        [
         "C",
         "jeera_rice"
        ]
       ],
       "datasetInfos": [],
       "dbfsResultPath": null,
       "isJsonSchema": true,
       "metadata": {},
       "overflow": false,
       "plotOptions": {
        "customPlotOptions": {},
        "displayType": "table",
        "pivotAggregation": null,
        "pivotColumns": null,
        "xColumns": null,
        "yColumns": null
       },
       "removedWidgets": [],
       "schema": [
        {
         "metadata": "{}",
         "name": "cust_id",
         "type": "\"string\""
        },
        {
         "metadata": "{}",
         "name": "prod_name",
         "type": "\"string\""
        }
       ],
       "type": "table"
      }
     },
     "output_type": "display_data"
    }
   ],
   "source": [
    "from pyspark.sql.window import Window\n",
    "from pyspark.sql.functions import dense_rank\n",
    "window_spec = Window.partitionBy(\"cust_id\").orderBy(\"order_date\")\n",
    "items_purchased_df = sales_df.join(menu_df, \"prod_id\")\\\n",
    "        .withColumn(\"dence_rank\", dense_rank().over(window_spec))\\\n",
    "        .select(\"cust_id\", \"prod_name\")\\\n",
    "        .filter(\"dence_rank == 1\")\\\n",
    "        .orderBy(\"cust_id\")\n",
    "    \n",
    "items_purchased_df.display()"
   ]
  },
  {
   "cell_type": "markdown",
   "metadata": {
    "application/vnd.databricks.v1+cell": {
     "cellMetadata": {
      "byteLimit": 2048000,
      "rowLimit": 10000
     },
     "inputWidgets": {},
     "nuid": "f49bf258-86c5-4d44-baf8-efaae9aca389",
     "showTitle": false,
     "title": ""
    }
   },
   "source": [
    "## Question 04:- Find out the most purchased item from the menu and how many times the customers purchased it."
   ]
  },
  {
   "cell_type": "code",
   "execution_count": 0,
   "metadata": {
    "application/vnd.databricks.v1+cell": {
     "cellMetadata": {
      "byteLimit": 2048000,
      "rowLimit": 10000
     },
     "inputWidgets": {},
     "nuid": "e7a34501-832d-44ab-9be4-b7ed6f62e7a0",
     "showTitle": false,
     "title": ""
    }
   },
   "outputs": [
    {
     "output_type": "display_data",
     "data": {
      "text/html": [
       "<style scoped>\n",
       "  .table-result-container {\n",
       "    max-height: 300px;\n",
       "    overflow: auto;\n",
       "  }\n",
       "  table, th, td {\n",
       "    border: 1px solid black;\n",
       "    border-collapse: collapse;\n",
       "  }\n",
       "  th, td {\n",
       "    padding: 5px;\n",
       "  }\n",
       "  th {\n",
       "    text-align: left;\n",
       "  }\n",
       "</style><div class='table-result-container'><table class='table-result'><thead style='background-color: white'><tr><th>prod_name</th><th>product_purchase</th></tr></thead><tbody><tr><td>jeera_rice</td><td>7</td></tr></tbody></table></div>"
      ]
     },
     "metadata": {
      "application/vnd.databricks.v1+output": {
       "addedWidgets": {},
       "aggData": [],
       "aggError": "",
       "aggOverflow": false,
       "aggSchema": [],
       "aggSeriesLimitReached": false,
       "aggType": "",
       "arguments": {},
       "columnCustomDisplayInfos": {},
       "data": [
        [
         "jeera_rice",
         7
        ]
       ],
       "datasetInfos": [],
       "dbfsResultPath": null,
       "isJsonSchema": true,
       "metadata": {},
       "overflow": false,
       "plotOptions": {
        "customPlotOptions": {},
        "displayType": "table",
        "pivotAggregation": null,
        "pivotColumns": null,
        "xColumns": null,
        "yColumns": null
       },
       "removedWidgets": [],
       "schema": [
        {
         "metadata": "{}",
         "name": "prod_name",
         "type": "\"string\""
        },
        {
         "metadata": "{}",
         "name": "product_purchase",
         "type": "\"long\""
        }
       ],
       "type": "table"
      }
     },
     "output_type": "display_data"
    }
   ],
   "source": [
    "result = spark.sql(\"\"\"\n",
    "                        select prod_name, count(s.prod_id) as product_purchase \n",
    "                        from menu_tb m join sales_tb s on m.prod_id = s.prod_id\n",
    "                        group by prod_name, s.prod_id\n",
    "                        order by count(s.prod_id) desc\n",
    "                        limit 1\n",
    "                \"\"\")\n",
    "result.display()"
   ]
  },
  {
   "cell_type": "code",
   "execution_count": 0,
   "metadata": {
    "application/vnd.databricks.v1+cell": {
     "cellMetadata": {
      "byteLimit": 2048000,
      "rowLimit": 10000
     },
     "inputWidgets": {},
     "nuid": "082bdfbf-aa16-4067-933b-ab90f6a29e32",
     "showTitle": true,
     "title": " Using DataFrame API"
    }
   },
   "outputs": [
    {
     "output_type": "display_data",
     "data": {
      "text/html": [
       "<style scoped>\n",
       "  .table-result-container {\n",
       "    max-height: 300px;\n",
       "    overflow: auto;\n",
       "  }\n",
       "  table, th, td {\n",
       "    border: 1px solid black;\n",
       "    border-collapse: collapse;\n",
       "  }\n",
       "  th, td {\n",
       "    padding: 5px;\n",
       "  }\n",
       "  th {\n",
       "    text-align: left;\n",
       "  }\n",
       "</style><div class='table-result-container'><table class='table-result'><thead style='background-color: white'><tr><th>prod_name</th><th>product_count</th></tr></thead><tbody><tr><td>jeera_rice</td><td>7</td></tr></tbody></table></div>"
      ]
     },
     "metadata": {
      "application/vnd.databricks.v1+output": {
       "addedWidgets": {},
       "aggData": [],
       "aggError": "",
       "aggOverflow": false,
       "aggSchema": [],
       "aggSeriesLimitReached": false,
       "aggType": "",
       "arguments": {},
       "columnCustomDisplayInfos": {},
       "data": [
        [
         "jeera_rice",
         7
        ]
       ],
       "datasetInfos": [],
       "dbfsResultPath": null,
       "isJsonSchema": true,
       "metadata": {},
       "overflow": false,
       "plotOptions": {
        "customPlotOptions": {},
        "displayType": "table",
        "pivotAggregation": null,
        "pivotColumns": null,
        "xColumns": null,
        "yColumns": null
       },
       "removedWidgets": [],
       "schema": [
        {
         "metadata": "{}",
         "name": "prod_name",
         "type": "\"string\""
        },
        {
         "metadata": "{}",
         "name": "product_count",
         "type": "\"long\""
        }
       ],
       "type": "table"
      }
     },
     "output_type": "display_data"
    }
   ],
   "source": [
    "from pyspark.sql.functions import count\n",
    "most_purchased_df = menu_df.join(sales_df, \"prod_id\")\\\n",
    "        .groupBy(\"prod_id\", \"prod_name\")\\\n",
    "        .agg(count(\"prod_id\").alias(\"product_count\"))\\\n",
    "        .orderBy(\"product_count\", ascending=0)\\\n",
    "        .drop(\"prod_id\")\\\n",
    "        .limit(1)\n",
    "most_purchased_df.display()"
   ]
  },
  {
   "cell_type": "markdown",
   "metadata": {
    "application/vnd.databricks.v1+cell": {
     "cellMetadata": {
      "byteLimit": 2048000,
      "rowLimit": 10000
     },
     "inputWidgets": {},
     "nuid": "b3e048ef-136a-4679-9688-448c9e0f1c2c",
     "showTitle": false,
     "title": ""
    }
   },
   "source": [
    "## Question 05:- Which item was the most popular for each customer?"
   ]
  },
  {
   "cell_type": "code",
   "execution_count": 0,
   "metadata": {
    "application/vnd.databricks.v1+cell": {
     "cellMetadata": {
      "byteLimit": 2048000,
      "rowLimit": 10000
     },
     "inputWidgets": {},
     "nuid": "13989a1a-68b3-40ae-ba43-9210cb3f75e1",
     "showTitle": false,
     "title": ""
    }
   },
   "outputs": [
    {
     "output_type": "display_data",
     "data": {
      "text/html": [
       "<style scoped>\n",
       "  .table-result-container {\n",
       "    max-height: 300px;\n",
       "    overflow: auto;\n",
       "  }\n",
       "  table, th, td {\n",
       "    border: 1px solid black;\n",
       "    border-collapse: collapse;\n",
       "  }\n",
       "  th, td {\n",
       "    padding: 5px;\n",
       "  }\n",
       "  th {\n",
       "    text-align: left;\n",
       "  }\n",
       "</style><div class='table-result-container'><table class='table-result'><thead style='background-color: white'><tr><th>cust_id</th><th>prod_name</th><th>prod_count</th></tr></thead><tbody><tr><td>A</td><td>jeera_rice</td><td>3</td></tr><tr><td>B</td><td>chicken_tikka</td><td>2</td></tr><tr><td>B</td><td>palak_paneer</td><td>2</td></tr><tr><td>B</td><td>jeera_rice</td><td>2</td></tr><tr><td>C</td><td>jeera_rice</td><td>2</td></tr></tbody></table></div>"
      ]
     },
     "metadata": {
      "application/vnd.databricks.v1+output": {
       "addedWidgets": {},
       "aggData": [],
       "aggError": "",
       "aggOverflow": false,
       "aggSchema": [],
       "aggSeriesLimitReached": false,
       "aggType": "",
       "arguments": {},
       "columnCustomDisplayInfos": {},
       "data": [
        [
         "A",
         "jeera_rice",
         3
        ],
        [
         "B",
         "chicken_tikka",
         2
        ],
        [
         "B",
         "palak_paneer",
         2
        ],
        [
         "B",
         "jeera_rice",
         2
        ],
        [
         "C",
         "jeera_rice",
         2
        ]
       ],
       "datasetInfos": [],
       "dbfsResultPath": null,
       "isJsonSchema": true,
       "metadata": {},
       "overflow": false,
       "plotOptions": {
        "customPlotOptions": {},
        "displayType": "table",
        "pivotAggregation": null,
        "pivotColumns": null,
        "xColumns": null,
        "yColumns": null
       },
       "removedWidgets": [],
       "schema": [
        {
         "metadata": "{}",
         "name": "cust_id",
         "type": "\"string\""
        },
        {
         "metadata": "{}",
         "name": "prod_name",
         "type": "\"string\""
        },
        {
         "metadata": "{}",
         "name": "prod_count",
         "type": "\"long\""
        }
       ],
       "type": "table"
      }
     },
     "output_type": "display_data"
    }
   ],
   "source": [
    "spark.sql(\"\"\"\n",
    "                with most_popular as (\n",
    "                    select s.cust_id, m.prod_name, count(s.prod_id) as prod_count,\n",
    "                    dense_rank() over (partition by s.cust_id order by count(s.prod_id) desc) as p_rank\n",
    "                    from sales_tb s join menu_tb m \n",
    "                    on s.prod_id = m.prod_id\n",
    "                    group by s.cust_id, m.prod_name\n",
    "                )\n",
    "                select cust_id, prod_name, prod_count\n",
    "                from most_popular\n",
    "                where p_rank = 1\n",
    "        \"\"\").display()"
   ]
  },
  {
   "cell_type": "code",
   "execution_count": 0,
   "metadata": {
    "application/vnd.databricks.v1+cell": {
     "cellMetadata": {
      "byteLimit": 2048000,
      "rowLimit": 10000
     },
     "inputWidgets": {},
     "nuid": "9d846c09-3cf2-4210-ac3d-d75a80f029f7",
     "showTitle": true,
     "title": "Using DataFrame API"
    }
   },
   "outputs": [
    {
     "output_type": "display_data",
     "data": {
      "text/html": [
       "<style scoped>\n",
       "  .table-result-container {\n",
       "    max-height: 300px;\n",
       "    overflow: auto;\n",
       "  }\n",
       "  table, th, td {\n",
       "    border: 1px solid black;\n",
       "    border-collapse: collapse;\n",
       "  }\n",
       "  th, td {\n",
       "    padding: 5px;\n",
       "  }\n",
       "  th {\n",
       "    text-align: left;\n",
       "  }\n",
       "</style><div class='table-result-container'><table class='table-result'><thead style='background-color: white'><tr><th>cust_id</th><th>prod_name</th><th>prod_count</th></tr></thead><tbody><tr><td>A</td><td>jeera_rice</td><td>3</td></tr><tr><td>B</td><td>chicken_tikka</td><td>2</td></tr><tr><td>B</td><td>palak_paneer</td><td>2</td></tr><tr><td>B</td><td>jeera_rice</td><td>2</td></tr><tr><td>C</td><td>jeera_rice</td><td>2</td></tr></tbody></table></div>"
      ]
     },
     "metadata": {
      "application/vnd.databricks.v1+output": {
       "addedWidgets": {},
       "aggData": [],
       "aggError": "",
       "aggOverflow": false,
       "aggSchema": [],
       "aggSeriesLimitReached": false,
       "aggType": "",
       "arguments": {},
       "columnCustomDisplayInfos": {},
       "data": [
        [
         "A",
         "jeera_rice",
         3
        ],
        [
         "B",
         "chicken_tikka",
         2
        ],
        [
         "B",
         "palak_paneer",
         2
        ],
        [
         "B",
         "jeera_rice",
         2
        ],
        [
         "C",
         "jeera_rice",
         2
        ]
       ],
       "datasetInfos": [],
       "dbfsResultPath": null,
       "isJsonSchema": true,
       "metadata": {},
       "overflow": false,
       "plotOptions": {
        "customPlotOptions": {},
        "displayType": "table",
        "pivotAggregation": null,
        "pivotColumns": null,
        "xColumns": null,
        "yColumns": null
       },
       "removedWidgets": [],
       "schema": [
        {
         "metadata": "{}",
         "name": "cust_id",
         "type": "\"string\""
        },
        {
         "metadata": "{}",
         "name": "prod_name",
         "type": "\"string\""
        },
        {
         "metadata": "{}",
         "name": "prod_count",
         "type": "\"long\""
        }
       ],
       "type": "table"
      }
     },
     "output_type": "display_data"
    }
   ],
   "source": [
    "from pyspark.sql.window import Window\n",
    "from pyspark.sql.functions import col,dense_rank\n",
    "\n",
    "sales_df.join(menu_df, \"prod_id\")\\\n",
    "    .groupBy(\"cust_id\", \"prod_name\")\\\n",
    "    .agg(count(\"prod_id\").alias(\"prod_count\"))\\\n",
    "    .withColumn(\"dence_rank\", dense_rank().over(Window.partitionBy(\"cust_id\").orderBy(col(\"prod_count\").desc())))\\\n",
    "    .filter(\"dence_rank = 1\")\\\n",
    "    .drop(\"dence_rank\")\\\n",
    "    .display()"
   ]
  },
  {
   "cell_type": "markdown",
   "metadata": {
    "application/vnd.databricks.v1+cell": {
     "cellMetadata": {
      "byteLimit": 2048000,
      "rowLimit": 10000
     },
     "inputWidgets": {},
     "nuid": "13a62b23-e5f6-44da-a9b8-e3566560f146",
     "showTitle": false,
     "title": ""
    }
   },
   "source": [
    "## Question 06:- Which item was ordered first by the customer after becoming a restaurant member?"
   ]
  },
  {
   "cell_type": "code",
   "execution_count": 0,
   "metadata": {
    "application/vnd.databricks.v1+cell": {
     "cellMetadata": {
      "byteLimit": 2048000,
      "rowLimit": 10000
     },
     "inputWidgets": {},
     "nuid": "cb892a86-4ba9-4c6b-9846-93914c5b877d",
     "showTitle": false,
     "title": ""
    }
   },
   "outputs": [
    {
     "output_type": "display_data",
     "data": {
      "text/html": [
       "<style scoped>\n",
       "  .table-result-container {\n",
       "    max-height: 300px;\n",
       "    overflow: auto;\n",
       "  }\n",
       "  table, th, td {\n",
       "    border: 1px solid black;\n",
       "    border-collapse: collapse;\n",
       "  }\n",
       "  th, td {\n",
       "    padding: 5px;\n",
       "  }\n",
       "  th {\n",
       "    text-align: left;\n",
       "  }\n",
       "</style><div class='table-result-container'><table class='table-result'><thead style='background-color: white'><tr><th>cust_id</th><th>order_date</th><th>prod_name</th></tr></thead><tbody><tr><td>A</td><td>2021-01-11</td><td>jeera_rice</td></tr><tr><td>A</td><td>2021-01-11</td><td>jeera_rice</td></tr><tr><td>A</td><td>2021-01-10</td><td>jeera_rice</td></tr><tr><td>B</td><td>2021-02-01</td><td>jeera_rice</td></tr><tr><td>B</td><td>2021-01-16</td><td>jeera_rice</td></tr><tr><td>B</td><td>2021-01-11</td><td>palak_paneer</td></tr></tbody></table></div>"
      ]
     },
     "metadata": {
      "application/vnd.databricks.v1+output": {
       "addedWidgets": {},
       "aggData": [],
       "aggError": "",
       "aggOverflow": false,
       "aggSchema": [],
       "aggSeriesLimitReached": false,
       "aggType": "",
       "arguments": {},
       "columnCustomDisplayInfos": {},
       "data": [
        [
         "A",
         "2021-01-11",
         "jeera_rice"
        ],
        [
         "A",
         "2021-01-11",
         "jeera_rice"
        ],
        [
         "A",
         "2021-01-10",
         "jeera_rice"
        ],
        [
         "B",
         "2021-02-01",
         "jeera_rice"
        ],
        [
         "B",
         "2021-01-16",
         "jeera_rice"
        ],
        [
         "B",
         "2021-01-11",
         "palak_paneer"
        ]
       ],
       "datasetInfos": [],
       "dbfsResultPath": null,
       "isJsonSchema": true,
       "metadata": {},
       "overflow": false,
       "plotOptions": {
        "customPlotOptions": {},
        "displayType": "table",
        "pivotAggregation": null,
        "pivotColumns": null,
        "xColumns": null,
        "yColumns": null
       },
       "removedWidgets": [],
       "schema": [
        {
         "metadata": "{}",
         "name": "cust_id",
         "type": "\"string\""
        },
        {
         "metadata": "{}",
         "name": "order_date",
         "type": "\"string\""
        },
        {
         "metadata": "{}",
         "name": "prod_name",
         "type": "\"string\""
        }
       ],
       "type": "table"
      }
     },
     "output_type": "display_data"
    }
   ],
   "source": [
    "# here we are getting all the prod_name after cust become memmber of resto.\n",
    "\n",
    "spark.sql(\"\"\"\n",
    "                select s.cust_id, s.order_date, m.prod_name from sales_tb s\n",
    "                join menu_tb m on s.prod_id = m.prod_id\n",
    "                join mem_tb mm on s.cust_id = mm.cust_id\n",
    "                where s.order_date > mm.join_date\n",
    "        \n",
    "        \"\"\").display()"
   ]
  },
  {
   "cell_type": "code",
   "execution_count": 0,
   "metadata": {
    "application/vnd.databricks.v1+cell": {
     "cellMetadata": {
      "byteLimit": 2048000,
      "rowLimit": 10000
     },
     "inputWidgets": {},
     "nuid": "ac5f4ef6-2c7b-4aef-9301-38c34b0df1d1",
     "showTitle": false,
     "title": ""
    }
   },
   "outputs": [
    {
     "output_type": "display_data",
     "data": {
      "text/html": [
       "<style scoped>\n",
       "  .table-result-container {\n",
       "    max-height: 300px;\n",
       "    overflow: auto;\n",
       "  }\n",
       "  table, th, td {\n",
       "    border: 1px solid black;\n",
       "    border-collapse: collapse;\n",
       "  }\n",
       "  th, td {\n",
       "    padding: 5px;\n",
       "  }\n",
       "  th {\n",
       "    text-align: left;\n",
       "  }\n",
       "</style><div class='table-result-container'><table class='table-result'><thead style='background-color: white'><tr><th>cust_id</th><th>order_date</th><th>prod_name</th></tr></thead><tbody><tr><td>A</td><td>2021-01-07</td><td>chicken_tikka</td></tr><tr><td>B</td><td>2021-01-11</td><td>palak_paneer</td></tr></tbody></table></div>"
      ]
     },
     "metadata": {
      "application/vnd.databricks.v1+output": {
       "addedWidgets": {},
       "aggData": [],
       "aggError": "",
       "aggOverflow": false,
       "aggSchema": [],
       "aggSeriesLimitReached": false,
       "aggType": "",
       "arguments": {},
       "columnCustomDisplayInfos": {},
       "data": [
        [
         "A",
         "2021-01-07",
         "chicken_tikka"
        ],
        [
         "B",
         "2021-01-11",
         "palak_paneer"
        ]
       ],
       "datasetInfos": [],
       "dbfsResultPath": null,
       "isJsonSchema": true,
       "metadata": {},
       "overflow": false,
       "plotOptions": {
        "customPlotOptions": {},
        "displayType": "table",
        "pivotAggregation": null,
        "pivotColumns": null,
        "xColumns": null,
        "yColumns": null
       },
       "removedWidgets": [],
       "schema": [
        {
         "metadata": "{}",
         "name": "cust_id",
         "type": "\"string\""
        },
        {
         "metadata": "{}",
         "name": "order_date",
         "type": "\"string\""
        },
        {
         "metadata": "{}",
         "name": "prod_name",
         "type": "\"string\""
        }
       ],
       "type": "table"
      }
     },
     "output_type": "display_data"
    }
   ],
   "source": [
    "# but our problem statement is -> Which item was ordered first by the customer after becoming a restaurant member?\n",
    "spark.sql(\"\"\"\n",
    "                with ordered_first as (\n",
    "                    select s.cust_id, s.order_date, m.prod_name,\n",
    "                    dense_rank() over (partition by s.cust_id order by s.order_date) as c_rank\n",
    "                    from sales_tb s\n",
    "                    join menu_tb m on s.prod_id = m.prod_id\n",
    "                    join mem_tb mm on s.cust_id = mm.cust_id\n",
    "                    where s.order_date >= mm.join_date\n",
    "                )\n",
    "\n",
    "                select cust_id, order_date, prod_name \n",
    "                from ordered_first\n",
    "                where c_rank = 1\n",
    "        \n",
    "        \"\"\").display()"
   ]
  },
  {
   "cell_type": "code",
   "execution_count": 0,
   "metadata": {
    "application/vnd.databricks.v1+cell": {
     "cellMetadata": {
      "byteLimit": 2048000,
      "rowLimit": 10000
     },
     "inputWidgets": {},
     "nuid": "768075e1-0f97-48c4-8517-c28bbd43b63c",
     "showTitle": true,
     "title": "Using DataFrame API"
    }
   },
   "outputs": [
    {
     "output_type": "display_data",
     "data": {
      "text/html": [
       "<style scoped>\n",
       "  .table-result-container {\n",
       "    max-height: 300px;\n",
       "    overflow: auto;\n",
       "  }\n",
       "  table, th, td {\n",
       "    border: 1px solid black;\n",
       "    border-collapse: collapse;\n",
       "  }\n",
       "  th, td {\n",
       "    padding: 5px;\n",
       "  }\n",
       "  th {\n",
       "    text-align: left;\n",
       "  }\n",
       "</style><div class='table-result-container'><table class='table-result'><thead style='background-color: white'><tr><th>cust_id</th><th>order_date</th><th>prod_name</th></tr></thead><tbody><tr><td>A</td><td>2021-01-07</td><td>chicken_tikka</td></tr><tr><td>B</td><td>2021-01-11</td><td>palak_paneer</td></tr></tbody></table></div>"
      ]
     },
     "metadata": {
      "application/vnd.databricks.v1+output": {
       "addedWidgets": {},
       "aggData": [],
       "aggError": "",
       "aggOverflow": false,
       "aggSchema": [],
       "aggSeriesLimitReached": false,
       "aggType": "",
       "arguments": {},
       "columnCustomDisplayInfos": {},
       "data": [
        [
         "A",
         "2021-01-07",
         "chicken_tikka"
        ],
        [
         "B",
         "2021-01-11",
         "palak_paneer"
        ]
       ],
       "datasetInfos": [],
       "dbfsResultPath": null,
       "isJsonSchema": true,
       "metadata": {},
       "overflow": false,
       "plotOptions": {
        "customPlotOptions": {},
        "displayType": "table",
        "pivotAggregation": null,
        "pivotColumns": null,
        "xColumns": null,
        "yColumns": null
       },
       "removedWidgets": [],
       "schema": [
        {
         "metadata": "{}",
         "name": "cust_id",
         "type": "\"string\""
        },
        {
         "metadata": "{}",
         "name": "order_date",
         "type": "\"string\""
        },
        {
         "metadata": "{}",
         "name": "prod_name",
         "type": "\"string\""
        }
       ],
       "type": "table"
      }
     },
     "output_type": "display_data"
    }
   ],
   "source": [
    "sales_df.join(mem_df, \"cust_id\")\\\n",
    "    .filter(sales_df.order_date >= mem_df.join_date)\\\n",
    "    .withColumn(\"dense_rank\", dense_rank().over(Window.partitionBy(\"cust_id\").orderBy(\"order_date\")))\\\n",
    "    .filter(\"dense_rank = 1\")\\\n",
    "    .join(menu_df, \"prod_id\")\\\n",
    "    .select(\"cust_id\", \"order_date\", \"prod_name\").orderBy(\"cust_id\")\\\n",
    "    .display()"
   ]
  },
  {
   "cell_type": "markdown",
   "metadata": {
    "application/vnd.databricks.v1+cell": {
     "cellMetadata": {
      "byteLimit": 2048000,
      "rowLimit": 10000
     },
     "inputWidgets": {},
     "nuid": "4216bc38-1d93-440a-b2e8-66c8dc304b3f",
     "showTitle": false,
     "title": ""
    }
   },
   "source": [
    "## Question 07:- Which item was purchased before the customer became a member?"
   ]
  },
  {
   "cell_type": "code",
   "execution_count": 0,
   "metadata": {
    "application/vnd.databricks.v1+cell": {
     "cellMetadata": {
      "byteLimit": 2048000,
      "rowLimit": 10000
     },
     "inputWidgets": {},
     "nuid": "afda1e01-8e1e-4b5c-8258-0b003e562820",
     "showTitle": false,
     "title": ""
    }
   },
   "outputs": [
    {
     "output_type": "display_data",
     "data": {
      "text/html": [
       "<style scoped>\n",
       "  .table-result-container {\n",
       "    max-height: 300px;\n",
       "    overflow: auto;\n",
       "  }\n",
       "  table, th, td {\n",
       "    border: 1px solid black;\n",
       "    border-collapse: collapse;\n",
       "  }\n",
       "  th, td {\n",
       "    padding: 5px;\n",
       "  }\n",
       "  th {\n",
       "    text-align: left;\n",
       "  }\n",
       "</style><div class='table-result-container'><table class='table-result'><thead style='background-color: white'><tr><th>cust_id</th><th>order_date</th><th>prod_name</th></tr></thead><tbody><tr><td>A</td><td>2021-01-01</td><td>chicken_tikka</td></tr><tr><td>A</td><td>2021-01-01</td><td>palak_paneer</td></tr><tr><td>B</td><td>2021-01-01</td><td>chicken_tikka</td></tr></tbody></table></div>"
      ]
     },
     "metadata": {
      "application/vnd.databricks.v1+output": {
       "addedWidgets": {},
       "aggData": [],
       "aggError": "",
       "aggOverflow": false,
       "aggSchema": [],
       "aggSeriesLimitReached": false,
       "aggType": "",
       "arguments": {},
       "columnCustomDisplayInfos": {},
       "data": [
        [
         "A",
         "2021-01-01",
         "chicken_tikka"
        ],
        [
         "A",
         "2021-01-01",
         "palak_paneer"
        ],
        [
         "B",
         "2021-01-01",
         "chicken_tikka"
        ]
       ],
       "datasetInfos": [],
       "dbfsResultPath": null,
       "isJsonSchema": true,
       "metadata": {},
       "overflow": false,
       "plotOptions": {
        "customPlotOptions": {},
        "displayType": "table",
        "pivotAggregation": null,
        "pivotColumns": null,
        "xColumns": null,
        "yColumns": null
       },
       "removedWidgets": [],
       "schema": [
        {
         "metadata": "{}",
         "name": "cust_id",
         "type": "\"string\""
        },
        {
         "metadata": "{}",
         "name": "order_date",
         "type": "\"string\""
        },
        {
         "metadata": "{}",
         "name": "prod_name",
         "type": "\"string\""
        }
       ],
       "type": "table"
      }
     },
     "output_type": "display_data"
    }
   ],
   "source": [
    "# here just change the filter condition and we get our answer\n",
    "spark.sql(\"\"\"\n",
    "                with ordered_first as (\n",
    "                    select s.cust_id, s.order_date, m.prod_name,\n",
    "                    dense_rank() over (partition by s.cust_id order by s.order_date) as c_rank\n",
    "                    from sales_tb s\n",
    "                    join menu_tb m on s.prod_id = m.prod_id\n",
    "                    join mem_tb mm on s.cust_id = mm.cust_id\n",
    "                    where s.order_date < mm.join_date\n",
    "                )\n",
    "\n",
    "                select cust_id, order_date, prod_name \n",
    "                from ordered_first\n",
    "                where c_rank = 1\n",
    "        \n",
    "        \"\"\").display()"
   ]
  },
  {
   "cell_type": "markdown",
   "metadata": {
    "application/vnd.databricks.v1+cell": {
     "cellMetadata": {
      "byteLimit": 2048000,
      "rowLimit": 10000
     },
     "inputWidgets": {},
     "nuid": "6ca3894f-94fc-4319-a56c-285d487ec64f",
     "showTitle": false,
     "title": ""
    }
   },
   "source": [
    "## Question 08:- What is the total items and amount spent for each member before they became a member?"
   ]
  },
  {
   "cell_type": "code",
   "execution_count": 0,
   "metadata": {
    "application/vnd.databricks.v1+cell": {
     "cellMetadata": {
      "byteLimit": 2048000,
      "rowLimit": 10000
     },
     "inputWidgets": {},
     "nuid": "bedfc977-eef5-47d0-a168-52824d5cc0dd",
     "showTitle": false,
     "title": ""
    }
   },
   "outputs": [
    {
     "output_type": "display_data",
     "data": {
      "text/html": [
       "<style scoped>\n",
       "  .table-result-container {\n",
       "    max-height: 300px;\n",
       "    overflow: auto;\n",
       "  }\n",
       "  table, th, td {\n",
       "    border: 1px solid black;\n",
       "    border-collapse: collapse;\n",
       "  }\n",
       "  th, td {\n",
       "    padding: 5px;\n",
       "  }\n",
       "  th {\n",
       "    text-align: left;\n",
       "  }\n",
       "</style><div class='table-result-container'><table class='table-result'><thead style='background-color: white'><tr><th>cust_id</th><th>item_count</th><th>total_amount</th></tr></thead><tbody><tr><td>B</td><td>2</td><td>400</td></tr><tr><td>A</td><td>2</td><td>250</td></tr></tbody></table></div>"
      ]
     },
     "metadata": {
      "application/vnd.databricks.v1+output": {
       "addedWidgets": {},
       "aggData": [],
       "aggError": "",
       "aggOverflow": false,
       "aggSchema": [],
       "aggSeriesLimitReached": false,
       "aggType": "",
       "arguments": {},
       "columnCustomDisplayInfos": {},
       "data": [
        [
         "B",
         2,
         400
        ],
        [
         "A",
         2,
         250
        ]
       ],
       "datasetInfos": [],
       "dbfsResultPath": null,
       "isJsonSchema": true,
       "metadata": {},
       "overflow": false,
       "plotOptions": {
        "customPlotOptions": {},
        "displayType": "table",
        "pivotAggregation": null,
        "pivotColumns": null,
        "xColumns": null,
        "yColumns": null
       },
       "removedWidgets": [],
       "schema": [
        {
         "metadata": "{}",
         "name": "cust_id",
         "type": "\"string\""
        },
        {
         "metadata": "{}",
         "name": "item_count",
         "type": "\"long\""
        },
        {
         "metadata": "{}",
         "name": "total_amount",
         "type": "\"long\""
        }
       ],
       "type": "table"
      }
     },
     "output_type": "display_data"
    }
   ],
   "source": [
    "spark.sql(\"\"\"\n",
    "                select s.cust_id, count(distinct s.prod_id) as item_count, sum(m.price) as total_amount\n",
    "                from sales_tb s join menu_tb m on s.prod_id = m.prod_id\n",
    "                join mem_tb mm on s.cust_id = mm.cust_id\n",
    "                where s.order_date < mm.join_date\n",
    "                group by s.cust_id\n",
    "                order by total_amount desc\n",
    "\"\"\").display()"
   ]
  },
  {
   "cell_type": "code",
   "execution_count": 0,
   "metadata": {
    "application/vnd.databricks.v1+cell": {
     "cellMetadata": {
      "byteLimit": 2048000,
      "rowLimit": 10000
     },
     "inputWidgets": {},
     "nuid": "ac354d90-59a7-4542-a121-5a1645813362",
     "showTitle": true,
     "title": "Using DataFrame API"
    }
   },
   "outputs": [
    {
     "output_type": "display_data",
     "data": {
      "text/html": [
       "<style scoped>\n",
       "  .table-result-container {\n",
       "    max-height: 300px;\n",
       "    overflow: auto;\n",
       "  }\n",
       "  table, th, td {\n",
       "    border: 1px solid black;\n",
       "    border-collapse: collapse;\n",
       "  }\n",
       "  th, td {\n",
       "    padding: 5px;\n",
       "  }\n",
       "  th {\n",
       "    text-align: left;\n",
       "  }\n",
       "</style><div class='table-result-container'><table class='table-result'><thead style='background-color: white'><tr><th>cust_id</th><th>total_item</th><th>total_amount</th></tr></thead><tbody><tr><td>B</td><td>2</td><td>400</td></tr><tr><td>A</td><td>2</td><td>250</td></tr></tbody></table></div>"
      ]
     },
     "metadata": {
      "application/vnd.databricks.v1+output": {
       "addedWidgets": {},
       "aggData": [],
       "aggError": "",
       "aggOverflow": false,
       "aggSchema": [],
       "aggSeriesLimitReached": false,
       "aggType": "",
       "arguments": {},
       "columnCustomDisplayInfos": {},
       "data": [
        [
         "B",
         2,
         400
        ],
        [
         "A",
         2,
         250
        ]
       ],
       "datasetInfos": [],
       "dbfsResultPath": null,
       "isJsonSchema": true,
       "metadata": {},
       "overflow": false,
       "plotOptions": {
        "customPlotOptions": {},
        "displayType": "table",
        "pivotAggregation": null,
        "pivotColumns": null,
        "xColumns": null,
        "yColumns": null
       },
       "removedWidgets": [],
       "schema": [
        {
         "metadata": "{}",
         "name": "cust_id",
         "type": "\"string\""
        },
        {
         "metadata": "{}",
         "name": "total_item",
         "type": "\"long\""
        },
        {
         "metadata": "{}",
         "name": "total_amount",
         "type": "\"long\""
        }
       ],
       "type": "table"
      }
     },
     "output_type": "display_data"
    }
   ],
   "source": [
    "from pyspark.sql.functions import countDistinct, sum\n",
    "\n",
    "sales_df.join(menu_df, \"prod_id\").join(mem_df, \"cust_id\")\\\n",
    "        .filter(sales_df.order_date < mem_df.join_date)\\\n",
    "        .groupBy(\"cust_id\")\\\n",
    "        .agg(countDistinct(\"prod_id\").alias(\"total_item\"), sum(\"price\").alias(\"total_amount\"))\\\n",
    "        .orderBy(\"total_amount\", ascending=0)\\\n",
    "        .display()"
   ]
  },
  {
   "cell_type": "markdown",
   "metadata": {
    "application/vnd.databricks.v1+cell": {
     "cellMetadata": {
      "byteLimit": 2048000,
      "rowLimit": 10000
     },
     "inputWidgets": {},
     "nuid": "66ad7389-2ff9-4595-865a-bafc683b34cc",
     "showTitle": false,
     "title": ""
    }
   },
   "source": [
    "## Question 09:- If each rupee spent equates to 10 points and item ‘jeera_rice’ has a 2x points multiplier, find out how many points each customer would have."
   ]
  },
  {
   "cell_type": "code",
   "execution_count": 0,
   "metadata": {
    "application/vnd.databricks.v1+cell": {
     "cellMetadata": {
      "byteLimit": 2048000,
      "rowLimit": 10000
     },
     "inputWidgets": {},
     "nuid": "7e70d5bd-4103-45e1-a4a5-39a2aee60083",
     "showTitle": false,
     "title": ""
    }
   },
   "outputs": [
    {
     "output_type": "display_data",
     "data": {
      "text/html": [
       "<style scoped>\n",
       "  .table-result-container {\n",
       "    max-height: 300px;\n",
       "    overflow: auto;\n",
       "  }\n",
       "  table, th, td {\n",
       "    border: 1px solid black;\n",
       "    border-collapse: collapse;\n",
       "  }\n",
       "  th, td {\n",
       "    padding: 5px;\n",
       "  }\n",
       "  th {\n",
       "    text-align: left;\n",
       "  }\n",
       "</style><div class='table-result-container'><table class='table-result'><thead style='background-color: white'><tr><th>cust_id</th><th>total_point</th></tr></thead><tbody><tr><td>A</td><td>11200</td></tr><tr><td>B</td><td>9800</td></tr><tr><td>C</td><td>5800</td></tr></tbody></table></div>"
      ]
     },
     "metadata": {
      "application/vnd.databricks.v1+output": {
       "addedWidgets": {},
       "aggData": [],
       "aggError": "",
       "aggOverflow": false,
       "aggSchema": [],
       "aggSeriesLimitReached": false,
       "aggType": "",
       "arguments": {},
       "columnCustomDisplayInfos": {},
       "data": [
        [
         "A",
         11200
        ],
        [
         "B",
         9800
        ],
        [
         "C",
         5800
        ]
       ],
       "datasetInfos": [],
       "dbfsResultPath": null,
       "isJsonSchema": true,
       "metadata": {},
       "overflow": false,
       "plotOptions": {
        "customPlotOptions": {},
        "displayType": "table",
        "pivotAggregation": null,
        "pivotColumns": null,
        "xColumns": null,
        "yColumns": null
       },
       "removedWidgets": [],
       "schema": [
        {
         "metadata": "{}",
         "name": "cust_id",
         "type": "\"string\""
        },
        {
         "metadata": "{}",
         "name": "total_point",
         "type": "\"long\""
        }
       ],
       "type": "table"
      }
     },
     "output_type": "display_data"
    }
   ],
   "source": [
    "spark.sql(\"\"\"\n",
    "                select s.cust_id, sum(m.price * 10 * if(m.prod_name = \"jeera_rice\", 2, 1)) as total_point\n",
    "                from sales_tb s join menu_tb m on s.prod_id = m.prod_id\n",
    "                group by s.cust_id\n",
    "                order by total_point desc\n",
    "\"\"\").display()"
   ]
  },
  {
   "cell_type": "code",
   "execution_count": 0,
   "metadata": {
    "application/vnd.databricks.v1+cell": {
     "cellMetadata": {
      "byteLimit": 2048000,
      "rowLimit": 10000
     },
     "inputWidgets": {},
     "nuid": "517003b9-042e-4414-9fa7-052a7f9df0f2",
     "showTitle": true,
     "title": "Using DataFrame API"
    }
   },
   "outputs": [
    {
     "output_type": "display_data",
     "data": {
      "text/html": [
       "<style scoped>\n",
       "  .table-result-container {\n",
       "    max-height: 300px;\n",
       "    overflow: auto;\n",
       "  }\n",
       "  table, th, td {\n",
       "    border: 1px solid black;\n",
       "    border-collapse: collapse;\n",
       "  }\n",
       "  th, td {\n",
       "    padding: 5px;\n",
       "  }\n",
       "  th {\n",
       "    text-align: left;\n",
       "  }\n",
       "</style><div class='table-result-container'><table class='table-result'><thead style='background-color: white'><tr><th>cust_id</th><th>reward_points</th></tr></thead><tbody><tr><td>A</td><td>11200</td></tr><tr><td>B</td><td>9800</td></tr><tr><td>C</td><td>5800</td></tr></tbody></table></div>"
      ]
     },
     "metadata": {
      "application/vnd.databricks.v1+output": {
       "addedWidgets": {},
       "aggData": [],
       "aggError": "",
       "aggOverflow": false,
       "aggSchema": [],
       "aggSeriesLimitReached": false,
       "aggType": "",
       "arguments": {},
       "columnCustomDisplayInfos": {},
       "data": [
        [
         "A",
         11200
        ],
        [
         "B",
         9800
        ],
        [
         "C",
         5800
        ]
       ],
       "datasetInfos": [],
       "dbfsResultPath": null,
       "isJsonSchema": true,
       "metadata": {},
       "overflow": false,
       "plotOptions": {
        "customPlotOptions": {},
        "displayType": "table",
        "pivotAggregation": null,
        "pivotColumns": null,
        "xColumns": null,
        "yColumns": null
       },
       "removedWidgets": [],
       "schema": [
        {
         "metadata": "{}",
         "name": "cust_id",
         "type": "\"string\""
        },
        {
         "metadata": "{}",
         "name": "reward_points",
         "type": "\"long\""
        }
       ],
       "type": "table"
      }
     },
     "output_type": "display_data"
    }
   ],
   "source": [
    "from pyspark.sql.functions import when, col\n",
    "\n",
    "sales_df.join(menu_df, \"prod_id\")\\\n",
    "    .withColumn(\"total_point\", when(col(\"prod_name\") == \"jeera_rice\", col(\"price\")*20)\\\n",
    "                                .otherwise(col(\"price\")*10))\\\n",
    "    .groupBy(\"cust_id\")\\\n",
    "    .agg(sum(\"total_point\").alias(\"reward_points\"))\\\n",
    "    .orderBy(\"reward_points\", ascending = 0)\\\n",
    "    .display()"
   ]
  },
  {
   "cell_type": "markdown",
   "metadata": {
    "application/vnd.databricks.v1+cell": {
     "cellMetadata": {
      "byteLimit": 2048000,
      "rowLimit": 10000
     },
     "inputWidgets": {},
     "nuid": "0c6fbb6c-0967-4c9e-a8a0-f381f838faa7",
     "showTitle": false,
     "title": ""
    }
   },
   "source": [
    "## Question 10:- Create the complete table with all data and columns like customer_id, order_date, product_name, price, and member(Y/N)."
   ]
  },
  {
   "cell_type": "code",
   "execution_count": 0,
   "metadata": {
    "application/vnd.databricks.v1+cell": {
     "cellMetadata": {
      "byteLimit": 2048000,
      "rowLimit": 10000
     },
     "inputWidgets": {},
     "nuid": "9c885d10-3130-46ce-b79d-6ac7a97d8b0d",
     "showTitle": false,
     "title": ""
    }
   },
   "outputs": [
    {
     "output_type": "display_data",
     "data": {
      "text/html": [
       "<style scoped>\n",
       "  .table-result-container {\n",
       "    max-height: 300px;\n",
       "    overflow: auto;\n",
       "  }\n",
       "  table, th, td {\n",
       "    border: 1px solid black;\n",
       "    border-collapse: collapse;\n",
       "  }\n",
       "  th, td {\n",
       "    padding: 5px;\n",
       "  }\n",
       "  th {\n",
       "    text-align: left;\n",
       "  }\n",
       "</style><div class='table-result-container'><table class='table-result'><thead style='background-color: white'><tr><th>cust_id</th><th>order_date</th><th>prod_name</th><th>price</th><th>member</th></tr></thead><tbody><tr><td>A</td><td>2021-01-01</td><td>palak_paneer</td><td>100</td><td>N</td></tr><tr><td>A</td><td>2021-01-01</td><td>chicken_tikka</td><td>150</td><td>N</td></tr><tr><td>A</td><td>2021-01-07</td><td>chicken_tikka</td><td>150</td><td>Y</td></tr><tr><td>A</td><td>2021-01-10</td><td>jeera_rice</td><td>120</td><td>Y</td></tr><tr><td>A</td><td>2021-01-11</td><td>jeera_rice</td><td>120</td><td>Y</td></tr><tr><td>A</td><td>2021-01-11</td><td>jeera_rice</td><td>120</td><td>Y</td></tr><tr><td>B</td><td>2021-01-01</td><td>chicken_tikka</td><td>150</td><td>N</td></tr><tr><td>B</td><td>2021-01-02</td><td>chicken_tikka</td><td>150</td><td>N</td></tr><tr><td>B</td><td>2021-01-04</td><td>palak_paneer</td><td>100</td><td>N</td></tr><tr><td>B</td><td>2021-01-11</td><td>palak_paneer</td><td>100</td><td>Y</td></tr><tr><td>B</td><td>2021-01-16</td><td>jeera_rice</td><td>120</td><td>Y</td></tr><tr><td>B</td><td>2021-02-01</td><td>jeera_rice</td><td>120</td><td>Y</td></tr><tr><td>C</td><td>2021-01-01</td><td>jeera_rice</td><td>120</td><td>N</td></tr><tr><td>C</td><td>2021-01-01</td><td>palak_paneer</td><td>100</td><td>N</td></tr><tr><td>C</td><td>2021-01-07</td><td>jeera_rice</td><td>120</td><td>N</td></tr></tbody></table></div>"
      ]
     },
     "metadata": {
      "application/vnd.databricks.v1+output": {
       "addedWidgets": {},
       "aggData": [],
       "aggError": "",
       "aggOverflow": false,
       "aggSchema": [],
       "aggSeriesLimitReached": false,
       "aggType": "",
       "arguments": {},
       "columnCustomDisplayInfos": {},
       "data": [
        [
         "A",
         "2021-01-01",
         "palak_paneer",
         100,
         "N"
        ],
        [
         "A",
         "2021-01-01",
         "chicken_tikka",
         150,
         "N"
        ],
        [
         "A",
         "2021-01-07",
         "chicken_tikka",
         150,
         "Y"
        ],
        [
         "A",
         "2021-01-10",
         "jeera_rice",
         120,
         "Y"
        ],
        [
         "A",
         "2021-01-11",
         "jeera_rice",
         120,
         "Y"
        ],
        [
         "A",
         "2021-01-11",
         "jeera_rice",
         120,
         "Y"
        ],
        [
         "B",
         "2021-01-01",
         "chicken_tikka",
         150,
         "N"
        ],
        [
         "B",
         "2021-01-02",
         "chicken_tikka",
         150,
         "N"
        ],
        [
         "B",
         "2021-01-04",
         "palak_paneer",
         100,
         "N"
        ],
        [
         "B",
         "2021-01-11",
         "palak_paneer",
         100,
         "Y"
        ],
        [
         "B",
         "2021-01-16",
         "jeera_rice",
         120,
         "Y"
        ],
        [
         "B",
         "2021-02-01",
         "jeera_rice",
         120,
         "Y"
        ],
        [
         "C",
         "2021-01-01",
         "jeera_rice",
         120,
         "N"
        ],
        [
         "C",
         "2021-01-01",
         "palak_paneer",
         100,
         "N"
        ],
        [
         "C",
         "2021-01-07",
         "jeera_rice",
         120,
         "N"
        ]
       ],
       "datasetInfos": [],
       "dbfsResultPath": null,
       "isJsonSchema": true,
       "metadata": {},
       "overflow": false,
       "plotOptions": {
        "customPlotOptions": {},
        "displayType": "table",
        "pivotAggregation": null,
        "pivotColumns": null,
        "xColumns": null,
        "yColumns": null
       },
       "removedWidgets": [],
       "schema": [
        {
         "metadata": "{}",
         "name": "cust_id",
         "type": "\"string\""
        },
        {
         "metadata": "{}",
         "name": "order_date",
         "type": "\"string\""
        },
        {
         "metadata": "{}",
         "name": "prod_name",
         "type": "\"string\""
        },
        {
         "metadata": "{}",
         "name": "price",
         "type": "\"long\""
        },
        {
         "metadata": "{}",
         "name": "member",
         "type": "\"string\""
        }
       ],
       "type": "table"
      }
     },
     "output_type": "display_data"
    }
   ],
   "source": [
    "# here we perform left join because\n",
    "# we want all data from all tables and according to condition deciside, it's member of resto. or not\n",
    "\n",
    "spark.sql(\"\"\"\n",
    "                select s.cust_id, s.order_date, m.prod_name, m.price, \n",
    "                    case\n",
    "                        when s.order_date >= mm.join_date then \"Y\"\n",
    "                        when s.order_date < mm.join_date then \"N\"\n",
    "                        else \"N\"\n",
    "                    end as member\n",
    "                from sales_tb s left join menu_tb m on s.prod_id = m.prod_id\n",
    "                left join mem_tb mm on s.cust_id = mm.cust_id \n",
    "\"\"\").display()"
   ]
  },
  {
   "cell_type": "code",
   "execution_count": 0,
   "metadata": {
    "application/vnd.databricks.v1+cell": {
     "cellMetadata": {
      "byteLimit": 2048000,
      "rowLimit": 10000
     },
     "inputWidgets": {},
     "nuid": "2278e288-9269-4b04-8a99-eace5e49feab",
     "showTitle": true,
     "title": "Using DataFrame API"
    }
   },
   "outputs": [
    {
     "output_type": "display_data",
     "data": {
      "text/html": [
       "<style scoped>\n",
       "  .table-result-container {\n",
       "    max-height: 300px;\n",
       "    overflow: auto;\n",
       "  }\n",
       "  table, th, td {\n",
       "    border: 1px solid black;\n",
       "    border-collapse: collapse;\n",
       "  }\n",
       "  th, td {\n",
       "    padding: 5px;\n",
       "  }\n",
       "  th {\n",
       "    text-align: left;\n",
       "  }\n",
       "</style><div class='table-result-container'><table class='table-result'><thead style='background-color: white'><tr><th>cust_id</th><th>order_date</th><th>prod_name</th><th>price</th><th>member</th></tr></thead><tbody><tr><td>A</td><td>2021-01-01</td><td>palak_paneer</td><td>100</td><td>N</td></tr><tr><td>A</td><td>2021-01-01</td><td>chicken_tikka</td><td>150</td><td>N</td></tr><tr><td>A</td><td>2021-01-07</td><td>chicken_tikka</td><td>150</td><td>Y</td></tr><tr><td>A</td><td>2021-01-10</td><td>jeera_rice</td><td>120</td><td>Y</td></tr><tr><td>A</td><td>2021-01-11</td><td>jeera_rice</td><td>120</td><td>Y</td></tr><tr><td>A</td><td>2021-01-11</td><td>jeera_rice</td><td>120</td><td>Y</td></tr><tr><td>B</td><td>2021-01-01</td><td>chicken_tikka</td><td>150</td><td>N</td></tr><tr><td>B</td><td>2021-01-04</td><td>palak_paneer</td><td>100</td><td>N</td></tr><tr><td>B</td><td>2021-01-02</td><td>chicken_tikka</td><td>150</td><td>N</td></tr><tr><td>B</td><td>2021-01-16</td><td>jeera_rice</td><td>120</td><td>Y</td></tr><tr><td>B</td><td>2021-01-11</td><td>palak_paneer</td><td>100</td><td>Y</td></tr><tr><td>B</td><td>2021-02-01</td><td>jeera_rice</td><td>120</td><td>Y</td></tr><tr><td>C</td><td>2021-01-01</td><td>jeera_rice</td><td>120</td><td>N</td></tr><tr><td>C</td><td>2021-01-07</td><td>jeera_rice</td><td>120</td><td>N</td></tr><tr><td>C</td><td>2021-01-01</td><td>palak_paneer</td><td>100</td><td>N</td></tr></tbody></table></div>"
      ]
     },
     "metadata": {
      "application/vnd.databricks.v1+output": {
       "addedWidgets": {},
       "aggData": [],
       "aggError": "",
       "aggOverflow": false,
       "aggSchema": [],
       "aggSeriesLimitReached": false,
       "aggType": "",
       "arguments": {},
       "columnCustomDisplayInfos": {},
       "data": [
        [
         "A",
         "2021-01-01",
         "palak_paneer",
         100,
         "N"
        ],
        [
         "A",
         "2021-01-01",
         "chicken_tikka",
         150,
         "N"
        ],
        [
         "A",
         "2021-01-07",
         "chicken_tikka",
         150,
         "Y"
        ],
        [
         "A",
         "2021-01-10",
         "jeera_rice",
         120,
         "Y"
        ],
        [
         "A",
         "2021-01-11",
         "jeera_rice",
         120,
         "Y"
        ],
        [
         "A",
         "2021-01-11",
         "jeera_rice",
         120,
         "Y"
        ],
        [
         "B",
         "2021-01-01",
         "chicken_tikka",
         150,
         "N"
        ],
        [
         "B",
         "2021-01-04",
         "palak_paneer",
         100,
         "N"
        ],
        [
         "B",
         "2021-01-02",
         "chicken_tikka",
         150,
         "N"
        ],
        [
         "B",
         "2021-01-16",
         "jeera_rice",
         120,
         "Y"
        ],
        [
         "B",
         "2021-01-11",
         "palak_paneer",
         100,
         "Y"
        ],
        [
         "B",
         "2021-02-01",
         "jeera_rice",
         120,
         "Y"
        ],
        [
         "C",
         "2021-01-01",
         "jeera_rice",
         120,
         "N"
        ],
        [
         "C",
         "2021-01-07",
         "jeera_rice",
         120,
         "N"
        ],
        [
         "C",
         "2021-01-01",
         "palak_paneer",
         100,
         "N"
        ]
       ],
       "datasetInfos": [],
       "dbfsResultPath": null,
       "isJsonSchema": true,
       "metadata": {},
       "overflow": false,
       "plotOptions": {
        "customPlotOptions": {},
        "displayType": "table",
        "pivotAggregation": null,
        "pivotColumns": null,
        "xColumns": null,
        "yColumns": null
       },
       "removedWidgets": [],
       "schema": [
        {
         "metadata": "{}",
         "name": "cust_id",
         "type": "\"string\""
        },
        {
         "metadata": "{}",
         "name": "order_date",
         "type": "\"string\""
        },
        {
         "metadata": "{}",
         "name": "prod_name",
         "type": "\"string\""
        },
        {
         "metadata": "{}",
         "name": "price",
         "type": "\"long\""
        },
        {
         "metadata": "{}",
         "name": "member",
         "type": "\"string\""
        }
       ],
       "type": "table"
      }
     },
     "output_type": "display_data"
    }
   ],
   "source": [
    "sales_df.join(menu_df, \"prod_id\", \"left\").join(mem_df, \"cust_id\",\"left\")\\\n",
    "        .withColumn(\"member\", when(col(\"order_date\")<col(\"join_date\"), \"N\")\\\n",
    "                    .when(col(\"order_date\")>=col(\"join_date\"), \"Y\")\\\n",
    "                        .otherwise(\"N\"))\\\n",
    "        .drop(\"prod_id\", \"join_date\")\\\n",
    "        .display()\n",
    "        "
   ]
  }
 ],
 "metadata": {
  "application/vnd.databricks.v1+notebook": {
   "dashboards": [],
   "language": "python",
   "notebookMetadata": {
    "pythonIndentUnit": 4
   },
   "notebookName": "Case Study: Restaurant’s Insights using PySpark & Databricks",
   "widgets": {}
  }
 },
 "nbformat": 4,
 "nbformat_minor": 0
}
