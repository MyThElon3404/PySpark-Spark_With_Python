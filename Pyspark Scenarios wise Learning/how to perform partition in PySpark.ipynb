{
 "cells": [
  {
   "cell_type": "code",
   "execution_count": 0,
   "metadata": {
    "application/vnd.databricks.v1+cell": {
     "cellMetadata": {
      "byteLimit": 2048000,
      "rowLimit": 10000
     },
     "inputWidgets": {},
     "nuid": "6016d566-a2ab-491c-9bdf-7f419b37ad23",
     "showTitle": false,
     "title": ""
    }
   },
   "outputs": [
    {
     "output_type": "display_data",
     "data": {
      "text/html": [
       "<style scoped>\n",
       "  .table-result-container {\n",
       "    max-height: 300px;\n",
       "    overflow: auto;\n",
       "  }\n",
       "  table, th, td {\n",
       "    border: 1px solid black;\n",
       "    border-collapse: collapse;\n",
       "  }\n",
       "  th, td {\n",
       "    padding: 5px;\n",
       "  }\n",
       "  th {\n",
       "    text-align: left;\n",
       "  }\n",
       "</style><div class='table-result-container'><table class='table-result'><thead style='background-color: white'><tr><th>Team</th><th>Player_ID</th><th>Player</th><th>Matches</th><th>Runs</th><th>Wickets</th><th>Hundreds</th><th>Fifties</th><th>Speciality</th></tr></thead><tbody><tr><td>Ind</td><td>498403</td><td>Yuvraj Singh</td><td>111</td><td>2948</td><td>167</td><td>9</td><td>28</td><td>All-rounder</td></tr><tr><td>SA</td><td>533880</td><td>Jaq Kallis</td><td>248</td><td>7758</td><td>258</td><td>12</td><td>38</td><td>All-rounder</td></tr><tr><td>WI</td><td>391674</td><td>Dwane Bravo</td><td>355</td><td>8586</td><td>118</td><td>5</td><td>22</td><td>All-rounder</td></tr><tr><td>Ban</td><td>566945</td><td>Shakib Ul-hasan</td><td>156</td><td>13714</td><td>118</td><td>11</td><td>18</td><td>All-rounder</td></tr><tr><td>End</td><td>10543</td><td>Andrew Filntoff</td><td>353</td><td>18201</td><td>216</td><td>9</td><td>42</td><td>All-rounder</td></tr><tr><td>Ind</td><td>895647</td><td>Virat Kohli</td><td>343</td><td>14970</td><td>29</td><td>34</td><td>66</td><td>Bat</td></tr><tr><td>Ind</td><td>142991</td><td>Rohit Sharma</td><td>148</td><td>8246</td><td>10</td><td>48</td><td>14</td><td>Bat</td></tr><tr><td>Ind</td><td>178781</td><td>Shreyas Iyyer</td><td>79</td><td>10929</td><td>21</td><td>44</td><td>86</td><td>Bat</td></tr><tr><td>Ind</td><td>204027</td><td>Shekhar Dhawan</td><td>428</td><td>15999</td><td>4</td><td>39</td><td>27</td><td>Bat</td></tr><tr><td>Ind</td><td>652081</td><td>Virendra Sehwag</td><td>426</td><td>7758</td><td>25</td><td>44</td><td>65</td><td>Bat</td></tr></tbody></table></div>"
      ]
     },
     "metadata": {
      "application/vnd.databricks.v1+output": {
       "addedWidgets": {},
       "aggData": [],
       "aggError": "",
       "aggOverflow": false,
       "aggSchema": [],
       "aggSeriesLimitReached": false,
       "aggType": "",
       "arguments": {},
       "columnCustomDisplayInfos": {},
       "data": [
        [
         "Ind",
         498403,
         "Yuvraj Singh",
         111,
         2948,
         167,
         9,
         28,
         "All-rounder"
        ],
        [
         "SA",
         533880,
         "Jaq Kallis",
         248,
         7758,
         258,
         12,
         38,
         "All-rounder"
        ],
        [
         "WI",
         391674,
         "Dwane Bravo",
         355,
         8586,
         118,
         5,
         22,
         "All-rounder"
        ],
        [
         "Ban",
         566945,
         "Shakib Ul-hasan",
         156,
         13714,
         118,
         11,
         18,
         "All-rounder"
        ],
        [
         "End",
         10543,
         "Andrew Filntoff",
         353,
         18201,
         216,
         9,
         42,
         "All-rounder"
        ],
        [
         "Ind",
         895647,
         "Virat Kohli",
         343,
         14970,
         29,
         34,
         66,
         "Bat"
        ],
        [
         "Ind",
         142991,
         "Rohit Sharma",
         148,
         8246,
         10,
         48,
         14,
         "Bat"
        ],
        [
         "Ind",
         178781,
         "Shreyas Iyyer",
         79,
         10929,
         21,
         44,
         86,
         "Bat"
        ],
        [
         "Ind",
         204027,
         "Shekhar Dhawan",
         428,
         15999,
         4,
         39,
         27,
         "Bat"
        ],
        [
         "Ind",
         652081,
         "Virendra Sehwag",
         426,
         7758,
         25,
         44,
         65,
         "Bat"
        ]
       ],
       "datasetInfos": [],
       "dbfsResultPath": null,
       "isJsonSchema": true,
       "metadata": {},
       "overflow": false,
       "plotOptions": {
        "customPlotOptions": {},
        "displayType": "table",
        "pivotAggregation": null,
        "pivotColumns": null,
        "xColumns": null,
        "yColumns": null
       },
       "removedWidgets": [],
       "schema": [
        {
         "metadata": "{}",
         "name": "Team",
         "type": "\"string\""
        },
        {
         "metadata": "{}",
         "name": "Player_ID",
         "type": "\"integer\""
        },
        {
         "metadata": "{}",
         "name": "Player",
         "type": "\"string\""
        },
        {
         "metadata": "{}",
         "name": "Matches",
         "type": "\"integer\""
        },
        {
         "metadata": "{}",
         "name": "Runs",
         "type": "\"integer\""
        },
        {
         "metadata": "{}",
         "name": "Wickets",
         "type": "\"integer\""
        },
        {
         "metadata": "{}",
         "name": "Hundreds",
         "type": "\"integer\""
        },
        {
         "metadata": "{}",
         "name": "Fifties",
         "type": "\"integer\""
        },
        {
         "metadata": "{}",
         "name": "Speciality",
         "type": "\"string\""
        }
       ],
       "type": "table"
      }
     },
     "output_type": "display_data"
    }
   ],
   "source": [
    "part_df = spark.read.csv(\"/FileStore/tables/Cricket_data_set_odi.csv\", inferSchema=True, header=True)\n",
    "part_df.limit(10).display()"
   ]
  },
  {
   "cell_type": "code",
   "execution_count": 0,
   "metadata": {
    "application/vnd.databricks.v1+cell": {
     "cellMetadata": {
      "byteLimit": 2048000,
      "rowLimit": 10000
     },
     "inputWidgets": {},
     "nuid": "f236678b-8a85-4829-9eb3-33f1caf964ba",
     "showTitle": false,
     "title": ""
    }
   },
   "outputs": [
    {
     "output_type": "display_data",
     "data": {
      "text/html": [
       "<style scoped>\n",
       "  .table-result-container {\n",
       "    max-height: 300px;\n",
       "    overflow: auto;\n",
       "  }\n",
       "  table, th, td {\n",
       "    border: 1px solid black;\n",
       "    border-collapse: collapse;\n",
       "  }\n",
       "  th, td {\n",
       "    padding: 5px;\n",
       "  }\n",
       "  th {\n",
       "    text-align: left;\n",
       "  }\n",
       "</style><div class='table-result-container'><table class='table-result'><thead style='background-color: white'><tr><th>path</th><th>name</th><th>size</th><th>modificationTime</th></tr></thead><tbody><tr><td>dbfs:/FileStore/tables/csv_write/Team/</td><td>Team/</td><td>0</td><td>0</td></tr><tr><td>dbfs:/FileStore/tables/csv_write/_SUCCESS</td><td>_SUCCESS</td><td>0</td><td>1700745041000</td></tr><tr><td>dbfs:/FileStore/tables/csv_write/_committed_224430566232983173</td><td>_committed_224430566232983173</td><td>208</td><td>1700744717000</td></tr><tr><td>dbfs:/FileStore/tables/csv_write/_committed_3444010233655006628</td><td>_committed_3444010233655006628</td><td>112</td><td>1698992595000</td></tr><tr><td>dbfs:/FileStore/tables/csv_write/_committed_8144195812023277525</td><td>_committed_8144195812023277525</td><td>197</td><td>1700745041000</td></tr><tr><td>dbfs:/FileStore/tables/csv_write/_committed_vacuum2643402836420784351</td><td>_committed_vacuum2643402836420784351</td><td>96</td><td>1700744718000</td></tr><tr><td>dbfs:/FileStore/tables/csv_write/_started_224430566232983173</td><td>_started_224430566232983173</td><td>0</td><td>1700744715000</td></tr><tr><td>dbfs:/FileStore/tables/csv_write/_started_8144195812023277525</td><td>_started_8144195812023277525</td><td>0</td><td>1700745040000</td></tr><tr><td>dbfs:/FileStore/tables/csv_write/part-00000-tid-8144195812023277525-f32e93b4-1d25-424d-b790-db4574233c55-11-1-c000.csv</td><td>part-00000-tid-8144195812023277525-f32e93b4-1d25-424d-b790-db4574233c55-11-1-c000.csv</td><td>261243</td><td>1700745040000</td></tr></tbody></table></div>"
      ]
     },
     "metadata": {
      "application/vnd.databricks.v1+output": {
       "addedWidgets": {},
       "aggData": [],
       "aggError": "",
       "aggOverflow": false,
       "aggSchema": [],
       "aggSeriesLimitReached": false,
       "aggType": "",
       "arguments": {},
       "columnCustomDisplayInfos": {},
       "data": [
        [
         "dbfs:/FileStore/tables/csv_write/Team/",
         "Team/",
         0,
         0
        ],
        [
         "dbfs:/FileStore/tables/csv_write/_SUCCESS",
         "_SUCCESS",
         0,
         1700745041000
        ],
        [
         "dbfs:/FileStore/tables/csv_write/_committed_224430566232983173",
         "_committed_224430566232983173",
         208,
         1700744717000
        ],
        [
         "dbfs:/FileStore/tables/csv_write/_committed_3444010233655006628",
         "_committed_3444010233655006628",
         112,
         1698992595000
        ],
        [
         "dbfs:/FileStore/tables/csv_write/_committed_8144195812023277525",
         "_committed_8144195812023277525",
         197,
         1700745041000
        ],
        [
         "dbfs:/FileStore/tables/csv_write/_committed_vacuum2643402836420784351",
         "_committed_vacuum2643402836420784351",
         96,
         1700744718000
        ],
        [
         "dbfs:/FileStore/tables/csv_write/_started_224430566232983173",
         "_started_224430566232983173",
         0,
         1700744715000
        ],
        [
         "dbfs:/FileStore/tables/csv_write/_started_8144195812023277525",
         "_started_8144195812023277525",
         0,
         1700745040000
        ],
        [
         "dbfs:/FileStore/tables/csv_write/part-00000-tid-8144195812023277525-f32e93b4-1d25-424d-b790-db4574233c55-11-1-c000.csv",
         "part-00000-tid-8144195812023277525-f32e93b4-1d25-424d-b790-db4574233c55-11-1-c000.csv",
         261243,
         1700745040000
        ]
       ],
       "datasetInfos": [],
       "dbfsResultPath": null,
       "isJsonSchema": true,
       "metadata": {
        "isDbfsCommandResult": false
       },
       "overflow": false,
       "plotOptions": {
        "customPlotOptions": {},
        "displayType": "table",
        "pivotAggregation": null,
        "pivotColumns": null,
        "xColumns": null,
        "yColumns": null
       },
       "removedWidgets": [],
       "schema": [
        {
         "metadata": "{}",
         "name": "path",
         "type": "\"string\""
        },
        {
         "metadata": "{}",
         "name": "name",
         "type": "\"string\""
        },
        {
         "metadata": "{}",
         "name": "size",
         "type": "\"long\""
        },
        {
         "metadata": "{}",
         "name": "modificationTime",
         "type": "\"long\""
        }
       ],
       "type": "table"
      }
     },
     "output_type": "display_data"
    }
   ],
   "source": [
    "%fs\n",
    "ls /FileStore/tables/csv_write/"
   ]
  },
  {
   "cell_type": "code",
   "execution_count": 0,
   "metadata": {
    "application/vnd.databricks.v1+cell": {
     "cellMetadata": {
      "byteLimit": 2048000,
      "rowLimit": 10000
     },
     "inputWidgets": {},
     "nuid": "ddd18bce-8031-46d9-836a-983543ee31fc",
     "showTitle": false,
     "title": ""
    }
   },
   "outputs": [],
   "source": [
    "# let's perform partition\n",
    "# From the above DataFrame, we will be use Team as a partition key\n",
    "part_df.write.option(\"header\",True)\\\n",
    "    .partitionBy(\"Team\")\\\n",
    "    .mode(\"overwrite\")\\\n",
    "    .csv(\"/FileStore/tables/csv_write/Team\")"
   ]
  },
  {
   "cell_type": "code",
   "execution_count": 0,
   "metadata": {
    "application/vnd.databricks.v1+cell": {
     "cellMetadata": {
      "byteLimit": 2048000,
      "rowLimit": 10000
     },
     "inputWidgets": {},
     "nuid": "0af9cfdf-e3e4-47a2-ab93-188c39badb2c",
     "showTitle": false,
     "title": ""
    }
   },
   "outputs": [
    {
     "output_type": "display_data",
     "data": {
      "text/html": [
       "<style scoped>\n",
       "  .table-result-container {\n",
       "    max-height: 300px;\n",
       "    overflow: auto;\n",
       "  }\n",
       "  table, th, td {\n",
       "    border: 1px solid black;\n",
       "    border-collapse: collapse;\n",
       "  }\n",
       "  th, td {\n",
       "    padding: 5px;\n",
       "  }\n",
       "  th {\n",
       "    text-align: left;\n",
       "  }\n",
       "</style><div class='table-result-container'><table class='table-result'><thead style='background-color: white'><tr><th>path</th><th>name</th><th>size</th><th>modificationTime</th></tr></thead><tbody><tr><td>dbfs:/FileStore/tables/csv_write/Team/Team=Aus/</td><td>Team=Aus/</td><td>0</td><td>0</td></tr><tr><td>dbfs:/FileStore/tables/csv_write/Team/Team=Ban/</td><td>Team=Ban/</td><td>0</td><td>0</td></tr><tr><td>dbfs:/FileStore/tables/csv_write/Team/Team=End/</td><td>Team=End/</td><td>0</td><td>0</td></tr><tr><td>dbfs:/FileStore/tables/csv_write/Team/Team=Ind/</td><td>Team=Ind/</td><td>0</td><td>0</td></tr><tr><td>dbfs:/FileStore/tables/csv_write/Team/Team=NZ/</td><td>Team=NZ/</td><td>0</td><td>0</td></tr><tr><td>dbfs:/FileStore/tables/csv_write/Team/Team=Pak/</td><td>Team=Pak/</td><td>0</td><td>0</td></tr><tr><td>dbfs:/FileStore/tables/csv_write/Team/Team=SA/</td><td>Team=SA/</td><td>0</td><td>0</td></tr><tr><td>dbfs:/FileStore/tables/csv_write/Team/Team=SL/</td><td>Team=SL/</td><td>0</td><td>0</td></tr><tr><td>dbfs:/FileStore/tables/csv_write/Team/Team=WI/</td><td>Team=WI/</td><td>0</td><td>0</td></tr><tr><td>dbfs:/FileStore/tables/csv_write/Team/_SUCCESS</td><td>_SUCCESS</td><td>0</td><td>1701867918000</td></tr><tr><td>dbfs:/FileStore/tables/csv_write/Team/_committed_3503136791206042078</td><td>_committed_3503136791206042078</td><td>123</td><td>1701857094000</td></tr><tr><td>dbfs:/FileStore/tables/csv_write/Team/_committed_4959936591170112872</td><td>_committed_4959936591170112872</td><td>112</td><td>1701857040000</td></tr><tr><td>dbfs:/FileStore/tables/csv_write/Team/_started_4959936591170112872</td><td>_started_4959936591170112872</td><td>0</td><td>1701857040000</td></tr></tbody></table></div>"
      ]
     },
     "metadata": {
      "application/vnd.databricks.v1+output": {
       "addedWidgets": {},
       "aggData": [],
       "aggError": "",
       "aggOverflow": false,
       "aggSchema": [],
       "aggSeriesLimitReached": false,
       "aggType": "",
       "arguments": {},
       "columnCustomDisplayInfos": {},
       "data": [
        [
         "dbfs:/FileStore/tables/csv_write/Team/Team=Aus/",
         "Team=Aus/",
         0,
         0
        ],
        [
         "dbfs:/FileStore/tables/csv_write/Team/Team=Ban/",
         "Team=Ban/",
         0,
         0
        ],
        [
         "dbfs:/FileStore/tables/csv_write/Team/Team=End/",
         "Team=End/",
         0,
         0
        ],
        [
         "dbfs:/FileStore/tables/csv_write/Team/Team=Ind/",
         "Team=Ind/",
         0,
         0
        ],
        [
         "dbfs:/FileStore/tables/csv_write/Team/Team=NZ/",
         "Team=NZ/",
         0,
         0
        ],
        [
         "dbfs:/FileStore/tables/csv_write/Team/Team=Pak/",
         "Team=Pak/",
         0,
         0
        ],
        [
         "dbfs:/FileStore/tables/csv_write/Team/Team=SA/",
         "Team=SA/",
         0,
         0
        ],
        [
         "dbfs:/FileStore/tables/csv_write/Team/Team=SL/",
         "Team=SL/",
         0,
         0
        ],
        [
         "dbfs:/FileStore/tables/csv_write/Team/Team=WI/",
         "Team=WI/",
         0,
         0
        ],
        [
         "dbfs:/FileStore/tables/csv_write/Team/_SUCCESS",
         "_SUCCESS",
         0,
         1701867918000
        ],
        [
         "dbfs:/FileStore/tables/csv_write/Team/_committed_3503136791206042078",
         "_committed_3503136791206042078",
         123,
         1701857094000
        ],
        [
         "dbfs:/FileStore/tables/csv_write/Team/_committed_4959936591170112872",
         "_committed_4959936591170112872",
         112,
         1701857040000
        ],
        [
         "dbfs:/FileStore/tables/csv_write/Team/_started_4959936591170112872",
         "_started_4959936591170112872",
         0,
         1701857040000
        ]
       ],
       "datasetInfos": [],
       "dbfsResultPath": null,
       "isJsonSchema": true,
       "metadata": {
        "isDbfsCommandResult": false
       },
       "overflow": false,
       "plotOptions": {
        "customPlotOptions": {},
        "displayType": "table",
        "pivotAggregation": null,
        "pivotColumns": null,
        "xColumns": null,
        "yColumns": null
       },
       "removedWidgets": [],
       "schema": [
        {
         "metadata": "{}",
         "name": "path",
         "type": "\"string\""
        },
        {
         "metadata": "{}",
         "name": "name",
         "type": "\"string\""
        },
        {
         "metadata": "{}",
         "name": "size",
         "type": "\"long\""
        },
        {
         "metadata": "{}",
         "name": "modificationTime",
         "type": "\"long\""
        }
       ],
       "type": "table"
      }
     },
     "output_type": "display_data"
    }
   ],
   "source": [
    "%fs\n",
    "ls /FileStore/tables/csv_write/Team/"
   ]
  },
  {
   "cell_type": "code",
   "execution_count": 0,
   "metadata": {
    "application/vnd.databricks.v1+cell": {
     "cellMetadata": {
      "byteLimit": 2048000,
      "rowLimit": 10000
     },
     "inputWidgets": {},
     "nuid": "6ff5b562-60c1-437b-a844-bc2cb40a6b53",
     "showTitle": false,
     "title": ""
    }
   },
   "outputs": [
    {
     "output_type": "stream",
     "name": "stdout",
     "output_type": "stream",
     "text": [
      "Number of partitions- 1\n"
     ]
    },
    {
     "output_type": "display_data",
     "data": {
      "text/html": [
       "<style scoped>\n",
       "  .table-result-container {\n",
       "    max-height: 300px;\n",
       "    overflow: auto;\n",
       "  }\n",
       "  table, th, td {\n",
       "    border: 1px solid black;\n",
       "    border-collapse: collapse;\n",
       "  }\n",
       "  th, td {\n",
       "    padding: 5px;\n",
       "  }\n",
       "  th {\n",
       "    text-align: left;\n",
       "  }\n",
       "</style><div class='table-result-container'><table class='table-result'><thead style='background-color: white'><tr><th>part_id</th><th>count</th></tr></thead><tbody><tr><td>0</td><td>30</td></tr></tbody></table></div>"
      ]
     },
     "metadata": {
      "application/vnd.databricks.v1+output": {
       "addedWidgets": {},
       "aggData": [],
       "aggError": "",
       "aggOverflow": false,
       "aggSchema": [],
       "aggSeriesLimitReached": false,
       "aggType": "",
       "arguments": {},
       "columnCustomDisplayInfos": {},
       "data": [
        [
         0,
         30
        ]
       ],
       "datasetInfos": [],
       "dbfsResultPath": null,
       "isJsonSchema": true,
       "metadata": {},
       "overflow": false,
       "plotOptions": {
        "customPlotOptions": {},
        "displayType": "table",
        "pivotAggregation": null,
        "pivotColumns": null,
        "xColumns": null,
        "yColumns": null
       },
       "removedWidgets": [],
       "schema": [
        {
         "metadata": "{}",
         "name": "part_id",
         "type": "\"integer\""
        },
        {
         "metadata": "{}",
         "name": "count",
         "type": "\"long\""
        }
       ],
       "type": "table"
      }
     },
     "output_type": "display_data"
    },
    {
     "output_type": "display_data",
     "data": {
      "text/html": [
       "<style scoped>\n",
       "  .table-result-container {\n",
       "    max-height: 300px;\n",
       "    overflow: auto;\n",
       "  }\n",
       "  table, th, td {\n",
       "    border: 1px solid black;\n",
       "    border-collapse: collapse;\n",
       "  }\n",
       "  th, td {\n",
       "    padding: 5px;\n",
       "  }\n",
       "  th {\n",
       "    text-align: left;\n",
       "  }\n",
       "</style><div class='table-result-container'><table class='table-result'><thead style='background-color: white'><tr><th>part_id</th><th>count</th></tr></thead><tbody><tr><td>0</td><td>7</td></tr><tr><td>1</td><td>8</td></tr><tr><td>2</td><td>8</td></tr><tr><td>3</td><td>7</td></tr></tbody></table></div>"
      ]
     },
     "metadata": {
      "application/vnd.databricks.v1+output": {
       "addedWidgets": {},
       "aggData": [],
       "aggError": "",
       "aggOverflow": false,
       "aggSchema": [],
       "aggSeriesLimitReached": false,
       "aggType": "",
       "arguments": {},
       "columnCustomDisplayInfos": {},
       "data": [
        [
         0,
         7
        ],
        [
         1,
         8
        ],
        [
         2,
         8
        ],
        [
         3,
         7
        ]
       ],
       "datasetInfos": [],
       "dbfsResultPath": null,
       "isJsonSchema": true,
       "metadata": {},
       "overflow": false,
       "plotOptions": {
        "customPlotOptions": {},
        "displayType": "table",
        "pivotAggregation": null,
        "pivotColumns": null,
        "xColumns": null,
        "yColumns": null
       },
       "removedWidgets": [],
       "schema": [
        {
         "metadata": "{}",
         "name": "part_id",
         "type": "\"integer\""
        },
        {
         "metadata": "{}",
         "name": "count",
         "type": "\"long\""
        }
       ],
       "type": "table"
      }
     },
     "output_type": "display_data"
    }
   ],
   "source": [
    "from pyspark.sql.functions import spark_partition_id\n",
    "\n",
    "print(\"Number of partitions-\", part_df.rdd.getNumPartitions())\n",
    "part_df.select(spark_partition_id().alias(\"part_id\")).groupBy(\"part_id\").count().display()\n",
    "part_df.repartition(4).select(spark_partition_id().alias(\"part_id\")).groupBy(\"part_id\").count().display()"
   ]
  },
  {
   "cell_type": "code",
   "execution_count": 0,
   "metadata": {
    "application/vnd.databricks.v1+cell": {
     "cellMetadata": {
      "byteLimit": 2048000,
      "rowLimit": 10000
     },
     "inputWidgets": {},
     "nuid": "e32942a1-20b9-4b92-aa14-f64b1d95fbe8",
     "showTitle": false,
     "title": ""
    }
   },
   "outputs": [
    {
     "output_type": "display_data",
     "data": {
      "text/html": [
       "<style scoped>\n",
       "  .table-result-container {\n",
       "    max-height: 300px;\n",
       "    overflow: auto;\n",
       "  }\n",
       "  table, th, td {\n",
       "    border: 1px solid black;\n",
       "    border-collapse: collapse;\n",
       "  }\n",
       "  th, td {\n",
       "    padding: 5px;\n",
       "  }\n",
       "  th {\n",
       "    text-align: left;\n",
       "  }\n",
       "</style><div class='table-result-container'><table class='table-result'><thead style='background-color: white'><tr><th>Player_ID</th><th>Player</th><th>Matches</th><th>Runs</th><th>Wickets</th><th>Hundreds</th><th>Fifties</th><th>Speciality</th><th>Team</th></tr></thead><tbody><tr><td>49991</td><td>Ricky Pointing</td><td>293</td><td>7758</td><td>36</td><td>32</td><td>28</td><td>Bat</td><td>Aus</td></tr><tr><td>548172</td><td>Mathew Hyden</td><td>327</td><td>1427</td><td>28</td><td>37</td><td>78</td><td>Bat</td><td>Aus</td></tr><tr><td>519952</td><td>Glenn McGrath</td><td>254</td><td>867</td><td>327</td><td>0</td><td>0</td><td>Bow</td><td>Aus</td></tr><tr><td>16116</td><td>Brett Lee</td><td>416</td><td>1329</td><td>266</td><td>0</td><td>0</td><td>Bow</td><td>Aus</td></tr><tr><td>566945</td><td>Shakib Ul-hasan</td><td>156</td><td>13714</td><td>118</td><td>11</td><td>18</td><td>All-rounder</td><td>Ban</td></tr><tr><td>10543</td><td>Andrew Filntoff</td><td>353</td><td>18201</td><td>216</td><td>9</td><td>42</td><td>All-rounder</td><td>End</td></tr><tr><td>258821</td><td>Eoin Morgan</td><td>460</td><td>7474</td><td>9</td><td>29</td><td>59</td><td>Bat</td><td>End</td></tr><tr><td>174931</td><td>Kevin Peterson</td><td>332</td><td>13368</td><td>29</td><td>3</td><td>58</td><td>Bat</td><td>End</td></tr><tr><td>498403</td><td>Yuvraj Singh</td><td>111</td><td>2948</td><td>167</td><td>9</td><td>28</td><td>All-rounder</td><td>Ind</td></tr><tr><td>895647</td><td>Virat Kohli</td><td>343</td><td>14970</td><td>29</td><td>34</td><td>66</td><td>Bat</td><td>Ind</td></tr><tr><td>142991</td><td>Rohit Sharma</td><td>148</td><td>8246</td><td>10</td><td>48</td><td>14</td><td>Bat</td><td>Ind</td></tr><tr><td>178781</td><td>Shreyas Iyyer</td><td>79</td><td>10929</td><td>21</td><td>44</td><td>86</td><td>Bat</td><td>Ind</td></tr><tr><td>204027</td><td>Shekhar Dhawan</td><td>428</td><td>15999</td><td>4</td><td>39</td><td>27</td><td>Bat</td><td>Ind</td></tr><tr><td>652081</td><td>Virendra Sehwag</td><td>426</td><td>7758</td><td>25</td><td>44</td><td>65</td><td>Bat</td><td>Ind</td></tr><tr><td>153571</td><td>Sachin Tendulkar</td><td>336</td><td>4850</td><td>4</td><td>40</td><td>10</td><td>Bat</td><td>Ind</td></tr><tr><td>540382</td><td>MS Dhoni</td><td>311</td><td>14700</td><td>19</td><td>26</td><td>38</td><td>Bat</td><td>Ind</td></tr><tr><td>550940</td><td>Jasprit Bumrah</td><td>461</td><td>1251</td><td>265</td><td>0</td><td>0</td><td>Bow</td><td>Ind</td></tr><tr><td>97711</td><td>Mohmmed Shami</td><td>419</td><td>5217</td><td>210</td><td>0</td><td>0</td><td>Bow</td><td>Ind</td></tr><tr><td>3956</td><td>R. Ashwin</td><td>365</td><td>2938</td><td>118</td><td>0</td><td>0</td><td>Bow</td><td>Ind</td></tr><tr><td>297523</td><td>Brendum Macculum</td><td>260</td><td>9642</td><td>25</td><td>39</td><td>77</td><td>Bat</td><td>NZ</td></tr><tr><td>609483</td><td>Danniel Vittory</td><td>178</td><td>1863</td><td>137</td><td>0</td><td>0</td><td>Bow</td><td>NZ</td></tr><tr><td>192546</td><td>Inzmam Ul-Haq</td><td>444</td><td>2696</td><td>14</td><td>41</td><td>88</td><td>Bat</td><td>Pak</td></tr><tr><td>533880</td><td>Jaq Kallis</td><td>248</td><td>7758</td><td>258</td><td>12</td><td>38</td><td>All-rounder</td><td>SA</td></tr><tr><td>550111</td><td>AB Deviliers</td><td>146</td><td>1599</td><td>7</td><td>25</td><td>75</td><td>Bat</td><td>SA</td></tr><tr><td>9748</td><td>Johnty Rhodes</td><td>141</td><td>7403</td><td>28</td><td>33</td><td>40</td><td>Bat</td><td>SA</td></tr><tr><td>232833</td><td>Sanath Jaysuriya</td><td>376</td><td>7396</td><td>21</td><td>27</td><td>23</td><td>Bat</td><td>SL</td></tr><tr><td>659798</td><td>Kumar Sangakkara</td><td>366</td><td>17727</td><td>35</td><td>17</td><td>50</td><td>Bat</td><td>SL</td></tr><tr><td>152246</td><td>Mahela Jaywardhane</td><td>457</td><td>17065</td><td>15</td><td>7</td><td>88</td><td>Bat</td><td>SL</td></tr><tr><td>391674</td><td>Dwane Bravo</td><td>355</td><td>8586</td><td>118</td><td>5</td><td>22</td><td>All-rounder</td><td>WI</td></tr><tr><td>396184</td><td>Chris Gayle</td><td>311</td><td>8680</td><td>31</td><td>38</td><td>67</td><td>Bat</td><td>WI</td></tr></tbody></table></div>"
      ]
     },
     "metadata": {
      "application/vnd.databricks.v1+output": {
       "addedWidgets": {},
       "aggData": [],
       "aggError": "",
       "aggOverflow": false,
       "aggSchema": [],
       "aggSeriesLimitReached": false,
       "aggType": "",
       "arguments": {},
       "columnCustomDisplayInfos": {},
       "data": [
        [
         49991,
         "Ricky Pointing",
         293,
         7758,
         36,
         32,
         28,
         "Bat",
         "Aus"
        ],
        [
         548172,
         "Mathew Hyden",
         327,
         1427,
         28,
         37,
         78,
         "Bat",
         "Aus"
        ],
        [
         519952,
         "Glenn McGrath",
         254,
         867,
         327,
         0,
         0,
         "Bow",
         "Aus"
        ],
        [
         16116,
         "Brett Lee",
         416,
         1329,
         266,
         0,
         0,
         "Bow",
         "Aus"
        ],
        [
         566945,
         "Shakib Ul-hasan",
         156,
         13714,
         118,
         11,
         18,
         "All-rounder",
         "Ban"
        ],
        [
         10543,
         "Andrew Filntoff",
         353,
         18201,
         216,
         9,
         42,
         "All-rounder",
         "End"
        ],
        [
         258821,
         "Eoin Morgan",
         460,
         7474,
         9,
         29,
         59,
         "Bat",
         "End"
        ],
        [
         174931,
         "Kevin Peterson",
         332,
         13368,
         29,
         3,
         58,
         "Bat",
         "End"
        ],
        [
         498403,
         "Yuvraj Singh",
         111,
         2948,
         167,
         9,
         28,
         "All-rounder",
         "Ind"
        ],
        [
         895647,
         "Virat Kohli",
         343,
         14970,
         29,
         34,
         66,
         "Bat",
         "Ind"
        ],
        [
         142991,
         "Rohit Sharma",
         148,
         8246,
         10,
         48,
         14,
         "Bat",
         "Ind"
        ],
        [
         178781,
         "Shreyas Iyyer",
         79,
         10929,
         21,
         44,
         86,
         "Bat",
         "Ind"
        ],
        [
         204027,
         "Shekhar Dhawan",
         428,
         15999,
         4,
         39,
         27,
         "Bat",
         "Ind"
        ],
        [
         652081,
         "Virendra Sehwag",
         426,
         7758,
         25,
         44,
         65,
         "Bat",
         "Ind"
        ],
        [
         153571,
         "Sachin Tendulkar",
         336,
         4850,
         4,
         40,
         10,
         "Bat",
         "Ind"
        ],
        [
         540382,
         "MS Dhoni",
         311,
         14700,
         19,
         26,
         38,
         "Bat",
         "Ind"
        ],
        [
         550940,
         "Jasprit Bumrah",
         461,
         1251,
         265,
         0,
         0,
         "Bow",
         "Ind"
        ],
        [
         97711,
         "Mohmmed Shami",
         419,
         5217,
         210,
         0,
         0,
         "Bow",
         "Ind"
        ],
        [
         3956,
         "R. Ashwin",
         365,
         2938,
         118,
         0,
         0,
         "Bow",
         "Ind"
        ],
        [
         297523,
         "Brendum Macculum",
         260,
         9642,
         25,
         39,
         77,
         "Bat",
         "NZ"
        ],
        [
         609483,
         "Danniel Vittory",
         178,
         1863,
         137,
         0,
         0,
         "Bow",
         "NZ"
        ],
        [
         192546,
         "Inzmam Ul-Haq",
         444,
         2696,
         14,
         41,
         88,
         "Bat",
         "Pak"
        ],
        [
         533880,
         "Jaq Kallis",
         248,
         7758,
         258,
         12,
         38,
         "All-rounder",
         "SA"
        ],
        [
         550111,
         "AB Deviliers",
         146,
         1599,
         7,
         25,
         75,
         "Bat",
         "SA"
        ],
        [
         9748,
         "Johnty Rhodes",
         141,
         7403,
         28,
         33,
         40,
         "Bat",
         "SA"
        ],
        [
         232833,
         "Sanath Jaysuriya",
         376,
         7396,
         21,
         27,
         23,
         "Bat",
         "SL"
        ],
        [
         659798,
         "Kumar Sangakkara",
         366,
         17727,
         35,
         17,
         50,
         "Bat",
         "SL"
        ],
        [
         152246,
         "Mahela Jaywardhane",
         457,
         17065,
         15,
         7,
         88,
         "Bat",
         "SL"
        ],
        [
         391674,
         "Dwane Bravo",
         355,
         8586,
         118,
         5,
         22,
         "All-rounder",
         "WI"
        ],
        [
         396184,
         "Chris Gayle",
         311,
         8680,
         31,
         38,
         67,
         "Bat",
         "WI"
        ]
       ],
       "datasetInfos": [],
       "dbfsResultPath": null,
       "isJsonSchema": true,
       "metadata": {},
       "overflow": false,
       "plotOptions": {
        "customPlotOptions": {},
        "displayType": "table",
        "pivotAggregation": null,
        "pivotColumns": null,
        "xColumns": null,
        "yColumns": null
       },
       "removedWidgets": [],
       "schema": [
        {
         "metadata": "{}",
         "name": "Player_ID",
         "type": "\"integer\""
        },
        {
         "metadata": "{}",
         "name": "Player",
         "type": "\"string\""
        },
        {
         "metadata": "{}",
         "name": "Matches",
         "type": "\"integer\""
        },
        {
         "metadata": "{}",
         "name": "Runs",
         "type": "\"integer\""
        },
        {
         "metadata": "{}",
         "name": "Wickets",
         "type": "\"integer\""
        },
        {
         "metadata": "{}",
         "name": "Hundreds",
         "type": "\"integer\""
        },
        {
         "metadata": "{}",
         "name": "Fifties",
         "type": "\"integer\""
        },
        {
         "metadata": "{}",
         "name": "Speciality",
         "type": "\"string\""
        },
        {
         "metadata": "{}",
         "name": "Team",
         "type": "\"string\""
        }
       ],
       "type": "table"
      }
     },
     "output_type": "display_data"
    },
    {
     "output_type": "display_data",
     "data": {
      "text/html": [
       "<style scoped>\n",
       "  .table-result-container {\n",
       "    max-height: 300px;\n",
       "    overflow: auto;\n",
       "  }\n",
       "  table, th, td {\n",
       "    border: 1px solid black;\n",
       "    border-collapse: collapse;\n",
       "  }\n",
       "  th, td {\n",
       "    padding: 5px;\n",
       "  }\n",
       "  th {\n",
       "    text-align: left;\n",
       "  }\n",
       "</style><div class='table-result-container'><table class='table-result'><thead style='background-color: white'><tr><th>summary</th><th>Player_ID</th><th>Player</th><th>Matches</th><th>Runs</th><th>Wickets</th><th>Hundreds</th><th>Fifties</th><th>Speciality</th><th>Team</th></tr></thead><tbody><tr><td>count</td><td>30</td><td>30</td><td>30</td><td>30</td><td>30</td><td>30</td><td>30</td><td>30</td><td>30</td></tr><tr><td>mean</td><td>336332.9</td><td>null</td><td>310.0</td><td>8145.3</td><td>86.33333333333333</td><td>21.633333333333333</td><td>39.5</td><td>null</td><td>null</td></tr><tr><td>stddev</td><td>242513.10048515047</td><td>null</td><td>114.14842122852824</td><td>5484.047103283713</td><td>98.25453690791333</td><td>16.826668761498677</td><td>30.121306469810964</td><td>null</td><td>null</td></tr><tr><td>min</td><td>3956</td><td>AB Deviliers</td><td>79</td><td>867</td><td>4</td><td>0</td><td>0</td><td>All-rounder</td><td>Aus</td></tr><tr><td>max</td><td>895647</td><td>Yuvraj Singh</td><td>461</td><td>18201</td><td>327</td><td>48</td><td>88</td><td>Bow</td><td>WI</td></tr></tbody></table></div>"
      ]
     },
     "metadata": {
      "application/vnd.databricks.v1+output": {
       "addedWidgets": {},
       "aggData": [],
       "aggError": "",
       "aggOverflow": false,
       "aggSchema": [],
       "aggSeriesLimitReached": false,
       "aggType": "",
       "arguments": {},
       "columnCustomDisplayInfos": {},
       "data": [
        [
         "count",
         "30",
         "30",
         "30",
         "30",
         "30",
         "30",
         "30",
         "30",
         "30"
        ],
        [
         "mean",
         "336332.9",
         null,
         "310.0",
         "8145.3",
         "86.33333333333333",
         "21.633333333333333",
         "39.5",
         null,
         null
        ],
        [
         "stddev",
         "242513.10048515047",
         null,
         "114.14842122852824",
         "5484.047103283713",
         "98.25453690791333",
         "16.826668761498677",
         "30.121306469810964",
         null,
         null
        ],
        [
         "min",
         "3956",
         "AB Deviliers",
         "79",
         "867",
         "4",
         "0",
         "0",
         "All-rounder",
         "Aus"
        ],
        [
         "max",
         "895647",
         "Yuvraj Singh",
         "461",
         "18201",
         "327",
         "48",
         "88",
         "Bow",
         "WI"
        ]
       ],
       "datasetInfos": [],
       "dbfsResultPath": null,
       "isJsonSchema": true,
       "metadata": {},
       "overflow": false,
       "plotOptions": {
        "customPlotOptions": {},
        "displayType": "table",
        "pivotAggregation": null,
        "pivotColumns": null,
        "xColumns": null,
        "yColumns": null
       },
       "removedWidgets": [],
       "schema": [
        {
         "metadata": "{}",
         "name": "summary",
         "type": "\"string\""
        },
        {
         "metadata": "{}",
         "name": "Player_ID",
         "type": "\"string\""
        },
        {
         "metadata": "{}",
         "name": "Player",
         "type": "\"string\""
        },
        {
         "metadata": "{}",
         "name": "Matches",
         "type": "\"string\""
        },
        {
         "metadata": "{}",
         "name": "Runs",
         "type": "\"string\""
        },
        {
         "metadata": "{}",
         "name": "Wickets",
         "type": "\"string\""
        },
        {
         "metadata": "{}",
         "name": "Hundreds",
         "type": "\"string\""
        },
        {
         "metadata": "{}",
         "name": "Fifties",
         "type": "\"string\""
        },
        {
         "metadata": "{}",
         "name": "Speciality",
         "type": "\"string\""
        },
        {
         "metadata": "{}",
         "name": "Team",
         "type": "\"string\""
        }
       ],
       "type": "table"
      }
     },
     "output_type": "display_data"
    }
   ],
   "source": [
    "# to perform sql query on partition data \n",
    "# we have to create a datafram fro that\n",
    "partitioned_df = spark.read.csv(\"/FileStore/tables/csv_write/Team\", header=True, inferSchema=True)\n",
    "partitioned_df.select(\"*\").orderBy(\"Team\").display()\n",
    "partitioned_df.describe().display()"
   ]
  },
  {
   "cell_type": "code",
   "execution_count": 0,
   "metadata": {
    "application/vnd.databricks.v1+cell": {
     "cellMetadata": {
      "byteLimit": 2048000,
      "rowLimit": 10000
     },
     "inputWidgets": {},
     "nuid": "b5c5174d-54df-4a2e-b5c5-78a23c5142f1",
     "showTitle": false,
     "title": ""
    }
   },
   "outputs": [],
   "source": [
    "# to perform sql queries of dataframe create a temp view\n",
    "partitioned_df.createOrReplaceTempView(\"cric_tb\")"
   ]
  },
  {
   "cell_type": "code",
   "execution_count": 0,
   "metadata": {
    "application/vnd.databricks.v1+cell": {
     "cellMetadata": {
      "byteLimit": 2048000,
      "implicitDf": true,
      "rowLimit": 10000
     },
     "inputWidgets": {},
     "nuid": "167cb940-47dd-4437-8dea-410743933ddd",
     "showTitle": false,
     "title": ""
    }
   },
   "outputs": [
    {
     "output_type": "display_data",
     "data": {
      "text/html": [
       "<style scoped>\n",
       "  .table-result-container {\n",
       "    max-height: 300px;\n",
       "    overflow: auto;\n",
       "  }\n",
       "  table, th, td {\n",
       "    border: 1px solid black;\n",
       "    border-collapse: collapse;\n",
       "  }\n",
       "  th, td {\n",
       "    padding: 5px;\n",
       "  }\n",
       "  th {\n",
       "    text-align: left;\n",
       "  }\n",
       "</style><div class='table-result-container'><table class='table-result'><thead style='background-color: white'><tr><th>Player_ID</th><th>Player</th><th>Matches</th><th>Runs</th><th>Wickets</th><th>Hundreds</th><th>Fifties</th><th>Speciality</th><th>Team</th></tr></thead><tbody><tr><td>498403</td><td>Yuvraj Singh</td><td>111</td><td>2948</td><td>167</td><td>9</td><td>28</td><td>All-rounder</td><td>Ind</td></tr><tr><td>895647</td><td>Virat Kohli</td><td>343</td><td>14970</td><td>29</td><td>34</td><td>66</td><td>Bat</td><td>Ind</td></tr><tr><td>142991</td><td>Rohit Sharma</td><td>148</td><td>8246</td><td>10</td><td>48</td><td>14</td><td>Bat</td><td>Ind</td></tr><tr><td>178781</td><td>Shreyas Iyyer</td><td>79</td><td>10929</td><td>21</td><td>44</td><td>86</td><td>Bat</td><td>Ind</td></tr><tr><td>204027</td><td>Shekhar Dhawan</td><td>428</td><td>15999</td><td>4</td><td>39</td><td>27</td><td>Bat</td><td>Ind</td></tr><tr><td>652081</td><td>Virendra Sehwag</td><td>426</td><td>7758</td><td>25</td><td>44</td><td>65</td><td>Bat</td><td>Ind</td></tr><tr><td>153571</td><td>Sachin Tendulkar</td><td>336</td><td>4850</td><td>4</td><td>40</td><td>10</td><td>Bat</td><td>Ind</td></tr><tr><td>540382</td><td>MS Dhoni</td><td>311</td><td>14700</td><td>19</td><td>26</td><td>38</td><td>Bat</td><td>Ind</td></tr><tr><td>550940</td><td>Jasprit Bumrah</td><td>461</td><td>1251</td><td>265</td><td>0</td><td>0</td><td>Bow</td><td>Ind</td></tr><tr><td>97711</td><td>Mohmmed Shami</td><td>419</td><td>5217</td><td>210</td><td>0</td><td>0</td><td>Bow</td><td>Ind</td></tr><tr><td>3956</td><td>R. Ashwin</td><td>365</td><td>2938</td><td>118</td><td>0</td><td>0</td><td>Bow</td><td>Ind</td></tr><tr><td>49991</td><td>Ricky Pointing</td><td>293</td><td>7758</td><td>36</td><td>32</td><td>28</td><td>Bat</td><td>Aus</td></tr><tr><td>548172</td><td>Mathew Hyden</td><td>327</td><td>1427</td><td>28</td><td>37</td><td>78</td><td>Bat</td><td>Aus</td></tr><tr><td>519952</td><td>Glenn McGrath</td><td>254</td><td>867</td><td>327</td><td>0</td><td>0</td><td>Bow</td><td>Aus</td></tr><tr><td>16116</td><td>Brett Lee</td><td>416</td><td>1329</td><td>266</td><td>0</td><td>0</td><td>Bow</td><td>Aus</td></tr><tr><td>232833</td><td>Sanath Jaysuriya</td><td>376</td><td>7396</td><td>21</td><td>27</td><td>23</td><td>Bat</td><td>SL</td></tr><tr><td>659798</td><td>Kumar Sangakkara</td><td>366</td><td>17727</td><td>35</td><td>17</td><td>50</td><td>Bat</td><td>SL</td></tr><tr><td>152246</td><td>Mahela Jaywardhane</td><td>457</td><td>17065</td><td>15</td><td>7</td><td>88</td><td>Bat</td><td>SL</td></tr><tr><td>10543</td><td>Andrew Filntoff</td><td>353</td><td>18201</td><td>216</td><td>9</td><td>42</td><td>All-rounder</td><td>End</td></tr><tr><td>258821</td><td>Eoin Morgan</td><td>460</td><td>7474</td><td>9</td><td>29</td><td>59</td><td>Bat</td><td>End</td></tr><tr><td>174931</td><td>Kevin Peterson</td><td>332</td><td>13368</td><td>29</td><td>3</td><td>58</td><td>Bat</td><td>End</td></tr><tr><td>533880</td><td>Jaq Kallis</td><td>248</td><td>7758</td><td>258</td><td>12</td><td>38</td><td>All-rounder</td><td>SA</td></tr><tr><td>550111</td><td>AB Deviliers</td><td>146</td><td>1599</td><td>7</td><td>25</td><td>75</td><td>Bat</td><td>SA</td></tr><tr><td>9748</td><td>Johnty Rhodes</td><td>141</td><td>7403</td><td>28</td><td>33</td><td>40</td><td>Bat</td><td>SA</td></tr><tr><td>297523</td><td>Brendum Macculum</td><td>260</td><td>9642</td><td>25</td><td>39</td><td>77</td><td>Bat</td><td>NZ</td></tr><tr><td>609483</td><td>Danniel Vittory</td><td>178</td><td>1863</td><td>137</td><td>0</td><td>0</td><td>Bow</td><td>NZ</td></tr><tr><td>391674</td><td>Dwane Bravo</td><td>355</td><td>8586</td><td>118</td><td>5</td><td>22</td><td>All-rounder</td><td>WI</td></tr><tr><td>396184</td><td>Chris Gayle</td><td>311</td><td>8680</td><td>31</td><td>38</td><td>67</td><td>Bat</td><td>WI</td></tr><tr><td>566945</td><td>Shakib Ul-hasan</td><td>156</td><td>13714</td><td>118</td><td>11</td><td>18</td><td>All-rounder</td><td>Ban</td></tr><tr><td>192546</td><td>Inzmam Ul-Haq</td><td>444</td><td>2696</td><td>14</td><td>41</td><td>88</td><td>Bat</td><td>Pak</td></tr></tbody></table></div>"
      ]
     },
     "metadata": {
      "application/vnd.databricks.v1+output": {
       "addedWidgets": {},
       "aggData": [],
       "aggError": "",
       "aggOverflow": false,
       "aggSchema": [],
       "aggSeriesLimitReached": false,
       "aggType": "",
       "arguments": {},
       "columnCustomDisplayInfos": {},
       "data": [
        [
         498403,
         "Yuvraj Singh",
         111,
         2948,
         167,
         9,
         28,
         "All-rounder",
         "Ind"
        ],
        [
         895647,
         "Virat Kohli",
         343,
         14970,
         29,
         34,
         66,
         "Bat",
         "Ind"
        ],
        [
         142991,
         "Rohit Sharma",
         148,
         8246,
         10,
         48,
         14,
         "Bat",
         "Ind"
        ],
        [
         178781,
         "Shreyas Iyyer",
         79,
         10929,
         21,
         44,
         86,
         "Bat",
         "Ind"
        ],
        [
         204027,
         "Shekhar Dhawan",
         428,
         15999,
         4,
         39,
         27,
         "Bat",
         "Ind"
        ],
        [
         652081,
         "Virendra Sehwag",
         426,
         7758,
         25,
         44,
         65,
         "Bat",
         "Ind"
        ],
        [
         153571,
         "Sachin Tendulkar",
         336,
         4850,
         4,
         40,
         10,
         "Bat",
         "Ind"
        ],
        [
         540382,
         "MS Dhoni",
         311,
         14700,
         19,
         26,
         38,
         "Bat",
         "Ind"
        ],
        [
         550940,
         "Jasprit Bumrah",
         461,
         1251,
         265,
         0,
         0,
         "Bow",
         "Ind"
        ],
        [
         97711,
         "Mohmmed Shami",
         419,
         5217,
         210,
         0,
         0,
         "Bow",
         "Ind"
        ],
        [
         3956,
         "R. Ashwin",
         365,
         2938,
         118,
         0,
         0,
         "Bow",
         "Ind"
        ],
        [
         49991,
         "Ricky Pointing",
         293,
         7758,
         36,
         32,
         28,
         "Bat",
         "Aus"
        ],
        [
         548172,
         "Mathew Hyden",
         327,
         1427,
         28,
         37,
         78,
         "Bat",
         "Aus"
        ],
        [
         519952,
         "Glenn McGrath",
         254,
         867,
         327,
         0,
         0,
         "Bow",
         "Aus"
        ],
        [
         16116,
         "Brett Lee",
         416,
         1329,
         266,
         0,
         0,
         "Bow",
         "Aus"
        ],
        [
         232833,
         "Sanath Jaysuriya",
         376,
         7396,
         21,
         27,
         23,
         "Bat",
         "SL"
        ],
        [
         659798,
         "Kumar Sangakkara",
         366,
         17727,
         35,
         17,
         50,
         "Bat",
         "SL"
        ],
        [
         152246,
         "Mahela Jaywardhane",
         457,
         17065,
         15,
         7,
         88,
         "Bat",
         "SL"
        ],
        [
         10543,
         "Andrew Filntoff",
         353,
         18201,
         216,
         9,
         42,
         "All-rounder",
         "End"
        ],
        [
         258821,
         "Eoin Morgan",
         460,
         7474,
         9,
         29,
         59,
         "Bat",
         "End"
        ],
        [
         174931,
         "Kevin Peterson",
         332,
         13368,
         29,
         3,
         58,
         "Bat",
         "End"
        ],
        [
         533880,
         "Jaq Kallis",
         248,
         7758,
         258,
         12,
         38,
         "All-rounder",
         "SA"
        ],
        [
         550111,
         "AB Deviliers",
         146,
         1599,
         7,
         25,
         75,
         "Bat",
         "SA"
        ],
        [
         9748,
         "Johnty Rhodes",
         141,
         7403,
         28,
         33,
         40,
         "Bat",
         "SA"
        ],
        [
         297523,
         "Brendum Macculum",
         260,
         9642,
         25,
         39,
         77,
         "Bat",
         "NZ"
        ],
        [
         609483,
         "Danniel Vittory",
         178,
         1863,
         137,
         0,
         0,
         "Bow",
         "NZ"
        ],
        [
         391674,
         "Dwane Bravo",
         355,
         8586,
         118,
         5,
         22,
         "All-rounder",
         "WI"
        ],
        [
         396184,
         "Chris Gayle",
         311,
         8680,
         31,
         38,
         67,
         "Bat",
         "WI"
        ],
        [
         566945,
         "Shakib Ul-hasan",
         156,
         13714,
         118,
         11,
         18,
         "All-rounder",
         "Ban"
        ],
        [
         192546,
         "Inzmam Ul-Haq",
         444,
         2696,
         14,
         41,
         88,
         "Bat",
         "Pak"
        ]
       ],
       "datasetInfos": [],
       "dbfsResultPath": null,
       "isJsonSchema": true,
       "metadata": {
        "dataframeName": "_sqldf",
        "executionCount": 6
       },
       "overflow": false,
       "plotOptions": {
        "customPlotOptions": {},
        "displayType": "table",
        "pivotAggregation": null,
        "pivotColumns": null,
        "xColumns": null,
        "yColumns": null
       },
       "removedWidgets": [],
       "schema": [
        {
         "metadata": "{}",
         "name": "Player_ID",
         "type": "\"integer\""
        },
        {
         "metadata": "{}",
         "name": "Player",
         "type": "\"string\""
        },
        {
         "metadata": "{}",
         "name": "Matches",
         "type": "\"integer\""
        },
        {
         "metadata": "{}",
         "name": "Runs",
         "type": "\"integer\""
        },
        {
         "metadata": "{}",
         "name": "Wickets",
         "type": "\"integer\""
        },
        {
         "metadata": "{}",
         "name": "Hundreds",
         "type": "\"integer\""
        },
        {
         "metadata": "{}",
         "name": "Fifties",
         "type": "\"integer\""
        },
        {
         "metadata": "{}",
         "name": "Speciality",
         "type": "\"string\""
        },
        {
         "metadata": "{}",
         "name": "Team",
         "type": "\"string\""
        }
       ],
       "type": "table"
      }
     },
     "output_type": "display_data"
    }
   ],
   "source": [
    "%sql select * from cric_tb;"
   ]
  },
  {
   "cell_type": "code",
   "execution_count": 0,
   "metadata": {
    "application/vnd.databricks.v1+cell": {
     "cellMetadata": {},
     "inputWidgets": {},
     "nuid": "b8bf5f8b-c0a2-43be-868b-6052225a69d1",
     "showTitle": false,
     "title": ""
    }
   },
   "outputs": [],
   "source": [
    "# start performing your respective quries"
   ]
  }
 ],
 "metadata": {
  "application/vnd.databricks.v1+notebook": {
   "dashboards": [],
   "language": "python",
   "notebookMetadata": {
    "mostRecentlyExecutedCommandWithImplicitDF": {
     "commandId": 2630926908096300,
     "dataframes": [
      "_sqldf"
     ]
    },
    "pythonIndentUnit": 4
   },
   "notebookName": "how to perform partition in PySpark",
   "widgets": {}
  }
 },
 "nbformat": 4,
 "nbformat_minor": 0
}
