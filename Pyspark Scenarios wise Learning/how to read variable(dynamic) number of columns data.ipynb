{
 "cells": [
  {
   "cell_type": "code",
   "execution_count": 0,
   "metadata": {
    "application/vnd.databricks.v1+cell": {
     "cellMetadata": {
      "byteLimit": 2048000,
      "rowLimit": 10000
     },
     "inputWidgets": {},
     "nuid": "3a1760f3-bc31-49b9-b4d8-6d860cca76c3",
     "showTitle": false,
     "title": ""
    }
   },
   "outputs": [
    {
     "output_type": "execute_result",
     "data": {
      "text/html": [
       "\n",
       "            <div>\n",
       "                <p><b>SparkSession - hive</b></p>\n",
       "                \n",
       "        <div>\n",
       "            <p><b>SparkContext</b></p>\n",
       "\n",
       "            <p><a href=\"/?o=1055290162342735#setting/sparkui/1205-125726-fwdqgyvd/driver-483664100052236693\">Spark UI</a></p>\n",
       "\n",
       "            <dl>\n",
       "              <dt>Version</dt>\n",
       "                <dd><code>v3.5.0</code></dd>\n",
       "              <dt>Master</dt>\n",
       "                <dd><code>local[8]</code></dd>\n",
       "              <dt>AppName</dt>\n",
       "                <dd><code>Databricks Shell</code></dd>\n",
       "            </dl>\n",
       "        </div>\n",
       "        \n",
       "            </div>\n",
       "        "
      ],
      "text/plain": [
       "<pyspark.sql.session.SparkSession at 0x7fe0705579d0>"
      ]
     },
     "execution_count": 1,
     "metadata": {},
     "output_type": "execute_result"
    }
   ],
   "source": [
    "spark"
   ]
  },
  {
   "cell_type": "code",
   "execution_count": 0,
   "metadata": {
    "application/vnd.databricks.v1+cell": {
     "cellMetadata": {
      "byteLimit": 2048000,
      "rowLimit": 10000
     },
     "inputWidgets": {},
     "nuid": "3a035a8d-8a09-4dab-a1ea-295e4216632b",
     "showTitle": false,
     "title": ""
    }
   },
   "outputs": [
    {
     "output_type": "display_data",
     "data": {
      "text/html": [
       "<style scoped>\n",
       "  .table-result-container {\n",
       "    max-height: 300px;\n",
       "    overflow: auto;\n",
       "  }\n",
       "  table, th, td {\n",
       "    border: 1px solid black;\n",
       "    border-collapse: collapse;\n",
       "  }\n",
       "  th, td {\n",
       "    padding: 5px;\n",
       "  }\n",
       "  th {\n",
       "    text-align: left;\n",
       "  }\n",
       "</style><div class='table-result-container'><table class='table-result'><thead style='background-color: white'><tr><th>id</th><th>name</th><th>city</th><th>gmail</th><th>contact</th></tr></thead><tbody><tr><td>1</td><td>\" \"\"ravi\"\"\"</td><td>null</td><td>null</td><td>null</td></tr><tr><td>2</td><td>\" \"\"ram\"\"\"</td><td>\" \"\"chennai\"\"\"</td><td>\" \"\"sample@gamil.com\"\"\"</td><td>9191919191</td></tr><tr><td>3</td><td>\" \"\"prasad\"\"\"</td><td>\" \"\"bangolare\"\"\"</td><td>null</td><td>null</td></tr><tr><td>4</td><td>\" \"\"sam\"\"\"</td><td> null</td><td>\" \"\"pune@gmail.com\"\"\"</td><td>null</td></tr></tbody></table></div>"
      ]
     },
     "metadata": {
      "application/vnd.databricks.v1+output": {
       "addedWidgets": {},
       "aggData": [],
       "aggError": "",
       "aggOverflow": false,
       "aggSchema": [],
       "aggSeriesLimitReached": false,
       "aggType": "",
       "arguments": {},
       "columnCustomDisplayInfos": {},
       "data": [
        [
         1,
         "\" \"\"ravi\"\"\"",
         null,
         null,
         null
        ],
        [
         2,
         "\" \"\"ram\"\"\"",
         "\" \"\"chennai\"\"\"",
         "\" \"\"sample@gamil.com\"\"\"",
         9191919191
        ],
        [
         3,
         "\" \"\"prasad\"\"\"",
         "\" \"\"bangolare\"\"\"",
         null,
         null
        ],
        [
         4,
         "\" \"\"sam\"\"\"",
         " null",
         "\" \"\"pune@gmail.com\"\"\"",
         null
        ]
       ],
       "datasetInfos": [],
       "dbfsResultPath": null,
       "isJsonSchema": true,
       "metadata": {},
       "overflow": false,
       "plotOptions": {
        "customPlotOptions": {},
        "displayType": "table",
        "pivotAggregation": null,
        "pivotColumns": null,
        "xColumns": null,
        "yColumns": null
       },
       "removedWidgets": [],
       "schema": [
        {
         "metadata": "{}",
         "name": "id",
         "type": "\"integer\""
        },
        {
         "metadata": "{}",
         "name": "name",
         "type": "\"string\""
        },
        {
         "metadata": "{}",
         "name": "city",
         "type": "\"string\""
        },
        {
         "metadata": "{}",
         "name": "gmail",
         "type": "\"string\""
        },
        {
         "metadata": "{}",
         "name": "contact",
         "type": "\"long\""
        }
       ],
       "type": "table"
      }
     },
     "output_type": "display_data"
    },
    {
     "output_type": "display_data",
     "data": {
      "text/html": [
       "<style scoped>\n",
       "  .table-result-container {\n",
       "    max-height: 300px;\n",
       "    overflow: auto;\n",
       "  }\n",
       "  table, th, td {\n",
       "    border: 1px solid black;\n",
       "    border-collapse: collapse;\n",
       "  }\n",
       "  th, td {\n",
       "    padding: 5px;\n",
       "  }\n",
       "  th {\n",
       "    text-align: left;\n",
       "  }\n",
       "</style><div class='table-result-container'><table class='table-result'><thead style='background-color: white'><tr><th>value</th></tr></thead><tbody><tr><td>1, \"ravi\"</td></tr><tr><td>2, \"ram\", \"chennai\", \"sample@gamil.com\", 9191919191</td></tr><tr><td>3, \"prasad\", \"bangolare\"</td></tr><tr><td>4, \"sam\", \"pune@gmail.com\"</td></tr></tbody></table></div>"
      ]
     },
     "metadata": {
      "application/vnd.databricks.v1+output": {
       "addedWidgets": {},
       "aggData": [],
       "aggError": "",
       "aggOverflow": false,
       "aggSchema": [],
       "aggSeriesLimitReached": false,
       "aggType": "",
       "arguments": {},
       "columnCustomDisplayInfos": {},
       "data": [
        [
         "1, \"ravi\""
        ],
        [
         "2, \"ram\", \"chennai\", \"sample@gamil.com\", 9191919191"
        ],
        [
         "3, \"prasad\", \"bangolare\""
        ],
        [
         "4, \"sam\", \"pune@gmail.com\""
        ]
       ],
       "datasetInfos": [],
       "dbfsResultPath": null,
       "isJsonSchema": true,
       "metadata": {},
       "overflow": false,
       "plotOptions": {
        "customPlotOptions": {},
        "displayType": "table",
        "pivotAggregation": null,
        "pivotColumns": null,
        "xColumns": null,
        "yColumns": null
       },
       "removedWidgets": [],
       "schema": [
        {
         "metadata": "{}",
         "name": "value",
         "type": "\"string\""
        }
       ],
       "type": "table"
      }
     },
     "output_type": "display_data"
    }
   ],
   "source": [
    "# here we create a dataframe with col name\n",
    "df2 = spark.read.csv(\"/FileStore/tables/sample_dyanamic_data_with_col-1.csv\", inferSchema=True, header=True)\n",
    "df2.display()\n",
    "\n",
    "# here we don;t have col so have to use format as text\n",
    "df = spark.read.text(\"/FileStore/tables/sample_dyanamic_data.csv\")\n",
    "df.display()"
   ]
  },
  {
   "cell_type": "code",
   "execution_count": 0,
   "metadata": {
    "application/vnd.databricks.v1+cell": {
     "cellMetadata": {
      "byteLimit": 2048000,
      "rowLimit": 10000
     },
     "inputWidgets": {},
     "nuid": "28cd2e8d-b9f6-42f4-af4d-f88130ea2d0e",
     "showTitle": false,
     "title": ""
    }
   },
   "outputs": [
    {
     "output_type": "display_data",
     "data": {
      "text/html": [
       "<style scoped>\n",
       "  .table-result-container {\n",
       "    max-height: 300px;\n",
       "    overflow: auto;\n",
       "  }\n",
       "  table, th, td {\n",
       "    border: 1px solid black;\n",
       "    border-collapse: collapse;\n",
       "  }\n",
       "  th, td {\n",
       "    padding: 5px;\n",
       "  }\n",
       "  th {\n",
       "    text-align: left;\n",
       "  }\n",
       "</style><div class='table-result-container'><table class='table-result'><thead style='background-color: white'><tr><th>split_col</th></tr></thead><tbody><tr><td>List(1,  \"ravi\")</td></tr><tr><td>List(2,  \"ram\",  \"chennai\",  \"sample@gamil.com\",  9191919191)</td></tr><tr><td>List(3,  \"prasad\",  \"bangolare\")</td></tr><tr><td>List(4,  \"sam\",  \"pune@gmail.com\")</td></tr></tbody></table></div>"
      ]
     },
     "metadata": {
      "application/vnd.databricks.v1+output": {
       "addedWidgets": {},
       "aggData": [],
       "aggError": "",
       "aggOverflow": false,
       "aggSchema": [],
       "aggSeriesLimitReached": false,
       "aggType": "",
       "arguments": {},
       "columnCustomDisplayInfos": {},
       "data": [
        [
         [
          "1",
          " \"ravi\""
         ]
        ],
        [
         [
          "2",
          " \"ram\"",
          " \"chennai\"",
          " \"sample@gamil.com\"",
          " 9191919191"
         ]
        ],
        [
         [
          "3",
          " \"prasad\"",
          " \"bangolare\""
         ]
        ],
        [
         [
          "4",
          " \"sam\"",
          " \"pune@gmail.com\""
         ]
        ]
       ],
       "datasetInfos": [],
       "dbfsResultPath": null,
       "isJsonSchema": true,
       "metadata": {},
       "overflow": false,
       "plotOptions": {
        "customPlotOptions": {},
        "displayType": "table",
        "pivotAggregation": null,
        "pivotColumns": null,
        "xColumns": null,
        "yColumns": null
       },
       "removedWidgets": [],
       "schema": [
        {
         "metadata": "{}",
         "name": "split_col",
         "type": "{\"type\":\"array\",\"elementType\":\"string\",\"containsNull\":false}"
        }
       ],
       "type": "table"
      }
     },
     "output_type": "display_data"
    }
   ],
   "source": [
    "from pyspark.sql.functions import split\n",
    "df = df.withColumn(\"split_col\", split(\"value\", \",\").alias(\"split_col\")).drop(\"value\")\n",
    "df.display()"
   ]
  },
  {
   "cell_type": "code",
   "execution_count": 0,
   "metadata": {
    "application/vnd.databricks.v1+cell": {
     "cellMetadata": {
      "byteLimit": 2048000,
      "rowLimit": 10000
     },
     "inputWidgets": {},
     "nuid": "3766d845-529f-4b6f-89ed-17c255fb6bd6",
     "showTitle": false,
     "title": ""
    }
   },
   "outputs": [
    {
     "output_type": "stream",
     "name": "stdout",
     "output_type": "stream",
     "text": [
      "+---------------------------------------------------------+---------------+\n|split_col                                                |size(split_col)|\n+---------------------------------------------------------+---------------+\n|[1,  \"ravi\"]                                             |2              |\n|[2,  \"ram\",  \"chennai\",  \"sample@gamil.com\",  9191919191]|5              |\n|[3,  \"prasad\",  \"bangolare\"]                             |3              |\n|[4,  \"sam\",  \"pune@gmail.com\"]                           |3              |\n+---------------------------------------------------------+---------------+\n\nnow are creating a number of column according to count of max list\n"
     ]
    },
    {
     "output_type": "display_data",
     "data": {
      "text/html": [
       "<style scoped>\n",
       "  .table-result-container {\n",
       "    max-height: 300px;\n",
       "    overflow: auto;\n",
       "  }\n",
       "  table, th, td {\n",
       "    border: 1px solid black;\n",
       "    border-collapse: collapse;\n",
       "  }\n",
       "  th, td {\n",
       "    padding: 5px;\n",
       "  }\n",
       "  th {\n",
       "    text-align: left;\n",
       "  }\n",
       "</style><div class='table-result-container'><table class='table-result'><thead style='background-color: white'><tr><th>col0</th><th>col1</th><th>col2</th><th>col3</th><th>col4</th></tr></thead><tbody><tr><td>1</td><td> \"ravi\"</td><td>null</td><td>null</td><td>null</td></tr><tr><td>2</td><td> \"ram\"</td><td> \"chennai\"</td><td> \"sample@gamil.com\"</td><td> 9191919191</td></tr><tr><td>3</td><td> \"prasad\"</td><td> \"bangolare\"</td><td>null</td><td>null</td></tr><tr><td>4</td><td> \"sam\"</td><td> \"pune@gmail.com\"</td><td>null</td><td>null</td></tr></tbody></table></div>"
      ]
     },
     "metadata": {
      "application/vnd.databricks.v1+output": {
       "addedWidgets": {},
       "aggData": [],
       "aggError": "",
       "aggOverflow": false,
       "aggSchema": [],
       "aggSeriesLimitReached": false,
       "aggType": "",
       "arguments": {},
       "columnCustomDisplayInfos": {},
       "data": [
        [
         "1",
         " \"ravi\"",
         null,
         null,
         null
        ],
        [
         "2",
         " \"ram\"",
         " \"chennai\"",
         " \"sample@gamil.com\"",
         " 9191919191"
        ],
        [
         "3",
         " \"prasad\"",
         " \"bangolare\"",
         null,
         null
        ],
        [
         "4",
         " \"sam\"",
         " \"pune@gmail.com\"",
         null,
         null
        ]
       ],
       "datasetInfos": [],
       "dbfsResultPath": null,
       "isJsonSchema": true,
       "metadata": {},
       "overflow": false,
       "plotOptions": {
        "customPlotOptions": {},
        "displayType": "table",
        "pivotAggregation": null,
        "pivotColumns": null,
        "xColumns": null,
        "yColumns": null
       },
       "removedWidgets": [],
       "schema": [
        {
         "metadata": "{}",
         "name": "col0",
         "type": "\"string\""
        },
        {
         "metadata": "{}",
         "name": "col1",
         "type": "\"string\""
        },
        {
         "metadata": "{}",
         "name": "col2",
         "type": "\"string\""
        },
        {
         "metadata": "{}",
         "name": "col3",
         "type": "\"string\""
        },
        {
         "metadata": "{}",
         "name": "col4",
         "type": "\"string\""
        }
       ],
       "type": "table"
      }
     },
     "output_type": "display_data"
    }
   ],
   "source": [
    "from pyspark.sql.functions import size, max\n",
    "df.select(\"split_col\", size(\"split_col\")).show(truncate=False)\n",
    "df.select(max(size(\"split_col\"))).collect()[0][0]\n",
    "\n",
    "print(\"now are creating a number of column according to count of max list\")\n",
    "\n",
    "for i in range(df.select(max(size(\"split_col\"))).collect()[0][0]):\n",
    "    df = df.withColumn(\"col\"+str(i), df['split_col'][i])\n",
    "df = df.drop(\"split_col\")\n",
    "df.display()"
   ]
  },
  {
   "cell_type": "code",
   "execution_count": 0,
   "metadata": {
    "application/vnd.databricks.v1+cell": {
     "cellMetadata": {
      "byteLimit": 2048000,
      "rowLimit": 10000
     },
     "inputWidgets": {},
     "nuid": "de8128f9-5a80-4731-9b32-d6cdad1cd2d1",
     "showTitle": false,
     "title": ""
    }
   },
   "outputs": [
    {
     "output_type": "display_data",
     "data": {
      "text/html": [
       "<style scoped>\n",
       "  .table-result-container {\n",
       "    max-height: 300px;\n",
       "    overflow: auto;\n",
       "  }\n",
       "  table, th, td {\n",
       "    border: 1px solid black;\n",
       "    border-collapse: collapse;\n",
       "  }\n",
       "  th, td {\n",
       "    padding: 5px;\n",
       "  }\n",
       "  th {\n",
       "    text-align: left;\n",
       "  }\n",
       "</style><div class='table-result-container'><table class='table-result'><thead style='background-color: white'><tr><th>id</th><th>name</th><th>city</th><th>gmail</th><th>contact</th></tr></thead><tbody><tr><td>1</td><td> \"ravi\"</td><td>null</td><td>null</td><td>null</td></tr><tr><td>2</td><td> \"ram\"</td><td> \"chennai\"</td><td> \"sample@gamil.com\"</td><td> 9191919191</td></tr><tr><td>3</td><td> \"prasad\"</td><td> \"bangolare\"</td><td>null</td><td>null</td></tr><tr><td>4</td><td> \"sam\"</td><td> \"pune@gmail.com\"</td><td>null</td><td>null</td></tr></tbody></table></div>"
      ]
     },
     "metadata": {
      "application/vnd.databricks.v1+output": {
       "addedWidgets": {},
       "aggData": [],
       "aggError": "",
       "aggOverflow": false,
       "aggSchema": [],
       "aggSeriesLimitReached": false,
       "aggType": "",
       "arguments": {},
       "columnCustomDisplayInfos": {},
       "data": [
        [
         "1",
         " \"ravi\"",
         null,
         null,
         null
        ],
        [
         "2",
         " \"ram\"",
         " \"chennai\"",
         " \"sample@gamil.com\"",
         " 9191919191"
        ],
        [
         "3",
         " \"prasad\"",
         " \"bangolare\"",
         null,
         null
        ],
        [
         "4",
         " \"sam\"",
         " \"pune@gmail.com\"",
         null,
         null
        ]
       ],
       "datasetInfos": [],
       "dbfsResultPath": null,
       "isJsonSchema": true,
       "metadata": {},
       "overflow": false,
       "plotOptions": {
        "customPlotOptions": {},
        "displayType": "table",
        "pivotAggregation": null,
        "pivotColumns": null,
        "xColumns": null,
        "yColumns": null
       },
       "removedWidgets": [],
       "schema": [
        {
         "metadata": "{}",
         "name": "id",
         "type": "\"string\""
        },
        {
         "metadata": "{}",
         "name": "name",
         "type": "\"string\""
        },
        {
         "metadata": "{}",
         "name": "city",
         "type": "\"string\""
        },
        {
         "metadata": "{}",
         "name": "gmail",
         "type": "\"string\""
        },
        {
         "metadata": "{}",
         "name": "contact",
         "type": "\"string\""
        }
       ],
       "type": "table"
      }
     },
     "output_type": "display_data"
    }
   ],
   "source": [
    "df = df.withColumnRenamed(\"col0\", \"id\")\\\n",
    "    .withColumnRenamed(\"col1\", \"name\")\\\n",
    "    .withColumnRenamed(\"col2\", \"city\")\\\n",
    "    .withColumnRenamed(\"col3\", \"gmail\")\\\n",
    "    .withColumnRenamed(\"col4\", \"contact\")\n",
    "df.display()"
   ]
  }
 ],
 "metadata": {
  "application/vnd.databricks.v1+notebook": {
   "dashboards": [],
   "language": "python",
   "notebookMetadata": {
    "pythonIndentUnit": 4
   },
   "notebookName": "how to read variable(dynamic) number of columns data",
   "widgets": {}
  }
 },
 "nbformat": 4,
 "nbformat_minor": 0
}
