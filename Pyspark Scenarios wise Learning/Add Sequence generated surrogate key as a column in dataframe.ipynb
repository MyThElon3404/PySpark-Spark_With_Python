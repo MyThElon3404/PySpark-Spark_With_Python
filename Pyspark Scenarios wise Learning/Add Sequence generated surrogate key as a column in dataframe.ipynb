{
 "cells": [
  {
   "cell_type": "code",
   "execution_count": 0,
   "metadata": {
    "application/vnd.databricks.v1+cell": {
     "cellMetadata": {
      "byteLimit": 2048000,
      "rowLimit": 10000
     },
     "inputWidgets": {},
     "nuid": "f46f4cdc-e2e4-4bb1-b8f0-7cdfd4148791",
     "showTitle": false,
     "title": ""
    }
   },
   "outputs": [
    {
     "output_type": "execute_result",
     "data": {
      "text/html": [
       "\n",
       "            <div>\n",
       "                <p><b>SparkSession - hive</b></p>\n",
       "                \n",
       "        <div>\n",
       "            <p><b>SparkContext</b></p>\n",
       "\n",
       "            <p><a href=\"/?o=1055290162342735#setting/sparkui/1208-054441-rohrwxxo/driver-8410891144022466759\">Spark UI</a></p>\n",
       "\n",
       "            <dl>\n",
       "              <dt>Version</dt>\n",
       "                <dd><code>v3.5.0</code></dd>\n",
       "              <dt>Master</dt>\n",
       "                <dd><code>local[8]</code></dd>\n",
       "              <dt>AppName</dt>\n",
       "                <dd><code>Databricks Shell</code></dd>\n",
       "            </dl>\n",
       "        </div>\n",
       "        \n",
       "            </div>\n",
       "        "
      ],
      "text/plain": [
       "<pyspark.sql.session.SparkSession at 0x7fa64e19b070>"
      ]
     },
     "execution_count": 1,
     "metadata": {},
     "output_type": "execute_result"
    }
   ],
   "source": [
    "# how to generate seq / sk in pyspark (e.g. row numbers [1,2,3,4,5,6,7,8,9,10])\n",
    "spark"
   ]
  },
  {
   "cell_type": "code",
   "execution_count": 0,
   "metadata": {
    "application/vnd.databricks.v1+cell": {
     "cellMetadata": {
      "byteLimit": 2048000,
      "rowLimit": 10000
     },
     "inputWidgets": {},
     "nuid": "d1ff0ac0-f9c0-4b48-a028-5e1240b1b707",
     "showTitle": false,
     "title": ""
    }
   },
   "outputs": [
    {
     "output_type": "display_data",
     "data": {
      "text/html": [
       "<style scoped>\n",
       "  .table-result-container {\n",
       "    max-height: 300px;\n",
       "    overflow: auto;\n",
       "  }\n",
       "  table, th, td {\n",
       "    border: 1px solid black;\n",
       "    border-collapse: collapse;\n",
       "  }\n",
       "  th, td {\n",
       "    padding: 5px;\n",
       "  }\n",
       "  th {\n",
       "    text-align: left;\n",
       "  }\n",
       "</style><div class='table-result-container'><table class='table-result'><thead style='background-color: white'><tr><th>path</th><th>name</th><th>size</th><th>modificationTime</th></tr></thead><tbody><tr><td>dbfs:/FileStore/tables/2011_summary-1.csv</td><td>2011_summary-1.csv</td><td>7069</td><td>1698831038000</td></tr><tr><td>dbfs:/FileStore/tables/2011_summary.csv</td><td>2011_summary.csv</td><td>7069</td><td>1698830281000</td></tr><tr><td>dbfs:/FileStore/tables/Cricket_data_set_odi.csv</td><td>Cricket_data_set_odi.csv</td><td>1535</td><td>1701856689000</td></tr><tr><td>dbfs:/FileStore/tables/Dataset.txt</td><td>Dataset.txt</td><td>405</td><td>1700558040000</td></tr><tr><td>dbfs:/FileStore/tables/Employee_Salary_Dataset.csv</td><td>Employee_Salary_Dataset.csv</td><td>809</td><td>1699373636000</td></tr><tr><td>dbfs:/FileStore/tables/HR_Employee_Attrition.csv</td><td>HR_Employee_Attrition.csv</td><td>227977</td><td>1701176079000</td></tr><tr><td>dbfs:/FileStore/tables/Matches.csv</td><td>Matches.csv</td><td>1275423</td><td>1700642533000</td></tr><tr><td>dbfs:/FileStore/tables/Multi_line_correct.json</td><td>Multi_line_correct.json</td><td>310</td><td>1698917967000</td></tr><tr><td>dbfs:/FileStore/tables/Multi_line_incorrect.json</td><td>Multi_line_incorrect.json</td><td>304</td><td>1698917935000</td></tr><tr><td>dbfs:/FileStore/tables/Sample_Dataset-1.txt</td><td>Sample_Dataset-1.txt</td><td>405</td><td>1700558796000</td></tr><tr><td>dbfs:/FileStore/tables/Sample_Dataset-2.txt</td><td>Sample_Dataset-2.txt</td><td>405</td><td>1700558855000</td></tr><tr><td>dbfs:/FileStore/tables/Sample_Dataset.txt</td><td>Sample_Dataset.txt</td><td>405</td><td>1700558700000</td></tr><tr><td>dbfs:/FileStore/tables/Sample_Dataset_with_Missing_Vlaues.txt</td><td>Sample_Dataset_with_Missing_Vlaues.txt</td><td>787</td><td>1700561628000</td></tr><tr><td>dbfs:/FileStore/tables/bad_records_handling.csv</td><td>bad_records_handling.csv</td><td>178</td><td>1701080292000</td></tr><tr><td>dbfs:/FileStore/tables/corrupt_data.txt</td><td>corrupt_data.txt</td><td>178</td><td>1698914602000</td></tr><tr><td>dbfs:/FileStore/tables/corrupt_employee_data.txt</td><td>corrupt_employee_data.txt</td><td>191</td><td>1698904559000</td></tr><tr><td>dbfs:/FileStore/tables/corrupt_records.csv</td><td>corrupt_records.csv</td><td>136</td><td>1701078317000</td></tr><tr><td>dbfs:/FileStore/tables/corrupted_json.json</td><td>corrupted_json.json</td><td>218</td><td>1698917868000</td></tr><tr><td>dbfs:/FileStore/tables/csv_write/</td><td>csv_write/</td><td>0</td><td>0</td></tr><tr><td>dbfs:/FileStore/tables/csv_write_repartition/</td><td>csv_write_repartition/</td><td>0</td><td>0</td></tr><tr><td>dbfs:/FileStore/tables/emp_data.csv</td><td>emp_data.csv</td><td>1471</td><td>1701756647000</td></tr><tr><td>dbfs:/FileStore/tables/employee.csv</td><td>employee.csv</td><td>1918</td><td>1701757300000</td></tr><tr><td>dbfs:/FileStore/tables/employee_data.csv</td><td>employee_data.csv</td><td>1471</td><td>1701757181000</td></tr><tr><td>dbfs:/FileStore/tables/employee_data.txt</td><td>employee_data.txt</td><td>230</td><td>1698834123000</td></tr><tr><td>dbfs:/FileStore/tables/employee_write_data.txt</td><td>employee_write_data.txt</td><td>741</td><td>1698992353000</td></tr><tr><td>dbfs:/FileStore/tables/file1.json</td><td>file1.json</td><td>2198732</td><td>1698919336000</td></tr><tr><td>dbfs:/FileStore/tables/flight_data.csv</td><td>flight_data.csv</td><td>7121</td><td>1698830186000</td></tr><tr><td>dbfs:/FileStore/tables/food_menu_data.csv</td><td>food_menu_data.csv</td><td>98</td><td>1701348397000</td></tr><tr><td>dbfs:/FileStore/tables/food_sales_data.csv</td><td>food_sales_data.csv</td><td>3406</td><td>1701348376000</td></tr><tr><td>dbfs:/FileStore/tables/google_playstore_data.csv</td><td>google_playstore_data.csv</td><td>1349314</td><td>1701163650000</td></tr><tr><td>dbfs:/FileStore/tables/line_delimited_json.json</td><td>line_delimited_json.json</td><td>219</td><td>1698917503000</td></tr><tr><td>dbfs:/FileStore/tables/missing_value_dataset-1.csv</td><td>missing_value_dataset-1.csv</td><td>722</td><td>1700631239000</td></tr><tr><td>dbfs:/FileStore/tables/missing_value_dataset.csv</td><td>missing_value_dataset.csv</td><td>787</td><td>1700630819000</td></tr><tr><td>dbfs:/FileStore/tables/nested/</td><td>nested/</td><td>0</td><td>0</td></tr><tr><td>dbfs:/FileStore/tables/null_valurs_contain_dataset.csv</td><td>null_valurs_contain_dataset.csv</td><td>1952</td><td>1701870189000</td></tr><tr><td>dbfs:/FileStore/tables/part_r_00000_1a9822ba_b8fb_4d8e_844a_ea30d0801b9e_gz__1_.parquet</td><td>part_r_00000_1a9822ba_b8fb_4d8e_844a_ea30d0801b9e_gz__1_.parquet</td><td>3921</td><td>1698990853000</td></tr><tr><td>dbfs:/FileStore/tables/sales.csv</td><td>sales.csv</td><td>12643</td><td>1701064933000</td></tr><tr><td>dbfs:/FileStore/tables/sales_data.csv</td><td>sales_data.csv</td><td>264814</td><td>1699333500000</td></tr><tr><td>dbfs:/FileStore/tables/sample_dyanamic_data.csv</td><td>sample_dyanamic_data.csv</td><td>116</td><td>1701782946000</td></tr><tr><td>dbfs:/FileStore/tables/sample_dyanamic_data_with_col-1.csv</td><td>sample_dyanamic_data_with_col-1.csv</td><td>189</td><td>1701783191000</td></tr><tr><td>dbfs:/FileStore/tables/sample_dyanamic_data_with_col.csv</td><td>sample_dyanamic_data_with_col.csv</td><td>144</td><td>1701783088000</td></tr><tr><td>dbfs:/FileStore/tables/single_file_json_with_extra_fields-1.json</td><td>single_file_json_with_extra_fields-1.json</td><td>234</td><td>1698918175000</td></tr><tr><td>dbfs:/FileStore/tables/single_file_json_with_extra_fields.json</td><td>single_file_json_with_extra_fields.json</td><td>233</td><td>1698917834000</td></tr><tr><td>dbfs:/FileStore/tables/skip_line_data-1.csv</td><td>skip_line_data-1.csv</td><td>111</td><td>1701839785000</td></tr><tr><td>dbfs:/FileStore/tables/skip_line_data.csv</td><td>skip_line_data.csv</td><td>111</td><td>1701839784000</td></tr><tr><td>dbfs:/FileStore/tables/skip_line_data_2.csv</td><td>skip_line_data_2.csv</td><td>664</td><td>1701841468000</td></tr></tbody></table></div>"
      ]
     },
     "metadata": {
      "application/vnd.databricks.v1+output": {
       "addedWidgets": {},
       "aggData": [],
       "aggError": "",
       "aggOverflow": false,
       "aggSchema": [],
       "aggSeriesLimitReached": false,
       "aggType": "",
       "arguments": {},
       "columnCustomDisplayInfos": {},
       "data": [
        [
         "dbfs:/FileStore/tables/2011_summary-1.csv",
         "2011_summary-1.csv",
         7069,
         1698831038000
        ],
        [
         "dbfs:/FileStore/tables/2011_summary.csv",
         "2011_summary.csv",
         7069,
         1698830281000
        ],
        [
         "dbfs:/FileStore/tables/Cricket_data_set_odi.csv",
         "Cricket_data_set_odi.csv",
         1535,
         1701856689000
        ],
        [
         "dbfs:/FileStore/tables/Dataset.txt",
         "Dataset.txt",
         405,
         1700558040000
        ],
        [
         "dbfs:/FileStore/tables/Employee_Salary_Dataset.csv",
         "Employee_Salary_Dataset.csv",
         809,
         1699373636000
        ],
        [
         "dbfs:/FileStore/tables/HR_Employee_Attrition.csv",
         "HR_Employee_Attrition.csv",
         227977,
         1701176079000
        ],
        [
         "dbfs:/FileStore/tables/Matches.csv",
         "Matches.csv",
         1275423,
         1700642533000
        ],
        [
         "dbfs:/FileStore/tables/Multi_line_correct.json",
         "Multi_line_correct.json",
         310,
         1698917967000
        ],
        [
         "dbfs:/FileStore/tables/Multi_line_incorrect.json",
         "Multi_line_incorrect.json",
         304,
         1698917935000
        ],
        [
         "dbfs:/FileStore/tables/Sample_Dataset-1.txt",
         "Sample_Dataset-1.txt",
         405,
         1700558796000
        ],
        [
         "dbfs:/FileStore/tables/Sample_Dataset-2.txt",
         "Sample_Dataset-2.txt",
         405,
         1700558855000
        ],
        [
         "dbfs:/FileStore/tables/Sample_Dataset.txt",
         "Sample_Dataset.txt",
         405,
         1700558700000
        ],
        [
         "dbfs:/FileStore/tables/Sample_Dataset_with_Missing_Vlaues.txt",
         "Sample_Dataset_with_Missing_Vlaues.txt",
         787,
         1700561628000
        ],
        [
         "dbfs:/FileStore/tables/bad_records_handling.csv",
         "bad_records_handling.csv",
         178,
         1701080292000
        ],
        [
         "dbfs:/FileStore/tables/corrupt_data.txt",
         "corrupt_data.txt",
         178,
         1698914602000
        ],
        [
         "dbfs:/FileStore/tables/corrupt_employee_data.txt",
         "corrupt_employee_data.txt",
         191,
         1698904559000
        ],
        [
         "dbfs:/FileStore/tables/corrupt_records.csv",
         "corrupt_records.csv",
         136,
         1701078317000
        ],
        [
         "dbfs:/FileStore/tables/corrupted_json.json",
         "corrupted_json.json",
         218,
         1698917868000
        ],
        [
         "dbfs:/FileStore/tables/csv_write/",
         "csv_write/",
         0,
         0
        ],
        [
         "dbfs:/FileStore/tables/csv_write_repartition/",
         "csv_write_repartition/",
         0,
         0
        ],
        [
         "dbfs:/FileStore/tables/emp_data.csv",
         "emp_data.csv",
         1471,
         1701756647000
        ],
        [
         "dbfs:/FileStore/tables/employee.csv",
         "employee.csv",
         1918,
         1701757300000
        ],
        [
         "dbfs:/FileStore/tables/employee_data.csv",
         "employee_data.csv",
         1471,
         1701757181000
        ],
        [
         "dbfs:/FileStore/tables/employee_data.txt",
         "employee_data.txt",
         230,
         1698834123000
        ],
        [
         "dbfs:/FileStore/tables/employee_write_data.txt",
         "employee_write_data.txt",
         741,
         1698992353000
        ],
        [
         "dbfs:/FileStore/tables/file1.json",
         "file1.json",
         2198732,
         1698919336000
        ],
        [
         "dbfs:/FileStore/tables/flight_data.csv",
         "flight_data.csv",
         7121,
         1698830186000
        ],
        [
         "dbfs:/FileStore/tables/food_menu_data.csv",
         "food_menu_data.csv",
         98,
         1701348397000
        ],
        [
         "dbfs:/FileStore/tables/food_sales_data.csv",
         "food_sales_data.csv",
         3406,
         1701348376000
        ],
        [
         "dbfs:/FileStore/tables/google_playstore_data.csv",
         "google_playstore_data.csv",
         1349314,
         1701163650000
        ],
        [
         "dbfs:/FileStore/tables/line_delimited_json.json",
         "line_delimited_json.json",
         219,
         1698917503000
        ],
        [
         "dbfs:/FileStore/tables/missing_value_dataset-1.csv",
         "missing_value_dataset-1.csv",
         722,
         1700631239000
        ],
        [
         "dbfs:/FileStore/tables/missing_value_dataset.csv",
         "missing_value_dataset.csv",
         787,
         1700630819000
        ],
        [
         "dbfs:/FileStore/tables/nested/",
         "nested/",
         0,
         0
        ],
        [
         "dbfs:/FileStore/tables/null_valurs_contain_dataset.csv",
         "null_valurs_contain_dataset.csv",
         1952,
         1701870189000
        ],
        [
         "dbfs:/FileStore/tables/part_r_00000_1a9822ba_b8fb_4d8e_844a_ea30d0801b9e_gz__1_.parquet",
         "part_r_00000_1a9822ba_b8fb_4d8e_844a_ea30d0801b9e_gz__1_.parquet",
         3921,
         1698990853000
        ],
        [
         "dbfs:/FileStore/tables/sales.csv",
         "sales.csv",
         12643,
         1701064933000
        ],
        [
         "dbfs:/FileStore/tables/sales_data.csv",
         "sales_data.csv",
         264814,
         1699333500000
        ],
        [
         "dbfs:/FileStore/tables/sample_dyanamic_data.csv",
         "sample_dyanamic_data.csv",
         116,
         1701782946000
        ],
        [
         "dbfs:/FileStore/tables/sample_dyanamic_data_with_col-1.csv",
         "sample_dyanamic_data_with_col-1.csv",
         189,
         1701783191000
        ],
        [
         "dbfs:/FileStore/tables/sample_dyanamic_data_with_col.csv",
         "sample_dyanamic_data_with_col.csv",
         144,
         1701783088000
        ],
        [
         "dbfs:/FileStore/tables/single_file_json_with_extra_fields-1.json",
         "single_file_json_with_extra_fields-1.json",
         234,
         1698918175000
        ],
        [
         "dbfs:/FileStore/tables/single_file_json_with_extra_fields.json",
         "single_file_json_with_extra_fields.json",
         233,
         1698917834000
        ],
        [
         "dbfs:/FileStore/tables/skip_line_data-1.csv",
         "skip_line_data-1.csv",
         111,
         1701839785000
        ],
        [
         "dbfs:/FileStore/tables/skip_line_data.csv",
         "skip_line_data.csv",
         111,
         1701839784000
        ],
        [
         "dbfs:/FileStore/tables/skip_line_data_2.csv",
         "skip_line_data_2.csv",
         664,
         1701841468000
        ]
       ],
       "datasetInfos": [],
       "dbfsResultPath": null,
       "isJsonSchema": true,
       "metadata": {
        "isDbfsCommandResult": false
       },
       "overflow": false,
       "plotOptions": {
        "customPlotOptions": {},
        "displayType": "table",
        "pivotAggregation": null,
        "pivotColumns": null,
        "xColumns": null,
        "yColumns": null
       },
       "removedWidgets": [],
       "schema": [
        {
         "metadata": "{}",
         "name": "path",
         "type": "\"string\""
        },
        {
         "metadata": "{}",
         "name": "name",
         "type": "\"string\""
        },
        {
         "metadata": "{}",
         "name": "size",
         "type": "\"long\""
        },
        {
         "metadata": "{}",
         "name": "modificationTime",
         "type": "\"long\""
        }
       ],
       "type": "table"
      }
     },
     "output_type": "display_data"
    }
   ],
   "source": [
    "%fs\n",
    "ls /FileStore/tables"
   ]
  },
  {
   "cell_type": "code",
   "execution_count": 0,
   "metadata": {
    "application/vnd.databricks.v1+cell": {
     "cellMetadata": {
      "byteLimit": 2048000,
      "rowLimit": 10000
     },
     "inputWidgets": {},
     "nuid": "5b6a7875-a30a-46b1-a527-bae7deaaa94b",
     "showTitle": false,
     "title": ""
    }
   },
   "outputs": [
    {
     "output_type": "display_data",
     "data": {
      "text/html": [
       "<style scoped>\n",
       "  .table-result-container {\n",
       "    max-height: 300px;\n",
       "    overflow: auto;\n",
       "  }\n",
       "  table, th, td {\n",
       "    border: 1px solid black;\n",
       "    border-collapse: collapse;\n",
       "  }\n",
       "  th, td {\n",
       "    padding: 5px;\n",
       "  }\n",
       "  th {\n",
       "    text-align: left;\n",
       "  }\n",
       "</style><div class='table-result-container'><table class='table-result'><thead style='background-color: white'><tr><th>EMPNO</th><th>ENAME</th><th>JOB</th><th>MGR</th><th>HIREDATE</th><th>SAL</th><th>COMM</th><th>DEPTNO</th></tr></thead><tbody><tr><td>7369</td><td>SMITH</td><td>CLERK</td><td>7902</td><td>1980-12-17</td><td>800</td><td>null</td><td>20</td></tr><tr><td>7499</td><td>ALLEN</td><td>SALESMAN</td><td>7698</td><td>1981-02-20</td><td>1600</td><td>300</td><td>30</td></tr><tr><td>7521</td><td>WARD</td><td>SALESMAN</td><td>7698</td><td>1981-02-22</td><td>1250</td><td>500</td><td>30</td></tr><tr><td>7566</td><td>JONES</td><td>MANAGER</td><td>7839</td><td>1981-02-04</td><td>2975</td><td>null</td><td>20</td></tr><tr><td>7654</td><td>MARTIN</td><td>SALESMAN</td><td>7698</td><td>1981-09-21</td><td>1250</td><td>1400</td><td>30</td></tr><tr><td>7698</td><td>SGR</td><td>MANAGER</td><td>7839</td><td>1981-01-05</td><td>2850</td><td>null</td><td>30</td></tr><tr><td>7782</td><td>RAVI</td><td>MANAGER</td><td>7839</td><td>1981-09-06</td><td>2450</td><td>null</td><td>10</td></tr><tr><td>7788</td><td>SCOTT</td><td>ANALYST</td><td>7566</td><td>1987-04-19</td><td>3000</td><td>null</td><td>20</td></tr><tr><td>7839</td><td>KING</td><td>PRESIDENT</td><td>null</td><td>1981-11-01</td><td>5000</td><td>null</td><td>10</td></tr><tr><td>7844</td><td>TURNER</td><td>SALESMAN</td><td>7698</td><td>1981-08-09</td><td>1500</td><td>0</td><td>30</td></tr></tbody></table></div>"
      ]
     },
     "metadata": {
      "application/vnd.databricks.v1+output": {
       "addedWidgets": {},
       "aggData": [],
       "aggError": "",
       "aggOverflow": false,
       "aggSchema": [],
       "aggSeriesLimitReached": false,
       "aggType": "",
       "arguments": {},
       "columnCustomDisplayInfos": {},
       "data": [
        [
         7369,
         "SMITH",
         "CLERK",
         7902,
         "1980-12-17",
         800,
         null,
         20
        ],
        [
         7499,
         "ALLEN",
         "SALESMAN",
         7698,
         "1981-02-20",
         1600,
         300,
         30
        ],
        [
         7521,
         "WARD",
         "SALESMAN",
         7698,
         "1981-02-22",
         1250,
         500,
         30
        ],
        [
         7566,
         "JONES",
         "MANAGER",
         7839,
         "1981-02-04",
         2975,
         null,
         20
        ],
        [
         7654,
         "MARTIN",
         "SALESMAN",
         7698,
         "1981-09-21",
         1250,
         1400,
         30
        ],
        [
         7698,
         "SGR",
         "MANAGER",
         7839,
         "1981-01-05",
         2850,
         null,
         30
        ],
        [
         7782,
         "RAVI",
         "MANAGER",
         7839,
         "1981-09-06",
         2450,
         null,
         10
        ],
        [
         7788,
         "SCOTT",
         "ANALYST",
         7566,
         "1987-04-19",
         3000,
         null,
         20
        ],
        [
         7839,
         "KING",
         "PRESIDENT",
         null,
         "1981-11-01",
         5000,
         null,
         10
        ],
        [
         7844,
         "TURNER",
         "SALESMAN",
         7698,
         "1981-08-09",
         1500,
         0,
         30
        ]
       ],
       "datasetInfos": [],
       "dbfsResultPath": null,
       "isJsonSchema": true,
       "metadata": {},
       "overflow": false,
       "plotOptions": {
        "customPlotOptions": {},
        "displayType": "table",
        "pivotAggregation": null,
        "pivotColumns": null,
        "xColumns": null,
        "yColumns": null
       },
       "removedWidgets": [],
       "schema": [
        {
         "metadata": "{}",
         "name": "EMPNO",
         "type": "\"integer\""
        },
        {
         "metadata": "{}",
         "name": "ENAME",
         "type": "\"string\""
        },
        {
         "metadata": "{}",
         "name": "JOB",
         "type": "\"string\""
        },
        {
         "metadata": "{}",
         "name": "MGR",
         "type": "\"integer\""
        },
        {
         "metadata": "{\"__detected_date_formats\":\"d-M-yyyy\"}",
         "name": "HIREDATE",
         "type": "\"date\""
        },
        {
         "metadata": "{}",
         "name": "SAL",
         "type": "\"integer\""
        },
        {
         "metadata": "{}",
         "name": "COMM",
         "type": "\"integer\""
        },
        {
         "metadata": "{}",
         "name": "DEPTNO",
         "type": "\"integer\""
        }
       ],
       "type": "table"
      }
     },
     "output_type": "display_data"
    }
   ],
   "source": [
    "sk_df = spark.read.option(\"nullValue\", \"null\")\\\n",
    "    .csv(\"/FileStore/tables/emp_data.csv\", header=True, inferSchema=True)\n",
    "sk_df.limit(10).display()"
   ]
  },
  {
   "cell_type": "code",
   "execution_count": 0,
   "metadata": {
    "application/vnd.databricks.v1+cell": {
     "cellMetadata": {
      "byteLimit": 2048000,
      "rowLimit": 10000
     },
     "inputWidgets": {},
     "nuid": "d8751fbb-10f4-41ee-aade-8094729b3bec",
     "showTitle": false,
     "title": ""
    }
   },
   "outputs": [
    {
     "output_type": "display_data",
     "data": {
      "text/html": [
       "<style scoped>\n",
       "  .table-result-container {\n",
       "    max-height: 300px;\n",
       "    overflow: auto;\n",
       "  }\n",
       "  table, th, td {\n",
       "    border: 1px solid black;\n",
       "    border-collapse: collapse;\n",
       "  }\n",
       "  th, td {\n",
       "    padding: 5px;\n",
       "  }\n",
       "  th {\n",
       "    text-align: left;\n",
       "  }\n",
       "</style><div class='table-result-container'><table class='table-result'><thead style='background-color: white'><tr><th>EMPNO</th><th>ENAME</th><th>JOB</th><th>MGR</th><th>HIREDATE</th><th>SAL</th><th>COMM</th><th>DEPTNO</th><th>monotonically_increasing_id</th></tr></thead><tbody><tr><td>7369</td><td>SMITH</td><td>CLERK</td><td>7902</td><td>1980-12-17</td><td>800</td><td>null</td><td>20</td><td>0</td></tr><tr><td>7499</td><td>ALLEN</td><td>SALESMAN</td><td>7698</td><td>1981-02-20</td><td>1600</td><td>300</td><td>30</td><td>1</td></tr><tr><td>7521</td><td>WARD</td><td>SALESMAN</td><td>7698</td><td>1981-02-22</td><td>1250</td><td>500</td><td>30</td><td>2</td></tr><tr><td>7566</td><td>JONES</td><td>MANAGER</td><td>7839</td><td>1981-02-04</td><td>2975</td><td>null</td><td>20</td><td>3</td></tr><tr><td>7654</td><td>MARTIN</td><td>SALESMAN</td><td>7698</td><td>1981-09-21</td><td>1250</td><td>1400</td><td>30</td><td>4</td></tr><tr><td>7698</td><td>SGR</td><td>MANAGER</td><td>7839</td><td>1981-01-05</td><td>2850</td><td>null</td><td>30</td><td>5</td></tr><tr><td>7782</td><td>RAVI</td><td>MANAGER</td><td>7839</td><td>1981-09-06</td><td>2450</td><td>null</td><td>10</td><td>6</td></tr><tr><td>7788</td><td>SCOTT</td><td>ANALYST</td><td>7566</td><td>1987-04-19</td><td>3000</td><td>null</td><td>20</td><td>7</td></tr><tr><td>7839</td><td>KING</td><td>PRESIDENT</td><td>null</td><td>1981-11-01</td><td>5000</td><td>null</td><td>10</td><td>8</td></tr><tr><td>7844</td><td>TURNER</td><td>SALESMAN</td><td>7698</td><td>1981-08-09</td><td>1500</td><td>0</td><td>30</td><td>9</td></tr></tbody></table></div>"
      ]
     },
     "metadata": {
      "application/vnd.databricks.v1+output": {
       "addedWidgets": {},
       "aggData": [],
       "aggError": "",
       "aggOverflow": false,
       "aggSchema": [],
       "aggSeriesLimitReached": false,
       "aggType": "",
       "arguments": {},
       "columnCustomDisplayInfos": {},
       "data": [
        [
         7369,
         "SMITH",
         "CLERK",
         7902,
         "1980-12-17",
         800,
         null,
         20,
         0
        ],
        [
         7499,
         "ALLEN",
         "SALESMAN",
         7698,
         "1981-02-20",
         1600,
         300,
         30,
         1
        ],
        [
         7521,
         "WARD",
         "SALESMAN",
         7698,
         "1981-02-22",
         1250,
         500,
         30,
         2
        ],
        [
         7566,
         "JONES",
         "MANAGER",
         7839,
         "1981-02-04",
         2975,
         null,
         20,
         3
        ],
        [
         7654,
         "MARTIN",
         "SALESMAN",
         7698,
         "1981-09-21",
         1250,
         1400,
         30,
         4
        ],
        [
         7698,
         "SGR",
         "MANAGER",
         7839,
         "1981-01-05",
         2850,
         null,
         30,
         5
        ],
        [
         7782,
         "RAVI",
         "MANAGER",
         7839,
         "1981-09-06",
         2450,
         null,
         10,
         6
        ],
        [
         7788,
         "SCOTT",
         "ANALYST",
         7566,
         "1987-04-19",
         3000,
         null,
         20,
         7
        ],
        [
         7839,
         "KING",
         "PRESIDENT",
         null,
         "1981-11-01",
         5000,
         null,
         10,
         8
        ],
        [
         7844,
         "TURNER",
         "SALESMAN",
         7698,
         "1981-08-09",
         1500,
         0,
         30,
         9
        ]
       ],
       "datasetInfos": [],
       "dbfsResultPath": null,
       "isJsonSchema": true,
       "metadata": {},
       "overflow": false,
       "plotOptions": {
        "customPlotOptions": {},
        "displayType": "table",
        "pivotAggregation": null,
        "pivotColumns": null,
        "xColumns": null,
        "yColumns": null
       },
       "removedWidgets": [],
       "schema": [
        {
         "metadata": "{}",
         "name": "EMPNO",
         "type": "\"integer\""
        },
        {
         "metadata": "{}",
         "name": "ENAME",
         "type": "\"string\""
        },
        {
         "metadata": "{}",
         "name": "JOB",
         "type": "\"string\""
        },
        {
         "metadata": "{}",
         "name": "MGR",
         "type": "\"integer\""
        },
        {
         "metadata": "{\"__detected_date_formats\":\"d-M-yyyy\"}",
         "name": "HIREDATE",
         "type": "\"date\""
        },
        {
         "metadata": "{}",
         "name": "SAL",
         "type": "\"integer\""
        },
        {
         "metadata": "{}",
         "name": "COMM",
         "type": "\"integer\""
        },
        {
         "metadata": "{}",
         "name": "DEPTNO",
         "type": "\"integer\""
        },
        {
         "metadata": "{}",
         "name": "monotonically_increasing_id",
         "type": "\"long\""
        }
       ],
       "type": "table"
      }
     },
     "output_type": "display_data"
    }
   ],
   "source": [
    "# Method 1 -  using monotonically_increasing_id or hash functions we can generate sequence or surrogate key\n",
    "from pyspark.sql.functions import monotonically_increasing_id\n",
    "sk_df.withColumn(\"monotonically_increasing_id\", monotonically_increasing_id()).limit(10).display()"
   ]
  },
  {
   "cell_type": "code",
   "execution_count": 0,
   "metadata": {
    "application/vnd.databricks.v1+cell": {
     "cellMetadata": {
      "byteLimit": 2048000,
      "rowLimit": 10000
     },
     "inputWidgets": {},
     "nuid": "262abd77-c338-4265-a29a-5b9d2fb60404",
     "showTitle": false,
     "title": ""
    }
   },
   "outputs": [
    {
     "output_type": "display_data",
     "data": {
      "text/html": [
       "<style scoped>\n",
       "  .table-result-container {\n",
       "    max-height: 300px;\n",
       "    overflow: auto;\n",
       "  }\n",
       "  table, th, td {\n",
       "    border: 1px solid black;\n",
       "    border-collapse: collapse;\n",
       "  }\n",
       "  th, td {\n",
       "    padding: 5px;\n",
       "  }\n",
       "  th {\n",
       "    text-align: left;\n",
       "  }\n",
       "</style><div class='table-result-container'><table class='table-result'><thead style='background-color: white'><tr><th>EMPNO</th><th>ENAME</th><th>JOB</th><th>MGR</th><th>HIREDATE</th><th>SAL</th><th>COMM</th><th>DEPTNO</th><th>monotonically_increasing_id</th></tr></thead><tbody><tr><td>7369</td><td>SMITH</td><td>CLERK</td><td>7902</td><td>1980-12-17</td><td>800</td><td>null</td><td>20</td><td>1</td></tr><tr><td>7499</td><td>ALLEN</td><td>SALESMAN</td><td>7698</td><td>1981-02-20</td><td>1600</td><td>300</td><td>30</td><td>2</td></tr><tr><td>7521</td><td>WARD</td><td>SALESMAN</td><td>7698</td><td>1981-02-22</td><td>1250</td><td>500</td><td>30</td><td>3</td></tr><tr><td>7566</td><td>JONES</td><td>MANAGER</td><td>7839</td><td>1981-02-04</td><td>2975</td><td>null</td><td>20</td><td>4</td></tr><tr><td>7654</td><td>MARTIN</td><td>SALESMAN</td><td>7698</td><td>1981-09-21</td><td>1250</td><td>1400</td><td>30</td><td>5</td></tr><tr><td>7698</td><td>SGR</td><td>MANAGER</td><td>7839</td><td>1981-01-05</td><td>2850</td><td>null</td><td>30</td><td>6</td></tr><tr><td>7782</td><td>RAVI</td><td>MANAGER</td><td>7839</td><td>1981-09-06</td><td>2450</td><td>null</td><td>10</td><td>7</td></tr><tr><td>7788</td><td>SCOTT</td><td>ANALYST</td><td>7566</td><td>1987-04-19</td><td>3000</td><td>null</td><td>20</td><td>8</td></tr><tr><td>7839</td><td>KING</td><td>PRESIDENT</td><td>null</td><td>1981-11-01</td><td>5000</td><td>null</td><td>10</td><td>9</td></tr><tr><td>7844</td><td>TURNER</td><td>SALESMAN</td><td>7698</td><td>1981-08-09</td><td>1500</td><td>0</td><td>30</td><td>10</td></tr></tbody></table></div>"
      ]
     },
     "metadata": {
      "application/vnd.databricks.v1+output": {
       "addedWidgets": {},
       "aggData": [],
       "aggError": "",
       "aggOverflow": false,
       "aggSchema": [],
       "aggSeriesLimitReached": false,
       "aggType": "",
       "arguments": {},
       "columnCustomDisplayInfos": {},
       "data": [
        [
         7369,
         "SMITH",
         "CLERK",
         7902,
         "1980-12-17",
         800,
         null,
         20,
         1
        ],
        [
         7499,
         "ALLEN",
         "SALESMAN",
         7698,
         "1981-02-20",
         1600,
         300,
         30,
         2
        ],
        [
         7521,
         "WARD",
         "SALESMAN",
         7698,
         "1981-02-22",
         1250,
         500,
         30,
         3
        ],
        [
         7566,
         "JONES",
         "MANAGER",
         7839,
         "1981-02-04",
         2975,
         null,
         20,
         4
        ],
        [
         7654,
         "MARTIN",
         "SALESMAN",
         7698,
         "1981-09-21",
         1250,
         1400,
         30,
         5
        ],
        [
         7698,
         "SGR",
         "MANAGER",
         7839,
         "1981-01-05",
         2850,
         null,
         30,
         6
        ],
        [
         7782,
         "RAVI",
         "MANAGER",
         7839,
         "1981-09-06",
         2450,
         null,
         10,
         7
        ],
        [
         7788,
         "SCOTT",
         "ANALYST",
         7566,
         "1987-04-19",
         3000,
         null,
         20,
         8
        ],
        [
         7839,
         "KING",
         "PRESIDENT",
         null,
         "1981-11-01",
         5000,
         null,
         10,
         9
        ],
        [
         7844,
         "TURNER",
         "SALESMAN",
         7698,
         "1981-08-09",
         1500,
         0,
         30,
         10
        ]
       ],
       "datasetInfos": [],
       "dbfsResultPath": null,
       "isJsonSchema": true,
       "metadata": {},
       "overflow": false,
       "plotOptions": {
        "customPlotOptions": {},
        "displayType": "table",
        "pivotAggregation": null,
        "pivotColumns": null,
        "xColumns": null,
        "yColumns": null
       },
       "removedWidgets": [],
       "schema": [
        {
         "metadata": "{}",
         "name": "EMPNO",
         "type": "\"integer\""
        },
        {
         "metadata": "{}",
         "name": "ENAME",
         "type": "\"string\""
        },
        {
         "metadata": "{}",
         "name": "JOB",
         "type": "\"string\""
        },
        {
         "metadata": "{}",
         "name": "MGR",
         "type": "\"integer\""
        },
        {
         "metadata": "{\"__detected_date_formats\":\"d-M-yyyy\"}",
         "name": "HIREDATE",
         "type": "\"date\""
        },
        {
         "metadata": "{}",
         "name": "SAL",
         "type": "\"integer\""
        },
        {
         "metadata": "{}",
         "name": "COMM",
         "type": "\"integer\""
        },
        {
         "metadata": "{}",
         "name": "DEPTNO",
         "type": "\"integer\""
        },
        {
         "metadata": "{}",
         "name": "monotonically_increasing_id",
         "type": "\"long\""
        }
       ],
       "type": "table"
      }
     },
     "output_type": "display_data"
    }
   ],
   "source": [
    "#if you want to start with 1 or any other range of digits use this\n",
    "sk_df.withColumn(\"monotonically_increasing_id\", monotonically_increasing_id()+1).limit(10).display()"
   ]
  },
  {
   "cell_type": "code",
   "execution_count": 0,
   "metadata": {
    "application/vnd.databricks.v1+cell": {
     "cellMetadata": {
      "byteLimit": 2048000,
      "rowLimit": 10000
     },
     "inputWidgets": {},
     "nuid": "3fde4de9-c7d0-48c4-be5a-b1a241f89391",
     "showTitle": false,
     "title": ""
    }
   },
   "outputs": [
    {
     "output_type": "display_data",
     "data": {
      "text/html": [
       "<style scoped>\n",
       "  .table-result-container {\n",
       "    max-height: 300px;\n",
       "    overflow: auto;\n",
       "  }\n",
       "  table, th, td {\n",
       "    border: 1px solid black;\n",
       "    border-collapse: collapse;\n",
       "  }\n",
       "  th, td {\n",
       "    padding: 5px;\n",
       "  }\n",
       "  th {\n",
       "    text-align: left;\n",
       "  }\n",
       "</style><div class='table-result-container'><table class='table-result'><thead style='background-color: white'><tr><th>EMPNO</th><th>ENAME</th><th>JOB</th><th>MGR</th><th>HIREDATE</th><th>SAL</th><th>COMM</th><th>DEPTNO</th><th>row_number()</th></tr></thead><tbody><tr><td>7369</td><td>SMITH</td><td>CLERK</td><td>7902</td><td>1980-12-17</td><td>800</td><td>null</td><td>20</td><td>1</td></tr><tr><td>7499</td><td>ALLEN</td><td>SALESMAN</td><td>7698</td><td>1981-02-20</td><td>1600</td><td>300</td><td>30</td><td>2</td></tr><tr><td>7521</td><td>WARD</td><td>SALESMAN</td><td>7698</td><td>1981-02-22</td><td>1250</td><td>500</td><td>30</td><td>3</td></tr><tr><td>7566</td><td>JONES</td><td>MANAGER</td><td>7839</td><td>1981-02-04</td><td>2975</td><td>null</td><td>20</td><td>4</td></tr><tr><td>7654</td><td>MARTIN</td><td>SALESMAN</td><td>7698</td><td>1981-09-21</td><td>1250</td><td>1400</td><td>30</td><td>5</td></tr><tr><td>7698</td><td>SGR</td><td>MANAGER</td><td>7839</td><td>1981-01-05</td><td>2850</td><td>null</td><td>30</td><td>6</td></tr><tr><td>7782</td><td>RAVI</td><td>MANAGER</td><td>7839</td><td>1981-09-06</td><td>2450</td><td>null</td><td>10</td><td>7</td></tr><tr><td>7788</td><td>SCOTT</td><td>ANALYST</td><td>7566</td><td>1987-04-19</td><td>3000</td><td>null</td><td>20</td><td>8</td></tr><tr><td>7839</td><td>KING</td><td>PRESIDENT</td><td>null</td><td>1981-11-01</td><td>5000</td><td>null</td><td>10</td><td>9</td></tr><tr><td>7844</td><td>TURNER</td><td>SALESMAN</td><td>7698</td><td>1981-08-09</td><td>1500</td><td>0</td><td>30</td><td>10</td></tr></tbody></table></div>"
      ]
     },
     "metadata": {
      "application/vnd.databricks.v1+output": {
       "addedWidgets": {},
       "aggData": [],
       "aggError": "",
       "aggOverflow": false,
       "aggSchema": [],
       "aggSeriesLimitReached": false,
       "aggType": "",
       "arguments": {},
       "columnCustomDisplayInfos": {},
       "data": [
        [
         7369,
         "SMITH",
         "CLERK",
         7902,
         "1980-12-17",
         800,
         null,
         20,
         1
        ],
        [
         7499,
         "ALLEN",
         "SALESMAN",
         7698,
         "1981-02-20",
         1600,
         300,
         30,
         2
        ],
        [
         7521,
         "WARD",
         "SALESMAN",
         7698,
         "1981-02-22",
         1250,
         500,
         30,
         3
        ],
        [
         7566,
         "JONES",
         "MANAGER",
         7839,
         "1981-02-04",
         2975,
         null,
         20,
         4
        ],
        [
         7654,
         "MARTIN",
         "SALESMAN",
         7698,
         "1981-09-21",
         1250,
         1400,
         30,
         5
        ],
        [
         7698,
         "SGR",
         "MANAGER",
         7839,
         "1981-01-05",
         2850,
         null,
         30,
         6
        ],
        [
         7782,
         "RAVI",
         "MANAGER",
         7839,
         "1981-09-06",
         2450,
         null,
         10,
         7
        ],
        [
         7788,
         "SCOTT",
         "ANALYST",
         7566,
         "1987-04-19",
         3000,
         null,
         20,
         8
        ],
        [
         7839,
         "KING",
         "PRESIDENT",
         null,
         "1981-11-01",
         5000,
         null,
         10,
         9
        ],
        [
         7844,
         "TURNER",
         "SALESMAN",
         7698,
         "1981-08-09",
         1500,
         0,
         30,
         10
        ]
       ],
       "datasetInfos": [],
       "dbfsResultPath": null,
       "isJsonSchema": true,
       "metadata": {},
       "overflow": false,
       "plotOptions": {
        "customPlotOptions": {},
        "displayType": "table",
        "pivotAggregation": null,
        "pivotColumns": null,
        "xColumns": null,
        "yColumns": null
       },
       "removedWidgets": [],
       "schema": [
        {
         "metadata": "{}",
         "name": "EMPNO",
         "type": "\"integer\""
        },
        {
         "metadata": "{}",
         "name": "ENAME",
         "type": "\"string\""
        },
        {
         "metadata": "{}",
         "name": "JOB",
         "type": "\"string\""
        },
        {
         "metadata": "{}",
         "name": "MGR",
         "type": "\"integer\""
        },
        {
         "metadata": "{\"__detected_date_formats\":\"d-M-yyyy\"}",
         "name": "HIREDATE",
         "type": "\"date\""
        },
        {
         "metadata": "{}",
         "name": "SAL",
         "type": "\"integer\""
        },
        {
         "metadata": "{}",
         "name": "COMM",
         "type": "\"integer\""
        },
        {
         "metadata": "{}",
         "name": "DEPTNO",
         "type": "\"integer\""
        },
        {
         "metadata": "{}",
         "name": "row_number()",
         "type": "\"integer\""
        }
       ],
       "type": "table"
      }
     },
     "output_type": "display_data"
    }
   ],
   "source": [
    "# Method 2 - Using window function row_number()\n",
    "# PySpark lit() function is used to add constant or literal value as a new column to the DataFrame.\n",
    "from pyspark.sql.functions import row_number, lit\n",
    "from pyspark.sql.window import Window\n",
    "\n",
    "sk_df.withColumn(\"row_number()\", row_number().over(Window.partitionBy(lit('')).orderBy(lit('')))).limit(10).display()"
   ]
  },
  {
   "cell_type": "code",
   "execution_count": 0,
   "metadata": {
    "application/vnd.databricks.v1+cell": {
     "cellMetadata": {},
     "inputWidgets": {},
     "nuid": "04445ff6-f1fa-4631-95c1-06daea86c9eb",
     "showTitle": false,
     "title": ""
    }
   },
   "outputs": [],
   "source": [
    "# there are another methods too like\n",
    "# CRC32\n",
    "# sha2\n",
    "# md5"
   ]
  }
 ],
 "metadata": {
  "application/vnd.databricks.v1+notebook": {
   "dashboards": [],
   "language": "python",
   "notebookMetadata": {
    "mostRecentlyExecutedCommandWithImplicitDF": {
     "commandId": 4472417889159650,
     "dataframes": [
      "_sqldf"
     ]
    },
    "pythonIndentUnit": 4
   },
   "notebookName": "Add Sequence generated surrogate key as a column in dataframe",
   "widgets": {}
  }
 },
 "nbformat": 4,
 "nbformat_minor": 0
}
