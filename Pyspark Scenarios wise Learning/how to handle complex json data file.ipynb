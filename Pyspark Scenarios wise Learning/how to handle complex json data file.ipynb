{
 "cells": [
  {
   "cell_type": "code",
   "execution_count": 0,
   "metadata": {
    "application/vnd.databricks.v1+cell": {
     "cellMetadata": {
      "byteLimit": 2048000,
      "rowLimit": 10000
     },
     "inputWidgets": {},
     "nuid": "d47d20eb-6704-4daf-81a3-bd27ab5cdb78",
     "showTitle": false,
     "title": ""
    }
   },
   "outputs": [
    {
     "output_type": "stream",
     "name": "stdout",
     "output_type": "stream",
     "text": [
      "Wrote 608 bytes.\n"
     ]
    },
    {
     "output_type": "execute_result",
     "data": {
      "text/plain": [
       "True"
      ]
     },
     "execution_count": 1,
     "metadata": {},
     "output_type": "execute_result"
    }
   ],
   "source": [
    "# semi-structure json file to -> structure data file\n",
    "\n",
    "dbutils.fs.put(\"/schenarios/complex_json.json\",\"\"\"[{\n",
    "\t\"id\": \"0001\",\n",
    "\t\"type\": \"donut\",\n",
    "\t\"name\": \"Cake\",\n",
    "\t\"ppu\": 0.55,\n",
    "\t\"batters\":\n",
    "\t\t{\n",
    "\t\t\t\"batter\":\n",
    "\t\t\t\t[\n",
    "\t\t\t\t\t{ \"id\": \"1001\", \"type\": \"Regular\" },\n",
    "\t\t\t\t\t{ \"id\": \"1002\", \"type\": \"Chocolate\" },\n",
    "\t\t\t\t\t{ \"id\": \"1003\", \"type\": \"Blueberry\" },\n",
    "\t\t\t\t\t{ \"id\": \"1004\", \"type\": \"Devil's Food\" }\n",
    "\t\t\t\t]\n",
    "\t\t},\n",
    "\t\"topping\":\n",
    "\t\t[\n",
    "\t\t\t{ \"id\": \"5001\", \"type\": \"None\" },\n",
    "\t\t\t{ \"id\": \"5002\", \"type\": \"Glazed\" },\n",
    "\t\t\t{ \"id\": \"5005\", \"type\": \"Sugar\" },\n",
    "\t\t\t{ \"id\": \"5007\", \"type\": \"Powdered Sugar\" },\n",
    "\t\t\t{ \"id\": \"5006\", \"type\": \"Chocolate with Sprinkles\" },\n",
    "\t\t\t{ \"id\": \"5003\", \"type\": \"Chocolate\" },\n",
    "\t\t\t{ \"id\": \"5004\", \"type\": \"Maple\" }\n",
    "\t\t]\n",
    "}]\"\"\",True)"
   ]
  },
  {
   "cell_type": "code",
   "execution_count": 0,
   "metadata": {
    "application/vnd.databricks.v1+cell": {
     "cellMetadata": {
      "byteLimit": 2048000,
      "rowLimit": 10000
     },
     "inputWidgets": {},
     "nuid": "c0f2ebe9-d2fc-4d8b-948a-46bd0850a297",
     "showTitle": false,
     "title": ""
    }
   },
   "outputs": [
    {
     "output_type": "stream",
     "name": "stdout",
     "output_type": "stream",
     "text": [
      "root\n |-- batters: struct (nullable = true)\n |    |-- batter: array (nullable = true)\n |    |    |-- element: struct (containsNull = true)\n |    |    |    |-- id: string (nullable = true)\n |    |    |    |-- type: string (nullable = true)\n |-- id: string (nullable = true)\n |-- name: string (nullable = true)\n |-- ppu: double (nullable = true)\n |-- topping: array (nullable = true)\n |    |-- element: struct (containsNull = true)\n |    |    |-- id: string (nullable = true)\n |    |    |-- type: string (nullable = true)\n |-- type: string (nullable = true)\n\n"
     ]
    },
    {
     "output_type": "display_data",
     "data": {
      "text/html": [
       "<style scoped>\n",
       "  .table-result-container {\n",
       "    max-height: 300px;\n",
       "    overflow: auto;\n",
       "  }\n",
       "  table, th, td {\n",
       "    border: 1px solid black;\n",
       "    border-collapse: collapse;\n",
       "  }\n",
       "  th, td {\n",
       "    padding: 5px;\n",
       "  }\n",
       "  th {\n",
       "    text-align: left;\n",
       "  }\n",
       "</style><div class='table-result-container'><table class='table-result'><thead style='background-color: white'><tr><th>batters</th><th>id</th><th>name</th><th>ppu</th><th>topping</th><th>type</th></tr></thead><tbody><tr><td>List(List(List(1001, Regular), List(1002, Chocolate), List(1003, Blueberry), List(1004, Devil's Food)))</td><td>0001</td><td>Cake</td><td>0.55</td><td>List(List(5001, None), List(5002, Glazed), List(5005, Sugar), List(5007, Powdered Sugar), List(5006, Chocolate with Sprinkles), List(5003, Chocolate), List(5004, Maple))</td><td>donut</td></tr></tbody></table></div>"
      ]
     },
     "metadata": {
      "application/vnd.databricks.v1+output": {
       "addedWidgets": {},
       "aggData": [],
       "aggError": "",
       "aggOverflow": false,
       "aggSchema": [],
       "aggSeriesLimitReached": false,
       "aggType": "",
       "arguments": {},
       "columnCustomDisplayInfos": {},
       "data": [
        [
         [
          [
           [
            "1001",
            "Regular"
           ],
           [
            "1002",
            "Chocolate"
           ],
           [
            "1003",
            "Blueberry"
           ],
           [
            "1004",
            "Devil's Food"
           ]
          ]
         ],
         "0001",
         "Cake",
         0.55,
         [
          [
           "5001",
           "None"
          ],
          [
           "5002",
           "Glazed"
          ],
          [
           "5005",
           "Sugar"
          ],
          [
           "5007",
           "Powdered Sugar"
          ],
          [
           "5006",
           "Chocolate with Sprinkles"
          ],
          [
           "5003",
           "Chocolate"
          ],
          [
           "5004",
           "Maple"
          ]
         ],
         "donut"
        ]
       ],
       "datasetInfos": [],
       "dbfsResultPath": null,
       "isJsonSchema": true,
       "metadata": {},
       "overflow": false,
       "plotOptions": {
        "customPlotOptions": {},
        "displayType": "table",
        "pivotAggregation": null,
        "pivotColumns": null,
        "xColumns": null,
        "yColumns": null
       },
       "removedWidgets": [],
       "schema": [
        {
         "metadata": "{}",
         "name": "batters",
         "type": "{\"type\":\"struct\",\"fields\":[{\"name\":\"batter\",\"type\":{\"type\":\"array\",\"elementType\":{\"type\":\"struct\",\"fields\":[{\"name\":\"id\",\"type\":\"string\",\"nullable\":true,\"metadata\":{}},{\"name\":\"type\",\"type\":\"string\",\"nullable\":true,\"metadata\":{}}]},\"containsNull\":true},\"nullable\":true,\"metadata\":{}}]}"
        },
        {
         "metadata": "{}",
         "name": "id",
         "type": "\"string\""
        },
        {
         "metadata": "{}",
         "name": "name",
         "type": "\"string\""
        },
        {
         "metadata": "{}",
         "name": "ppu",
         "type": "\"double\""
        },
        {
         "metadata": "{}",
         "name": "topping",
         "type": "{\"type\":\"array\",\"elementType\":{\"type\":\"struct\",\"fields\":[{\"name\":\"id\",\"type\":\"string\",\"nullable\":true,\"metadata\":{}},{\"name\":\"type\",\"type\":\"string\",\"nullable\":true,\"metadata\":{}}]},\"containsNull\":true}"
        },
        {
         "metadata": "{}",
         "name": "type",
         "type": "\"string\""
        }
       ],
       "type": "table"
      }
     },
     "output_type": "display_data"
    }
   ],
   "source": [
    "json_df = spark.read.option(\"multiline\", \"true\").json(\"/schenarios/complex_json.json\")\n",
    "json_df.printSchema()\n",
    "json_df.display()"
   ]
  },
  {
   "cell_type": "code",
   "execution_count": 0,
   "metadata": {
    "application/vnd.databricks.v1+cell": {
     "cellMetadata": {
      "byteLimit": 2048000,
      "rowLimit": 10000
     },
     "inputWidgets": {},
     "nuid": "c385c977-6e33-43e9-b837-af9cdf4d6bda",
     "showTitle": false,
     "title": ""
    }
   },
   "outputs": [
    {
     "output_type": "display_data",
     "data": {
      "text/html": [
       "<style scoped>\n",
       "  .table-result-container {\n",
       "    max-height: 300px;\n",
       "    overflow: auto;\n",
       "  }\n",
       "  table, th, td {\n",
       "    border: 1px solid black;\n",
       "    border-collapse: collapse;\n",
       "  }\n",
       "  th, td {\n",
       "    padding: 5px;\n",
       "  }\n",
       "  th {\n",
       "    text-align: left;\n",
       "  }\n",
       "</style><div class='table-result-container'><table class='table-result'><thead style='background-color: white'><tr><th>id</th><th>name</th><th>ppu</th><th>topping</th><th>type</th><th>batter_id</th><th>batter_type</th></tr></thead><tbody><tr><td>0001</td><td>Cake</td><td>0.55</td><td>List(List(5001, None), List(5002, Glazed), List(5005, Sugar), List(5007, Powdered Sugar), List(5006, Chocolate with Sprinkles), List(5003, Chocolate), List(5004, Maple))</td><td>donut</td><td>1001</td><td>Regular</td></tr><tr><td>0001</td><td>Cake</td><td>0.55</td><td>List(List(5001, None), List(5002, Glazed), List(5005, Sugar), List(5007, Powdered Sugar), List(5006, Chocolate with Sprinkles), List(5003, Chocolate), List(5004, Maple))</td><td>donut</td><td>1002</td><td>Chocolate</td></tr><tr><td>0001</td><td>Cake</td><td>0.55</td><td>List(List(5001, None), List(5002, Glazed), List(5005, Sugar), List(5007, Powdered Sugar), List(5006, Chocolate with Sprinkles), List(5003, Chocolate), List(5004, Maple))</td><td>donut</td><td>1003</td><td>Blueberry</td></tr><tr><td>0001</td><td>Cake</td><td>0.55</td><td>List(List(5001, None), List(5002, Glazed), List(5005, Sugar), List(5007, Powdered Sugar), List(5006, Chocolate with Sprinkles), List(5003, Chocolate), List(5004, Maple))</td><td>donut</td><td>1004</td><td>Devil's Food</td></tr></tbody></table></div>"
      ]
     },
     "metadata": {
      "application/vnd.databricks.v1+output": {
       "addedWidgets": {},
       "aggData": [],
       "aggError": "",
       "aggOverflow": false,
       "aggSchema": [],
       "aggSeriesLimitReached": false,
       "aggType": "",
       "arguments": {},
       "columnCustomDisplayInfos": {},
       "data": [
        [
         "0001",
         "Cake",
         0.55,
         [
          [
           "5001",
           "None"
          ],
          [
           "5002",
           "Glazed"
          ],
          [
           "5005",
           "Sugar"
          ],
          [
           "5007",
           "Powdered Sugar"
          ],
          [
           "5006",
           "Chocolate with Sprinkles"
          ],
          [
           "5003",
           "Chocolate"
          ],
          [
           "5004",
           "Maple"
          ]
         ],
         "donut",
         "1001",
         "Regular"
        ],
        [
         "0001",
         "Cake",
         0.55,
         [
          [
           "5001",
           "None"
          ],
          [
           "5002",
           "Glazed"
          ],
          [
           "5005",
           "Sugar"
          ],
          [
           "5007",
           "Powdered Sugar"
          ],
          [
           "5006",
           "Chocolate with Sprinkles"
          ],
          [
           "5003",
           "Chocolate"
          ],
          [
           "5004",
           "Maple"
          ]
         ],
         "donut",
         "1002",
         "Chocolate"
        ],
        [
         "0001",
         "Cake",
         0.55,
         [
          [
           "5001",
           "None"
          ],
          [
           "5002",
           "Glazed"
          ],
          [
           "5005",
           "Sugar"
          ],
          [
           "5007",
           "Powdered Sugar"
          ],
          [
           "5006",
           "Chocolate with Sprinkles"
          ],
          [
           "5003",
           "Chocolate"
          ],
          [
           "5004",
           "Maple"
          ]
         ],
         "donut",
         "1003",
         "Blueberry"
        ],
        [
         "0001",
         "Cake",
         0.55,
         [
          [
           "5001",
           "None"
          ],
          [
           "5002",
           "Glazed"
          ],
          [
           "5005",
           "Sugar"
          ],
          [
           "5007",
           "Powdered Sugar"
          ],
          [
           "5006",
           "Chocolate with Sprinkles"
          ],
          [
           "5003",
           "Chocolate"
          ],
          [
           "5004",
           "Maple"
          ]
         ],
         "donut",
         "1004",
         "Devil's Food"
        ]
       ],
       "datasetInfos": [],
       "dbfsResultPath": null,
       "isJsonSchema": true,
       "metadata": {},
       "overflow": false,
       "plotOptions": {
        "customPlotOptions": {},
        "displayType": "table",
        "pivotAggregation": null,
        "pivotColumns": null,
        "xColumns": null,
        "yColumns": null
       },
       "removedWidgets": [],
       "schema": [
        {
         "metadata": "{}",
         "name": "id",
         "type": "\"string\""
        },
        {
         "metadata": "{}",
         "name": "name",
         "type": "\"string\""
        },
        {
         "metadata": "{}",
         "name": "ppu",
         "type": "\"double\""
        },
        {
         "metadata": "{}",
         "name": "topping",
         "type": "{\"type\":\"array\",\"elementType\":{\"type\":\"struct\",\"fields\":[{\"name\":\"id\",\"type\":\"string\",\"nullable\":true,\"metadata\":{}},{\"name\":\"type\",\"type\":\"string\",\"nullable\":true,\"metadata\":{}}]},\"containsNull\":true}"
        },
        {
         "metadata": "{}",
         "name": "type",
         "type": "\"string\""
        },
        {
         "metadata": "{}",
         "name": "batter_id",
         "type": "\"string\""
        },
        {
         "metadata": "{}",
         "name": "batter_type",
         "type": "\"string\""
        }
       ],
       "type": "table"
      }
     },
     "output_type": "display_data"
    }
   ],
   "source": [
    "from pyspark.sql.functions import col, explode\n",
    "json_df_final = json_df.withColumn(\"batter_explode\", explode(\"batters.batter\"))\\\n",
    "    .withColumn(\"batter_id\", col(\"batter_explode.id\"))\\\n",
    "    .withColumn(\"batter_type\", col(\"batter_explode.type\"))\\\n",
    "    .drop(\"batters\", \"batter_explode\")\n",
    "json_df_final.display()"
   ]
  },
  {
   "cell_type": "code",
   "execution_count": 0,
   "metadata": {
    "application/vnd.databricks.v1+cell": {
     "cellMetadata": {
      "byteLimit": 2048000,
      "rowLimit": 10000
     },
     "inputWidgets": {},
     "nuid": "289db62c-2baf-46e9-a4eb-85cc802279eb",
     "showTitle": false,
     "title": ""
    }
   },
   "outputs": [
    {
     "output_type": "display_data",
     "data": {
      "text/html": [
       "<style scoped>\n",
       "  .table-result-container {\n",
       "    max-height: 300px;\n",
       "    overflow: auto;\n",
       "  }\n",
       "  table, th, td {\n",
       "    border: 1px solid black;\n",
       "    border-collapse: collapse;\n",
       "  }\n",
       "  th, td {\n",
       "    padding: 5px;\n",
       "  }\n",
       "  th {\n",
       "    text-align: left;\n",
       "  }\n",
       "</style><div class='table-result-container'><table class='table-result'><thead style='background-color: white'><tr><th>id</th><th>name</th><th>ppu</th><th>type</th><th>batter_id</th><th>batter_type</th><th>topping_id</th><th>topping_type</th></tr></thead><tbody><tr><td>0001</td><td>Cake</td><td>0.55</td><td>donut</td><td>1001</td><td>Regular</td><td>5001</td><td>None</td></tr><tr><td>0001</td><td>Cake</td><td>0.55</td><td>donut</td><td>1001</td><td>Regular</td><td>5002</td><td>Glazed</td></tr><tr><td>0001</td><td>Cake</td><td>0.55</td><td>donut</td><td>1001</td><td>Regular</td><td>5005</td><td>Sugar</td></tr><tr><td>0001</td><td>Cake</td><td>0.55</td><td>donut</td><td>1001</td><td>Regular</td><td>5007</td><td>Powdered Sugar</td></tr><tr><td>0001</td><td>Cake</td><td>0.55</td><td>donut</td><td>1001</td><td>Regular</td><td>5006</td><td>Chocolate with Sprinkles</td></tr><tr><td>0001</td><td>Cake</td><td>0.55</td><td>donut</td><td>1001</td><td>Regular</td><td>5003</td><td>Chocolate</td></tr><tr><td>0001</td><td>Cake</td><td>0.55</td><td>donut</td><td>1001</td><td>Regular</td><td>5004</td><td>Maple</td></tr><tr><td>0001</td><td>Cake</td><td>0.55</td><td>donut</td><td>1001</td><td>Regular</td><td>5001</td><td>None</td></tr><tr><td>0001</td><td>Cake</td><td>0.55</td><td>donut</td><td>1001</td><td>Regular</td><td>5002</td><td>Glazed</td></tr><tr><td>0001</td><td>Cake</td><td>0.55</td><td>donut</td><td>1001</td><td>Regular</td><td>5005</td><td>Sugar</td></tr></tbody></table></div>"
      ]
     },
     "metadata": {
      "application/vnd.databricks.v1+output": {
       "addedWidgets": {},
       "aggData": [],
       "aggError": "",
       "aggOverflow": false,
       "aggSchema": [],
       "aggSeriesLimitReached": false,
       "aggType": "",
       "arguments": {},
       "columnCustomDisplayInfos": {},
       "data": [
        [
         "0001",
         "Cake",
         0.55,
         "donut",
         "1001",
         "Regular",
         "5001",
         "None"
        ],
        [
         "0001",
         "Cake",
         0.55,
         "donut",
         "1001",
         "Regular",
         "5002",
         "Glazed"
        ],
        [
         "0001",
         "Cake",
         0.55,
         "donut",
         "1001",
         "Regular",
         "5005",
         "Sugar"
        ],
        [
         "0001",
         "Cake",
         0.55,
         "donut",
         "1001",
         "Regular",
         "5007",
         "Powdered Sugar"
        ],
        [
         "0001",
         "Cake",
         0.55,
         "donut",
         "1001",
         "Regular",
         "5006",
         "Chocolate with Sprinkles"
        ],
        [
         "0001",
         "Cake",
         0.55,
         "donut",
         "1001",
         "Regular",
         "5003",
         "Chocolate"
        ],
        [
         "0001",
         "Cake",
         0.55,
         "donut",
         "1001",
         "Regular",
         "5004",
         "Maple"
        ],
        [
         "0001",
         "Cake",
         0.55,
         "donut",
         "1001",
         "Regular",
         "5001",
         "None"
        ],
        [
         "0001",
         "Cake",
         0.55,
         "donut",
         "1001",
         "Regular",
         "5002",
         "Glazed"
        ],
        [
         "0001",
         "Cake",
         0.55,
         "donut",
         "1001",
         "Regular",
         "5005",
         "Sugar"
        ]
       ],
       "datasetInfos": [],
       "dbfsResultPath": null,
       "isJsonSchema": true,
       "metadata": {},
       "overflow": false,
       "plotOptions": {
        "customPlotOptions": {},
        "displayType": "table",
        "pivotAggregation": null,
        "pivotColumns": null,
        "xColumns": null,
        "yColumns": null
       },
       "removedWidgets": [],
       "schema": [
        {
         "metadata": "{}",
         "name": "id",
         "type": "\"string\""
        },
        {
         "metadata": "{}",
         "name": "name",
         "type": "\"string\""
        },
        {
         "metadata": "{}",
         "name": "ppu",
         "type": "\"double\""
        },
        {
         "metadata": "{}",
         "name": "type",
         "type": "\"string\""
        },
        {
         "metadata": "{}",
         "name": "batter_id",
         "type": "\"string\""
        },
        {
         "metadata": "{}",
         "name": "batter_type",
         "type": "\"string\""
        },
        {
         "metadata": "{}",
         "name": "topping_id",
         "type": "\"string\""
        },
        {
         "metadata": "{}",
         "name": "topping_type",
         "type": "\"string\""
        }
       ],
       "type": "table"
      }
     },
     "output_type": "display_data"
    }
   ],
   "source": [
    "json_df_final = json_df_final.withColumn(\"topping_explode\", explode(\"topping\"))\\\n",
    "    .withColumn(\"topping_id\", col(\"topping_explode.id\"))\\\n",
    "    .withColumn(\"topping_type\", col(\"topping_explode.type\"))\\\n",
    "    .drop(\"topping_explode\", \"topping\")\n",
    "\n",
    "json_df_final.limit(10).display()"
   ]
  }
 ],
 "metadata": {
  "application/vnd.databricks.v1+notebook": {
   "dashboards": [],
   "language": "python",
   "notebookMetadata": {
    "pythonIndentUnit": 4
   },
   "notebookName": "how to handle complex json data file",
   "widgets": {}
  }
 },
 "nbformat": 4,
 "nbformat_minor": 0
}
