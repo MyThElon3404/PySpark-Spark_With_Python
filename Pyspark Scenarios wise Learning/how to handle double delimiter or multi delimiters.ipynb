{
 "cells": [
  {
   "cell_type": "code",
   "execution_count": 0,
   "metadata": {
    "application/vnd.databricks.v1+cell": {
     "cellMetadata": {
      "byteLimit": 2048000,
      "rowLimit": 10000
     },
     "inputWidgets": {},
     "nuid": "bda7dd6b-2c7c-414d-bd56-21794234e0bd",
     "showTitle": false,
     "title": ""
    }
   },
   "outputs": [
    {
     "output_type": "stream",
     "name": "stdout",
     "output_type": "stream",
     "text": [
      "Wrote 106 bytes.\n"
     ]
    },
    {
     "output_type": "execute_result",
     "data": {
      "text/plain": [
       "True"
      ]
     },
     "execution_count": 1,
     "metadata": {},
     "output_type": "execute_result"
    }
   ],
   "source": [
    "# this only work within databricks notebook\n",
    "# way to create a file in specific folder\n",
    "dbutils.fs.put(\"/schenarios/double_pipe.csv\",\"\"\"id||name||loc\n",
    "1||ravi||Bangalore\n",
    "2||Raj||Chennai\n",
    "3||Mahesh||Hyderabad\n",
    "4||Prasad||Chennai\n",
    "5||Sridhar||Pune\n",
    "\"\"\",True)"
   ]
  },
  {
   "cell_type": "code",
   "execution_count": 0,
   "metadata": {
    "application/vnd.databricks.v1+cell": {
     "cellMetadata": {
      "byteLimit": 2048000,
      "rowLimit": 10000
     },
     "inputWidgets": {},
     "nuid": "772bbfaa-4c69-47f7-a53d-6144a9d52761",
     "showTitle": false,
     "title": ""
    }
   },
   "outputs": [
    {
     "output_type": "display_data",
     "data": {
      "text/html": [
       "<style scoped>\n",
       "  .table-result-container {\n",
       "    max-height: 300px;\n",
       "    overflow: auto;\n",
       "  }\n",
       "  table, th, td {\n",
       "    border: 1px solid black;\n",
       "    border-collapse: collapse;\n",
       "  }\n",
       "  th, td {\n",
       "    padding: 5px;\n",
       "  }\n",
       "  th {\n",
       "    text-align: left;\n",
       "  }\n",
       "</style><div class='table-result-container'><table class='table-result'><thead style='background-color: white'><tr><th>id||name||loc</th></tr></thead><tbody><tr><td>1||ravi||Bangalore</td></tr><tr><td>2||Raj||Chennai</td></tr><tr><td>3||Mahesh||Hyderabad</td></tr><tr><td>4||Prasad||Chennai</td></tr><tr><td>5||Sridhar||Pune</td></tr></tbody></table></div>"
      ]
     },
     "metadata": {
      "application/vnd.databricks.v1+output": {
       "addedWidgets": {},
       "aggData": [],
       "aggError": "",
       "aggOverflow": false,
       "aggSchema": [],
       "aggSeriesLimitReached": false,
       "aggType": "",
       "arguments": {},
       "columnCustomDisplayInfos": {},
       "data": [
        [
         "1||ravi||Bangalore"
        ],
        [
         "2||Raj||Chennai"
        ],
        [
         "3||Mahesh||Hyderabad"
        ],
        [
         "4||Prasad||Chennai"
        ],
        [
         "5||Sridhar||Pune"
        ]
       ],
       "datasetInfos": [],
       "dbfsResultPath": null,
       "isJsonSchema": true,
       "metadata": {},
       "overflow": false,
       "plotOptions": {
        "customPlotOptions": {},
        "displayType": "table",
        "pivotAggregation": null,
        "pivotColumns": null,
        "xColumns": null,
        "yColumns": null
       },
       "removedWidgets": [],
       "schema": [
        {
         "metadata": "{}",
         "name": "id||name||loc",
         "type": "\"string\""
        }
       ],
       "type": "table"
      }
     },
     "output_type": "display_data"
    }
   ],
   "source": [
    "# example - double delimiter\n",
    "delimiter_df = spark.read.csv(\"/schenarios/double_pipe.csv\", header=True, inferSchema=True)\n",
    "delimiter_df.display()"
   ]
  },
  {
   "cell_type": "code",
   "execution_count": 0,
   "metadata": {
    "application/vnd.databricks.v1+cell": {
     "cellMetadata": {
      "byteLimit": 2048000,
      "rowLimit": 10000
     },
     "inputWidgets": {},
     "nuid": "3e797568-bf64-45c4-a2b5-f181a4d3f69d",
     "showTitle": false,
     "title": ""
    }
   },
   "outputs": [
    {
     "output_type": "display_data",
     "data": {
      "text/html": [
       "<style scoped>\n",
       "  .table-result-container {\n",
       "    max-height: 300px;\n",
       "    overflow: auto;\n",
       "  }\n",
       "  table, th, td {\n",
       "    border: 1px solid black;\n",
       "    border-collapse: collapse;\n",
       "  }\n",
       "  th, td {\n",
       "    padding: 5px;\n",
       "  }\n",
       "  th {\n",
       "    text-align: left;\n",
       "  }\n",
       "</style><div class='table-result-container'><table class='table-result'><thead style='background-color: white'><tr><th>id</th><th>name</th><th>loc</th></tr></thead><tbody><tr><td>1</td><td>ravi</td><td>Bangalore</td></tr><tr><td>2</td><td>Raj</td><td>Chennai</td></tr><tr><td>3</td><td>Mahesh</td><td>Hyderabad</td></tr><tr><td>4</td><td>Prasad</td><td>Chennai</td></tr><tr><td>5</td><td>Sridhar</td><td>Pune</td></tr></tbody></table></div>"
      ]
     },
     "metadata": {
      "application/vnd.databricks.v1+output": {
       "addedWidgets": {},
       "aggData": [],
       "aggError": "",
       "aggOverflow": false,
       "aggSchema": [],
       "aggSeriesLimitReached": false,
       "aggType": "",
       "arguments": {},
       "columnCustomDisplayInfos": {},
       "data": [
        [
         1,
         "ravi",
         "Bangalore"
        ],
        [
         2,
         "Raj",
         "Chennai"
        ],
        [
         3,
         "Mahesh",
         "Hyderabad"
        ],
        [
         4,
         "Prasad",
         "Chennai"
        ],
        [
         5,
         "Sridhar",
         "Pune"
        ]
       ],
       "datasetInfos": [],
       "dbfsResultPath": null,
       "isJsonSchema": true,
       "metadata": {},
       "overflow": false,
       "plotOptions": {
        "customPlotOptions": {},
        "displayType": "table",
        "pivotAggregation": null,
        "pivotColumns": null,
        "xColumns": null,
        "yColumns": null
       },
       "removedWidgets": [],
       "schema": [
        {
         "metadata": "{}",
         "name": "id",
         "type": "\"integer\""
        },
        {
         "metadata": "{}",
         "name": "name",
         "type": "\"string\""
        },
        {
         "metadata": "{}",
         "name": "loc",
         "type": "\"string\""
        }
       ],
       "type": "table"
      }
     },
     "output_type": "display_data"
    }
   ],
   "source": [
    "delimiter_df = spark.read.csv(\"/schenarios/double_pipe.csv\", header=True, inferSchema=True, sep=\"||\")\n",
    "delimiter_df.display()"
   ]
  },
  {
   "cell_type": "code",
   "execution_count": 0,
   "metadata": {
    "application/vnd.databricks.v1+cell": {
     "cellMetadata": {
      "byteLimit": 2048000,
      "rowLimit": 10000
     },
     "inputWidgets": {},
     "nuid": "44580266-f07d-413b-b240-a3147b146fcc",
     "showTitle": false,
     "title": ""
    }
   },
   "outputs": [
    {
     "output_type": "stream",
     "name": "stdout",
     "output_type": "stream",
     "text": [
      "Wrote 160 bytes.\n"
     ]
    },
    {
     "output_type": "execute_result",
     "data": {
      "text/plain": [
       "True"
      ]
     },
     "execution_count": 4,
     "metadata": {},
     "output_type": "execute_result"
    }
   ],
   "source": [
    "# Example - multi delimiters\n",
    "dbutils.fs.put(\"/scenarios/multi_sep.csv\",\"\"\"id,name,loc,marks\n",
    "1,ravi,Bangalore,35|45|55|65\n",
    "2,Raj,Chennai,35|45|55|65\n",
    "3,Mahesh,Hyderabad,35|45|55|65\n",
    "4,Prasad,Chennai,35|45|55|65\n",
    "5,Sridhar,Pune,35|45|55|65\n",
    "\"\"\",True)"
   ]
  },
  {
   "cell_type": "code",
   "execution_count": 0,
   "metadata": {
    "application/vnd.databricks.v1+cell": {
     "cellMetadata": {
      "byteLimit": 2048000,
      "rowLimit": 10000
     },
     "inputWidgets": {},
     "nuid": "b930d864-8f0b-47af-936b-5c02d3e7e2c1",
     "showTitle": false,
     "title": ""
    }
   },
   "outputs": [
    {
     "output_type": "display_data",
     "data": {
      "text/html": [
       "<style scoped>\n",
       "  .table-result-container {\n",
       "    max-height: 300px;\n",
       "    overflow: auto;\n",
       "  }\n",
       "  table, th, td {\n",
       "    border: 1px solid black;\n",
       "    border-collapse: collapse;\n",
       "  }\n",
       "  th, td {\n",
       "    padding: 5px;\n",
       "  }\n",
       "  th {\n",
       "    text-align: left;\n",
       "  }\n",
       "</style><div class='table-result-container'><table class='table-result'><thead style='background-color: white'><tr><th>id</th><th>name</th><th>loc</th><th>marks</th></tr></thead><tbody><tr><td>1</td><td>ravi</td><td>Bangalore</td><td>35|45|55|65</td></tr><tr><td>2</td><td>Raj</td><td>Chennai</td><td>35|45|55|65</td></tr><tr><td>3</td><td>Mahesh</td><td>Hyderabad</td><td>35|45|55|65</td></tr><tr><td>4</td><td>Prasad</td><td>Chennai</td><td>35|45|55|65</td></tr><tr><td>5</td><td>Sridhar</td><td>Pune</td><td>35|45|55|65</td></tr></tbody></table></div>"
      ]
     },
     "metadata": {
      "application/vnd.databricks.v1+output": {
       "addedWidgets": {},
       "aggData": [],
       "aggError": "",
       "aggOverflow": false,
       "aggSchema": [],
       "aggSeriesLimitReached": false,
       "aggType": "",
       "arguments": {},
       "columnCustomDisplayInfos": {},
       "data": [
        [
         "1",
         "ravi",
         "Bangalore",
         "35|45|55|65"
        ],
        [
         "2",
         "Raj",
         "Chennai",
         "35|45|55|65"
        ],
        [
         "3",
         "Mahesh",
         "Hyderabad",
         "35|45|55|65"
        ],
        [
         "4",
         "Prasad",
         "Chennai",
         "35|45|55|65"
        ],
        [
         "5",
         "Sridhar",
         "Pune",
         "35|45|55|65"
        ]
       ],
       "datasetInfos": [],
       "dbfsResultPath": null,
       "isJsonSchema": true,
       "metadata": {},
       "overflow": false,
       "plotOptions": {
        "customPlotOptions": {},
        "displayType": "table",
        "pivotAggregation": null,
        "pivotColumns": null,
        "xColumns": null,
        "yColumns": null
       },
       "removedWidgets": [],
       "schema": [
        {
         "metadata": "{}",
         "name": "id",
         "type": "\"string\""
        },
        {
         "metadata": "{}",
         "name": "name",
         "type": "\"string\""
        },
        {
         "metadata": "{}",
         "name": "loc",
         "type": "\"string\""
        },
        {
         "metadata": "{}",
         "name": "marks",
         "type": "\"string\""
        }
       ],
       "type": "table"
      }
     },
     "output_type": "display_data"
    }
   ],
   "source": [
    "multi_d_df = spark.read.csv(\"/scenarios/multi_sep.csv\", header=True)\n",
    "multi_d_df.display()\n",
    "# here we not grt mar"
   ]
  },
  {
   "cell_type": "code",
   "execution_count": 0,
   "metadata": {
    "application/vnd.databricks.v1+cell": {
     "cellMetadata": {
      "byteLimit": 2048000,
      "implicitDf": true,
      "rowLimit": 10000
     },
     "inputWidgets": {},
     "nuid": "d61c8740-ec51-4ff2-9dd4-7924417b3134",
     "showTitle": false,
     "title": ""
    }
   },
   "outputs": [
    {
     "output_type": "display_data",
     "data": {
      "text/html": [
       "<style scoped>\n",
       "  .table-result-container {\n",
       "    max-height: 300px;\n",
       "    overflow: auto;\n",
       "  }\n",
       "  table, th, td {\n",
       "    border: 1px solid black;\n",
       "    border-collapse: collapse;\n",
       "  }\n",
       "  th, td {\n",
       "    padding: 5px;\n",
       "  }\n",
       "  th {\n",
       "    text-align: left;\n",
       "  }\n",
       "</style><div class='table-result-container'><table class='table-result'><thead style='background-color: white'><tr><th>split(1|2|3|4|5, \\|, -1)</th></tr></thead><tbody><tr><td>List(1, 2, 3, 4, 5)</td></tr></tbody></table></div>"
      ]
     },
     "metadata": {
      "application/vnd.databricks.v1+output": {
       "addedWidgets": {},
       "aggData": [],
       "aggError": "",
       "aggOverflow": false,
       "aggSchema": [],
       "aggSeriesLimitReached": false,
       "aggType": "",
       "arguments": {},
       "columnCustomDisplayInfos": {},
       "data": [
        [
         [
          "1",
          "2",
          "3",
          "4",
          "5"
         ]
        ]
       ],
       "datasetInfos": [],
       "dbfsResultPath": null,
       "isJsonSchema": true,
       "metadata": {
        "dataframeName": "_sqldf",
        "executionCount": 6
       },
       "overflow": false,
       "plotOptions": {
        "customPlotOptions": {},
        "displayType": "table",
        "pivotAggregation": null,
        "pivotColumns": null,
        "xColumns": null,
        "yColumns": null
       },
       "removedWidgets": [],
       "schema": [
        {
         "metadata": "{\"__autoGeneratedAlias\":\"true\"}",
         "name": "split(1|2|3|4|5, \\|, -1)",
         "type": "{\"type\":\"array\",\"elementType\":\"string\",\"containsNull\":false}"
        }
       ],
       "type": "table"
      }
     },
     "output_type": "display_data"
    }
   ],
   "source": [
    "%sql\n",
    "select split(\"1|2|3|4|5\", \"\\\\|\")"
   ]
  },
  {
   "cell_type": "code",
   "execution_count": 0,
   "metadata": {
    "application/vnd.databricks.v1+cell": {
     "cellMetadata": {
      "byteLimit": 2048000,
      "rowLimit": 10000
     },
     "inputWidgets": {},
     "nuid": "1faf42c0-75bf-4fd1-9e79-05eb6f545043",
     "showTitle": false,
     "title": ""
    }
   },
   "outputs": [
    {
     "output_type": "display_data",
     "data": {
      "text/html": [
       "<style scoped>\n",
       "  .table-result-container {\n",
       "    max-height: 300px;\n",
       "    overflow: auto;\n",
       "  }\n",
       "  table, th, td {\n",
       "    border: 1px solid black;\n",
       "    border-collapse: collapse;\n",
       "  }\n",
       "  th, td {\n",
       "    padding: 5px;\n",
       "  }\n",
       "  th {\n",
       "    text-align: left;\n",
       "  }\n",
       "</style><div class='table-result-container'><table class='table-result'><thead style='background-color: white'><tr><th>id</th><th>name</th><th>loc</th><th>marks</th><th>marks_split</th><th>sub1</th><th>sub2</th><th>sub3</th><th>sub4</th></tr></thead><tbody><tr><td>1</td><td>ravi</td><td>Bangalore</td><td>35|45|55|65</td><td>List(35, 45, 55, 65)</td><td>35</td><td>45</td><td>55</td><td>65</td></tr><tr><td>2</td><td>Raj</td><td>Chennai</td><td>35|45|55|65</td><td>List(35, 45, 55, 65)</td><td>35</td><td>45</td><td>55</td><td>65</td></tr><tr><td>3</td><td>Mahesh</td><td>Hyderabad</td><td>35|45|55|65</td><td>List(35, 45, 55, 65)</td><td>35</td><td>45</td><td>55</td><td>65</td></tr><tr><td>4</td><td>Prasad</td><td>Chennai</td><td>35|45|55|65</td><td>List(35, 45, 55, 65)</td><td>35</td><td>45</td><td>55</td><td>65</td></tr><tr><td>5</td><td>Sridhar</td><td>Pune</td><td>35|45|55|65</td><td>List(35, 45, 55, 65)</td><td>35</td><td>45</td><td>55</td><td>65</td></tr></tbody></table></div>"
      ]
     },
     "metadata": {
      "application/vnd.databricks.v1+output": {
       "addedWidgets": {},
       "aggData": [],
       "aggError": "",
       "aggOverflow": false,
       "aggSchema": [],
       "aggSeriesLimitReached": false,
       "aggType": "",
       "arguments": {},
       "columnCustomDisplayInfos": {},
       "data": [
        [
         "1",
         "ravi",
         "Bangalore",
         "35|45|55|65",
         [
          "35",
          "45",
          "55",
          "65"
         ],
         "35",
         "45",
         "55",
         "65"
        ],
        [
         "2",
         "Raj",
         "Chennai",
         "35|45|55|65",
         [
          "35",
          "45",
          "55",
          "65"
         ],
         "35",
         "45",
         "55",
         "65"
        ],
        [
         "3",
         "Mahesh",
         "Hyderabad",
         "35|45|55|65",
         [
          "35",
          "45",
          "55",
          "65"
         ],
         "35",
         "45",
         "55",
         "65"
        ],
        [
         "4",
         "Prasad",
         "Chennai",
         "35|45|55|65",
         [
          "35",
          "45",
          "55",
          "65"
         ],
         "35",
         "45",
         "55",
         "65"
        ],
        [
         "5",
         "Sridhar",
         "Pune",
         "35|45|55|65",
         [
          "35",
          "45",
          "55",
          "65"
         ],
         "35",
         "45",
         "55",
         "65"
        ]
       ],
       "datasetInfos": [],
       "dbfsResultPath": null,
       "isJsonSchema": true,
       "metadata": {},
       "overflow": false,
       "plotOptions": {
        "customPlotOptions": {},
        "displayType": "table",
        "pivotAggregation": null,
        "pivotColumns": null,
        "xColumns": null,
        "yColumns": null
       },
       "removedWidgets": [],
       "schema": [
        {
         "metadata": "{}",
         "name": "id",
         "type": "\"string\""
        },
        {
         "metadata": "{}",
         "name": "name",
         "type": "\"string\""
        },
        {
         "metadata": "{}",
         "name": "loc",
         "type": "\"string\""
        },
        {
         "metadata": "{}",
         "name": "marks",
         "type": "\"string\""
        },
        {
         "metadata": "{}",
         "name": "marks_split",
         "type": "{\"type\":\"array\",\"elementType\":\"string\",\"containsNull\":false}"
        },
        {
         "metadata": "{}",
         "name": "sub1",
         "type": "\"string\""
        },
        {
         "metadata": "{}",
         "name": "sub2",
         "type": "\"string\""
        },
        {
         "metadata": "{}",
         "name": "sub3",
         "type": "\"string\""
        },
        {
         "metadata": "{}",
         "name": "sub4",
         "type": "\"string\""
        }
       ],
       "type": "table"
      }
     },
     "output_type": "display_data"
    }
   ],
   "source": [
    "from pyspark.sql.functions import col,split\n",
    "multi_d_df = multi_d_df.withColumn(\"marks_split\", split(col(\"marks\"), \"\\\\|\"))\\\n",
    "    .withColumn(\"sub1\", col(\"marks_split\")[0])\\\n",
    "        .withColumn(\"sub2\", col(\"marks_split\")[1])\\\n",
    "            .withColumn(\"sub3\", col(\"marks_split\")[2])\\\n",
    "                .withColumn(\"sub4\", col(\"marks_split\")[3])\n",
    "multi_d_df.display()"
   ]
  },
  {
   "cell_type": "code",
   "execution_count": 0,
   "metadata": {
    "application/vnd.databricks.v1+cell": {
     "cellMetadata": {
      "byteLimit": 2048000,
      "rowLimit": 10000
     },
     "inputWidgets": {},
     "nuid": "54968a32-38dd-432a-8544-04adb80cc661",
     "showTitle": false,
     "title": ""
    }
   },
   "outputs": [
    {
     "output_type": "display_data",
     "data": {
      "text/html": [
       "<style scoped>\n",
       "  .table-result-container {\n",
       "    max-height: 300px;\n",
       "    overflow: auto;\n",
       "  }\n",
       "  table, th, td {\n",
       "    border: 1px solid black;\n",
       "    border-collapse: collapse;\n",
       "  }\n",
       "  th, td {\n",
       "    padding: 5px;\n",
       "  }\n",
       "  th {\n",
       "    text-align: left;\n",
       "  }\n",
       "</style><div class='table-result-container'><table class='table-result'><thead style='background-color: white'><tr><th>id</th><th>name</th><th>loc</th><th>sub1</th><th>sub2</th><th>sub3</th><th>sub4</th></tr></thead><tbody><tr><td>1</td><td>ravi</td><td>Bangalore</td><td>35</td><td>45</td><td>55</td><td>65</td></tr><tr><td>2</td><td>Raj</td><td>Chennai</td><td>35</td><td>45</td><td>55</td><td>65</td></tr><tr><td>3</td><td>Mahesh</td><td>Hyderabad</td><td>35</td><td>45</td><td>55</td><td>65</td></tr><tr><td>4</td><td>Prasad</td><td>Chennai</td><td>35</td><td>45</td><td>55</td><td>65</td></tr><tr><td>5</td><td>Sridhar</td><td>Pune</td><td>35</td><td>45</td><td>55</td><td>65</td></tr></tbody></table></div>"
      ]
     },
     "metadata": {
      "application/vnd.databricks.v1+output": {
       "addedWidgets": {},
       "aggData": [],
       "aggError": "",
       "aggOverflow": false,
       "aggSchema": [],
       "aggSeriesLimitReached": false,
       "aggType": "",
       "arguments": {},
       "columnCustomDisplayInfos": {},
       "data": [
        [
         "1",
         "ravi",
         "Bangalore",
         "35",
         "45",
         "55",
         "65"
        ],
        [
         "2",
         "Raj",
         "Chennai",
         "35",
         "45",
         "55",
         "65"
        ],
        [
         "3",
         "Mahesh",
         "Hyderabad",
         "35",
         "45",
         "55",
         "65"
        ],
        [
         "4",
         "Prasad",
         "Chennai",
         "35",
         "45",
         "55",
         "65"
        ],
        [
         "5",
         "Sridhar",
         "Pune",
         "35",
         "45",
         "55",
         "65"
        ]
       ],
       "datasetInfos": [],
       "dbfsResultPath": null,
       "isJsonSchema": true,
       "metadata": {},
       "overflow": false,
       "plotOptions": {
        "customPlotOptions": {},
        "displayType": "table",
        "pivotAggregation": null,
        "pivotColumns": null,
        "xColumns": null,
        "yColumns": null
       },
       "removedWidgets": [],
       "schema": [
        {
         "metadata": "{}",
         "name": "id",
         "type": "\"string\""
        },
        {
         "metadata": "{}",
         "name": "name",
         "type": "\"string\""
        },
        {
         "metadata": "{}",
         "name": "loc",
         "type": "\"string\""
        },
        {
         "metadata": "{}",
         "name": "sub1",
         "type": "\"string\""
        },
        {
         "metadata": "{}",
         "name": "sub2",
         "type": "\"string\""
        },
        {
         "metadata": "{}",
         "name": "sub3",
         "type": "\"string\""
        },
        {
         "metadata": "{}",
         "name": "sub4",
         "type": "\"string\""
        }
       ],
       "type": "table"
      }
     },
     "output_type": "display_data"
    }
   ],
   "source": [
    "# final out data look like\n",
    "multi_d_df = multi_d_df.drop(\"marks_split\", \"marks\")\n",
    "multi_d_df.display()"
   ]
  }
 ],
 "metadata": {
  "application/vnd.databricks.v1+notebook": {
   "dashboards": [],
   "language": "python",
   "notebookMetadata": {
    "mostRecentlyExecutedCommandWithImplicitDF": {
     "commandId": 2784397535914193,
     "dataframes": [
      "_sqldf"
     ]
    },
    "pythonIndentUnit": 4
   },
   "notebookName": "how to handle double delimiter or multi delimiters",
   "widgets": {}
  }
 },
 "nbformat": 4,
 "nbformat_minor": 0
}
