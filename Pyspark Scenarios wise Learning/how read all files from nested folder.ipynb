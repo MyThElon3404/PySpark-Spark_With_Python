{
 "cells": [
  {
   "cell_type": "code",
   "execution_count": 0,
   "metadata": {
    "application/vnd.databricks.v1+cell": {
     "cellMetadata": {
      "byteLimit": 2048000,
      "rowLimit": 10000
     },
     "inputWidgets": {},
     "nuid": "28501fdc-c177-488b-b3b0-342abb8e7f56",
     "showTitle": false,
     "title": ""
    }
   },
   "outputs": [
    {
     "output_type": "display_data",
     "data": {
      "text/html": [
       "\n",
       "            <div>\n",
       "                <p><b>SparkSession - hive</b></p>\n",
       "                \n",
       "        <div>\n",
       "            <p><b>SparkContext</b></p>\n",
       "\n",
       "            <p><a href=\"/?o=1055290162342735#setting/sparkui/1206-082332-f4fvtaup/driver-6912329078628543483\">Spark UI</a></p>\n",
       "\n",
       "            <dl>\n",
       "              <dt>Version</dt>\n",
       "                <dd><code>v3.3.2</code></dd>\n",
       "              <dt>Master</dt>\n",
       "                <dd><code>local[8]</code></dd>\n",
       "              <dt>AppName</dt>\n",
       "                <dd><code>Databricks Shell</code></dd>\n",
       "            </dl>\n",
       "        </div>\n",
       "        \n",
       "            </div>\n",
       "        "
      ]
     },
     "metadata": {
      "application/vnd.databricks.v1+output": {
       "addedWidgets": {},
       "arguments": {},
       "data": "\n            <div>\n                <p><b>SparkSession - hive</b></p>\n                \n        <div>\n            <p><b>SparkContext</b></p>\n\n            <p><a href=\"/?o=1055290162342735#setting/sparkui/1206-082332-f4fvtaup/driver-6912329078628543483\">Spark UI</a></p>\n\n            <dl>\n              <dt>Version</dt>\n                <dd><code>v3.3.2</code></dd>\n              <dt>Master</dt>\n                <dd><code>local[8]</code></dd>\n              <dt>AppName</dt>\n                <dd><code>Databricks Shell</code></dd>\n            </dl>\n        </div>\n        \n            </div>\n        ",
       "datasetInfos": [],
       "metadata": {},
       "removedWidgets": [],
       "textData": null,
       "type": "htmlSandbox"
      }
     },
     "output_type": "display_data"
    }
   ],
   "source": [
    "spark"
   ]
  },
  {
   "cell_type": "code",
   "execution_count": 0,
   "metadata": {
    "application/vnd.databricks.v1+cell": {
     "cellMetadata": {
      "byteLimit": 2048000,
      "rowLimit": 10000
     },
     "inputWidgets": {},
     "nuid": "5b7b8813-d447-4352-adcd-5737b2b9149e",
     "showTitle": false,
     "title": ""
    }
   },
   "outputs": [
    {
     "output_type": "display_data",
     "data": {
      "text/html": [
       "<style scoped>\n",
       "  .table-result-container {\n",
       "    max-height: 300px;\n",
       "    overflow: auto;\n",
       "  }\n",
       "  table, th, td {\n",
       "    border: 1px solid black;\n",
       "    border-collapse: collapse;\n",
       "  }\n",
       "  th, td {\n",
       "    padding: 5px;\n",
       "  }\n",
       "  th {\n",
       "    text-align: left;\n",
       "  }\n",
       "</style><div class='table-result-container'><table class='table-result'><thead style='background-color: white'><tr><th>path</th><th>name</th><th>size</th><th>modificationTime</th></tr></thead><tbody><tr><td>dbfs:/FileStore/tables/nested/2022/nested/</td><td>nested/</td><td>0</td><td>0</td></tr><tr><td>dbfs:/FileStore/tables/nested/2022/read_nested_data_files-1.csv</td><td>read_nested_data_files-1.csv</td><td>79</td><td>1701854812000</td></tr><tr><td>dbfs:/FileStore/tables/nested/2022/read_nested_data_files.csv</td><td>read_nested_data_files.csv</td><td>79</td><td>1701854725000</td></tr></tbody></table></div>"
      ]
     },
     "metadata": {
      "application/vnd.databricks.v1+output": {
       "addedWidgets": {},
       "aggData": [],
       "aggError": "",
       "aggOverflow": false,
       "aggSchema": [],
       "aggSeriesLimitReached": false,
       "aggType": "",
       "arguments": {},
       "columnCustomDisplayInfos": {},
       "data": [
        [
         "dbfs:/FileStore/tables/nested/2022/nested/",
         "nested/",
         0,
         0
        ],
        [
         "dbfs:/FileStore/tables/nested/2022/read_nested_data_files-1.csv",
         "read_nested_data_files-1.csv",
         79,
         1701854812000
        ],
        [
         "dbfs:/FileStore/tables/nested/2022/read_nested_data_files.csv",
         "read_nested_data_files.csv",
         79,
         1701854725000
        ]
       ],
       "datasetInfos": [],
       "dbfsResultPath": null,
       "isJsonSchema": true,
       "metadata": {
        "isDbfsCommandResult": false
       },
       "overflow": false,
       "plotOptions": {
        "customPlotOptions": {},
        "displayType": "table",
        "pivotAggregation": null,
        "pivotColumns": null,
        "xColumns": null,
        "yColumns": null
       },
       "removedWidgets": [],
       "schema": [
        {
         "metadata": "{}",
         "name": "path",
         "type": "\"string\""
        },
        {
         "metadata": "{}",
         "name": "name",
         "type": "\"string\""
        },
        {
         "metadata": "{}",
         "name": "size",
         "type": "\"long\""
        },
        {
         "metadata": "{}",
         "name": "modificationTime",
         "type": "\"long\""
        }
       ],
       "type": "table"
      }
     },
     "output_type": "display_data"
    }
   ],
   "source": [
    "%fs\n",
    "ls /FileStore/tables/nested/2022/"
   ]
  },
  {
   "cell_type": "code",
   "execution_count": 0,
   "metadata": {
    "application/vnd.databricks.v1+cell": {
     "cellMetadata": {
      "byteLimit": 2048000,
      "rowLimit": 10000
     },
     "inputWidgets": {},
     "nuid": "2eb5c888-113d-4bec-a850-9c9596fc5f9b",
     "showTitle": false,
     "title": ""
    }
   },
   "outputs": [
    {
     "output_type": "display_data",
     "data": {
      "text/html": [
       "<style scoped>\n",
       "  .table-result-container {\n",
       "    max-height: 300px;\n",
       "    overflow: auto;\n",
       "  }\n",
       "  table, th, td {\n",
       "    border: 1px solid black;\n",
       "    border-collapse: collapse;\n",
       "  }\n",
       "  th, td {\n",
       "    padding: 5px;\n",
       "  }\n",
       "  th {\n",
       "    text-align: left;\n",
       "  }\n",
       "</style><div class='table-result-container'><table class='table-result'><thead style='background-color: white'><tr><th>id</th><th>name</th><th>location</th><th>filename</th></tr></thead><tbody><tr><td>1</td><td>manaa</td><td>pune</td><td>dbfs:/FileStore/tables/nested/read_nested_data_files-1.csv</td></tr><tr><td>2</td><td>sneha</td><td>pandarpure</td><td>dbfs:/FileStore/tables/nested/read_nested_data_files-1.csv</td></tr><tr><td>3</td><td>ash</td><td>mumbai</td><td>dbfs:/FileStore/tables/nested/read_nested_data_files-1.csv</td></tr><tr><td>4</td><td>rutu</td><td>sangli</td><td>dbfs:/FileStore/tables/nested/read_nested_data_files-1.csv</td></tr><tr><td>1</td><td>manaa</td><td>pune</td><td>dbfs:/FileStore/tables/nested/read_nested_data_files.csv</td></tr><tr><td>2</td><td>sneha</td><td>pandarpure</td><td>dbfs:/FileStore/tables/nested/read_nested_data_files.csv</td></tr><tr><td>3</td><td>ash</td><td>mumbai</td><td>dbfs:/FileStore/tables/nested/read_nested_data_files.csv</td></tr><tr><td>4</td><td>rutu</td><td>sangli</td><td>dbfs:/FileStore/tables/nested/read_nested_data_files.csv</td></tr><tr><td>1</td><td>manaa</td><td>pune</td><td>dbfs:/FileStore/tables/nested/2022/read_nested_data_files-1.csv</td></tr><tr><td>2</td><td>sneha</td><td>pandarpure</td><td>dbfs:/FileStore/tables/nested/2022/read_nested_data_files-1.csv</td></tr><tr><td>3</td><td>ash</td><td>mumbai</td><td>dbfs:/FileStore/tables/nested/2022/read_nested_data_files-1.csv</td></tr><tr><td>4</td><td>rutu</td><td>sangli</td><td>dbfs:/FileStore/tables/nested/2022/read_nested_data_files-1.csv</td></tr><tr><td>1</td><td>manaa</td><td>pune</td><td>dbfs:/FileStore/tables/nested/2022/read_nested_data_files.csv</td></tr><tr><td>2</td><td>sneha</td><td>pandarpure</td><td>dbfs:/FileStore/tables/nested/2022/read_nested_data_files.csv</td></tr><tr><td>3</td><td>ash</td><td>mumbai</td><td>dbfs:/FileStore/tables/nested/2022/read_nested_data_files.csv</td></tr><tr><td>4</td><td>rutu</td><td>sangli</td><td>dbfs:/FileStore/tables/nested/2022/read_nested_data_files.csv</td></tr><tr><td>1</td><td>manaa</td><td>pune</td><td>dbfs:/FileStore/tables/nested/2022/nested/2023/read_nested_data_files.csv</td></tr><tr><td>2</td><td>sneha</td><td>pandarpure</td><td>dbfs:/FileStore/tables/nested/2022/nested/2023/read_nested_data_files.csv</td></tr><tr><td>3</td><td>ash</td><td>mumbai</td><td>dbfs:/FileStore/tables/nested/2022/nested/2023/read_nested_data_files.csv</td></tr><tr><td>4</td><td>rutu</td><td>sangli</td><td>dbfs:/FileStore/tables/nested/2022/nested/2023/read_nested_data_files.csv</td></tr></tbody></table></div>"
      ]
     },
     "metadata": {
      "application/vnd.databricks.v1+output": {
       "addedWidgets": {},
       "aggData": [],
       "aggError": "",
       "aggOverflow": false,
       "aggSchema": [],
       "aggSeriesLimitReached": false,
       "aggType": "",
       "arguments": {},
       "columnCustomDisplayInfos": {},
       "data": [
        [
         "1",
         "manaa",
         "pune",
         "dbfs:/FileStore/tables/nested/read_nested_data_files-1.csv"
        ],
        [
         "2",
         "sneha",
         "pandarpure",
         "dbfs:/FileStore/tables/nested/read_nested_data_files-1.csv"
        ],
        [
         "3",
         "ash",
         "mumbai",
         "dbfs:/FileStore/tables/nested/read_nested_data_files-1.csv"
        ],
        [
         "4",
         "rutu",
         "sangli",
         "dbfs:/FileStore/tables/nested/read_nested_data_files-1.csv"
        ],
        [
         "1",
         "manaa",
         "pune",
         "dbfs:/FileStore/tables/nested/read_nested_data_files.csv"
        ],
        [
         "2",
         "sneha",
         "pandarpure",
         "dbfs:/FileStore/tables/nested/read_nested_data_files.csv"
        ],
        [
         "3",
         "ash",
         "mumbai",
         "dbfs:/FileStore/tables/nested/read_nested_data_files.csv"
        ],
        [
         "4",
         "rutu",
         "sangli",
         "dbfs:/FileStore/tables/nested/read_nested_data_files.csv"
        ],
        [
         "1",
         "manaa",
         "pune",
         "dbfs:/FileStore/tables/nested/2022/read_nested_data_files-1.csv"
        ],
        [
         "2",
         "sneha",
         "pandarpure",
         "dbfs:/FileStore/tables/nested/2022/read_nested_data_files-1.csv"
        ],
        [
         "3",
         "ash",
         "mumbai",
         "dbfs:/FileStore/tables/nested/2022/read_nested_data_files-1.csv"
        ],
        [
         "4",
         "rutu",
         "sangli",
         "dbfs:/FileStore/tables/nested/2022/read_nested_data_files-1.csv"
        ],
        [
         "1",
         "manaa",
         "pune",
         "dbfs:/FileStore/tables/nested/2022/read_nested_data_files.csv"
        ],
        [
         "2",
         "sneha",
         "pandarpure",
         "dbfs:/FileStore/tables/nested/2022/read_nested_data_files.csv"
        ],
        [
         "3",
         "ash",
         "mumbai",
         "dbfs:/FileStore/tables/nested/2022/read_nested_data_files.csv"
        ],
        [
         "4",
         "rutu",
         "sangli",
         "dbfs:/FileStore/tables/nested/2022/read_nested_data_files.csv"
        ],
        [
         "1",
         "manaa",
         "pune",
         "dbfs:/FileStore/tables/nested/2022/nested/2023/read_nested_data_files.csv"
        ],
        [
         "2",
         "sneha",
         "pandarpure",
         "dbfs:/FileStore/tables/nested/2022/nested/2023/read_nested_data_files.csv"
        ],
        [
         "3",
         "ash",
         "mumbai",
         "dbfs:/FileStore/tables/nested/2022/nested/2023/read_nested_data_files.csv"
        ],
        [
         "4",
         "rutu",
         "sangli",
         "dbfs:/FileStore/tables/nested/2022/nested/2023/read_nested_data_files.csv"
        ]
       ],
       "datasetInfos": [],
       "dbfsResultPath": null,
       "isJsonSchema": true,
       "metadata": {},
       "overflow": false,
       "plotOptions": {
        "customPlotOptions": {},
        "displayType": "table",
        "pivotAggregation": null,
        "pivotColumns": null,
        "xColumns": null,
        "yColumns": null
       },
       "removedWidgets": [],
       "schema": [
        {
         "metadata": "{}",
         "name": "id",
         "type": "\"string\""
        },
        {
         "metadata": "{}",
         "name": "name",
         "type": "\"string\""
        },
        {
         "metadata": "{}",
         "name": "location",
         "type": "\"string\""
        },
        {
         "metadata": "{}",
         "name": "filename",
         "type": "\"string\""
        }
       ],
       "type": "table"
      }
     },
     "output_type": "display_data"
    }
   ],
   "source": [
    "from pyspark.sql.functions import input_file_name\n",
    "\n",
    "df = spark.read.format(\"csv\").option(\"header\", \"true\")\\\n",
    "  .option(\"recursiveFileLookup\", \"true\")\\\n",
    "  .load(\"dbfs:/FileStore/tables/nested/\")\n",
    "df.withColumn(\"filename\", input_file_name()).display()"
   ]
  }
 ],
 "metadata": {
  "application/vnd.databricks.v1+notebook": {
   "dashboards": [],
   "language": "python",
   "notebookMetadata": {
    "mostRecentlyExecutedCommandWithImplicitDF": {
     "commandId": 4404728910941734,
     "dataframes": [
      "_sqldf"
     ]
    },
    "pythonIndentUnit": 4
   },
   "notebookName": "how read all files from nested folder",
   "widgets": {}
  }
 },
 "nbformat": 4,
 "nbformat_minor": 0
}
